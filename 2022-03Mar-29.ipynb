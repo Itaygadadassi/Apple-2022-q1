{
 "cells": [
  {
   "cell_type": "markdown",
   "id": "bfb7ac66",
   "metadata": {},
   "source": [
    "# Agenda\n",
    "\n",
    "1. 2D NumPy\n",
    "2. Pandas\n",
    "    - Series (1D)\n",
    "    - Data frame (2D)\n",
    "3. Reading from CSV"
   ]
  },
  {
   "cell_type": "code",
   "execution_count": 1,
   "id": "e437718d",
   "metadata": {},
   "outputs": [],
   "source": [
    "import numpy as np"
   ]
  },
  {
   "cell_type": "code",
   "execution_count": 5,
   "id": "c6a59039",
   "metadata": {},
   "outputs": [
    {
     "data": {
      "text/plain": [
       "array([44, 47, 64, 67, 67,  9, 83, 21, 36, 87, 70, 88, 88, 12, 58, 65, 39,\n",
       "       87, 46, 88])"
      ]
     },
     "execution_count": 5,
     "metadata": {},
     "output_type": "execute_result"
    }
   ],
   "source": [
    "np.random.seed(0)\n",
    "a = np.random.randint(0, 100, 20)\n",
    "a"
   ]
  },
  {
   "cell_type": "code",
   "execution_count": 3,
   "id": "66da36e6",
   "metadata": {},
   "outputs": [
    {
     "data": {
      "text/plain": [
       "dtype('int64')"
      ]
     },
     "execution_count": 3,
     "metadata": {},
     "output_type": "execute_result"
    }
   ],
   "source": [
    "a.dtype"
   ]
  },
  {
   "cell_type": "code",
   "execution_count": 7,
   "id": "c53417d5",
   "metadata": {},
   "outputs": [
    {
     "data": {
      "text/plain": [
       "array([44, 10, 12, 47, 42, 68, 23, 38, 22, 55, 64, 76, 33, 88, 67, 51, 78,\n",
       "       26, 82, 34], dtype=int8)"
      ]
     },
     "execution_count": 7,
     "metadata": {},
     "output_type": "execute_result"
    }
   ],
   "source": [
    "np.random.seed(0)\n",
    "a = np.random.randint(0, 100, 20, dtype=np.int8)\n",
    "a"
   ]
  },
  {
   "cell_type": "code",
   "execution_count": 8,
   "id": "b1a38e26",
   "metadata": {},
   "outputs": [],
   "source": [
    "b = np.array([10, 20, 30, 40])"
   ]
  },
  {
   "cell_type": "code",
   "execution_count": 9,
   "id": "eca6ec25",
   "metadata": {},
   "outputs": [
    {
     "ename": "ValueError",
     "evalue": "operands could not be broadcast together with shapes (20,) (4,) ",
     "output_type": "error",
     "traceback": [
      "\u001b[0;31m---------------------------------------------------------------------------\u001b[0m",
      "\u001b[0;31mValueError\u001b[0m                                Traceback (most recent call last)",
      "\u001b[0;32m/var/folders/rr/0mnyyv811fs5vyp22gf4fxk00000gn/T/ipykernel_83312/1216668022.py\u001b[0m in \u001b[0;36m<module>\u001b[0;34m\u001b[0m\n\u001b[0;32m----> 1\u001b[0;31m \u001b[0ma\u001b[0m \u001b[0;34m+\u001b[0m \u001b[0mb\u001b[0m\u001b[0;34m\u001b[0m\u001b[0;34m\u001b[0m\u001b[0m\n\u001b[0m",
      "\u001b[0;31mValueError\u001b[0m: operands could not be broadcast together with shapes (20,) (4,) "
     ]
    }
   ],
   "source": [
    "a + b"
   ]
  },
  {
   "cell_type": "code",
   "execution_count": 10,
   "id": "3ca2a15a",
   "metadata": {},
   "outputs": [
    {
     "data": {
      "text/plain": [
       "(20,)"
      ]
     },
     "execution_count": 10,
     "metadata": {},
     "output_type": "execute_result"
    }
   ],
   "source": [
    "a.shape"
   ]
  },
  {
   "cell_type": "code",
   "execution_count": 11,
   "id": "c5c4fc78",
   "metadata": {},
   "outputs": [
    {
     "data": {
      "text/plain": [
       "(4,)"
      ]
     },
     "execution_count": 11,
     "metadata": {},
     "output_type": "execute_result"
    }
   ],
   "source": [
    "b.shape"
   ]
  },
  {
   "cell_type": "code",
   "execution_count": 12,
   "id": "14baab5d",
   "metadata": {},
   "outputs": [],
   "source": [
    "a.shape = (5, 4)"
   ]
  },
  {
   "cell_type": "code",
   "execution_count": 13,
   "id": "5e7ce554",
   "metadata": {},
   "outputs": [
    {
     "data": {
      "text/plain": [
       "array([[44, 10, 12, 47],\n",
       "       [42, 68, 23, 38],\n",
       "       [22, 55, 64, 76],\n",
       "       [33, 88, 67, 51],\n",
       "       [78, 26, 82, 34]], dtype=int8)"
      ]
     },
     "execution_count": 13,
     "metadata": {},
     "output_type": "execute_result"
    }
   ],
   "source": [
    "a"
   ]
  },
  {
   "cell_type": "code",
   "execution_count": 14,
   "id": "d6e9ab99",
   "metadata": {},
   "outputs": [],
   "source": [
    "np.random.seed(0)\n",
    "a = np.random.randint(0, 100, 20, dtype=np.int8).reshape(5, 4)"
   ]
  },
  {
   "cell_type": "code",
   "execution_count": 15,
   "id": "307c61b3",
   "metadata": {},
   "outputs": [
    {
     "data": {
      "text/plain": [
       "array([[44, 10, 12, 47],\n",
       "       [42, 68, 23, 38],\n",
       "       [22, 55, 64, 76],\n",
       "       [33, 88, 67, 51],\n",
       "       [78, 26, 82, 34]], dtype=int8)"
      ]
     },
     "execution_count": 15,
     "metadata": {},
     "output_type": "execute_result"
    }
   ],
   "source": [
    "a"
   ]
  },
  {
   "cell_type": "code",
   "execution_count": 16,
   "id": "bfbe4e35",
   "metadata": {},
   "outputs": [
    {
     "data": {
      "text/plain": [
       "array([[44, 10, 12, 47],\n",
       "       [42, 68, 23, 38],\n",
       "       [22, 55, 64, 76],\n",
       "       [33, 88, 67, 51],\n",
       "       [78, 26, 82, 34]], dtype=int8)"
      ]
     },
     "execution_count": 16,
     "metadata": {},
     "output_type": "execute_result"
    }
   ],
   "source": [
    "np.random.seed(0)\n",
    "a = np.random.randint(0, 100, [5,4], dtype=np.int8)\n",
    "a"
   ]
  },
  {
   "cell_type": "code",
   "execution_count": 19,
   "id": "ee67fc3c",
   "metadata": {},
   "outputs": [
    {
     "data": {
      "text/plain": [
       "64"
      ]
     },
     "execution_count": 19,
     "metadata": {},
     "output_type": "execute_result"
    }
   ],
   "source": [
    "# how can I get to 64?\n",
    "\n",
    "a[2][2]    # don't do this, even if it works"
   ]
  },
  {
   "cell_type": "code",
   "execution_count": 21,
   "id": "82e8bc89",
   "metadata": {},
   "outputs": [
    {
     "data": {
      "text/plain": [
       "64"
      ]
     },
     "execution_count": 21,
     "metadata": {},
     "output_type": "execute_result"
    }
   ],
   "source": [
    "a[2,2]    # this is how we should retrieve from NumPy"
   ]
  },
  {
   "cell_type": "code",
   "execution_count": 22,
   "id": "b713e0c2",
   "metadata": {},
   "outputs": [
    {
     "data": {
      "text/plain": [
       "12"
      ]
     },
     "execution_count": 22,
     "metadata": {},
     "output_type": "execute_result"
    }
   ],
   "source": [
    "a[0, 2]"
   ]
  },
  {
   "cell_type": "code",
   "execution_count": 23,
   "id": "76fee236",
   "metadata": {},
   "outputs": [
    {
     "data": {
      "text/plain": [
       "76"
      ]
     },
     "execution_count": 23,
     "metadata": {},
     "output_type": "execute_result"
    }
   ],
   "source": [
    "a[2, 3]  # this is a tuple "
   ]
  },
  {
   "cell_type": "code",
   "execution_count": 24,
   "id": "cad889d0",
   "metadata": {},
   "outputs": [
    {
     "data": {
      "text/plain": [
       "76"
      ]
     },
     "execution_count": 24,
     "metadata": {},
     "output_type": "execute_result"
    }
   ],
   "source": [
    "a[(2,3)]      # this syntax works, but is ugly -- don't do it"
   ]
  },
  {
   "cell_type": "code",
   "execution_count": 25,
   "id": "8648c7a8",
   "metadata": {},
   "outputs": [
    {
     "data": {
      "text/plain": [
       "array([55, 64], dtype=int8)"
      ]
     },
     "execution_count": 25,
     "metadata": {},
     "output_type": "execute_result"
    }
   ],
   "source": [
    "# what if I want both 55 and 64 from index 2?\n",
    "\n",
    "a[2, [1,2]]      # row index 2, columns 1+2"
   ]
  },
  {
   "cell_type": "code",
   "execution_count": 26,
   "id": "2ac8284e",
   "metadata": {},
   "outputs": [
    {
     "data": {
      "text/plain": [
       "array([55, 64], dtype=int8)"
      ]
     },
     "execution_count": 26,
     "metadata": {},
     "output_type": "execute_result"
    }
   ],
   "source": [
    "a[2, 1:3]        # row index 2, columns 1 up to, not including 3"
   ]
  },
  {
   "cell_type": "code",
   "execution_count": 27,
   "id": "8ff8b54f",
   "metadata": {},
   "outputs": [
    {
     "data": {
      "text/plain": [
       "array([[68, 23],\n",
       "       [55, 64]], dtype=int8)"
      ]
     },
     "execution_count": 27,
     "metadata": {},
     "output_type": "execute_result"
    }
   ],
   "source": [
    "a[1:3, 1:3]"
   ]
  },
  {
   "cell_type": "code",
   "execution_count": 28,
   "id": "194386a4",
   "metadata": {},
   "outputs": [
    {
     "data": {
      "text/plain": [
       "array([[68, 23],\n",
       "       [88, 67]], dtype=int8)"
      ]
     },
     "execution_count": 28,
     "metadata": {},
     "output_type": "execute_result"
    }
   ],
   "source": [
    "a[1:4:2, 1:3]   # rows 1+3, columns 1+2"
   ]
  },
  {
   "cell_type": "code",
   "execution_count": 29,
   "id": "6da5a13e",
   "metadata": {},
   "outputs": [
    {
     "data": {
      "text/plain": [
       "array([[44, 10, 12, 47],\n",
       "       [42, 68, 23, 38],\n",
       "       [22, 55, 64, 76],\n",
       "       [33, 88, 67, 51],\n",
       "       [78, 26, 82, 34]], dtype=int8)"
      ]
     },
     "execution_count": 29,
     "metadata": {},
     "output_type": "execute_result"
    }
   ],
   "source": [
    "a"
   ]
  },
  {
   "cell_type": "code",
   "execution_count": 30,
   "id": "25ea8d38",
   "metadata": {},
   "outputs": [
    {
     "data": {
      "text/plain": [
       "960"
      ]
     },
     "execution_count": 30,
     "metadata": {},
     "output_type": "execute_result"
    }
   ],
   "source": [
    "a.sum()"
   ]
  },
  {
   "cell_type": "code",
   "execution_count": 31,
   "id": "1a2d475a",
   "metadata": {},
   "outputs": [
    {
     "data": {
      "text/plain": [
       "array([219, 247, 248, 246])"
      ]
     },
     "execution_count": 31,
     "metadata": {},
     "output_type": "execute_result"
    }
   ],
   "source": [
    "a.sum(axis=0)   # sums all of the numbers in each column, gives us a new row-sized array"
   ]
  },
  {
   "cell_type": "code",
   "execution_count": 32,
   "id": "4d98a36c",
   "metadata": {},
   "outputs": [
    {
     "data": {
      "text/plain": [
       "array([113, 171, 217, 239, 220])"
      ]
     },
     "execution_count": 32,
     "metadata": {},
     "output_type": "execute_result"
    }
   ],
   "source": [
    "a.sum(axis=1)   # sums all of the numbers in each row, gives us a new column-sized array"
   ]
  },
  {
   "cell_type": "code",
   "execution_count": 33,
   "id": "86a46233",
   "metadata": {},
   "outputs": [
    {
     "data": {
      "text/plain": [
       "array([22, 10, 12, 34], dtype=int8)"
      ]
     },
     "execution_count": 33,
     "metadata": {},
     "output_type": "execute_result"
    }
   ],
   "source": [
    "a.min(axis=0)"
   ]
  },
  {
   "cell_type": "code",
   "execution_count": 34,
   "id": "c3e76e7e",
   "metadata": {},
   "outputs": [
    {
     "data": {
      "text/plain": [
       "array([47, 68, 76, 88, 82], dtype=int8)"
      ]
     },
     "execution_count": 34,
     "metadata": {},
     "output_type": "execute_result"
    }
   ],
   "source": [
    "a.max(axis=1)"
   ]
  },
  {
   "cell_type": "code",
   "execution_count": 35,
   "id": "2f654a19",
   "metadata": {},
   "outputs": [
    {
     "data": {
      "text/plain": [
       "array([18.78722971, 28.16806703, 27.13374283, 14.71597771])"
      ]
     },
     "execution_count": 35,
     "metadata": {},
     "output_type": "execute_result"
    }
   ],
   "source": [
    "a.std(axis=0)"
   ]
  },
  {
   "cell_type": "code",
   "execution_count": 36,
   "id": "1fe8b05a",
   "metadata": {},
   "outputs": [
    {
     "data": {
      "text/plain": [
       "array([43.8, 49.4, 49.6, 49.2])"
      ]
     },
     "execution_count": 36,
     "metadata": {},
     "output_type": "execute_result"
    }
   ],
   "source": [
    "a.mean(axis=0)"
   ]
  },
  {
   "cell_type": "markdown",
   "id": "26583c23",
   "metadata": {},
   "source": [
    "# Exercises: NumPy\n",
    "\n",
    "1. Create a 2-dimensional NumPy array with 45 numbers from 0-100, with 5 rows and 9 columns.\n",
    "2. Retrieve row index 2.\n",
    "3. Retrieve column index 3.  (Think about a slice, and how you could get the items.)\n",
    "4. Retrieve rows index 1 and 4.\n",
    "5. Retrieve column indexes 1 and 4.\n",
    "6. Get the mean of the even items in row index 4.\n",
    "7. Get the mean of the odd items in column index 3."
   ]
  },
  {
   "cell_type": "code",
   "execution_count": 37,
   "id": "b6cffc17",
   "metadata": {},
   "outputs": [
    {
     "data": {
      "text/plain": [
       "array([[44, 10, 12, 47],\n",
       "       [42, 68, 23, 38],\n",
       "       [22, 55, 64, 76],\n",
       "       [33, 88, 67, 51],\n",
       "       [78, 26, 82, 34]], dtype=int8)"
      ]
     },
     "execution_count": 37,
     "metadata": {},
     "output_type": "execute_result"
    }
   ],
   "source": [
    "a"
   ]
  },
  {
   "cell_type": "code",
   "execution_count": 38,
   "id": "4177cc43",
   "metadata": {},
   "outputs": [
    {
     "data": {
      "text/plain": [
       "array([[44, 42, 22, 33, 78],\n",
       "       [10, 68, 55, 88, 26],\n",
       "       [12, 23, 64, 67, 82],\n",
       "       [47, 38, 76, 51, 34]], dtype=int8)"
      ]
     },
     "execution_count": 38,
     "metadata": {},
     "output_type": "execute_result"
    }
   ],
   "source": [
    "a.transpose()"
   ]
  },
  {
   "cell_type": "code",
   "execution_count": 39,
   "id": "875ac65c",
   "metadata": {},
   "outputs": [
    {
     "data": {
      "text/plain": [
       "array([[44, 42, 22, 33, 78],\n",
       "       [10, 68, 55, 88, 26],\n",
       "       [12, 23, 64, 67, 82],\n",
       "       [47, 38, 76, 51, 34]], dtype=int8)"
      ]
     },
     "execution_count": 39,
     "metadata": {},
     "output_type": "execute_result"
    }
   ],
   "source": [
    "a.T"
   ]
  },
  {
   "cell_type": "code",
   "execution_count": 40,
   "id": "077aedea",
   "metadata": {},
   "outputs": [
    {
     "data": {
      "text/plain": [
       "array([[44, 10, 12, 47, 42, 68, 23, 38, 22],\n",
       "       [55, 64, 76, 33, 88, 67, 51, 78, 26],\n",
       "       [82, 34, 91, 67, 11, 88,  9, 36, 83],\n",
       "       [94, 33, 31, 21, 81, 89, 37, 86, 98],\n",
       "       [36, 55,  5, 87, 58, 43, 76, 70, 60]], dtype=int8)"
      ]
     },
     "execution_count": 40,
     "metadata": {},
     "output_type": "execute_result"
    }
   ],
   "source": [
    "np.random.seed(0)\n",
    "a = np.random.randint(0, 100, [5, 9], dtype=np.int8)\n",
    "a"
   ]
  },
  {
   "cell_type": "code",
   "execution_count": 41,
   "id": "26817eb7",
   "metadata": {},
   "outputs": [
    {
     "data": {
      "text/plain": [
       "array([82, 34, 91, 67, 11, 88,  9, 36, 83], dtype=int8)"
      ]
     },
     "execution_count": 41,
     "metadata": {},
     "output_type": "execute_result"
    }
   ],
   "source": [
    "# row index 2\n",
    "a[2]"
   ]
  },
  {
   "cell_type": "code",
   "execution_count": 42,
   "id": "215754bf",
   "metadata": {},
   "outputs": [
    {
     "data": {
      "text/plain": [
       "array([47, 33, 67, 21, 87], dtype=int8)"
      ]
     },
     "execution_count": 42,
     "metadata": {},
     "output_type": "execute_result"
    }
   ],
   "source": [
    "# column index 3\n",
    "a.T[3]"
   ]
  },
  {
   "cell_type": "code",
   "execution_count": 44,
   "id": "d23c5550",
   "metadata": {},
   "outputs": [
    {
     "data": {
      "text/plain": [
       "array([47, 33, 67, 21, 87], dtype=int8)"
      ]
     },
     "execution_count": 44,
     "metadata": {},
     "output_type": "execute_result"
    }
   ],
   "source": [
    "# column index 3, using a slice\n",
    "a[0:5, 3]"
   ]
  },
  {
   "cell_type": "code",
   "execution_count": 45,
   "id": "c9a5b8bb",
   "metadata": {},
   "outputs": [
    {
     "data": {
      "text/plain": [
       "array([47, 33, 67, 21, 87], dtype=int8)"
      ]
     },
     "execution_count": 45,
     "metadata": {},
     "output_type": "execute_result"
    }
   ],
   "source": [
    "# column index 3, using a different slice\n",
    "a[:, 3]"
   ]
  },
  {
   "cell_type": "code",
   "execution_count": 46,
   "id": "da7bdfa9",
   "metadata": {},
   "outputs": [
    {
     "data": {
      "text/plain": [
       "array([[55, 64, 76, 33, 88, 67, 51, 78, 26],\n",
       "       [36, 55,  5, 87, 58, 43, 76, 70, 60]], dtype=int8)"
      ]
     },
     "execution_count": 46,
     "metadata": {},
     "output_type": "execute_result"
    }
   ],
   "source": [
    "# rows at index 1+4\n",
    "\n",
    "a[[1,4]]"
   ]
  },
  {
   "cell_type": "code",
   "execution_count": 50,
   "id": "f6a2a849",
   "metadata": {},
   "outputs": [
    {
     "data": {
      "text/plain": [
       "array([[55, 64, 76, 33, 88, 67, 51, 78, 26],\n",
       "       [36, 55,  5, 87, 58, 43, 76, 70, 60]], dtype=int8)"
      ]
     },
     "execution_count": 50,
     "metadata": {},
     "output_type": "execute_result"
    }
   ],
   "source": [
    "# row indexes 1+4, using a slice\n",
    "a[1:5:3]"
   ]
  },
  {
   "cell_type": "code",
   "execution_count": 51,
   "id": "064508d9",
   "metadata": {},
   "outputs": [
    {
     "data": {
      "text/plain": [
       "array([[10, 42],\n",
       "       [64, 88],\n",
       "       [34, 11],\n",
       "       [33, 81],\n",
       "       [55, 58]], dtype=int8)"
      ]
     },
     "execution_count": 51,
     "metadata": {},
     "output_type": "execute_result"
    }
   ],
   "source": [
    "a[:, [1,4]]"
   ]
  },
  {
   "cell_type": "code",
   "execution_count": 52,
   "id": "92842798",
   "metadata": {},
   "outputs": [
    {
     "data": {
      "text/plain": [
       "array([[10, 42],\n",
       "       [64, 88],\n",
       "       [34, 11],\n",
       "       [33, 81],\n",
       "       [55, 58]], dtype=int8)"
      ]
     },
     "execution_count": 52,
     "metadata": {},
     "output_type": "execute_result"
    }
   ],
   "source": [
    "a[:, 1:5:3]"
   ]
  },
  {
   "cell_type": "code",
   "execution_count": 56,
   "id": "236c8a11",
   "metadata": {},
   "outputs": [
    {
     "data": {
      "text/plain": [
       "60.0"
      ]
     },
     "execution_count": 56,
     "metadata": {},
     "output_type": "execute_result"
    }
   ],
   "source": [
    "# mean of even items in row index 4\n",
    "a[4][a[4] % 2 == 0].mean()"
   ]
  },
  {
   "cell_type": "code",
   "execution_count": 60,
   "id": "ab691dc8",
   "metadata": {},
   "outputs": [
    {
     "data": {
      "text/plain": [
       "51.0"
      ]
     },
     "execution_count": 60,
     "metadata": {},
     "output_type": "execute_result"
    }
   ],
   "source": [
    "# mean of odd items in column index 3\n",
    "a[:, 3][a[:, 3] % 2 == 1].mean()"
   ]
  },
  {
   "cell_type": "code",
   "execution_count": 61,
   "id": "4a39d060",
   "metadata": {},
   "outputs": [
    {
     "data": {
      "text/plain": [
       "array([[44, 10, 12, 47, 42, 68, 23, 38, 22],\n",
       "       [55, 64, 76, 33, 88, 67, 51, 78, 26],\n",
       "       [82, 34, 91, 67, 11, 88,  9, 36, 83],\n",
       "       [94, 33, 31, 21, 81, 89, 37, 86, 98],\n",
       "       [36, 55,  5, 87, 58, 43, 76, 70, 60]], dtype=int8)"
      ]
     },
     "execution_count": 61,
     "metadata": {},
     "output_type": "execute_result"
    }
   ],
   "source": [
    "a"
   ]
  },
  {
   "cell_type": "code",
   "execution_count": 62,
   "id": "315d95e5",
   "metadata": {},
   "outputs": [
    {
     "data": {
      "text/plain": [
       "array([[44, 10, 12, 47, 42],\n",
       "       [68, 23, 38, 22, 55],\n",
       "       [64, 76, 33, 88, 67],\n",
       "       [51, 78, 26, 82, 34],\n",
       "       [91, 67, 11, 88,  9],\n",
       "       [36, 83, 94, 33, 31],\n",
       "       [21, 81, 89, 37, 86],\n",
       "       [98, 36, 55,  5, 87],\n",
       "       [58, 43, 76, 70, 60]], dtype=int8)"
      ]
     },
     "execution_count": 62,
     "metadata": {},
     "output_type": "execute_result"
    }
   ],
   "source": [
    "b = a.reshape(9,5)\n",
    "b"
   ]
  },
  {
   "cell_type": "code",
   "execution_count": 63,
   "id": "3a62092b",
   "metadata": {},
   "outputs": [
    {
     "ename": "ValueError",
     "evalue": "cannot reshape array of size 45 into shape (3,4)",
     "output_type": "error",
     "traceback": [
      "\u001b[0;31m---------------------------------------------------------------------------\u001b[0m",
      "\u001b[0;31mValueError\u001b[0m                                Traceback (most recent call last)",
      "\u001b[0;32m/var/folders/rr/0mnyyv811fs5vyp22gf4fxk00000gn/T/ipykernel_83312/3335922227.py\u001b[0m in \u001b[0;36m<module>\u001b[0;34m\u001b[0m\n\u001b[0;32m----> 1\u001b[0;31m \u001b[0ma\u001b[0m\u001b[0;34m.\u001b[0m\u001b[0mreshape\u001b[0m\u001b[0;34m(\u001b[0m\u001b[0;36m3\u001b[0m\u001b[0;34m,\u001b[0m\u001b[0;36m4\u001b[0m\u001b[0;34m)\u001b[0m\u001b[0;34m\u001b[0m\u001b[0;34m\u001b[0m\u001b[0m\n\u001b[0m",
      "\u001b[0;31mValueError\u001b[0m: cannot reshape array of size 45 into shape (3,4)"
     ]
    }
   ],
   "source": [
    "a.reshape(3,4)"
   ]
  },
  {
   "cell_type": "code",
   "execution_count": 64,
   "id": "b78b6ecc",
   "metadata": {},
   "outputs": [
    {
     "data": {
      "text/plain": [
       "array([[44, 10, 12, 47, 42, 68, 23, 38, 22],\n",
       "       [55, 64, 76, 33, 88, 67, 51, 78, 26],\n",
       "       [82, 34, 91, 67, 11, 88,  9, 36, 83],\n",
       "       [94, 33, 31, 21, 81, 89, 37, 86, 98],\n",
       "       [36, 55,  5, 87, 58, 43, 76, 70, 60]], dtype=int8)"
      ]
     },
     "execution_count": 64,
     "metadata": {},
     "output_type": "execute_result"
    }
   ],
   "source": [
    "a"
   ]
  },
  {
   "cell_type": "code",
   "execution_count": 65,
   "id": "59c80f92",
   "metadata": {},
   "outputs": [
    {
     "data": {
      "text/plain": [
       "array([[44, 10, 12, 47, 42],\n",
       "       [68, 23, 38, 22, 55],\n",
       "       [64, 76, 33, 88, 67],\n",
       "       [51, 78, 26, 82, 34],\n",
       "       [91, 67, 11, 88,  9],\n",
       "       [36, 83, 94, 33, 31],\n",
       "       [21, 81, 89, 37, 86],\n",
       "       [98, 36, 55,  5, 87],\n",
       "       [58, 43, 76, 70, 60]], dtype=int8)"
      ]
     },
     "execution_count": 65,
     "metadata": {},
     "output_type": "execute_result"
    }
   ],
   "source": [
    "b"
   ]
  },
  {
   "cell_type": "code",
   "execution_count": 66,
   "id": "5c0f643d",
   "metadata": {},
   "outputs": [
    {
     "data": {
      "text/plain": [
       "4926381136"
      ]
     },
     "execution_count": 66,
     "metadata": {},
     "output_type": "execute_result"
    }
   ],
   "source": [
    "id(a)"
   ]
  },
  {
   "cell_type": "code",
   "execution_count": 67,
   "id": "b66a1d62",
   "metadata": {},
   "outputs": [
    {
     "data": {
      "text/plain": [
       "4926388720"
      ]
     },
     "execution_count": 67,
     "metadata": {},
     "output_type": "execute_result"
    }
   ],
   "source": [
    "id(b)"
   ]
  },
  {
   "cell_type": "code",
   "execution_count": 68,
   "id": "731ae16f",
   "metadata": {},
   "outputs": [],
   "source": [
    "a[0, 0] = 99"
   ]
  },
  {
   "cell_type": "code",
   "execution_count": 69,
   "id": "be44e9f7",
   "metadata": {},
   "outputs": [
    {
     "data": {
      "text/plain": [
       "array([[99, 10, 12, 47, 42, 68, 23, 38, 22],\n",
       "       [55, 64, 76, 33, 88, 67, 51, 78, 26],\n",
       "       [82, 34, 91, 67, 11, 88,  9, 36, 83],\n",
       "       [94, 33, 31, 21, 81, 89, 37, 86, 98],\n",
       "       [36, 55,  5, 87, 58, 43, 76, 70, 60]], dtype=int8)"
      ]
     },
     "execution_count": 69,
     "metadata": {},
     "output_type": "execute_result"
    }
   ],
   "source": [
    "a"
   ]
  },
  {
   "cell_type": "code",
   "execution_count": 70,
   "id": "e29763e5",
   "metadata": {},
   "outputs": [
    {
     "data": {
      "text/plain": [
       "array([[99, 10, 12, 47, 42],\n",
       "       [68, 23, 38, 22, 55],\n",
       "       [64, 76, 33, 88, 67],\n",
       "       [51, 78, 26, 82, 34],\n",
       "       [91, 67, 11, 88,  9],\n",
       "       [36, 83, 94, 33, 31],\n",
       "       [21, 81, 89, 37, 86],\n",
       "       [98, 36, 55,  5, 87],\n",
       "       [58, 43, 76, 70, 60]], dtype=int8)"
      ]
     },
     "execution_count": 70,
     "metadata": {},
     "output_type": "execute_result"
    }
   ],
   "source": [
    "b"
   ]
  },
  {
   "cell_type": "code",
   "execution_count": 72,
   "id": "b42479eb",
   "metadata": {},
   "outputs": [
    {
     "name": "stdout",
     "output_type": "stream",
     "text": [
      "Help on function reshape in module numpy:\n",
      "\n",
      "reshape(a, newshape, order='C')\n",
      "    Gives a new shape to an array without changing its data.\n",
      "    \n",
      "    Parameters\n",
      "    ----------\n",
      "    a : array_like\n",
      "        Array to be reshaped.\n",
      "    newshape : int or tuple of ints\n",
      "        The new shape should be compatible with the original shape. If\n",
      "        an integer, then the result will be a 1-D array of that length.\n",
      "        One shape dimension can be -1. In this case, the value is\n",
      "        inferred from the length of the array and remaining dimensions.\n",
      "    order : {'C', 'F', 'A'}, optional\n",
      "        Read the elements of `a` using this index order, and place the\n",
      "        elements into the reshaped array using this index order.  'C'\n",
      "        means to read / write the elements using C-like index order,\n",
      "        with the last axis index changing fastest, back to the first\n",
      "        axis index changing slowest. 'F' means to read / write the\n",
      "        elements using Fortran-like index order, with the first index\n",
      "        changing fastest, and the last index changing slowest. Note that\n",
      "        the 'C' and 'F' options take no account of the memory layout of\n",
      "        the underlying array, and only refer to the order of indexing.\n",
      "        'A' means to read / write the elements in Fortran-like index\n",
      "        order if `a` is Fortran *contiguous* in memory, C-like order\n",
      "        otherwise.\n",
      "    \n",
      "    Returns\n",
      "    -------\n",
      "    reshaped_array : ndarray\n",
      "        This will be a new view object if possible; otherwise, it will\n",
      "        be a copy.  Note there is no guarantee of the *memory layout* (C- or\n",
      "        Fortran- contiguous) of the returned array.\n",
      "    \n",
      "    See Also\n",
      "    --------\n",
      "    ndarray.reshape : Equivalent method.\n",
      "    \n",
      "    Notes\n",
      "    -----\n",
      "    It is not always possible to change the shape of an array without\n",
      "    copying the data. If you want an error to be raised when the data is copied,\n",
      "    you should assign the new shape to the shape attribute of the array::\n",
      "    \n",
      "     >>> a = np.zeros((10, 2))\n",
      "    \n",
      "     # A transpose makes the array non-contiguous\n",
      "     >>> b = a.T\n",
      "    \n",
      "     # Taking a view makes it possible to modify the shape without modifying\n",
      "     # the initial object.\n",
      "     >>> c = b.view()\n",
      "     >>> c.shape = (20)\n",
      "     Traceback (most recent call last):\n",
      "        ...\n",
      "     AttributeError: Incompatible shape for in-place modification. Use\n",
      "     `.reshape()` to make a copy with the desired shape.\n",
      "    \n",
      "    The `order` keyword gives the index ordering both for *fetching* the values\n",
      "    from `a`, and then *placing* the values into the output array.\n",
      "    For example, let's say you have an array:\n",
      "    \n",
      "    >>> a = np.arange(6).reshape((3, 2))\n",
      "    >>> a\n",
      "    array([[0, 1],\n",
      "           [2, 3],\n",
      "           [4, 5]])\n",
      "    \n",
      "    You can think of reshaping as first raveling the array (using the given\n",
      "    index order), then inserting the elements from the raveled array into the\n",
      "    new array using the same kind of index ordering as was used for the\n",
      "    raveling.\n",
      "    \n",
      "    >>> np.reshape(a, (2, 3)) # C-like index ordering\n",
      "    array([[0, 1, 2],\n",
      "           [3, 4, 5]])\n",
      "    >>> np.reshape(np.ravel(a), (2, 3)) # equivalent to C ravel then C reshape\n",
      "    array([[0, 1, 2],\n",
      "           [3, 4, 5]])\n",
      "    >>> np.reshape(a, (2, 3), order='F') # Fortran-like index ordering\n",
      "    array([[0, 4, 3],\n",
      "           [2, 1, 5]])\n",
      "    >>> np.reshape(np.ravel(a, order='F'), (2, 3), order='F')\n",
      "    array([[0, 4, 3],\n",
      "           [2, 1, 5]])\n",
      "    \n",
      "    Examples\n",
      "    --------\n",
      "    >>> a = np.array([[1,2,3], [4,5,6]])\n",
      "    >>> np.reshape(a, 6)\n",
      "    array([1, 2, 3, 4, 5, 6])\n",
      "    >>> np.reshape(a, 6, order='F')\n",
      "    array([1, 4, 2, 5, 3, 6])\n",
      "    \n",
      "    >>> np.reshape(a, (3,-1))       # the unspecified value is inferred to be 2\n",
      "    array([[1, 2],\n",
      "           [3, 4],\n",
      "           [5, 6]])\n",
      "\n"
     ]
    }
   ],
   "source": [
    "help(np.reshape)"
   ]
  },
  {
   "cell_type": "code",
   "execution_count": null,
   "id": "f1846778",
   "metadata": {},
   "outputs": [],
   "source": []
  }
 ],
 "metadata": {
  "kernelspec": {
   "display_name": "Python 3 (ipykernel)",
   "language": "python",
   "name": "python3"
  },
  "language_info": {
   "codemirror_mode": {
    "name": "ipython",
    "version": 3
   },
   "file_extension": ".py",
   "mimetype": "text/x-python",
   "name": "python",
   "nbconvert_exporter": "python",
   "pygments_lexer": "ipython3",
   "version": "3.10.2"
  }
 },
 "nbformat": 4,
 "nbformat_minor": 5
}
