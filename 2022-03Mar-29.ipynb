{
 "cells": [
  {
   "cell_type": "markdown",
   "id": "bfb7ac66",
   "metadata": {},
   "source": [
    "# Agenda\n",
    "\n",
    "1. 2D NumPy\n",
    "2. Pandas\n",
    "    - Series (1D)\n",
    "    - Data frame (2D)\n",
    "3. Reading from CSV"
   ]
  },
  {
   "cell_type": "code",
   "execution_count": 1,
   "id": "4cbd6b95",
   "metadata": {},
   "outputs": [],
   "source": [
    "import numpy as np"
   ]
  },
  {
   "cell_type": "code",
   "execution_count": 5,
   "id": "90970796",
   "metadata": {},
   "outputs": [
    {
     "data": {
      "text/plain": [
       "array([44, 47, 64, 67, 67,  9, 83, 21, 36, 87, 70, 88, 88, 12, 58, 65, 39,\n",
       "       87, 46, 88])"
      ]
     },
     "execution_count": 5,
     "metadata": {},
     "output_type": "execute_result"
    }
   ],
   "source": [
    "np.random.seed(0)\n",
    "a = np.random.randint(0, 100, 20)\n",
    "a"
   ]
  },
  {
   "cell_type": "code",
   "execution_count": 3,
   "id": "36eea7f6",
   "metadata": {},
   "outputs": [
    {
     "data": {
      "text/plain": [
       "dtype('int64')"
      ]
     },
     "execution_count": 3,
     "metadata": {},
     "output_type": "execute_result"
    }
   ],
   "source": [
    "a.dtype"
   ]
  },
  {
   "cell_type": "code",
   "execution_count": 7,
   "id": "6fed29ca",
   "metadata": {},
   "outputs": [
    {
     "data": {
      "text/plain": [
       "array([44, 10, 12, 47, 42, 68, 23, 38, 22, 55, 64, 76, 33, 88, 67, 51, 78,\n",
       "       26, 82, 34], dtype=int8)"
      ]
     },
     "execution_count": 7,
     "metadata": {},
     "output_type": "execute_result"
    }
   ],
   "source": [
    "np.random.seed(0)\n",
    "a = np.random.randint(0, 100, 20, dtype=np.int8)\n",
    "a"
   ]
  },
  {
   "cell_type": "code",
   "execution_count": 8,
   "id": "dc81d291",
   "metadata": {},
   "outputs": [],
   "source": [
    "b = np.array([10, 20, 30, 40])"
   ]
  },
  {
   "cell_type": "code",
   "execution_count": 9,
   "id": "8bc40957",
   "metadata": {},
   "outputs": [
    {
     "ename": "ValueError",
     "evalue": "operands could not be broadcast together with shapes (20,) (4,) ",
     "output_type": "error",
     "traceback": [
      "\u001b[0;31m---------------------------------------------------------------------------\u001b[0m",
      "\u001b[0;31mValueError\u001b[0m                                Traceback (most recent call last)",
      "\u001b[0;32m/var/folders/rr/0mnyyv811fs5vyp22gf4fxk00000gn/T/ipykernel_83312/1216668022.py\u001b[0m in \u001b[0;36m<module>\u001b[0;34m\u001b[0m\n\u001b[0;32m----> 1\u001b[0;31m \u001b[0ma\u001b[0m \u001b[0;34m+\u001b[0m \u001b[0mb\u001b[0m\u001b[0;34m\u001b[0m\u001b[0;34m\u001b[0m\u001b[0m\n\u001b[0m",
      "\u001b[0;31mValueError\u001b[0m: operands could not be broadcast together with shapes (20,) (4,) "
     ]
    }
   ],
   "source": [
    "a + b"
   ]
  },
  {
   "cell_type": "code",
   "execution_count": 10,
   "id": "fb74bf72",
   "metadata": {},
   "outputs": [
    {
     "data": {
      "text/plain": [
       "(20,)"
      ]
     },
     "execution_count": 10,
     "metadata": {},
     "output_type": "execute_result"
    }
   ],
   "source": [
    "a.shape"
   ]
  },
  {
   "cell_type": "code",
   "execution_count": 11,
   "id": "ec2fbe1a",
   "metadata": {},
   "outputs": [
    {
     "data": {
      "text/plain": [
       "(4,)"
      ]
     },
     "execution_count": 11,
     "metadata": {},
     "output_type": "execute_result"
    }
   ],
   "source": [
    "b.shape"
   ]
  },
  {
   "cell_type": "code",
   "execution_count": 12,
   "id": "42fa7bf1",
   "metadata": {},
   "outputs": [],
   "source": [
    "a.shape = (5, 4)"
   ]
  },
  {
   "cell_type": "code",
   "execution_count": 13,
   "id": "9a96f87b",
   "metadata": {},
   "outputs": [
    {
     "data": {
      "text/plain": [
       "array([[44, 10, 12, 47],\n",
       "       [42, 68, 23, 38],\n",
       "       [22, 55, 64, 76],\n",
       "       [33, 88, 67, 51],\n",
       "       [78, 26, 82, 34]], dtype=int8)"
      ]
     },
     "execution_count": 13,
     "metadata": {},
     "output_type": "execute_result"
    }
   ],
   "source": [
    "a"
   ]
  },
  {
   "cell_type": "code",
   "execution_count": 14,
   "id": "4c2a4d91",
   "metadata": {},
   "outputs": [],
   "source": [
    "np.random.seed(0)\n",
    "a = np.random.randint(0, 100, 20, dtype=np.int8).reshape(5, 4)"
   ]
  },
  {
   "cell_type": "code",
   "execution_count": 15,
   "id": "9486f671",
   "metadata": {},
   "outputs": [
    {
     "data": {
      "text/plain": [
       "array([[44, 10, 12, 47],\n",
       "       [42, 68, 23, 38],\n",
       "       [22, 55, 64, 76],\n",
       "       [33, 88, 67, 51],\n",
       "       [78, 26, 82, 34]], dtype=int8)"
      ]
     },
     "execution_count": 15,
     "metadata": {},
     "output_type": "execute_result"
    }
   ],
   "source": [
    "a"
   ]
  },
  {
   "cell_type": "code",
   "execution_count": 16,
   "id": "a67104ab",
   "metadata": {},
   "outputs": [
    {
     "data": {
      "text/plain": [
       "array([[44, 10, 12, 47],\n",
       "       [42, 68, 23, 38],\n",
       "       [22, 55, 64, 76],\n",
       "       [33, 88, 67, 51],\n",
       "       [78, 26, 82, 34]], dtype=int8)"
      ]
     },
     "execution_count": 16,
     "metadata": {},
     "output_type": "execute_result"
    }
   ],
   "source": [
    "np.random.seed(0)\n",
    "a = np.random.randint(0, 100, [5,4], dtype=np.int8)\n",
    "a"
   ]
  },
  {
   "cell_type": "code",
   "execution_count": 19,
   "id": "d3691736",
   "metadata": {},
   "outputs": [
    {
     "data": {
      "text/plain": [
       "64"
      ]
     },
     "execution_count": 19,
     "metadata": {},
     "output_type": "execute_result"
    }
   ],
   "source": [
    "# how can I get to 64?\n",
    "\n",
    "a[2][2]    # don't do this, even if it works"
   ]
  },
  {
   "cell_type": "code",
   "execution_count": 21,
   "id": "1264f25f",
   "metadata": {},
   "outputs": [
    {
     "data": {
      "text/plain": [
       "64"
      ]
     },
     "execution_count": 21,
     "metadata": {},
     "output_type": "execute_result"
    }
   ],
   "source": [
    "a[2,2]    # this is how we should retrieve from NumPy"
   ]
  },
  {
   "cell_type": "code",
   "execution_count": 22,
   "id": "8373d80c",
   "metadata": {},
   "outputs": [
    {
     "data": {
      "text/plain": [
       "12"
      ]
     },
     "execution_count": 22,
     "metadata": {},
     "output_type": "execute_result"
    }
   ],
   "source": [
    "a[0, 2]"
   ]
  },
  {
   "cell_type": "code",
   "execution_count": 23,
   "id": "5e539bb0",
   "metadata": {},
   "outputs": [
    {
     "data": {
      "text/plain": [
       "76"
      ]
     },
     "execution_count": 23,
     "metadata": {},
     "output_type": "execute_result"
    }
   ],
   "source": [
    "a[2, 3]  # this is a tuple "
   ]
  },
  {
   "cell_type": "code",
   "execution_count": 24,
   "id": "76970e64",
   "metadata": {},
   "outputs": [
    {
     "data": {
      "text/plain": [
       "76"
      ]
     },
     "execution_count": 24,
     "metadata": {},
     "output_type": "execute_result"
    }
   ],
   "source": [
    "a[(2,3)]      # this syntax works, but is ugly -- don't do it"
   ]
  },
  {
   "cell_type": "code",
   "execution_count": 25,
   "id": "492f6f05",
   "metadata": {},
   "outputs": [
    {
     "data": {
      "text/plain": [
       "array([55, 64], dtype=int8)"
      ]
     },
     "execution_count": 25,
     "metadata": {},
     "output_type": "execute_result"
    }
   ],
   "source": [
    "# what if I want both 55 and 64 from index 2?\n",
    "\n",
    "a[2, [1,2]]      # row index 2, columns 1+2"
   ]
  },
  {
   "cell_type": "code",
   "execution_count": 26,
   "id": "13f07dee",
   "metadata": {},
   "outputs": [
    {
     "data": {
      "text/plain": [
       "array([55, 64], dtype=int8)"
      ]
     },
     "execution_count": 26,
     "metadata": {},
     "output_type": "execute_result"
    }
   ],
   "source": [
    "a[2, 1:3]        # row index 2, columns 1 up to, not including 3"
   ]
  },
  {
   "cell_type": "code",
   "execution_count": 27,
   "id": "f0856ff6",
   "metadata": {},
   "outputs": [
    {
     "data": {
      "text/plain": [
       "array([[68, 23],\n",
       "       [55, 64]], dtype=int8)"
      ]
     },
     "execution_count": 27,
     "metadata": {},
     "output_type": "execute_result"
    }
   ],
   "source": [
    "a[1:3, 1:3]"
   ]
  },
  {
   "cell_type": "code",
   "execution_count": 28,
   "id": "c622c6d1",
   "metadata": {},
   "outputs": [
    {
     "data": {
      "text/plain": [
       "array([[68, 23],\n",
       "       [88, 67]], dtype=int8)"
      ]
     },
     "execution_count": 28,
     "metadata": {},
     "output_type": "execute_result"
    }
   ],
   "source": [
    "a[1:4:2, 1:3]   # rows 1+3, columns 1+2"
   ]
  },
  {
   "cell_type": "code",
   "execution_count": 29,
   "id": "a1baef4e",
   "metadata": {},
   "outputs": [
    {
     "data": {
      "text/plain": [
       "array([[44, 10, 12, 47],\n",
       "       [42, 68, 23, 38],\n",
       "       [22, 55, 64, 76],\n",
       "       [33, 88, 67, 51],\n",
       "       [78, 26, 82, 34]], dtype=int8)"
      ]
     },
     "execution_count": 29,
     "metadata": {},
     "output_type": "execute_result"
    }
   ],
   "source": [
    "a"
   ]
  },
  {
   "cell_type": "code",
   "execution_count": 30,
   "id": "8b9d0823",
   "metadata": {},
   "outputs": [
    {
     "data": {
      "text/plain": [
       "960"
      ]
     },
     "execution_count": 30,
     "metadata": {},
     "output_type": "execute_result"
    }
   ],
   "source": [
    "a.sum()"
   ]
  },
  {
   "cell_type": "code",
   "execution_count": 31,
   "id": "0081115c",
   "metadata": {},
   "outputs": [
    {
     "data": {
      "text/plain": [
       "array([219, 247, 248, 246])"
      ]
     },
     "execution_count": 31,
     "metadata": {},
     "output_type": "execute_result"
    }
   ],
   "source": [
    "a.sum(axis=0)   # sums all of the numbers in each column, gives us a new row-sized array"
   ]
  },
  {
   "cell_type": "code",
   "execution_count": 32,
   "id": "17ef75db",
   "metadata": {},
   "outputs": [
    {
     "data": {
      "text/plain": [
       "array([113, 171, 217, 239, 220])"
      ]
     },
     "execution_count": 32,
     "metadata": {},
     "output_type": "execute_result"
    }
   ],
   "source": [
    "a.sum(axis=1)   # sums all of the numbers in each row, gives us a new column-sized array"
   ]
  },
  {
   "cell_type": "code",
   "execution_count": 33,
   "id": "302d9b35",
   "metadata": {},
   "outputs": [
    {
     "data": {
      "text/plain": [
       "array([22, 10, 12, 34], dtype=int8)"
      ]
     },
     "execution_count": 33,
     "metadata": {},
     "output_type": "execute_result"
    }
   ],
   "source": [
    "a.min(axis=0)"
   ]
  },
  {
   "cell_type": "code",
   "execution_count": 34,
   "id": "6a8b525f",
   "metadata": {},
   "outputs": [
    {
     "data": {
      "text/plain": [
       "array([47, 68, 76, 88, 82], dtype=int8)"
      ]
     },
     "execution_count": 34,
     "metadata": {},
     "output_type": "execute_result"
    }
   ],
   "source": [
    "a.max(axis=1)"
   ]
  },
  {
   "cell_type": "code",
   "execution_count": 35,
   "id": "e22974e5",
   "metadata": {},
   "outputs": [
    {
     "data": {
      "text/plain": [
       "array([18.78722971, 28.16806703, 27.13374283, 14.71597771])"
      ]
     },
     "execution_count": 35,
     "metadata": {},
     "output_type": "execute_result"
    }
   ],
   "source": [
    "a.std(axis=0)"
   ]
  },
  {
   "cell_type": "code",
   "execution_count": 36,
   "id": "ab4172e6",
   "metadata": {},
   "outputs": [
    {
     "data": {
      "text/plain": [
       "array([43.8, 49.4, 49.6, 49.2])"
      ]
     },
     "execution_count": 36,
     "metadata": {},
     "output_type": "execute_result"
    }
   ],
   "source": [
    "a.mean(axis=0)"
   ]
  },
  {
   "cell_type": "markdown",
   "id": "424bb9b2",
   "metadata": {},
   "source": [
    "# Exercises: NumPy\n",
    "\n",
    "1. Create a 2-dimensional NumPy array with 45 numbers from 0-100, with 5 rows and 9 columns.\n",
    "2. Retrieve row index 2.\n",
    "3. Retrieve column index 3.  (Think about a slice, and how you could get the items.)\n",
    "4. Retrieve rows index 1 and 4.\n",
    "5. Retrieve column indexes 1 and 4.\n",
    "6. Get the mean of the even items in row index 4.\n",
    "7. Get the mean of the odd items in column index 3."
   ]
  },
  {
   "cell_type": "code",
   "execution_count": 37,
   "id": "ed1fd4d4",
   "metadata": {},
   "outputs": [
    {
     "data": {
      "text/plain": [
       "array([[44, 10, 12, 47],\n",
       "       [42, 68, 23, 38],\n",
       "       [22, 55, 64, 76],\n",
       "       [33, 88, 67, 51],\n",
       "       [78, 26, 82, 34]], dtype=int8)"
      ]
     },
     "execution_count": 37,
     "metadata": {},
     "output_type": "execute_result"
    }
   ],
   "source": [
    "a"
   ]
  },
  {
   "cell_type": "code",
   "execution_count": 38,
   "id": "35ea7165",
   "metadata": {},
   "outputs": [
    {
     "data": {
      "text/plain": [
       "array([[44, 42, 22, 33, 78],\n",
       "       [10, 68, 55, 88, 26],\n",
       "       [12, 23, 64, 67, 82],\n",
       "       [47, 38, 76, 51, 34]], dtype=int8)"
      ]
     },
     "execution_count": 38,
     "metadata": {},
     "output_type": "execute_result"
    }
   ],
   "source": [
    "a.transpose()"
   ]
  },
  {
   "cell_type": "code",
   "execution_count": 39,
   "id": "1447b7e9",
   "metadata": {},
   "outputs": [
    {
     "data": {
      "text/plain": [
       "array([[44, 42, 22, 33, 78],\n",
       "       [10, 68, 55, 88, 26],\n",
       "       [12, 23, 64, 67, 82],\n",
       "       [47, 38, 76, 51, 34]], dtype=int8)"
      ]
     },
     "execution_count": 39,
     "metadata": {},
     "output_type": "execute_result"
    }
   ],
   "source": [
    "a.T"
   ]
  },
  {
   "cell_type": "code",
   "execution_count": 40,
   "id": "bedf1922",
   "metadata": {},
   "outputs": [
    {
     "data": {
      "text/plain": [
       "array([[44, 10, 12, 47, 42, 68, 23, 38, 22],\n",
       "       [55, 64, 76, 33, 88, 67, 51, 78, 26],\n",
       "       [82, 34, 91, 67, 11, 88,  9, 36, 83],\n",
       "       [94, 33, 31, 21, 81, 89, 37, 86, 98],\n",
       "       [36, 55,  5, 87, 58, 43, 76, 70, 60]], dtype=int8)"
      ]
     },
     "execution_count": 40,
     "metadata": {},
     "output_type": "execute_result"
    }
   ],
   "source": [
    "np.random.seed(0)\n",
    "a = np.random.randint(0, 100, [5, 9], dtype=np.int8)\n",
    "a"
   ]
  },
  {
   "cell_type": "code",
   "execution_count": 41,
   "id": "58a6dbeb",
   "metadata": {},
   "outputs": [
    {
     "data": {
      "text/plain": [
       "array([82, 34, 91, 67, 11, 88,  9, 36, 83], dtype=int8)"
      ]
     },
     "execution_count": 41,
     "metadata": {},
     "output_type": "execute_result"
    }
   ],
   "source": [
    "# row index 2\n",
    "a[2]"
   ]
  },
  {
   "cell_type": "code",
   "execution_count": 42,
   "id": "82fb9065",
   "metadata": {},
   "outputs": [
    {
     "data": {
      "text/plain": [
       "array([47, 33, 67, 21, 87], dtype=int8)"
      ]
     },
     "execution_count": 42,
     "metadata": {},
     "output_type": "execute_result"
    }
   ],
   "source": [
    "# column index 3\n",
    "a.T[3]"
   ]
  },
  {
   "cell_type": "code",
   "execution_count": 44,
   "id": "842602af",
   "metadata": {},
   "outputs": [
    {
     "data": {
      "text/plain": [
       "array([47, 33, 67, 21, 87], dtype=int8)"
      ]
     },
     "execution_count": 44,
     "metadata": {},
     "output_type": "execute_result"
    }
   ],
   "source": [
    "# column index 3, using a slice\n",
    "a[0:5, 3]"
   ]
  },
  {
   "cell_type": "code",
   "execution_count": 45,
   "id": "af7b99db",
   "metadata": {},
   "outputs": [
    {
     "data": {
      "text/plain": [
       "array([47, 33, 67, 21, 87], dtype=int8)"
      ]
     },
     "execution_count": 45,
     "metadata": {},
     "output_type": "execute_result"
    }
   ],
   "source": [
    "# column index 3, using a different slice\n",
    "a[:, 3]"
   ]
  },
  {
   "cell_type": "code",
   "execution_count": 46,
   "id": "84b22550",
   "metadata": {},
   "outputs": [
    {
     "data": {
      "text/plain": [
       "array([[55, 64, 76, 33, 88, 67, 51, 78, 26],\n",
       "       [36, 55,  5, 87, 58, 43, 76, 70, 60]], dtype=int8)"
      ]
     },
     "execution_count": 46,
     "metadata": {},
     "output_type": "execute_result"
    }
   ],
   "source": [
    "# rows at index 1+4\n",
    "\n",
    "a[[1,4]]"
   ]
  },
  {
   "cell_type": "code",
   "execution_count": 50,
   "id": "4f12c31e",
   "metadata": {},
   "outputs": [
    {
     "data": {
      "text/plain": [
       "array([[55, 64, 76, 33, 88, 67, 51, 78, 26],\n",
       "       [36, 55,  5, 87, 58, 43, 76, 70, 60]], dtype=int8)"
      ]
     },
     "execution_count": 50,
     "metadata": {},
     "output_type": "execute_result"
    }
   ],
   "source": [
    "# row indexes 1+4, using a slice\n",
    "a[1:5:3]"
   ]
  },
  {
   "cell_type": "code",
   "execution_count": 51,
   "id": "2c669551",
   "metadata": {},
   "outputs": [
    {
     "data": {
      "text/plain": [
       "array([[10, 42],\n",
       "       [64, 88],\n",
       "       [34, 11],\n",
       "       [33, 81],\n",
       "       [55, 58]], dtype=int8)"
      ]
     },
     "execution_count": 51,
     "metadata": {},
     "output_type": "execute_result"
    }
   ],
   "source": [
    "a[:, [1,4]]"
   ]
  },
  {
   "cell_type": "code",
   "execution_count": 52,
   "id": "862f71ce",
   "metadata": {},
   "outputs": [
    {
     "data": {
      "text/plain": [
       "array([[10, 42],\n",
       "       [64, 88],\n",
       "       [34, 11],\n",
       "       [33, 81],\n",
       "       [55, 58]], dtype=int8)"
      ]
     },
     "execution_count": 52,
     "metadata": {},
     "output_type": "execute_result"
    }
   ],
   "source": [
    "a[:, 1:5:3]"
   ]
  },
  {
   "cell_type": "code",
   "execution_count": 56,
   "id": "1ce3a1d7",
   "metadata": {},
   "outputs": [
    {
     "data": {
      "text/plain": [
       "60.0"
      ]
     },
     "execution_count": 56,
     "metadata": {},
     "output_type": "execute_result"
    }
   ],
   "source": [
    "# mean of even items in row index 4\n",
    "a[4][a[4] % 2 == 0].mean()"
   ]
  },
  {
   "cell_type": "code",
   "execution_count": 60,
   "id": "465c7711",
   "metadata": {},
   "outputs": [
    {
     "data": {
      "text/plain": [
       "51.0"
      ]
     },
     "execution_count": 60,
     "metadata": {},
     "output_type": "execute_result"
    }
   ],
   "source": [
    "# mean of odd items in column index 3\n",
    "a[:, 3][a[:, 3] % 2 == 1].mean()"
   ]
  },
  {
   "cell_type": "code",
   "execution_count": 61,
   "id": "423a0409",
   "metadata": {},
   "outputs": [
    {
     "data": {
      "text/plain": [
       "array([[44, 10, 12, 47, 42, 68, 23, 38, 22],\n",
       "       [55, 64, 76, 33, 88, 67, 51, 78, 26],\n",
       "       [82, 34, 91, 67, 11, 88,  9, 36, 83],\n",
       "       [94, 33, 31, 21, 81, 89, 37, 86, 98],\n",
       "       [36, 55,  5, 87, 58, 43, 76, 70, 60]], dtype=int8)"
      ]
     },
     "execution_count": 61,
     "metadata": {},
     "output_type": "execute_result"
    }
   ],
   "source": [
    "a"
   ]
  },
  {
   "cell_type": "code",
   "execution_count": 62,
   "id": "0e07d86c",
   "metadata": {},
   "outputs": [
    {
     "data": {
      "text/plain": [
       "array([[44, 10, 12, 47, 42],\n",
       "       [68, 23, 38, 22, 55],\n",
       "       [64, 76, 33, 88, 67],\n",
       "       [51, 78, 26, 82, 34],\n",
       "       [91, 67, 11, 88,  9],\n",
       "       [36, 83, 94, 33, 31],\n",
       "       [21, 81, 89, 37, 86],\n",
       "       [98, 36, 55,  5, 87],\n",
       "       [58, 43, 76, 70, 60]], dtype=int8)"
      ]
     },
     "execution_count": 62,
     "metadata": {},
     "output_type": "execute_result"
    }
   ],
   "source": [
    "b = a.reshape(9,5)\n",
    "b"
   ]
  },
  {
   "cell_type": "code",
   "execution_count": 63,
   "id": "eef6b199",
   "metadata": {},
   "outputs": [
    {
     "ename": "ValueError",
     "evalue": "cannot reshape array of size 45 into shape (3,4)",
     "output_type": "error",
     "traceback": [
      "\u001b[0;31m---------------------------------------------------------------------------\u001b[0m",
      "\u001b[0;31mValueError\u001b[0m                                Traceback (most recent call last)",
      "\u001b[0;32m/var/folders/rr/0mnyyv811fs5vyp22gf4fxk00000gn/T/ipykernel_83312/3335922227.py\u001b[0m in \u001b[0;36m<module>\u001b[0;34m\u001b[0m\n\u001b[0;32m----> 1\u001b[0;31m \u001b[0ma\u001b[0m\u001b[0;34m.\u001b[0m\u001b[0mreshape\u001b[0m\u001b[0;34m(\u001b[0m\u001b[0;36m3\u001b[0m\u001b[0;34m,\u001b[0m\u001b[0;36m4\u001b[0m\u001b[0;34m)\u001b[0m\u001b[0;34m\u001b[0m\u001b[0;34m\u001b[0m\u001b[0m\n\u001b[0m",
      "\u001b[0;31mValueError\u001b[0m: cannot reshape array of size 45 into shape (3,4)"
     ]
    }
   ],
   "source": [
    "a.reshape(3,4)"
   ]
  },
  {
   "cell_type": "code",
   "execution_count": 64,
   "id": "65d24ce7",
   "metadata": {},
   "outputs": [
    {
     "data": {
      "text/plain": [
       "array([[44, 10, 12, 47, 42, 68, 23, 38, 22],\n",
       "       [55, 64, 76, 33, 88, 67, 51, 78, 26],\n",
       "       [82, 34, 91, 67, 11, 88,  9, 36, 83],\n",
       "       [94, 33, 31, 21, 81, 89, 37, 86, 98],\n",
       "       [36, 55,  5, 87, 58, 43, 76, 70, 60]], dtype=int8)"
      ]
     },
     "execution_count": 64,
     "metadata": {},
     "output_type": "execute_result"
    }
   ],
   "source": [
    "a"
   ]
  },
  {
   "cell_type": "code",
   "execution_count": 65,
   "id": "96fff01d",
   "metadata": {},
   "outputs": [
    {
     "data": {
      "text/plain": [
       "array([[44, 10, 12, 47, 42],\n",
       "       [68, 23, 38, 22, 55],\n",
       "       [64, 76, 33, 88, 67],\n",
       "       [51, 78, 26, 82, 34],\n",
       "       [91, 67, 11, 88,  9],\n",
       "       [36, 83, 94, 33, 31],\n",
       "       [21, 81, 89, 37, 86],\n",
       "       [98, 36, 55,  5, 87],\n",
       "       [58, 43, 76, 70, 60]], dtype=int8)"
      ]
     },
     "execution_count": 65,
     "metadata": {},
     "output_type": "execute_result"
    }
   ],
   "source": [
    "b"
   ]
  },
  {
   "cell_type": "code",
   "execution_count": 66,
   "id": "f87c15eb",
   "metadata": {},
   "outputs": [
    {
     "data": {
      "text/plain": [
       "4926381136"
      ]
     },
     "execution_count": 66,
     "metadata": {},
     "output_type": "execute_result"
    }
   ],
   "source": [
    "id(a)"
   ]
  },
  {
   "cell_type": "code",
   "execution_count": 67,
   "id": "bede40a2",
   "metadata": {},
   "outputs": [
    {
     "data": {
      "text/plain": [
       "4926388720"
      ]
     },
     "execution_count": 67,
     "metadata": {},
     "output_type": "execute_result"
    }
   ],
   "source": [
    "id(b)"
   ]
  },
  {
   "cell_type": "code",
   "execution_count": 68,
   "id": "b4fe01a4",
   "metadata": {},
   "outputs": [],
   "source": [
    "a[0, 0] = 99"
   ]
  },
  {
   "cell_type": "code",
   "execution_count": 69,
   "id": "e877b880",
   "metadata": {},
   "outputs": [
    {
     "data": {
      "text/plain": [
       "array([[99, 10, 12, 47, 42, 68, 23, 38, 22],\n",
       "       [55, 64, 76, 33, 88, 67, 51, 78, 26],\n",
       "       [82, 34, 91, 67, 11, 88,  9, 36, 83],\n",
       "       [94, 33, 31, 21, 81, 89, 37, 86, 98],\n",
       "       [36, 55,  5, 87, 58, 43, 76, 70, 60]], dtype=int8)"
      ]
     },
     "execution_count": 69,
     "metadata": {},
     "output_type": "execute_result"
    }
   ],
   "source": [
    "a"
   ]
  },
  {
   "cell_type": "code",
   "execution_count": 70,
   "id": "766d08e4",
   "metadata": {},
   "outputs": [
    {
     "data": {
      "text/plain": [
       "array([[99, 10, 12, 47, 42],\n",
       "       [68, 23, 38, 22, 55],\n",
       "       [64, 76, 33, 88, 67],\n",
       "       [51, 78, 26, 82, 34],\n",
       "       [91, 67, 11, 88,  9],\n",
       "       [36, 83, 94, 33, 31],\n",
       "       [21, 81, 89, 37, 86],\n",
       "       [98, 36, 55,  5, 87],\n",
       "       [58, 43, 76, 70, 60]], dtype=int8)"
      ]
     },
     "execution_count": 70,
     "metadata": {},
     "output_type": "execute_result"
    }
   ],
   "source": [
    "b"
   ]
  },
  {
   "cell_type": "code",
   "execution_count": 72,
   "id": "cb6ee0b0",
   "metadata": {},
   "outputs": [
    {
     "name": "stdout",
     "output_type": "stream",
     "text": [
      "Help on function reshape in module numpy:\n",
      "\n",
      "reshape(a, newshape, order='C')\n",
      "    Gives a new shape to an array without changing its data.\n",
      "    \n",
      "    Parameters\n",
      "    ----------\n",
      "    a : array_like\n",
      "        Array to be reshaped.\n",
      "    newshape : int or tuple of ints\n",
      "        The new shape should be compatible with the original shape. If\n",
      "        an integer, then the result will be a 1-D array of that length.\n",
      "        One shape dimension can be -1. In this case, the value is\n",
      "        inferred from the length of the array and remaining dimensions.\n",
      "    order : {'C', 'F', 'A'}, optional\n",
      "        Read the elements of `a` using this index order, and place the\n",
      "        elements into the reshaped array using this index order.  'C'\n",
      "        means to read / write the elements using C-like index order,\n",
      "        with the last axis index changing fastest, back to the first\n",
      "        axis index changing slowest. 'F' means to read / write the\n",
      "        elements using Fortran-like index order, with the first index\n",
      "        changing fastest, and the last index changing slowest. Note that\n",
      "        the 'C' and 'F' options take no account of the memory layout of\n",
      "        the underlying array, and only refer to the order of indexing.\n",
      "        'A' means to read / write the elements in Fortran-like index\n",
      "        order if `a` is Fortran *contiguous* in memory, C-like order\n",
      "        otherwise.\n",
      "    \n",
      "    Returns\n",
      "    -------\n",
      "    reshaped_array : ndarray\n",
      "        This will be a new view object if possible; otherwise, it will\n",
      "        be a copy.  Note there is no guarantee of the *memory layout* (C- or\n",
      "        Fortran- contiguous) of the returned array.\n",
      "    \n",
      "    See Also\n",
      "    --------\n",
      "    ndarray.reshape : Equivalent method.\n",
      "    \n",
      "    Notes\n",
      "    -----\n",
      "    It is not always possible to change the shape of an array without\n",
      "    copying the data. If you want an error to be raised when the data is copied,\n",
      "    you should assign the new shape to the shape attribute of the array::\n",
      "    \n",
      "     >>> a = np.zeros((10, 2))\n",
      "    \n",
      "     # A transpose makes the array non-contiguous\n",
      "     >>> b = a.T\n",
      "    \n",
      "     # Taking a view makes it possible to modify the shape without modifying\n",
      "     # the initial object.\n",
      "     >>> c = b.view()\n",
      "     >>> c.shape = (20)\n",
      "     Traceback (most recent call last):\n",
      "        ...\n",
      "     AttributeError: Incompatible shape for in-place modification. Use\n",
      "     `.reshape()` to make a copy with the desired shape.\n",
      "    \n",
      "    The `order` keyword gives the index ordering both for *fetching* the values\n",
      "    from `a`, and then *placing* the values into the output array.\n",
      "    For example, let's say you have an array:\n",
      "    \n",
      "    >>> a = np.arange(6).reshape((3, 2))\n",
      "    >>> a\n",
      "    array([[0, 1],\n",
      "           [2, 3],\n",
      "           [4, 5]])\n",
      "    \n",
      "    You can think of reshaping as first raveling the array (using the given\n",
      "    index order), then inserting the elements from the raveled array into the\n",
      "    new array using the same kind of index ordering as was used for the\n",
      "    raveling.\n",
      "    \n",
      "    >>> np.reshape(a, (2, 3)) # C-like index ordering\n",
      "    array([[0, 1, 2],\n",
      "           [3, 4, 5]])\n",
      "    >>> np.reshape(np.ravel(a), (2, 3)) # equivalent to C ravel then C reshape\n",
      "    array([[0, 1, 2],\n",
      "           [3, 4, 5]])\n",
      "    >>> np.reshape(a, (2, 3), order='F') # Fortran-like index ordering\n",
      "    array([[0, 4, 3],\n",
      "           [2, 1, 5]])\n",
      "    >>> np.reshape(np.ravel(a, order='F'), (2, 3), order='F')\n",
      "    array([[0, 4, 3],\n",
      "           [2, 1, 5]])\n",
      "    \n",
      "    Examples\n",
      "    --------\n",
      "    >>> a = np.array([[1,2,3], [4,5,6]])\n",
      "    >>> np.reshape(a, 6)\n",
      "    array([1, 2, 3, 4, 5, 6])\n",
      "    >>> np.reshape(a, 6, order='F')\n",
      "    array([1, 4, 2, 5, 3, 6])\n",
      "    \n",
      "    >>> np.reshape(a, (3,-1))       # the unspecified value is inferred to be 2\n",
      "    array([[1, 2],\n",
      "           [3, 4],\n",
      "           [5, 6]])\n",
      "\n"
     ]
    }
   ],
   "source": [
    "help(np.reshape)"
   ]
  },
  {
   "cell_type": "code",
   "execution_count": 73,
   "id": "299e3f75",
   "metadata": {},
   "outputs": [],
   "source": [
    "b = a.reshape(9, 5).copy()"
   ]
  },
  {
   "cell_type": "code",
   "execution_count": 75,
   "id": "d0ad91f7",
   "metadata": {
    "collapsed": true
   },
   "outputs": [
    {
     "name": "stdout",
     "output_type": "stream",
     "text": [
      "Help on function copy in module numpy:\n",
      "\n",
      "copy(a, order='K', subok=False)\n",
      "    Return an array copy of the given object.\n",
      "    \n",
      "    Parameters\n",
      "    ----------\n",
      "    a : array_like\n",
      "        Input data.\n",
      "    order : {'C', 'F', 'A', 'K'}, optional\n",
      "        Controls the memory layout of the copy. 'C' means C-order,\n",
      "        'F' means F-order, 'A' means 'F' if `a` is Fortran contiguous,\n",
      "        'C' otherwise. 'K' means match the layout of `a` as closely\n",
      "        as possible. (Note that this function and :meth:`ndarray.copy` are very\n",
      "        similar, but have different default values for their order=\n",
      "        arguments.)\n",
      "    subok : bool, optional\n",
      "        If True, then sub-classes will be passed-through, otherwise the\n",
      "        returned array will be forced to be a base-class array (defaults to False).\n",
      "    \n",
      "        .. versionadded:: 1.19.0\n",
      "    \n",
      "    Returns\n",
      "    -------\n",
      "    arr : ndarray\n",
      "        Array interpretation of `a`.\n",
      "    \n",
      "    See Also\n",
      "    --------\n",
      "    ndarray.copy : Preferred method for creating an array copy\n",
      "    \n",
      "    Notes\n",
      "    -----\n",
      "    This is equivalent to:\n",
      "    \n",
      "    >>> np.array(a, copy=True)  #doctest: +SKIP\n",
      "    \n",
      "    Examples\n",
      "    --------\n",
      "    Create an array x, with a reference y and a copy z:\n",
      "    \n",
      "    >>> x = np.array([1, 2, 3])\n",
      "    >>> y = x\n",
      "    >>> z = np.copy(x)\n",
      "    \n",
      "    Note that, when we modify x, y changes, but not z:\n",
      "    \n",
      "    >>> x[0] = 10\n",
      "    >>> x[0] == y[0]\n",
      "    True\n",
      "    >>> x[0] == z[0]\n",
      "    False\n",
      "    \n",
      "    Note that, np.copy clears previously set WRITEABLE=False flag.\n",
      "    \n",
      "    >>> a = np.array([1, 2, 3])\n",
      "    >>> a.flags[\"WRITEABLE\"] = False\n",
      "    >>> b = np.copy(a)\n",
      "    >>> b.flags[\"WRITEABLE\"]\n",
      "    True\n",
      "    >>> b[0] = 3\n",
      "    >>> b\n",
      "    array([3, 2, 3])\n",
      "    \n",
      "    Note that np.copy is a shallow copy and will not copy object\n",
      "    elements within arrays. This is mainly important for arrays\n",
      "    containing Python objects. The new array will contain the\n",
      "    same object which may lead to surprises if that object can\n",
      "    be modified (is mutable):\n",
      "    \n",
      "    >>> a = np.array([1, 'm', [2, 3, 4]], dtype=object)\n",
      "    >>> b = np.copy(a)\n",
      "    >>> b[2][0] = 10\n",
      "    >>> a\n",
      "    array([1, 'm', list([10, 3, 4])], dtype=object)\n",
      "    \n",
      "    To ensure all elements within an ``object`` array are copied,\n",
      "    use `copy.deepcopy`:\n",
      "    \n",
      "    >>> import copy\n",
      "    >>> a = np.array([1, 'm', [2, 3, 4]], dtype=object)\n",
      "    >>> c = copy.deepcopy(a)\n",
      "    >>> c[2][0] = 10\n",
      "    >>> c\n",
      "    array([1, 'm', list([10, 3, 4])], dtype=object)\n",
      "    >>> a\n",
      "    array([1, 'm', list([2, 3, 4])], dtype=object)\n",
      "\n"
     ]
    }
   ],
   "source": [
    "help(np.copy)"
   ]
  },
  {
   "cell_type": "code",
   "execution_count": 76,
   "id": "dff1d871",
   "metadata": {},
   "outputs": [
    {
     "data": {
      "text/plain": [
       "  C_CONTIGUOUS : True\n",
       "  F_CONTIGUOUS : False\n",
       "  OWNDATA : True\n",
       "  WRITEABLE : True\n",
       "  ALIGNED : True\n",
       "  WRITEBACKIFCOPY : False\n",
       "  UPDATEIFCOPY : False"
      ]
     },
     "execution_count": 76,
     "metadata": {},
     "output_type": "execute_result"
    }
   ],
   "source": [
    "b.flags"
   ]
  },
  {
   "cell_type": "code",
   "execution_count": 77,
   "id": "1b370117",
   "metadata": {},
   "outputs": [
    {
     "data": {
      "text/plain": [
       "  C_CONTIGUOUS : True\n",
       "  F_CONTIGUOUS : False\n",
       "  OWNDATA : False\n",
       "  WRITEABLE : True\n",
       "  ALIGNED : True\n",
       "  WRITEBACKIFCOPY : False\n",
       "  UPDATEIFCOPY : False"
      ]
     },
     "execution_count": 77,
     "metadata": {},
     "output_type": "execute_result"
    }
   ],
   "source": [
    "b= a.reshape(9, 5)\n",
    "b.flags"
   ]
  },
  {
   "cell_type": "code",
   "execution_count": 78,
   "id": "eaac17a6",
   "metadata": {},
   "outputs": [
    {
     "data": {
      "text/plain": [
       "array([[99, 10, 12, 47, 42, 68, 23, 38, 22],\n",
       "       [55, 64, 76, 33, 88, 67, 51, 78, 26],\n",
       "       [82, 34, 91, 67, 11, 88,  9, 36, 83],\n",
       "       [94, 33, 31, 21, 81, 89, 37, 86, 98],\n",
       "       [36, 55,  5, 87, 58, 43, 76, 70, 60]], dtype=int8)"
      ]
     },
     "execution_count": 78,
     "metadata": {},
     "output_type": "execute_result"
    }
   ],
   "source": [
    "a"
   ]
  },
  {
   "cell_type": "code",
   "execution_count": 79,
   "id": "0320dd54",
   "metadata": {},
   "outputs": [],
   "source": [
    "a.sort()"
   ]
  },
  {
   "cell_type": "code",
   "execution_count": 80,
   "id": "813eb915",
   "metadata": {},
   "outputs": [
    {
     "data": {
      "text/plain": [
       "array([[10, 12, 22, 23, 38, 42, 47, 68, 99],\n",
       "       [26, 33, 51, 55, 64, 67, 76, 78, 88],\n",
       "       [ 9, 11, 34, 36, 67, 82, 83, 88, 91],\n",
       "       [21, 31, 33, 37, 81, 86, 89, 94, 98],\n",
       "       [ 5, 36, 43, 55, 58, 60, 70, 76, 87]], dtype=int8)"
      ]
     },
     "execution_count": 80,
     "metadata": {},
     "output_type": "execute_result"
    }
   ],
   "source": [
    "a"
   ]
  },
  {
   "cell_type": "code",
   "execution_count": 83,
   "id": "bc9a8221",
   "metadata": {},
   "outputs": [],
   "source": [
    "a.sort(axis=0)"
   ]
  },
  {
   "cell_type": "code",
   "execution_count": 84,
   "id": "10a44233",
   "metadata": {},
   "outputs": [
    {
     "data": {
      "text/plain": [
       "array([[ 5, 11, 22, 23, 38, 42, 47, 68, 87],\n",
       "       [ 9, 12, 33, 36, 58, 60, 70, 76, 88],\n",
       "       [10, 31, 34, 37, 64, 67, 76, 78, 91],\n",
       "       [21, 33, 43, 55, 67, 82, 83, 88, 98],\n",
       "       [26, 36, 51, 55, 81, 86, 89, 94, 99]], dtype=int8)"
      ]
     },
     "execution_count": 84,
     "metadata": {},
     "output_type": "execute_result"
    }
   ],
   "source": [
    "a"
   ]
  },
  {
   "cell_type": "code",
   "execution_count": 85,
   "id": "fb0874ba",
   "metadata": {},
   "outputs": [
    {
     "name": "stdout",
     "output_type": "stream",
     "text": [
      "Help on built-in function sort:\n",
      "\n",
      "sort(...) method of numpy.ndarray instance\n",
      "    a.sort(axis=-1, kind=None, order=None)\n",
      "    \n",
      "    Sort an array in-place. Refer to `numpy.sort` for full documentation.\n",
      "    \n",
      "    Parameters\n",
      "    ----------\n",
      "    axis : int, optional\n",
      "        Axis along which to sort. Default is -1, which means sort along the\n",
      "        last axis.\n",
      "    kind : {'quicksort', 'mergesort', 'heapsort', 'stable'}, optional\n",
      "        Sorting algorithm. The default is 'quicksort'. Note that both 'stable'\n",
      "        and 'mergesort' use timsort under the covers and, in general, the\n",
      "        actual implementation will vary with datatype. The 'mergesort' option\n",
      "        is retained for backwards compatibility.\n",
      "    \n",
      "        .. versionchanged:: 1.15.0\n",
      "           The 'stable' option was added.\n",
      "    \n",
      "    order : str or list of str, optional\n",
      "        When `a` is an array with fields defined, this argument specifies\n",
      "        which fields to compare first, second, etc.  A single field can\n",
      "        be specified as a string, and not all fields need be specified,\n",
      "        but unspecified fields will still be used, in the order in which\n",
      "        they come up in the dtype, to break ties.\n",
      "    \n",
      "    See Also\n",
      "    --------\n",
      "    numpy.sort : Return a sorted copy of an array.\n",
      "    numpy.argsort : Indirect sort.\n",
      "    numpy.lexsort : Indirect stable sort on multiple keys.\n",
      "    numpy.searchsorted : Find elements in sorted array.\n",
      "    numpy.partition: Partial sort.\n",
      "    \n",
      "    Notes\n",
      "    -----\n",
      "    See `numpy.sort` for notes on the different sorting algorithms.\n",
      "    \n",
      "    Examples\n",
      "    --------\n",
      "    >>> a = np.array([[1,4], [3,1]])\n",
      "    >>> a.sort(axis=1)\n",
      "    >>> a\n",
      "    array([[1, 4],\n",
      "           [1, 3]])\n",
      "    >>> a.sort(axis=0)\n",
      "    >>> a\n",
      "    array([[1, 3],\n",
      "           [1, 4]])\n",
      "    \n",
      "    Use the `order` keyword to specify a field to use when sorting a\n",
      "    structured array:\n",
      "    \n",
      "    >>> a = np.array([('a', 2), ('c', 1)], dtype=[('x', 'S1'), ('y', int)])\n",
      "    >>> a.sort(order='y')\n",
      "    >>> a\n",
      "    array([(b'c', 1), (b'a', 2)],\n",
      "          dtype=[('x', 'S1'), ('y', '<i8')])\n",
      "\n"
     ]
    }
   ],
   "source": [
    "help(a.sort)"
   ]
  },
  {
   "cell_type": "code",
   "execution_count": 86,
   "id": "a0791d43",
   "metadata": {},
   "outputs": [
    {
     "data": {
      "text/plain": [
       "[-1, 47, 3, -45, -17, 15, 12, 1, 50, -12]"
      ]
     },
     "execution_count": 86,
     "metadata": {},
     "output_type": "execute_result"
    }
   ],
   "source": [
    "import random\n",
    "random.seed(0)\n",
    "numbers = [random.randint(-50, 50)\n",
    "          for i in range(10)]\n",
    "numbers"
   ]
  },
  {
   "cell_type": "code",
   "execution_count": 87,
   "id": "f02a1ec1",
   "metadata": {},
   "outputs": [
    {
     "data": {
      "text/plain": [
       "[-1, 1, 3, 12, -12, 15, -17, -45, 47, 50]"
      ]
     },
     "execution_count": 87,
     "metadata": {},
     "output_type": "execute_result"
    }
   ],
   "source": [
    "sorted(numbers, key=abs)"
   ]
  },
  {
   "cell_type": "code",
   "execution_count": 89,
   "id": "fb11043d",
   "metadata": {},
   "outputs": [
    {
     "data": {
      "text/plain": [
       "array([ 1,  1,  3, 12, 12, 15, 17, 45, 47, 50])"
      ]
     },
     "execution_count": 89,
     "metadata": {},
     "output_type": "execute_result"
    }
   ],
   "source": [
    "a = np.array([abs(one_number) for one_number in numbers])\n",
    "a.sort()\n",
    "a"
   ]
  },
  {
   "cell_type": "code",
   "execution_count": 91,
   "id": "0cdfa175",
   "metadata": {},
   "outputs": [],
   "source": [
    "import pandas as pd\n",
    "from pandas import Series, DataFrame"
   ]
  },
  {
   "cell_type": "markdown",
   "id": "50ca8f43",
   "metadata": {},
   "source": [
    "# Pandas data structures:\n",
    "\n",
    "- Series -- 1-dimensional data\n",
    "- DataFrame -- 2-dimensional data"
   ]
  },
  {
   "cell_type": "code",
   "execution_count": 92,
   "id": "05262e2d",
   "metadata": {},
   "outputs": [
    {
     "data": {
      "text/plain": [
       "0    10\n",
       "1    20\n",
       "2    30\n",
       "3    40\n",
       "4    50\n",
       "5    60\n",
       "dtype: int64"
      ]
     },
     "execution_count": 92,
     "metadata": {},
     "output_type": "execute_result"
    }
   ],
   "source": [
    "s = Series([10, 20, 30, 40, 50, 60])\n",
    "s"
   ]
  },
  {
   "cell_type": "code",
   "execution_count": 93,
   "id": "41c31a7f",
   "metadata": {},
   "outputs": [
    {
     "data": {
      "text/plain": [
       "35.0"
      ]
     },
     "execution_count": 93,
     "metadata": {},
     "output_type": "execute_result"
    }
   ],
   "source": [
    "s.mean()"
   ]
  },
  {
   "cell_type": "code",
   "execution_count": 94,
   "id": "59ef5f5e",
   "metadata": {},
   "outputs": [
    {
     "data": {
      "text/plain": [
       "18.708286933869708"
      ]
     },
     "execution_count": 94,
     "metadata": {},
     "output_type": "execute_result"
    }
   ],
   "source": [
    "s.std()"
   ]
  },
  {
   "cell_type": "code",
   "execution_count": 96,
   "id": "ede556c9",
   "metadata": {},
   "outputs": [
    {
     "data": {
      "text/plain": [
       "10"
      ]
     },
     "execution_count": 96,
     "metadata": {},
     "output_type": "execute_result"
    }
   ],
   "source": [
    "s.min()"
   ]
  },
  {
   "cell_type": "code",
   "execution_count": 97,
   "id": "a8519acf",
   "metadata": {},
   "outputs": [
    {
     "data": {
      "text/plain": [
       "60"
      ]
     },
     "execution_count": 97,
     "metadata": {},
     "output_type": "execute_result"
    }
   ],
   "source": [
    "s.max()"
   ]
  },
  {
   "cell_type": "code",
   "execution_count": 98,
   "id": "f9c95327",
   "metadata": {},
   "outputs": [
    {
     "data": {
      "text/plain": [
       "210"
      ]
     },
     "execution_count": 98,
     "metadata": {},
     "output_type": "execute_result"
    }
   ],
   "source": [
    "s.sum()"
   ]
  },
  {
   "cell_type": "code",
   "execution_count": 99,
   "id": "3d9b577f",
   "metadata": {},
   "outputs": [
    {
     "data": {
      "text/plain": [
       "array([10, 20, 30, 40, 50, 60])"
      ]
     },
     "execution_count": 99,
     "metadata": {},
     "output_type": "execute_result"
    }
   ],
   "source": [
    "s.values"
   ]
  },
  {
   "cell_type": "code",
   "execution_count": 100,
   "id": "659f4792",
   "metadata": {},
   "outputs": [
    {
     "data": {
      "text/plain": [
       "0    10\n",
       "1    20\n",
       "2    30\n",
       "3    40\n",
       "4    50\n",
       "5    60\n",
       "dtype: int64"
      ]
     },
     "execution_count": 100,
     "metadata": {},
     "output_type": "execute_result"
    }
   ],
   "source": [
    "s"
   ]
  },
  {
   "cell_type": "code",
   "execution_count": 101,
   "id": "3c782b62",
   "metadata": {},
   "outputs": [
    {
     "data": {
      "text/plain": [
       "40"
      ]
     },
     "execution_count": 101,
     "metadata": {},
     "output_type": "execute_result"
    }
   ],
   "source": [
    "s[3]"
   ]
  },
  {
   "cell_type": "code",
   "execution_count": 102,
   "id": "c7057881",
   "metadata": {},
   "outputs": [
    {
     "data": {
      "text/plain": [
       "1    20\n",
       "5    60\n",
       "dtype: int64"
      ]
     },
     "execution_count": 102,
     "metadata": {},
     "output_type": "execute_result"
    }
   ],
   "source": [
    "s[[1, 5]]"
   ]
  },
  {
   "cell_type": "code",
   "execution_count": 103,
   "id": "18346fb0",
   "metadata": {},
   "outputs": [
    {
     "data": {
      "text/plain": [
       "1    20\n",
       "3    40\n",
       "dtype: int64"
      ]
     },
     "execution_count": 103,
     "metadata": {},
     "output_type": "execute_result"
    }
   ],
   "source": [
    "s[1:5:2]"
   ]
  },
  {
   "cell_type": "code",
   "execution_count": 104,
   "id": "1e59133a",
   "metadata": {},
   "outputs": [],
   "source": [
    "# I can set the index of my series!\n",
    "s = Series([10, 20, 30, 40, 50], index=[2,4,6,8,10])"
   ]
  },
  {
   "cell_type": "code",
   "execution_count": 105,
   "id": "544126d2",
   "metadata": {},
   "outputs": [
    {
     "data": {
      "text/plain": [
       "2     10\n",
       "4     20\n",
       "6     30\n",
       "8     40\n",
       "10    50\n",
       "dtype: int64"
      ]
     },
     "execution_count": 105,
     "metadata": {},
     "output_type": "execute_result"
    }
   ],
   "source": [
    "s"
   ]
  },
  {
   "cell_type": "code",
   "execution_count": 106,
   "id": "9b9d76ce",
   "metadata": {},
   "outputs": [],
   "source": [
    "# There are two ways to get data from our series:\n",
    "# - .loc[i], using the index that we set\n",
    "# - .iloc[i], using the numeric locations, starting with 0"
   ]
  },
  {
   "cell_type": "code",
   "execution_count": 107,
   "id": "407826e7",
   "metadata": {},
   "outputs": [
    {
     "data": {
      "text/plain": [
       "20"
      ]
     },
     "execution_count": 107,
     "metadata": {},
     "output_type": "execute_result"
    }
   ],
   "source": [
    "s.loc[4]"
   ]
  },
  {
   "cell_type": "code",
   "execution_count": 108,
   "id": "4b81b1b8",
   "metadata": {},
   "outputs": [
    {
     "data": {
      "text/plain": [
       "50"
      ]
     },
     "execution_count": 108,
     "metadata": {},
     "output_type": "execute_result"
    }
   ],
   "source": [
    "s.iloc[4]"
   ]
  },
  {
   "cell_type": "code",
   "execution_count": 109,
   "id": "2465c16d",
   "metadata": {},
   "outputs": [
    {
     "data": {
      "text/plain": [
       "a    10\n",
       "b    20\n",
       "c    30\n",
       "d    40\n",
       "e    50\n",
       "dtype: int64"
      ]
     },
     "execution_count": 109,
     "metadata": {},
     "output_type": "execute_result"
    }
   ],
   "source": [
    "# I can set the index to be strings\n",
    "s = Series([10, 20, 30, 40, 50], index=list('abcde'))\n",
    "s"
   ]
  },
  {
   "cell_type": "code",
   "execution_count": 110,
   "id": "75deaf7c",
   "metadata": {},
   "outputs": [
    {
     "data": {
      "text/plain": [
       "20"
      ]
     },
     "execution_count": 110,
     "metadata": {},
     "output_type": "execute_result"
    }
   ],
   "source": [
    "s.loc['b']"
   ]
  },
  {
   "cell_type": "code",
   "execution_count": 111,
   "id": "9e350f67",
   "metadata": {},
   "outputs": [
    {
     "data": {
      "text/plain": [
       "40"
      ]
     },
     "execution_count": 111,
     "metadata": {},
     "output_type": "execute_result"
    }
   ],
   "source": [
    "s.iloc[3]"
   ]
  },
  {
   "cell_type": "code",
   "execution_count": 112,
   "id": "1ca86cfc",
   "metadata": {},
   "outputs": [
    {
     "data": {
      "text/plain": [
       "b    20\n",
       "d    40\n",
       "dtype: int64"
      ]
     },
     "execution_count": 112,
     "metadata": {},
     "output_type": "execute_result"
    }
   ],
   "source": [
    "s.loc[['b', 'd']]"
   ]
  },
  {
   "cell_type": "code",
   "execution_count": 113,
   "id": "b324a43e",
   "metadata": {},
   "outputs": [
    {
     "data": {
      "text/plain": [
       "b    20\n",
       "c    30\n",
       "d    40\n",
       "dtype: int64"
      ]
     },
     "execution_count": 113,
     "metadata": {},
     "output_type": "execute_result"
    }
   ],
   "source": [
    "s.loc['b':'d']   # slice?"
   ]
  },
  {
   "cell_type": "code",
   "execution_count": 114,
   "id": "232a5aca",
   "metadata": {},
   "outputs": [
    {
     "data": {
      "text/plain": [
       "c    30\n",
       "d    40\n",
       "dtype: int64"
      ]
     },
     "execution_count": 114,
     "metadata": {},
     "output_type": "execute_result"
    }
   ],
   "source": [
    "s.iloc[[2,3]]"
   ]
  },
  {
   "cell_type": "code",
   "execution_count": 115,
   "id": "01bdc89c",
   "metadata": {},
   "outputs": [
    {
     "data": {
      "text/plain": [
       "c    30\n",
       "e    50\n",
       "dtype: int64"
      ]
     },
     "execution_count": 115,
     "metadata": {},
     "output_type": "execute_result"
    }
   ],
   "source": [
    "s.iloc[2:5:2]"
   ]
  },
  {
   "cell_type": "code",
   "execution_count": 117,
   "id": "56ba6ada",
   "metadata": {},
   "outputs": [
    {
     "data": {
      "text/plain": [
       "a    99\n",
       "b    20\n",
       "c    30\n",
       "d    40\n",
       "e    50\n",
       "0    99\n",
       "dtype: int64"
      ]
     },
     "execution_count": 117,
     "metadata": {},
     "output_type": "execute_result"
    }
   ],
   "source": [
    "s.loc['a'] = 99\n",
    "s"
   ]
  },
  {
   "cell_type": "code",
   "execution_count": 120,
   "id": "1af213a6",
   "metadata": {},
   "outputs": [
    {
     "data": {
      "text/plain": [
       "a    99\n",
       "b    88\n",
       "c    30\n",
       "d    88\n",
       "e    50\n",
       "0    99\n",
       "dtype: int64"
      ]
     },
     "execution_count": 120,
     "metadata": {},
     "output_type": "execute_result"
    }
   ],
   "source": [
    "s.loc['b':'e':2] = 88\n",
    "s"
   ]
  },
  {
   "cell_type": "code",
   "execution_count": 121,
   "id": "04b1d8fe",
   "metadata": {},
   "outputs": [
    {
     "data": {
      "text/plain": [
       "a    99\n",
       "b    88\n",
       "c    30\n",
       "d    88\n",
       "e    50\n",
       "f    99\n",
       "dtype: int64"
      ]
     },
     "execution_count": 121,
     "metadata": {},
     "output_type": "execute_result"
    }
   ],
   "source": [
    "s.index = list('abcdef')\n",
    "s"
   ]
  },
  {
   "cell_type": "code",
   "execution_count": 122,
   "id": "62f77418",
   "metadata": {},
   "outputs": [
    {
     "data": {
      "text/plain": [
       "0    10\n",
       "1    20\n",
       "2    30\n",
       "dtype: int64"
      ]
     },
     "execution_count": 122,
     "metadata": {},
     "output_type": "execute_result"
    }
   ],
   "source": [
    "s = Series([10, 20, 30])\n",
    "s"
   ]
  },
  {
   "cell_type": "code",
   "execution_count": 123,
   "id": "123fc7ea",
   "metadata": {},
   "outputs": [
    {
     "data": {
      "text/plain": [
       "0    10\n",
       "1    20\n",
       "2    30\n",
       "dtype: int64"
      ]
     },
     "execution_count": 123,
     "metadata": {},
     "output_type": "execute_result"
    }
   ],
   "source": [
    "s = Series(np.array([10, 20, 30]))\n",
    "s"
   ]
  },
  {
   "cell_type": "code",
   "execution_count": 124,
   "id": "d310097a",
   "metadata": {},
   "outputs": [
    {
     "data": {
      "text/plain": [
       "0    88\n",
       "1    88\n",
       "2    12\n",
       "3    58\n",
       "4    65\n",
       "5    39\n",
       "6    87\n",
       "7    46\n",
       "8    88\n",
       "9    81\n",
       "dtype: int64"
      ]
     },
     "execution_count": 124,
     "metadata": {},
     "output_type": "execute_result"
    }
   ],
   "source": [
    "s = Series(np.random.randint(0, 100, 10))\n",
    "s"
   ]
  },
  {
   "cell_type": "markdown",
   "id": "459576bd",
   "metadata": {},
   "source": [
    "# Exercise: Pandas\n",
    "\n",
    "1. Create a series that has 10 random integers from 0-100, "
   ]
  }
 ],
 "metadata": {
  "kernelspec": {
   "display_name": "Python 3 (ipykernel)",
   "language": "python",
   "name": "python3"
  },
  "language_info": {
   "codemirror_mode": {
    "name": "ipython",
    "version": 3
   },
   "file_extension": ".py",
   "mimetype": "text/x-python",
   "name": "python",
   "nbconvert_exporter": "python",
   "pygments_lexer": "ipython3",
   "version": "3.10.2"
  }
 },
 "nbformat": 4,
 "nbformat_minor": 5
}
