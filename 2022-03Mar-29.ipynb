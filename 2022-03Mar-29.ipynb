{
 "cells": [
  {
   "cell_type": "markdown",
   "id": "bfb7ac66",
   "metadata": {},
   "source": [
    "# Agenda\n",
    "\n",
    "1. 2D NumPy\n",
    "2. Pandas\n",
    "    - Series (1D)\n",
    "    - Data frame (2D)\n",
    "3. Reading from CSV"
   ]
  },
  {
   "cell_type": "code",
   "execution_count": 1,
   "id": "40306d12",
   "metadata": {},
   "outputs": [],
   "source": [
    "import numpy as np"
   ]
  },
  {
   "cell_type": "code",
   "execution_count": 5,
   "id": "9afb74e0",
   "metadata": {},
   "outputs": [
    {
     "data": {
      "text/plain": [
       "array([44, 47, 64, 67, 67,  9, 83, 21, 36, 87, 70, 88, 88, 12, 58, 65, 39,\n",
       "       87, 46, 88])"
      ]
     },
     "execution_count": 5,
     "metadata": {},
     "output_type": "execute_result"
    }
   ],
   "source": [
    "np.random.seed(0)\n",
    "a = np.random.randint(0, 100, 20)\n",
    "a"
   ]
  },
  {
   "cell_type": "code",
   "execution_count": 3,
   "id": "ce7d0084",
   "metadata": {},
   "outputs": [
    {
     "data": {
      "text/plain": [
       "dtype('int64')"
      ]
     },
     "execution_count": 3,
     "metadata": {},
     "output_type": "execute_result"
    }
   ],
   "source": [
    "a.dtype"
   ]
  },
  {
   "cell_type": "code",
   "execution_count": 7,
   "id": "5922b257",
   "metadata": {},
   "outputs": [
    {
     "data": {
      "text/plain": [
       "array([44, 10, 12, 47, 42, 68, 23, 38, 22, 55, 64, 76, 33, 88, 67, 51, 78,\n",
       "       26, 82, 34], dtype=int8)"
      ]
     },
     "execution_count": 7,
     "metadata": {},
     "output_type": "execute_result"
    }
   ],
   "source": [
    "np.random.seed(0)\n",
    "a = np.random.randint(0, 100, 20, dtype=np.int8)\n",
    "a"
   ]
  },
  {
   "cell_type": "code",
   "execution_count": null,
   "id": "a88f1655",
   "metadata": {},
   "outputs": [],
   "source": []
  }
 ],
 "metadata": {
  "kernelspec": {
   "display_name": "Python 3 (ipykernel)",
   "language": "python",
   "name": "python3"
  },
  "language_info": {
   "codemirror_mode": {
    "name": "ipython",
    "version": 3
   },
   "file_extension": ".py",
   "mimetype": "text/x-python",
   "name": "python",
   "nbconvert_exporter": "python",
   "pygments_lexer": "ipython3",
   "version": "3.10.2"
  }
 },
 "nbformat": 4,
 "nbformat_minor": 5
}
