{
 "cells": [
  {
   "cell_type": "markdown",
   "id": "568094d9",
   "metadata": {},
   "source": [
    "# Agenda\n",
    "\n",
    "1. Objects\n",
    "    1. Classes, instances\n",
    "    2. Attributes (ICPO)\n",
    "    3. Inheritance\n",
    "    4. `__del__`\n",
    "    5. Metaclasses\n",
    "2. Functions\n",
    "    1. Function annotations + Mypy\n",
    "    2. Generator functions"
   ]
  },
  {
   "cell_type": "code",
   "execution_count": 1,
   "id": "a69d6c6d",
   "metadata": {},
   "outputs": [],
   "source": [
    "class Person:\n",
    "    def __init__(self, name):   \n",
    "        self.name = name\n",
    "        \n",
    "p1 = Person('name1')        \n",
    "p2 = Person('name2')"
   ]
  },
  {
   "cell_type": "markdown",
   "id": "c7258eb7",
   "metadata": {},
   "source": [
    "# What happens when I create an object?\n",
    "\n",
    "- `p1 = Person('name1')`\n",
    "    - When we run the above, Python runs `__new__`\n",
    "    - `__new__` really creates the new object, which I call `o` \n",
    "    - `__new__` then calls `__init__` on the new object, and passes `*args` and `**kwargs`\n",
    "- The role of `__init__` is to add attributes to the new object\n",
    "    - `self` is the new instance\n",
    "    - We add attributes to `self`\n",
    "    - `__init__` doesn't return anything, because we only care about the attributes it sets\n",
    "- In the end, `__init__` returns the new object    \n",
    "    "
   ]
  },
  {
   "cell_type": "code",
   "execution_count": 2,
   "id": "2a93488d",
   "metadata": {},
   "outputs": [
    {
     "data": {
      "text/plain": [
       "{'name': 'name1'}"
      ]
     },
     "execution_count": 2,
     "metadata": {},
     "output_type": "execute_result"
    }
   ],
   "source": [
    "vars(p1)"
   ]
  },
  {
   "cell_type": "code",
   "execution_count": 3,
   "id": "b16beee6",
   "metadata": {},
   "outputs": [
    {
     "data": {
      "text/plain": [
       "{'name': 'name2'}"
      ]
     },
     "execution_count": 3,
     "metadata": {},
     "output_type": "execute_result"
    }
   ],
   "source": [
    "vars(p2)"
   ]
  },
  {
   "cell_type": "code",
   "execution_count": 5,
   "id": "23d05f73",
   "metadata": {},
   "outputs": [
    {
     "name": "stdout",
     "output_type": "stream",
     "text": [
      "name1\n",
      "new name\n"
     ]
    }
   ],
   "source": [
    "class Person:\n",
    "    def __init__(self, name):   \n",
    "        self.name = name\n",
    "        \n",
    "# no getters and setters in Python!\n",
    "\n",
    "    def get_name(self):  # getter\n",
    "        return self.name\n",
    "    \n",
    "    def set_name(self, new_name):  # setter\n",
    "        self.name = new_name\n",
    "        \n",
    "p1 = Person('name1')        \n",
    "print(p1.get_name())\n",
    "p1.set_name('new name')\n",
    "print(p1.get_name())"
   ]
  },
  {
   "cell_type": "code",
   "execution_count": 7,
   "id": "84617f62",
   "metadata": {},
   "outputs": [
    {
     "name": "stdout",
     "output_type": "stream",
     "text": [
      "name1\n",
      "new name\n"
     ]
    }
   ],
   "source": [
    "# standard way to do things in Python -- use the attributes directly\n",
    "\n",
    "class Person:\n",
    "    def __init__(self, name):   \n",
    "        self.name = name\n",
    "        \n",
    "p1 = Person('name1')        \n",
    "print(p1.name)\n",
    "p1.name = 'new name'\n",
    "print(p1.name)"
   ]
  },
  {
   "cell_type": "code",
   "execution_count": 8,
   "id": "d9f6f594",
   "metadata": {},
   "outputs": [
    {
     "name": "stdout",
     "output_type": "stream",
     "text": [
      "name1\n",
      "new name\n",
      "Hello, new name!\n"
     ]
    }
   ],
   "source": [
    "class Person:\n",
    "    def __init__(self, name):   \n",
    "        self.name = name\n",
    "        \n",
    "    def greet(self):\n",
    "        return f'Hello, {self.name}!'\n",
    "        \n",
    "p1 = Person('name1')        \n",
    "print(p1.name)\n",
    "p1.name = 'new name'\n",
    "print(p1.name)\n",
    "print(p1.greet())"
   ]
  },
  {
   "cell_type": "code",
   "execution_count": 9,
   "id": "4320721d",
   "metadata": {},
   "outputs": [
    {
     "data": {
      "text/plain": [
       "'Hello, new name!'"
      ]
     },
     "execution_count": 9,
     "metadata": {},
     "output_type": "execute_result"
    }
   ],
   "source": [
    "p1.greet()   # --> Person.greet(p1)"
   ]
  },
  {
   "cell_type": "code",
   "execution_count": 10,
   "id": "bf5eed56",
   "metadata": {},
   "outputs": [
    {
     "data": {
      "text/plain": [
       "'ABCD'"
      ]
     },
     "execution_count": 10,
     "metadata": {},
     "output_type": "execute_result"
    }
   ],
   "source": [
    "s = 'abcd'\n",
    "s.upper()"
   ]
  },
  {
   "cell_type": "code",
   "execution_count": 11,
   "id": "c5d4a001",
   "metadata": {},
   "outputs": [
    {
     "data": {
      "text/plain": [
       "'ABCD'"
      ]
     },
     "execution_count": 11,
     "metadata": {},
     "output_type": "execute_result"
    }
   ],
   "source": [
    "str.upper(s)"
   ]
  },
  {
   "cell_type": "markdown",
   "id": "d3e59580",
   "metadata": {},
   "source": [
    "# Exercise: Ice cream\n",
    "\n",
    "1. Define a class, `Scoop`, for one ice cream scoop. When you create an instance, you can pass one argument, which will set the attribute `flavor`.\n",
    "\n",
    "```python\n",
    "s1 = Scoop('chocolate')\n",
    "s2 = Scoop('vanilla')\n",
    "s3 = Scoop('coffee')\n",
    "\n",
    "print(s1.flavor) #chocolate\n",
    "\n",
    "for one_scoop in [s1, s2, s3]:\n",
    "    print(one_scoop.flavor)  # chocolate, vanilla, coffee\n",
    "```\n",
    "\n",
    "\n",
    "2. Define a class, `Bowl`.  We create a bowl without any arguments.\n",
    "3. We can add one or more scoops to a bowl with `add_scoops`.  Each scoop that we pass to `add_scoops` will be added to an attribute, `scoops`, on the instance of `Bowl`.\n",
    "4. Define a method, `flavors`, which returns a list of strings -- the flavors of the scoops in the bowl.\n",
    "\n",
    "```python\n",
    "b = Bowl()\n",
    "b.add_scoops(s1, s2)\n",
    "b.add_scoops(s3)\n",
    "print(len(b.scoops))  # 3\n",
    "print(b.flavors())   # ['chocolate', 'vanilla', 'coffee']\n",
    "```"
   ]
  },
  {
   "cell_type": "code",
   "execution_count": 12,
   "id": "05ff2cd8",
   "metadata": {},
   "outputs": [
    {
     "name": "stdout",
     "output_type": "stream",
     "text": [
      "chocolate\n",
      "chocolate\n",
      "vanilla\n",
      "coffee\n"
     ]
    }
   ],
   "source": [
    "class Scoop:\n",
    "    def __init__(self, flavor):\n",
    "        self.flavor = flavor\n",
    "        \n",
    "s1 = Scoop('chocolate')\n",
    "s2 = Scoop('vanilla')\n",
    "s3 = Scoop('coffee')\n",
    "\n",
    "print(s1.flavor) #chocolate\n",
    "\n",
    "for one_scoop in [s1, s2, s3]:\n",
    "    print(one_scoop.flavor)  # chocolate, vanilla, coffee\n",
    "        "
   ]
  },
  {
   "cell_type": "code",
   "execution_count": 15,
   "id": "fe290695",
   "metadata": {},
   "outputs": [
    {
     "name": "stdout",
     "output_type": "stream",
     "text": [
      "3\n",
      "['chocolate', 'vanilla', 'coffee']\n"
     ]
    }
   ],
   "source": [
    "class Bowl:\n",
    "    def __init__(self):\n",
    "        self.scoops = []\n",
    "\n",
    "    def add_scoops(self, *args):\n",
    "        self.scoops += args\n",
    "        \n",
    "    def flavors(self):\n",
    "        output = []\n",
    "        for one_scoop in self.scoops:\n",
    "            output.append(one_scoop.flavor)\n",
    "        return output\n",
    "        \n",
    "b = Bowl()\n",
    "b.add_scoops(s1, s2)\n",
    "b.add_scoops(s3)\n",
    "print(len(b.scoops)) \n",
    "print(b.flavors())"
   ]
  },
  {
   "cell_type": "code",
   "execution_count": 14,
   "id": "e275efe0",
   "metadata": {},
   "outputs": [
    {
     "data": {
      "text/plain": [
       "[<__main__.Scoop at 0x10c0c9780>,\n",
       " <__main__.Scoop at 0x10c0c81f0>,\n",
       " <__main__.Scoop at 0x10c0c8190>]"
      ]
     },
     "execution_count": 14,
     "metadata": {},
     "output_type": "execute_result"
    }
   ],
   "source": [
    "b.scoops"
   ]
  },
  {
   "cell_type": "code",
   "execution_count": 16,
   "id": "eb7c5746",
   "metadata": {},
   "outputs": [
    {
     "name": "stdout",
     "output_type": "stream",
     "text": [
      "3\n",
      "['chocolate', 'vanilla', 'coffee']\n"
     ]
    }
   ],
   "source": [
    "class Bowl:\n",
    "    def __init__(self):\n",
    "        self.scoops = []\n",
    "\n",
    "    def add_scoops(self, *args):\n",
    "        self.scoops += args\n",
    "        \n",
    "    def flavors(self):\n",
    "        # list comprehension!\n",
    "        return [one_scoop.flavor\n",
    "               for one_scoop in self.scoops]\n",
    "        \n",
    "b = Bowl()\n",
    "b.add_scoops(s1, s2)\n",
    "b.add_scoops(s3)\n",
    "print(len(b.scoops)) \n",
    "print(b.flavors())"
   ]
  },
  {
   "cell_type": "code",
   "execution_count": 19,
   "id": "74414cf0",
   "metadata": {},
   "outputs": [
    {
     "name": "stdout",
     "output_type": "stream",
     "text": [
      "Before, population=0\n",
      "After, population=2\n",
      "Hello, name1!\n",
      "Hello, name2!\n"
     ]
    }
   ],
   "source": [
    "# how can I keep track of the number of instances of Person?\n",
    "\n",
    "population = 0\n",
    "\n",
    "class Person:\n",
    "    def __init__(self, name):\n",
    "        global population    # don't make population a local variable!\n",
    "        self.name = name\n",
    "        population += 1   \n",
    "        \n",
    "    def greet(self):\n",
    "        return f'Hello, {self.name}!'\n",
    "    \n",
    "print(f'Before, {population=}')\n",
    "p1 = Person('name1')    \n",
    "p2 = Person('name2')\n",
    "print(f'After, {population=}')\n",
    "\n",
    "print(p1.greet())\n",
    "print(p2.greet())"
   ]
  },
  {
   "cell_type": "code",
   "execution_count": 20,
   "id": "b5498821",
   "metadata": {},
   "outputs": [],
   "source": [
    "# everything in Python is an object"
   ]
  },
  {
   "cell_type": "code",
   "execution_count": 21,
   "id": "098f163f",
   "metadata": {},
   "outputs": [
    {
     "data": {
      "text/plain": [
       "int"
      ]
     },
     "execution_count": 21,
     "metadata": {},
     "output_type": "execute_result"
    }
   ],
   "source": [
    "n = 100\n",
    "type(n)"
   ]
  },
  {
   "cell_type": "code",
   "execution_count": 22,
   "id": "32efbe40",
   "metadata": {},
   "outputs": [
    {
     "data": {
      "text/plain": [
       "str"
      ]
     },
     "execution_count": 22,
     "metadata": {},
     "output_type": "execute_result"
    }
   ],
   "source": [
    "s = 'abcd'\n",
    "type(s)"
   ]
  },
  {
   "cell_type": "code",
   "execution_count": 23,
   "id": "58678d77",
   "metadata": {},
   "outputs": [
    {
     "data": {
      "text/plain": [
       "dict"
      ]
     },
     "execution_count": 23,
     "metadata": {},
     "output_type": "execute_result"
    }
   ],
   "source": [
    "d = {'a':1, 'b':2}\n",
    "type(d)"
   ]
  },
  {
   "cell_type": "code",
   "execution_count": 24,
   "id": "12a7f08c",
   "metadata": {},
   "outputs": [],
   "source": [
    "# classes are objects, too!"
   ]
  },
  {
   "cell_type": "code",
   "execution_count": 25,
   "id": "7a477cac",
   "metadata": {},
   "outputs": [
    {
     "data": {
      "text/plain": [
       "type"
      ]
     },
     "execution_count": 25,
     "metadata": {},
     "output_type": "execute_result"
    }
   ],
   "source": [
    "type(int)"
   ]
  },
  {
   "cell_type": "code",
   "execution_count": 26,
   "id": "1029fca2",
   "metadata": {},
   "outputs": [
    {
     "data": {
      "text/plain": [
       "type"
      ]
     },
     "execution_count": 26,
     "metadata": {},
     "output_type": "execute_result"
    }
   ],
   "source": [
    "type(str)"
   ]
  },
  {
   "cell_type": "code",
   "execution_count": 27,
   "id": "bb049c59",
   "metadata": {},
   "outputs": [
    {
     "data": {
      "text/plain": [
       "type"
      ]
     },
     "execution_count": 27,
     "metadata": {},
     "output_type": "execute_result"
    }
   ],
   "source": [
    "type(dict)"
   ]
  },
  {
   "cell_type": "code",
   "execution_count": 28,
   "id": "dacb5992",
   "metadata": {},
   "outputs": [
    {
     "data": {
      "text/plain": [
       "type"
      ]
     },
     "execution_count": 28,
     "metadata": {},
     "output_type": "execute_result"
    }
   ],
   "source": [
    "type(Person)"
   ]
  },
  {
   "cell_type": "code",
   "execution_count": 29,
   "id": "da991a93",
   "metadata": {},
   "outputs": [
    {
     "data": {
      "text/plain": [
       "type"
      ]
     },
     "execution_count": 29,
     "metadata": {},
     "output_type": "execute_result"
    }
   ],
   "source": [
    "type(type)"
   ]
  },
  {
   "cell_type": "code",
   "execution_count": 30,
   "id": "b01a131f",
   "metadata": {},
   "outputs": [
    {
     "name": "stdout",
     "output_type": "stream",
     "text": [
      "Before, Person.population=0\n",
      "After, Person.population=2\n",
      "Hello, name1!\n",
      "Hello, name2!\n"
     ]
    }
   ],
   "source": [
    "class Person:\n",
    "    def __init__(self, name):\n",
    "        self.name = name\n",
    "        Person.population += 1   \n",
    "        \n",
    "    def greet(self):\n",
    "        return f'Hello, {self.name}!'\n",
    "    \n",
    "Person.population = 0   # I'm adding a new class attribute -- an attribute on the *class* Person\n",
    "\n",
    "print(f'Before, {Person.population=}')\n",
    "p1 = Person('name1')    \n",
    "p2 = Person('name2')\n",
    "print(f'After, {Person.population=}')\n",
    "\n",
    "print(p1.greet())\n",
    "print(p2.greet())"
   ]
  },
  {
   "cell_type": "code",
   "execution_count": 32,
   "id": "01046999",
   "metadata": {},
   "outputs": [
    {
     "name": "stdout",
     "output_type": "stream",
     "text": [
      "A\n",
      "B\n",
      "D\n",
      "E\n",
      "C\n",
      "C\n",
      "Apple\n",
      "Whoever\n"
     ]
    }
   ],
   "source": [
    "print('A')\n",
    "class Company:\n",
    "    print('B')\n",
    "    def __init__(self, name):     # Company.__init__\n",
    "        print('C')\n",
    "        self.name = name\n",
    "    print('D')\n",
    "print('E')\n",
    "        \n",
    "c1 = Company('Apple')        \n",
    "c2 = Company('Whoever')\n",
    "\n",
    "print(c1.name)\n",
    "print(c2.name)"
   ]
  },
  {
   "cell_type": "code",
   "execution_count": 33,
   "id": "3fdbbdac",
   "metadata": {},
   "outputs": [],
   "source": [
    "def whatever():\n",
    "    print('Hello')"
   ]
  },
  {
   "cell_type": "code",
   "execution_count": 34,
   "id": "0c202b61",
   "metadata": {},
   "outputs": [
    {
     "name": "stdout",
     "output_type": "stream",
     "text": [
      "Before, Person.population=0\n",
      "After, Person.population=2\n",
      "Hello, name1!\n",
      "Hello, name2!\n"
     ]
    }
   ],
   "source": [
    "class Person:\n",
    "    population = 0    # class attribute -- same as Person.population outside of the class\n",
    "    \n",
    "    def __init__(self, name):\n",
    "        self.name = name\n",
    "        Person.population += 1   \n",
    "        \n",
    "    def greet(self):\n",
    "        return f'Hello, {self.name}!'\n",
    "    \n",
    "\n",
    "print(f'Before, {Person.population=}')\n",
    "p1 = Person('name1')    \n",
    "p2 = Person('name2')\n",
    "print(f'After, {Person.population=}')\n",
    "\n",
    "print(p1.greet())   # --> Person.greet(p1)\n",
    "print(p2.greet())   # --> Person.greet(p2)"
   ]
  },
  {
   "cell_type": "code",
   "execution_count": 35,
   "id": "00a052ec",
   "metadata": {},
   "outputs": [
    {
     "name": "stdout",
     "output_type": "stream",
     "text": [
      "chocolate\n",
      "chocolate\n",
      "vanilla\n",
      "coffee\n",
      "3\n",
      "['chocolate', 'vanilla', 'coffee']\n"
     ]
    }
   ],
   "source": [
    "class Scoop:\n",
    "    def __init__(self, flavor):\n",
    "        self.flavor = flavor\n",
    "        \n",
    "s1 = Scoop('chocolate')\n",
    "s2 = Scoop('vanilla')\n",
    "s3 = Scoop('coffee')\n",
    "\n",
    "print(s1.flavor) #chocolate\n",
    "\n",
    "for one_scoop in [s1, s2, s3]:\n",
    "    print(one_scoop.flavor)  # chocolate, vanilla, coffee\n",
    "\n",
    "class Bowl:\n",
    "    def __init__(self):\n",
    "        self.scoops = []\n",
    "\n",
    "    def add_scoops(self, *args):\n",
    "        self.scoops += args\n",
    "        \n",
    "    def flavors(self):\n",
    "        # list comprehension!\n",
    "        return [one_scoop.flavor\n",
    "               for one_scoop in self.scoops]\n",
    "        \n",
    "b = Bowl()\n",
    "b.add_scoops(s1, s2)\n",
    "b.add_scoops(s3)\n",
    "print(len(b.scoops)) \n",
    "print(b.flavors())       "
   ]
  },
  {
   "cell_type": "markdown",
   "id": "f48b3aee",
   "metadata": {},
   "source": [
    "# Exercise: Limited-size bowl\n",
    "\n",
    "1. "
   ]
  }
 ],
 "metadata": {
  "kernelspec": {
   "display_name": "Python 3 (ipykernel)",
   "language": "python",
   "name": "python3"
  },
  "language_info": {
   "codemirror_mode": {
    "name": "ipython",
    "version": 3
   },
   "file_extension": ".py",
   "mimetype": "text/x-python",
   "name": "python",
   "nbconvert_exporter": "python",
   "pygments_lexer": "ipython3",
   "version": "3.10.2"
  }
 },
 "nbformat": 4,
 "nbformat_minor": 5
}
