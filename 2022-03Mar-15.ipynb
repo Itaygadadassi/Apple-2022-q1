{
 "cells": [
  {
   "cell_type": "markdown",
   "id": "bc3ebf94",
   "metadata": {},
   "source": [
    "# Agenda\n",
    "\n",
    "1. Objects\n",
    "    1. Classes, instances\n",
    "    2. Attributes (ICPO)\n",
    "    3. Inheritance\n",
    "    4. `__del__`\n",
    "    5. Metaclasses\n",
    "2. Functions\n",
    "    1. Function annotations + Mypy\n",
    "    2. Generator functions"
   ]
  },
  {
   "cell_type": "code",
   "execution_count": 1,
   "id": "cbc2fb9b",
   "metadata": {},
   "outputs": [],
   "source": [
    "class Person:\n",
    "    def __init__(self, name):   \n",
    "        self.name = name\n",
    "        \n",
    "p1 = Person('name1')        \n",
    "p2 = Person('name2')"
   ]
  },
  {
   "cell_type": "markdown",
   "id": "76a594f6",
   "metadata": {},
   "source": [
    "# What happens when I create an object?\n",
    "\n",
    "- `p1 = Person('name1')`\n",
    "    - When we run the above, Python runs `__new__`\n",
    "    - `__new__` really creates the new object, which I call `o` \n",
    "    - `__new__` then calls `__init__` on the new object, and passes `*args` and `**kwargs`\n",
    "- The role of `__init__` is to add attributes to the new object\n",
    "    - `self` is the new instance\n",
    "    - We add attributes to `self`\n",
    "    - `__init__` doesn't return anything, because we only care about the attributes it sets\n",
    "- In the end, `__init__` returns the new object    \n",
    "    "
   ]
  },
  {
   "cell_type": "code",
   "execution_count": 2,
   "id": "02a796dc",
   "metadata": {},
   "outputs": [
    {
     "data": {
      "text/plain": [
       "{'name': 'name1'}"
      ]
     },
     "execution_count": 2,
     "metadata": {},
     "output_type": "execute_result"
    }
   ],
   "source": [
    "vars(p1)"
   ]
  },
  {
   "cell_type": "code",
   "execution_count": 3,
   "id": "8ff6d7a6",
   "metadata": {},
   "outputs": [
    {
     "data": {
      "text/plain": [
       "{'name': 'name2'}"
      ]
     },
     "execution_count": 3,
     "metadata": {},
     "output_type": "execute_result"
    }
   ],
   "source": [
    "vars(p2)"
   ]
  },
  {
   "cell_type": "code",
   "execution_count": 5,
   "id": "42da3617",
   "metadata": {},
   "outputs": [
    {
     "name": "stdout",
     "output_type": "stream",
     "text": [
      "name1\n",
      "new name\n"
     ]
    }
   ],
   "source": [
    "class Person:\n",
    "    def __init__(self, name):   \n",
    "        self.name = name\n",
    "        \n",
    "# no getters and setters in Python!\n",
    "\n",
    "    def get_name(self):  # getter\n",
    "        return self.name\n",
    "    \n",
    "    def set_name(self, new_name):  # setter\n",
    "        self.name = new_name\n",
    "        \n",
    "p1 = Person('name1')        \n",
    "print(p1.get_name())\n",
    "p1.set_name('new name')\n",
    "print(p1.get_name())"
   ]
  },
  {
   "cell_type": "code",
   "execution_count": 7,
   "id": "230e4407",
   "metadata": {},
   "outputs": [
    {
     "name": "stdout",
     "output_type": "stream",
     "text": [
      "name1\n",
      "new name\n"
     ]
    }
   ],
   "source": [
    "# standard way to do things in Python -- use the attributes directly\n",
    "\n",
    "class Person:\n",
    "    def __init__(self, name):   \n",
    "        self.name = name\n",
    "        \n",
    "p1 = Person('name1')        \n",
    "print(p1.name)\n",
    "p1.name = 'new name'\n",
    "print(p1.name)"
   ]
  },
  {
   "cell_type": "code",
   "execution_count": 8,
   "id": "f29f20f9",
   "metadata": {},
   "outputs": [
    {
     "name": "stdout",
     "output_type": "stream",
     "text": [
      "name1\n",
      "new name\n",
      "Hello, new name!\n"
     ]
    }
   ],
   "source": [
    "class Person:\n",
    "    def __init__(self, name):   \n",
    "        self.name = name\n",
    "        \n",
    "    def greet(self):\n",
    "        return f'Hello, {self.name}!'\n",
    "        \n",
    "p1 = Person('name1')        \n",
    "print(p1.name)\n",
    "p1.name = 'new name'\n",
    "print(p1.name)\n",
    "print(p1.greet())"
   ]
  },
  {
   "cell_type": "code",
   "execution_count": 9,
   "id": "a22505e8",
   "metadata": {},
   "outputs": [
    {
     "data": {
      "text/plain": [
       "'Hello, new name!'"
      ]
     },
     "execution_count": 9,
     "metadata": {},
     "output_type": "execute_result"
    }
   ],
   "source": [
    "p1.greet()   # --> Person.greet(p1)"
   ]
  },
  {
   "cell_type": "code",
   "execution_count": 10,
   "id": "8e4eb354",
   "metadata": {},
   "outputs": [
    {
     "data": {
      "text/plain": [
       "'ABCD'"
      ]
     },
     "execution_count": 10,
     "metadata": {},
     "output_type": "execute_result"
    }
   ],
   "source": [
    "s = 'abcd'\n",
    "s.upper()"
   ]
  },
  {
   "cell_type": "code",
   "execution_count": 11,
   "id": "96778fb1",
   "metadata": {},
   "outputs": [
    {
     "data": {
      "text/plain": [
       "'ABCD'"
      ]
     },
     "execution_count": 11,
     "metadata": {},
     "output_type": "execute_result"
    }
   ],
   "source": [
    "str.upper(s)"
   ]
  },
  {
   "cell_type": "markdown",
   "id": "f23d8654",
   "metadata": {},
   "source": [
    "# Exercise: Ice cream\n",
    "\n",
    "1. Define a class, `Scoop`, for one ice cream scoop. When you create an instance, you can pass one argument, which will set the attribute `flavor`.\n",
    "\n",
    "```python\n",
    "s1 = Scoop('chocolate')\n",
    "s2 = Scoop('vanilla')\n",
    "s3 = Scoop('coffee')\n",
    "\n",
    "print(s1.flavor) #chocolate\n",
    "\n",
    "for one_scoop in [s1, s2, s3]:\n",
    "    print(one_scoop.flavor)  # chocolate, vanilla, coffee\n",
    "```\n",
    "\n",
    "\n",
    "2. Define a class, `Bowl`.  We create a bowl without any arguments.\n",
    "3. We can add one or more scoops to a bowl with `add_scoops`.  Each scoop that we pass to `add_scoops` will be added to an attribute, `scoops`, on the instance of `Bowl`.\n",
    "4. Define a method, `flavors`, which returns a list of strings -- the flavors of the scoops in the bowl.\n",
    "\n",
    "```python\n",
    "b = Bowl()\n",
    "b.add_scoops(s1, s2)\n",
    "b.add_scoops(s3)\n",
    "print(len(b.scoops))  # 3\n",
    "print(b.flavors())   # ['chocolate', 'vanilla', 'coffee']\n",
    "```"
   ]
  },
  {
   "cell_type": "code",
   "execution_count": 12,
   "id": "5af53f83",
   "metadata": {},
   "outputs": [
    {
     "name": "stdout",
     "output_type": "stream",
     "text": [
      "chocolate\n",
      "chocolate\n",
      "vanilla\n",
      "coffee\n"
     ]
    }
   ],
   "source": [
    "class Scoop:\n",
    "    def __init__(self, flavor):\n",
    "        self.flavor = flavor\n",
    "        \n",
    "s1 = Scoop('chocolate')\n",
    "s2 = Scoop('vanilla')\n",
    "s3 = Scoop('coffee')\n",
    "\n",
    "print(s1.flavor) #chocolate\n",
    "\n",
    "for one_scoop in [s1, s2, s3]:\n",
    "    print(one_scoop.flavor)  # chocolate, vanilla, coffee\n",
    "        "
   ]
  },
  {
   "cell_type": "code",
   "execution_count": 15,
   "id": "9707e306",
   "metadata": {},
   "outputs": [
    {
     "name": "stdout",
     "output_type": "stream",
     "text": [
      "3\n",
      "['chocolate', 'vanilla', 'coffee']\n"
     ]
    }
   ],
   "source": [
    "class Bowl:\n",
    "    def __init__(self):\n",
    "        self.scoops = []\n",
    "\n",
    "    def add_scoops(self, *args):\n",
    "        self.scoops += args\n",
    "        \n",
    "    def flavors(self):\n",
    "        output = []\n",
    "        for one_scoop in self.scoops:\n",
    "            output.append(one_scoop.flavor)\n",
    "        return output\n",
    "        \n",
    "b = Bowl()\n",
    "b.add_scoops(s1, s2)\n",
    "b.add_scoops(s3)\n",
    "print(len(b.scoops)) \n",
    "print(b.flavors())"
   ]
  },
  {
   "cell_type": "code",
   "execution_count": 14,
   "id": "749c37bc",
   "metadata": {},
   "outputs": [
    {
     "data": {
      "text/plain": [
       "[<__main__.Scoop at 0x10c0c9780>,\n",
       " <__main__.Scoop at 0x10c0c81f0>,\n",
       " <__main__.Scoop at 0x10c0c8190>]"
      ]
     },
     "execution_count": 14,
     "metadata": {},
     "output_type": "execute_result"
    }
   ],
   "source": [
    "b.scoops"
   ]
  },
  {
   "cell_type": "code",
   "execution_count": 16,
   "id": "906be603",
   "metadata": {},
   "outputs": [
    {
     "name": "stdout",
     "output_type": "stream",
     "text": [
      "3\n",
      "['chocolate', 'vanilla', 'coffee']\n"
     ]
    }
   ],
   "source": [
    "class Bowl:\n",
    "    def __init__(self):\n",
    "        self.scoops = []\n",
    "\n",
    "    def add_scoops(self, *args):\n",
    "        self.scoops += args\n",
    "        \n",
    "    def flavors(self):\n",
    "        # list comprehension!\n",
    "        return [one_scoop.flavor\n",
    "               for one_scoop in self.scoops]\n",
    "        \n",
    "b = Bowl()\n",
    "b.add_scoops(s1, s2)\n",
    "b.add_scoops(s3)\n",
    "print(len(b.scoops)) \n",
    "print(b.flavors())"
   ]
  },
  {
   "cell_type": "code",
   "execution_count": 19,
   "id": "1ca7ca0d",
   "metadata": {},
   "outputs": [
    {
     "name": "stdout",
     "output_type": "stream",
     "text": [
      "Before, population=0\n",
      "After, population=2\n",
      "Hello, name1!\n",
      "Hello, name2!\n"
     ]
    }
   ],
   "source": [
    "# how can I keep track of the number of instances of Person?\n",
    "\n",
    "population = 0\n",
    "\n",
    "class Person:\n",
    "    def __init__(self, name):\n",
    "        global population    # don't make population a local variable!\n",
    "        self.name = name\n",
    "        population += 1   \n",
    "        \n",
    "    def greet(self):\n",
    "        return f'Hello, {self.name}!'\n",
    "    \n",
    "print(f'Before, {population=}')\n",
    "p1 = Person('name1')    \n",
    "p2 = Person('name2')\n",
    "print(f'After, {population=}')\n",
    "\n",
    "print(p1.greet())\n",
    "print(p2.greet())"
   ]
  },
  {
   "cell_type": "code",
   "execution_count": 20,
   "id": "d959c9f5",
   "metadata": {},
   "outputs": [],
   "source": [
    "# everything in Python is an object"
   ]
  },
  {
   "cell_type": "code",
   "execution_count": 21,
   "id": "96643c42",
   "metadata": {},
   "outputs": [
    {
     "data": {
      "text/plain": [
       "int"
      ]
     },
     "execution_count": 21,
     "metadata": {},
     "output_type": "execute_result"
    }
   ],
   "source": [
    "n = 100\n",
    "type(n)"
   ]
  },
  {
   "cell_type": "code",
   "execution_count": 22,
   "id": "27afd68e",
   "metadata": {},
   "outputs": [
    {
     "data": {
      "text/plain": [
       "str"
      ]
     },
     "execution_count": 22,
     "metadata": {},
     "output_type": "execute_result"
    }
   ],
   "source": [
    "s = 'abcd'\n",
    "type(s)"
   ]
  },
  {
   "cell_type": "code",
   "execution_count": 23,
   "id": "a0d2fc03",
   "metadata": {},
   "outputs": [
    {
     "data": {
      "text/plain": [
       "dict"
      ]
     },
     "execution_count": 23,
     "metadata": {},
     "output_type": "execute_result"
    }
   ],
   "source": [
    "d = {'a':1, 'b':2}\n",
    "type(d)"
   ]
  },
  {
   "cell_type": "code",
   "execution_count": 24,
   "id": "9caa3b93",
   "metadata": {},
   "outputs": [],
   "source": [
    "# classes are objects, too!"
   ]
  },
  {
   "cell_type": "code",
   "execution_count": 25,
   "id": "d802bc7a",
   "metadata": {},
   "outputs": [
    {
     "data": {
      "text/plain": [
       "type"
      ]
     },
     "execution_count": 25,
     "metadata": {},
     "output_type": "execute_result"
    }
   ],
   "source": [
    "type(int)"
   ]
  },
  {
   "cell_type": "code",
   "execution_count": 26,
   "id": "d01a2861",
   "metadata": {},
   "outputs": [
    {
     "data": {
      "text/plain": [
       "type"
      ]
     },
     "execution_count": 26,
     "metadata": {},
     "output_type": "execute_result"
    }
   ],
   "source": [
    "type(str)"
   ]
  },
  {
   "cell_type": "code",
   "execution_count": 27,
   "id": "8d5079a3",
   "metadata": {},
   "outputs": [
    {
     "data": {
      "text/plain": [
       "type"
      ]
     },
     "execution_count": 27,
     "metadata": {},
     "output_type": "execute_result"
    }
   ],
   "source": [
    "type(dict)"
   ]
  },
  {
   "cell_type": "code",
   "execution_count": 28,
   "id": "39f075f8",
   "metadata": {},
   "outputs": [
    {
     "data": {
      "text/plain": [
       "type"
      ]
     },
     "execution_count": 28,
     "metadata": {},
     "output_type": "execute_result"
    }
   ],
   "source": [
    "type(Person)"
   ]
  },
  {
   "cell_type": "code",
   "execution_count": 29,
   "id": "7a476558",
   "metadata": {},
   "outputs": [
    {
     "data": {
      "text/plain": [
       "type"
      ]
     },
     "execution_count": 29,
     "metadata": {},
     "output_type": "execute_result"
    }
   ],
   "source": [
    "type(type)"
   ]
  },
  {
   "cell_type": "code",
   "execution_count": 30,
   "id": "cde4c4c0",
   "metadata": {},
   "outputs": [
    {
     "name": "stdout",
     "output_type": "stream",
     "text": [
      "Before, Person.population=0\n",
      "After, Person.population=2\n",
      "Hello, name1!\n",
      "Hello, name2!\n"
     ]
    }
   ],
   "source": [
    "class Person:\n",
    "    def __init__(self, name):\n",
    "        self.name = name\n",
    "        Person.population += 1   \n",
    "        \n",
    "    def greet(self):\n",
    "        return f'Hello, {self.name}!'\n",
    "    \n",
    "Person.population = 0   # I'm adding a new class attribute -- an attribute on the *class* Person\n",
    "\n",
    "print(f'Before, {Person.population=}')\n",
    "p1 = Person('name1')    \n",
    "p2 = Person('name2')\n",
    "print(f'After, {Person.population=}')\n",
    "\n",
    "print(p1.greet())\n",
    "print(p2.greet())"
   ]
  },
  {
   "cell_type": "code",
   "execution_count": 32,
   "id": "d2bd2bdf",
   "metadata": {},
   "outputs": [
    {
     "name": "stdout",
     "output_type": "stream",
     "text": [
      "A\n",
      "B\n",
      "D\n",
      "E\n",
      "C\n",
      "C\n",
      "Apple\n",
      "Whoever\n"
     ]
    }
   ],
   "source": [
    "print('A')\n",
    "class Company:\n",
    "    print('B')\n",
    "    def __init__(self, name):     # Company.__init__\n",
    "        print('C')\n",
    "        self.name = name\n",
    "    print('D')\n",
    "print('E')\n",
    "        \n",
    "c1 = Company('Apple')        \n",
    "c2 = Company('Whoever')\n",
    "\n",
    "print(c1.name)\n",
    "print(c2.name)"
   ]
  },
  {
   "cell_type": "code",
   "execution_count": 33,
   "id": "1a947d7b",
   "metadata": {},
   "outputs": [],
   "source": [
    "def whatever():\n",
    "    print('Hello')"
   ]
  },
  {
   "cell_type": "code",
   "execution_count": 34,
   "id": "c68fd1a1",
   "metadata": {},
   "outputs": [
    {
     "name": "stdout",
     "output_type": "stream",
     "text": [
      "Before, Person.population=0\n",
      "After, Person.population=2\n",
      "Hello, name1!\n",
      "Hello, name2!\n"
     ]
    }
   ],
   "source": [
    "class Person:\n",
    "    population = 0    # class attribute -- same as Person.population outside of the class\n",
    "    \n",
    "    def __init__(self, name):\n",
    "        self.name = name\n",
    "        Person.population += 1   \n",
    "        \n",
    "    def greet(self):\n",
    "        return f'Hello, {self.name}!'\n",
    "    \n",
    "\n",
    "print(f'Before, {Person.population=}')\n",
    "p1 = Person('name1')    \n",
    "p2 = Person('name2')\n",
    "print(f'After, {Person.population=}')\n",
    "\n",
    "print(p1.greet())   # --> Person.greet(p1)\n",
    "print(p2.greet())   # --> Person.greet(p2)"
   ]
  },
  {
   "cell_type": "code",
   "execution_count": 35,
   "id": "fb681deb",
   "metadata": {},
   "outputs": [
    {
     "name": "stdout",
     "output_type": "stream",
     "text": [
      "chocolate\n",
      "chocolate\n",
      "vanilla\n",
      "coffee\n",
      "3\n",
      "['chocolate', 'vanilla', 'coffee']\n"
     ]
    }
   ],
   "source": [
    "class Scoop:\n",
    "    def __init__(self, flavor):\n",
    "        self.flavor = flavor\n",
    "        \n",
    "s1 = Scoop('chocolate')\n",
    "s2 = Scoop('vanilla')\n",
    "s3 = Scoop('coffee')\n",
    "\n",
    "print(s1.flavor) #chocolate\n",
    "\n",
    "for one_scoop in [s1, s2, s3]:\n",
    "    print(one_scoop.flavor)  # chocolate, vanilla, coffee\n",
    "\n",
    "class Bowl:\n",
    "    def __init__(self):\n",
    "        self.scoops = []\n",
    "\n",
    "    def add_scoops(self, *args):\n",
    "        self.scoops += args\n",
    "        \n",
    "    def flavors(self):\n",
    "        # list comprehension!\n",
    "        return [one_scoop.flavor\n",
    "               for one_scoop in self.scoops]\n",
    "        \n",
    "b = Bowl()\n",
    "b.add_scoops(s1, s2)\n",
    "b.add_scoops(s3)\n",
    "print(len(b.scoops)) \n",
    "print(b.flavors())       "
   ]
  },
  {
   "cell_type": "markdown",
   "id": "364eb7ba",
   "metadata": {},
   "source": [
    "# Exercise: Limited-size bowl\n",
    "\n",
    "Change `Bowl`, such that each bowl can have up to three scoops.  We'll only check when we run `add_scoops`. If our `scoops` attribute has three, then we stop adding.  (No error -- just ignore the rest.)"
   ]
  },
  {
   "cell_type": "code",
   "execution_count": 40,
   "id": "d06363c6",
   "metadata": {},
   "outputs": [
    {
     "name": "stdout",
     "output_type": "stream",
     "text": [
      "3\n",
      "['chocolate', 'vanilla', 'coffee']\n"
     ]
    }
   ],
   "source": [
    "class Scoop:\n",
    "    def __init__(self, flavor):\n",
    "        self.flavor = flavor\n",
    "        \n",
    "class Bowl:\n",
    "    MAX_SCOOPS = 3\n",
    "\n",
    "    def __init__(self):\n",
    "        self.scoops = []\n",
    "\n",
    "    def add_scoops(self, *args):\n",
    "#         for one_scoop in args:\n",
    "#             if len(self.scoops) >= Bowl.MAX_SCOOPS:\n",
    "#                 break\n",
    "#             self.scoops.append(one_scoop)\n",
    "\n",
    "        # slice\n",
    "        self.scoops += args[:Bowl.MAX_SCOOPS - len(self.scoops)]\n",
    "        \n",
    "    def flavors(self):\n",
    "        # list comprehension!\n",
    "        return [one_scoop.flavor\n",
    "               for one_scoop in self.scoops]\n",
    "        \n",
    "s1 = Scoop('chocolate')\n",
    "s2 = Scoop('vanilla')\n",
    "s3 = Scoop('coffee')\n",
    "s4 = Scoop('flavor 4')\n",
    "s5 = Scoop('flavor 5')\n",
    "s6 = Scoop('flavor 6')\n",
    "\n",
    "b = Bowl()\n",
    "b.add_scoops(s1, s2)\n",
    "b.add_scoops(s3)\n",
    "b.add_scoops(s4, s5)\n",
    "b.add_scoops(s6)\n",
    "\n",
    "print(len(b.scoops)) \n",
    "print(b.flavors())       "
   ]
  },
  {
   "cell_type": "markdown",
   "id": "d5073cfb",
   "metadata": {},
   "source": [
    "# Next up:\n",
    "\n",
    "1. Attribute lookup (ICPO)\n",
    "2. Inheritance\n",
    "3. `__del__` (destructor)\n",
    "4. Metaclasses\n",
    "5. Functions (type hints)\n",
    "\n",
    "Resume at 11:30"
   ]
  },
  {
   "cell_type": "code",
   "execution_count": 42,
   "id": "dc8ce64a",
   "metadata": {},
   "outputs": [
    {
     "name": "stdout",
     "output_type": "stream",
     "text": [
      "Before, Person.population=0\n",
      "After, Person.population=2\n",
      "After, p1.population=2\n",
      "After, p2.population=2\n",
      "Hello, name1!\n",
      "Hello, name2!\n"
     ]
    }
   ],
   "source": [
    "class Person:\n",
    "    population = 0  \n",
    "    \n",
    "    def __init__(self, name):\n",
    "        self.name = name\n",
    "        Person.population += 1   \n",
    "        \n",
    "    def greet(self):\n",
    "        return f'Hello, {self.name}!'\n",
    "    \n",
    "\n",
    "print(f'Before, {Person.population=}')\n",
    "p1 = Person('name1')    \n",
    "p2 = Person('name2')\n",
    "print(f'After, {Person.population=}')\n",
    "print(f'After, {p1.population=}')\n",
    "print(f'After, {p2.population=}')\n",
    "\n",
    "print(p1.greet())  \n",
    "print(p2.greet())  "
   ]
  },
  {
   "cell_type": "markdown",
   "id": "46ce3570",
   "metadata": {},
   "source": [
    "# Lookup\n",
    "\n",
    "Variable lookup:\n",
    "- `L` Local\n",
    "- `E` Enclosing\n",
    "- `G` Global\n",
    "- `B` Builtin\n",
    "\n",
    "Attribute lookup\n",
    "- `I` Instance -- look on the named object\n",
    "- `C` Class -- look on the object's class\n",
    "- `P` Parent(s) -- look on the object's class's parent(s)\n",
    "- `O` `object` -- look on `object`, the ultimate top of the object hierarchy"
   ]
  },
  {
   "cell_type": "code",
   "execution_count": 43,
   "id": "63b524e8",
   "metadata": {},
   "outputs": [
    {
     "name": "stdout",
     "output_type": "stream",
     "text": [
      "Before, Person.population=0\n",
      "After, Person.population=0\n",
      "After, p1.population=1\n",
      "After, p2.population=1\n",
      "Hello, name1!\n",
      "Hello, name2!\n"
     ]
    }
   ],
   "source": [
    "class Person:\n",
    "    population = 0  \n",
    "    \n",
    "    def __init__(self, name):\n",
    "        self.name = name\n",
    "        # self.population += 1       # will this work?\n",
    "        self.population = self.population + 1\n",
    "        \n",
    "    def greet(self):\n",
    "        return f'Hello, {self.name}!'\n",
    "    \n",
    "\n",
    "print(f'Before, {Person.population=}')\n",
    "p1 = Person('name1')    \n",
    "p2 = Person('name2')\n",
    "print(f'After, {Person.population=}')\n",
    "print(f'After, {p1.population=}')\n",
    "print(f'After, {p2.population=}')\n",
    "\n",
    "print(p1.greet())  \n",
    "print(p2.greet())  "
   ]
  },
  {
   "cell_type": "code",
   "execution_count": 53,
   "id": "ebb9fe07",
   "metadata": {},
   "outputs": [
    {
     "name": "stdout",
     "output_type": "stream",
     "text": [
      "Hello, name1!\n",
      "Hello, name2!\n",
      "Hello, emp1!\n",
      "Hello, emp2!\n"
     ]
    }
   ],
   "source": [
    "class Person:\n",
    "    def __init__(self, name):\n",
    "        self.name = name\n",
    "        \n",
    "    def greet(self):\n",
    "        return f'Hello, {self.name}!'\n",
    "    \n",
    "p1 = Person('name1')    \n",
    "p2 = Person('name2')\n",
    "\n",
    "print(p1.greet())\n",
    "print(p2.greet())\n",
    "\n",
    "class Employee(Person):  # Employee inherits from Person\n",
    "    def __init__(self, name, id_number):\n",
    "        # Person.__init__(self, name)\n",
    "        super().__init__(name)\n",
    "        self.id_number = id_number\n",
    "        \n",
    "e1 = Employee('emp1', 1)   # e1 has __init__? NO.  Employee has __init__? YES\n",
    "e2 = Employee('emp2', 2)\n",
    "\n",
    "print(e1.greet())  # e1 has greet? NO.  Employee has greet? NO. Person has greet? YES\n",
    "print(e2.greet())"
   ]
  },
  {
   "cell_type": "code",
   "execution_count": 50,
   "id": "5a486c08",
   "metadata": {},
   "outputs": [
    {
     "data": {
      "text/plain": [
       "{'name': 'name1'}"
      ]
     },
     "execution_count": 50,
     "metadata": {},
     "output_type": "execute_result"
    }
   ],
   "source": [
    "vars(p1)"
   ]
  },
  {
   "cell_type": "code",
   "execution_count": 51,
   "id": "eed2154a",
   "metadata": {},
   "outputs": [
    {
     "data": {
      "text/plain": [
       "{'id_number': 1}"
      ]
     },
     "execution_count": 51,
     "metadata": {},
     "output_type": "execute_result"
    }
   ],
   "source": [
    "vars(e1)"
   ]
  },
  {
   "cell_type": "markdown",
   "id": "e4944183",
   "metadata": {},
   "source": [
    "# Exercise: Big Bowl\n",
    "\n",
    "Define a new class, `BigBowl`, that's the same as `Bowl`, but can contain up to 5 scoops, rather than 3.  You can change `Bowl` if you need, but keep it to a minimum -- and also keep `BigBowl`  to the minimum."
   ]
  },
  {
   "cell_type": "code",
   "execution_count": 60,
   "id": "33c0373b",
   "metadata": {},
   "outputs": [
    {
     "name": "stdout",
     "output_type": "stream",
     "text": [
      "3\n",
      "['chocolate', 'vanilla', 'coffee']\n",
      "5\n",
      "['chocolate', 'vanilla', 'coffee', 'flavor 4', 'flavor 5']\n"
     ]
    }
   ],
   "source": [
    "class Scoop:\n",
    "    def __init__(self, flavor):\n",
    "        self.flavor = flavor\n",
    "        \n",
    "class Bowl:\n",
    "    MAX_SCOOPS = 3\n",
    "\n",
    "    def __init__(self):\n",
    "        self.scoops = []\n",
    "\n",
    "    def add_scoops(self, *args):\n",
    "        self.scoops += args[:self.MAX_SCOOPS - len(self.scoops)]\n",
    "        \n",
    "    def flavors(self):\n",
    "        return [one_scoop.flavor\n",
    "               for one_scoop in self.scoops]\n",
    "        \n",
    "class BigBowl(Bowl):\n",
    "    MAX_SCOOPS = 5\n",
    "        \n",
    "s1 = Scoop('chocolate')\n",
    "s2 = Scoop('vanilla')\n",
    "s3 = Scoop('coffee')\n",
    "s4 = Scoop('flavor 4')\n",
    "s5 = Scoop('flavor 5')\n",
    "s6 = Scoop('flavor 6')\n",
    "\n",
    "# bowl\n",
    "b = Bowl()\n",
    "b.add_scoops(s1, s2)\n",
    "b.add_scoops(s3)\n",
    "b.add_scoops(s4, s5)\n",
    "b.add_scoops(s6)\n",
    "\n",
    "print(len(b.scoops)) \n",
    "print(b.flavors())       \n",
    "\n",
    "\n",
    "# Big Bowl\n",
    "bb = BigBowl()\n",
    "bb.add_scoops(s1, s2)\n",
    "bb.add_scoops(s3)\n",
    "bb.add_scoops(s4, s5)\n",
    "bb.add_scoops(s6)\n",
    "\n",
    "print(len(bb.scoops)) \n",
    "print(bb.flavors())       "
   ]
  },
  {
   "cell_type": "code",
   "execution_count": 61,
   "id": "c3f1c9c4",
   "metadata": {},
   "outputs": [
    {
     "name": "stdout",
     "output_type": "stream",
     "text": [
      "<__main__.Scoop object at 0x10c0cacb0>\n"
     ]
    }
   ],
   "source": [
    "print(str(s1))  # s1.__str__() -> Scoop.__str__() -> object.__str__()"
   ]
  },
  {
   "cell_type": "code",
   "execution_count": 62,
   "id": "7064b2db",
   "metadata": {},
   "outputs": [
    {
     "name": "stdout",
     "output_type": "stream",
     "text": [
      "<__main__.Bowl object at 0x10c0c9f60>\n"
     ]
    }
   ],
   "source": [
    "print(str(b))"
   ]
  },
  {
   "cell_type": "code",
   "execution_count": 65,
   "id": "2a413daa",
   "metadata": {},
   "outputs": [
    {
     "name": "stdout",
     "output_type": "stream",
     "text": [
      "3\n",
      "['chocolate', 'vanilla', 'coffee']\n",
      "5\n",
      "['chocolate', 'vanilla', 'coffee', 'flavor 4', 'flavor 5']\n"
     ]
    }
   ],
   "source": [
    "class Scoop:\n",
    "    def __init__(self, flavor):\n",
    "        self.flavor = flavor\n",
    "        \n",
    "    def __str__(self):\n",
    "        return f'Scoop of {self.flavor}'\n",
    "        \n",
    "class Bowl:\n",
    "    MAX_SCOOPS = 3\n",
    "\n",
    "    def __init__(self):\n",
    "        self.scoops = []\n",
    "\n",
    "    def add_scoops(self, *args):\n",
    "        self.scoops += args[:self.MAX_SCOOPS - len(self.scoops)]\n",
    "        \n",
    "    def flavors(self):\n",
    "        return [one_scoop.flavor\n",
    "               for one_scoop in self.scoops]\n",
    "    \n",
    "    def __str__(self):\n",
    "        return f'Bowl with scoops: {self.flavors()}'\n",
    "        \n",
    "class BigBowl(Bowl):\n",
    "    MAX_SCOOPS = 5\n",
    "        \n",
    "s1 = Scoop('chocolate')\n",
    "s2 = Scoop('vanilla')\n",
    "s3 = Scoop('coffee')\n",
    "s4 = Scoop('flavor 4')\n",
    "s5 = Scoop('flavor 5')\n",
    "s6 = Scoop('flavor 6')\n",
    "\n",
    "# bowl\n",
    "b = Bowl()\n",
    "b.add_scoops(s1, s2)\n",
    "b.add_scoops(s3)\n",
    "b.add_scoops(s4, s5)\n",
    "b.add_scoops(s6)\n",
    "\n",
    "print(len(b.scoops)) \n",
    "print(b.flavors())       \n",
    "\n",
    "\n",
    "# Big Bowl\n",
    "bb = BigBowl()\n",
    "bb.add_scoops(s1, s2)\n",
    "bb.add_scoops(s3)\n",
    "bb.add_scoops(s4, s5)\n",
    "bb.add_scoops(s6)\n",
    "\n",
    "print(len(bb.scoops)) \n",
    "print(bb.flavors())       "
   ]
  },
  {
   "cell_type": "code",
   "execution_count": 64,
   "id": "0babc9ad",
   "metadata": {},
   "outputs": [
    {
     "name": "stdout",
     "output_type": "stream",
     "text": [
      "Scoop of chocolate\n"
     ]
    }
   ],
   "source": [
    "print(s1)"
   ]
  },
  {
   "cell_type": "code",
   "execution_count": 66,
   "id": "d0fecb20",
   "metadata": {},
   "outputs": [
    {
     "name": "stdout",
     "output_type": "stream",
     "text": [
      "Bowl with scoops: ['chocolate', 'vanilla', 'coffee']\n"
     ]
    }
   ],
   "source": [
    "print(b)"
   ]
  },
  {
   "cell_type": "markdown",
   "id": "c471bfbf",
   "metadata": {},
   "source": [
    "# `__del__` -- destructor (sort of)\n",
    "\n",
    "The `__del__` method runs when an object is released via garbage collection."
   ]
  },
  {
   "cell_type": "code",
   "execution_count": 72,
   "id": "5d844a5a",
   "metadata": {},
   "outputs": [
    {
     "name": "stdout",
     "output_type": "stream",
     "text": [
      "I am dead! (name1)\n"
     ]
    }
   ],
   "source": [
    "class Person:\n",
    "    def __init__(self, name):\n",
    "        self.name = name\n",
    "        \n",
    "    def __del__(self):\n",
    "        print(f'I am dead! ({self.name})')\n",
    "        \n",
    "p1 = Person('name1')        \n",
    "del(p1)    # del deletes the variable"
   ]
  },
  {
   "cell_type": "code",
   "execution_count": 81,
   "id": "14057567",
   "metadata": {},
   "outputs": [
    {
     "name": "stdout",
     "output_type": "stream",
     "text": [
      "args=('Person', (), {'__module__': '__main__', '__qualname__': 'Person', '__init__': <function Person.__init__ at 0x10c4decb0>, '__del__': <function Person.__del__ at 0x10c4de170>})\n"
     ]
    }
   ],
   "source": [
    "# Metaclass example\n",
    "\n",
    "class MyType(type):\n",
    "    def __init__(self, *args):\n",
    "        print(f'{args=}')\n",
    "        self.hello = 'world'\n",
    "\n",
    "class Person(metaclass=MyType):   # don't run type.__init__ -- instead, run MyType.__init__\n",
    "    def __init__(self, name):\n",
    "        self.name = name\n",
    "        \n",
    "    def __del__(self):\n",
    "        print(f'I am dead! ({self.name})')\n",
    "        "
   ]
  },
  {
   "cell_type": "code",
   "execution_count": 82,
   "id": "991bdf28",
   "metadata": {},
   "outputs": [
    {
     "name": "stdout",
     "output_type": "stream",
     "text": [
      "I am dead! (name1)\n"
     ]
    },
    {
     "data": {
      "text/plain": [
       "{'name': 'name1'}"
      ]
     },
     "execution_count": 82,
     "metadata": {},
     "output_type": "execute_result"
    }
   ],
   "source": [
    "p1 = Person('name1')\n",
    "vars(p1)"
   ]
  },
  {
   "cell_type": "code",
   "execution_count": 83,
   "id": "aeacd1da",
   "metadata": {},
   "outputs": [
    {
     "data": {
      "text/plain": [
       "'world'"
      ]
     },
     "execution_count": 83,
     "metadata": {},
     "output_type": "execute_result"
    }
   ],
   "source": [
    "Person.hello"
   ]
  },
  {
   "cell_type": "markdown",
   "id": "94bada34",
   "metadata": {},
   "source": [
    "Instead of a metaclass, you can use a decorator. My talk from PyCon 2019 on the subject:\n",
    "\n",
    "https://www.youtube.com/watch?v=MjHpMCIvwsY"
   ]
  },
  {
   "cell_type": "markdown",
   "id": "f33c7b7f",
   "metadata": {},
   "source": [
    "# Type hints / type annotations\n",
    "\n"
   ]
  },
  {
   "cell_type": "code",
   "execution_count": 84,
   "id": "72de360a",
   "metadata": {},
   "outputs": [],
   "source": [
    "def hello(name):\n",
    "    return f'Hello, {name}!'"
   ]
  },
  {
   "cell_type": "code",
   "execution_count": 85,
   "id": "3bfe80be",
   "metadata": {},
   "outputs": [
    {
     "data": {
      "text/plain": [
       "'Hello, world!'"
      ]
     },
     "execution_count": 85,
     "metadata": {},
     "output_type": "execute_result"
    }
   ],
   "source": [
    "hello('world')"
   ]
  },
  {
   "cell_type": "code",
   "execution_count": 86,
   "id": "f86de12a",
   "metadata": {},
   "outputs": [
    {
     "data": {
      "text/plain": [
       "'Hello, [10, 20, 30]!'"
      ]
     },
     "execution_count": 86,
     "metadata": {},
     "output_type": "execute_result"
    }
   ],
   "source": [
    "hello([10, 20, 30])"
   ]
  },
  {
   "cell_type": "code",
   "execution_count": 87,
   "id": "b332020e",
   "metadata": {},
   "outputs": [
    {
     "data": {
      "text/plain": [
       "'Hello, 5!'"
      ]
     },
     "execution_count": 87,
     "metadata": {},
     "output_type": "execute_result"
    }
   ],
   "source": [
    "hello(5)"
   ]
  },
  {
   "cell_type": "code",
   "execution_count": 88,
   "id": "e8223c85",
   "metadata": {},
   "outputs": [
    {
     "data": {
      "text/plain": [
       "'Hello, <function hello at 0x10c4de050>!'"
      ]
     },
     "execution_count": 88,
     "metadata": {},
     "output_type": "execute_result"
    }
   ],
   "source": [
    "hello(hello)"
   ]
  },
  {
   "cell_type": "code",
   "execution_count": 89,
   "id": "62a35835",
   "metadata": {},
   "outputs": [
    {
     "ename": "TypeError",
     "evalue": "unsupported operand type(s) for +: 'int' and 'str'",
     "output_type": "error",
     "traceback": [
      "\u001b[0;31m---------------------------------------------------------------------------\u001b[0m",
      "\u001b[0;31mTypeError\u001b[0m                                 Traceback (most recent call last)",
      "\u001b[0;32m/var/folders/rr/0mnyyv811fs5vyp22gf4fxk00000gn/T/ipykernel_6326/1489244073.py\u001b[0m in \u001b[0;36m<module>\u001b[0;34m\u001b[0m\n\u001b[1;32m      2\u001b[0m \u001b[0my\u001b[0m \u001b[0;34m=\u001b[0m \u001b[0;34m'20'\u001b[0m\u001b[0;34m\u001b[0m\u001b[0;34m\u001b[0m\u001b[0m\n\u001b[1;32m      3\u001b[0m \u001b[0;34m\u001b[0m\u001b[0m\n\u001b[0;32m----> 4\u001b[0;31m \u001b[0mx\u001b[0m \u001b[0;34m+\u001b[0m \u001b[0my\u001b[0m\u001b[0;34m\u001b[0m\u001b[0;34m\u001b[0m\u001b[0m\n\u001b[0m",
      "\u001b[0;31mTypeError\u001b[0m: unsupported operand type(s) for +: 'int' and 'str'"
     ]
    }
   ],
   "source": [
    "x = 10\n",
    "y = '20'\n",
    "\n",
    "x + y"
   ]
  },
  {
   "cell_type": "code",
   "execution_count": 90,
   "id": "4c3b9acb",
   "metadata": {},
   "outputs": [],
   "source": [
    "def hello(name):\n",
    "    if isinstance(name, str):\n",
    "        return f'Hello, {name}!'\n",
    "    \n",
    "    raise TypeError('Bad type: I wanted a string!')"
   ]
  },
  {
   "cell_type": "code",
   "execution_count": 91,
   "id": "8dcb19c1",
   "metadata": {},
   "outputs": [
    {
     "data": {
      "text/plain": [
       "'Hello, world!'"
      ]
     },
     "execution_count": 91,
     "metadata": {},
     "output_type": "execute_result"
    }
   ],
   "source": [
    "hello('world')"
   ]
  },
  {
   "cell_type": "code",
   "execution_count": 92,
   "id": "5402e556",
   "metadata": {},
   "outputs": [
    {
     "ename": "TypeError",
     "evalue": "Bad type: I wanted a string!",
     "output_type": "error",
     "traceback": [
      "\u001b[0;31m---------------------------------------------------------------------------\u001b[0m",
      "\u001b[0;31mTypeError\u001b[0m                                 Traceback (most recent call last)",
      "\u001b[0;32m/var/folders/rr/0mnyyv811fs5vyp22gf4fxk00000gn/T/ipykernel_6326/3544338049.py\u001b[0m in \u001b[0;36m<module>\u001b[0;34m\u001b[0m\n\u001b[0;32m----> 1\u001b[0;31m \u001b[0mhello\u001b[0m\u001b[0;34m(\u001b[0m\u001b[0;36m5\u001b[0m\u001b[0;34m)\u001b[0m\u001b[0;34m\u001b[0m\u001b[0;34m\u001b[0m\u001b[0m\n\u001b[0m",
      "\u001b[0;32m/var/folders/rr/0mnyyv811fs5vyp22gf4fxk00000gn/T/ipykernel_6326/2198381537.py\u001b[0m in \u001b[0;36mhello\u001b[0;34m(name)\u001b[0m\n\u001b[1;32m      3\u001b[0m         \u001b[0;32mreturn\u001b[0m \u001b[0;34mf'Hello, {name}!'\u001b[0m\u001b[0;34m\u001b[0m\u001b[0;34m\u001b[0m\u001b[0m\n\u001b[1;32m      4\u001b[0m \u001b[0;34m\u001b[0m\u001b[0m\n\u001b[0;32m----> 5\u001b[0;31m     \u001b[0;32mraise\u001b[0m \u001b[0mTypeError\u001b[0m\u001b[0;34m(\u001b[0m\u001b[0;34m'Bad type: I wanted a string!'\u001b[0m\u001b[0;34m)\u001b[0m\u001b[0;34m\u001b[0m\u001b[0;34m\u001b[0m\u001b[0m\n\u001b[0m",
      "\u001b[0;31mTypeError\u001b[0m: Bad type: I wanted a string!"
     ]
    }
   ],
   "source": [
    "hello(5)"
   ]
  },
  {
   "cell_type": "code",
   "execution_count": 98,
   "id": "b38fb1d2",
   "metadata": {},
   "outputs": [],
   "source": [
    "def hello(name:str) -> str:\n",
    "    return f'Hello, {name}!'"
   ]
  },
  {
   "cell_type": "code",
   "execution_count": 99,
   "id": "3c73698a",
   "metadata": {},
   "outputs": [
    {
     "name": "stdout",
     "output_type": "stream",
     "text": [
      "Hello, world!\n"
     ]
    }
   ],
   "source": [
    "print(hello('world'))"
   ]
  },
  {
   "cell_type": "code",
   "execution_count": 100,
   "id": "3d2fba4a",
   "metadata": {},
   "outputs": [
    {
     "name": "stdout",
     "output_type": "stream",
     "text": [
      "Hello, 5!\n"
     ]
    }
   ],
   "source": [
    "print(hello(5))"
   ]
  },
  {
   "cell_type": "code",
   "execution_count": 101,
   "id": "d42bd6ac",
   "metadata": {},
   "outputs": [
    {
     "name": "stdout",
     "output_type": "stream",
     "text": [
      "Hello, [10, 20, 30]!\n"
     ]
    }
   ],
   "source": [
    "print(hello([10, 20, 30]))"
   ]
  },
  {
   "cell_type": "code",
   "execution_count": 102,
   "id": "19f82335",
   "metadata": {},
   "outputs": [
    {
     "data": {
      "text/plain": [
       "{'name': str, 'return': str}"
      ]
     },
     "execution_count": 102,
     "metadata": {},
     "output_type": "execute_result"
    }
   ],
   "source": [
    "hello.__annotations__"
   ]
  },
  {
   "cell_type": "markdown",
   "id": "eda2714d",
   "metadata": {},
   "source": [
    "# MyPy \n",
    "\n",
    "http://mypy-lang.org/"
   ]
  },
  {
   "cell_type": "markdown",
   "id": "bb2572c4",
   "metadata": {},
   "source": [
    "# Next time:\n",
    "\n",
    "- Generators (generator functions)\n",
    "- Concurrency\n",
    "    - Threads\n",
    "    - Processes\n",
    "    - `asyncio`\n",
    "- Profiling    "
   ]
  },
  {
   "cell_type": "code",
   "execution_count": 103,
   "id": "a9ba567b",
   "metadata": {},
   "outputs": [
    {
     "data": {
      "text/plain": [
       "'3.10.2 (main, Feb  2 2022, 08:42:42) [Clang 13.0.0 (clang-1300.0.29.3)]'"
      ]
     },
     "execution_count": 103,
     "metadata": {},
     "output_type": "execute_result"
    }
   ],
   "source": [
    "# walrus (:= ) started in 3.8\n",
    "\n",
    "import sys\n",
    "sys.version"
   ]
  },
  {
   "cell_type": "code",
   "execution_count": 104,
   "id": "4a2fdbc5",
   "metadata": {},
   "outputs": [],
   "source": [
    "# jupyter notebook \n",
    "# python3 -m jupyter notebook\n",
    "\n",
    "# E-mail: reuven@lerner.co.il"
   ]
  },
  {
   "cell_type": "code",
   "execution_count": null,
   "id": "16dd2104",
   "metadata": {},
   "outputs": [],
   "source": []
  }
 ],
 "metadata": {
  "kernelspec": {
   "display_name": "Python 3 (ipykernel)",
   "language": "python",
   "name": "python3"
  },
  "language_info": {
   "codemirror_mode": {
    "name": "ipython",
    "version": 3
   },
   "file_extension": ".py",
   "mimetype": "text/x-python",
   "name": "python",
   "nbconvert_exporter": "python",
   "pygments_lexer": "ipython3",
   "version": "3.10.2"
  }
 },
 "nbformat": 4,
 "nbformat_minor": 5
}
