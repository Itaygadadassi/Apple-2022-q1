{
 "cells": [
  {
   "cell_type": "markdown",
   "id": "3f05c4f5",
   "metadata": {},
   "source": [
    "# Agenda\n",
    "\n",
    "1. Objects\n",
    "    1. Classes, instances\n",
    "    2. Attributes (ICPO)\n",
    "    3. Inheritance\n",
    "    4. `__del__`\n",
    "    5. Metaclasses\n",
    "2. Functions\n",
    "    1. Function annotations + Mypy\n",
    "    2. Generator functions"
   ]
  },
  {
   "cell_type": "code",
   "execution_count": 1,
   "id": "91644ea0",
   "metadata": {},
   "outputs": [],
   "source": [
    "class Person:\n",
    "    def __init__(self, name):   \n",
    "        self.name = name\n",
    "        \n",
    "p1 = Person('name1')        \n",
    "p2 = Person('name2')"
   ]
  },
  {
   "cell_type": "markdown",
   "id": "3d3ff839",
   "metadata": {},
   "source": [
    "# What happens when I create an object?\n",
    "\n",
    "- `p1 = Person('name1')`\n",
    "    - When we run the above, Python runs `__new__`\n",
    "    - `__new__` really creates the new object, which I call `o` \n",
    "    - `__new__` then calls `__init__` on the new object, and passes `*args` and `**kwargs`\n",
    "- The role of `__init__` is to add attributes to the new object\n",
    "    - `self` is the new instance\n",
    "    - We add attributes to `self`\n",
    "    - `__init__` doesn't return anything, because we only care about the attributes it sets\n",
    "- In the end, `__init__` returns the new object    \n",
    "    "
   ]
  },
  {
   "cell_type": "code",
   "execution_count": 2,
   "id": "a0ad8265",
   "metadata": {},
   "outputs": [
    {
     "data": {
      "text/plain": [
       "{'name': 'name1'}"
      ]
     },
     "execution_count": 2,
     "metadata": {},
     "output_type": "execute_result"
    }
   ],
   "source": [
    "vars(p1)"
   ]
  },
  {
   "cell_type": "code",
   "execution_count": 3,
   "id": "fd5dbaba",
   "metadata": {},
   "outputs": [
    {
     "data": {
      "text/plain": [
       "{'name': 'name2'}"
      ]
     },
     "execution_count": 3,
     "metadata": {},
     "output_type": "execute_result"
    }
   ],
   "source": [
    "vars(p2)"
   ]
  },
  {
   "cell_type": "code",
   "execution_count": 5,
   "id": "f190a657",
   "metadata": {},
   "outputs": [
    {
     "name": "stdout",
     "output_type": "stream",
     "text": [
      "name1\n",
      "new name\n"
     ]
    }
   ],
   "source": [
    "class Person:\n",
    "    def __init__(self, name):   \n",
    "        self.name = name\n",
    "        \n",
    "# no getters and setters in Python!\n",
    "\n",
    "    def get_name(self):  # getter\n",
    "        return self.name\n",
    "    \n",
    "    def set_name(self, new_name):  # setter\n",
    "        self.name = new_name\n",
    "        \n",
    "p1 = Person('name1')        \n",
    "print(p1.get_name())\n",
    "p1.set_name('new name')\n",
    "print(p1.get_name())"
   ]
  },
  {
   "cell_type": "code",
   "execution_count": 7,
   "id": "1dd33d8b",
   "metadata": {},
   "outputs": [
    {
     "name": "stdout",
     "output_type": "stream",
     "text": [
      "name1\n",
      "new name\n"
     ]
    }
   ],
   "source": [
    "# standard way to do things in Python -- use the attributes directly\n",
    "\n",
    "class Person:\n",
    "    def __init__(self, name):   \n",
    "        self.name = name\n",
    "        \n",
    "p1 = Person('name1')        \n",
    "print(p1.name)\n",
    "p1.name = 'new name'\n",
    "print(p1.name)"
   ]
  },
  {
   "cell_type": "code",
   "execution_count": 8,
   "id": "009d26ac",
   "metadata": {},
   "outputs": [
    {
     "name": "stdout",
     "output_type": "stream",
     "text": [
      "name1\n",
      "new name\n",
      "Hello, new name!\n"
     ]
    }
   ],
   "source": [
    "class Person:\n",
    "    def __init__(self, name):   \n",
    "        self.name = name\n",
    "        \n",
    "    def greet(self):\n",
    "        return f'Hello, {self.name}!'\n",
    "        \n",
    "p1 = Person('name1')        \n",
    "print(p1.name)\n",
    "p1.name = 'new name'\n",
    "print(p1.name)\n",
    "print(p1.greet())"
   ]
  },
  {
   "cell_type": "code",
   "execution_count": 9,
   "id": "6717eb12",
   "metadata": {},
   "outputs": [
    {
     "data": {
      "text/plain": [
       "'Hello, new name!'"
      ]
     },
     "execution_count": 9,
     "metadata": {},
     "output_type": "execute_result"
    }
   ],
   "source": [
    "p1.greet()   # --> Person.greet(p1)"
   ]
  },
  {
   "cell_type": "code",
   "execution_count": 10,
   "id": "dbd19e86",
   "metadata": {},
   "outputs": [
    {
     "data": {
      "text/plain": [
       "'ABCD'"
      ]
     },
     "execution_count": 10,
     "metadata": {},
     "output_type": "execute_result"
    }
   ],
   "source": [
    "s = 'abcd'\n",
    "s.upper()"
   ]
  },
  {
   "cell_type": "code",
   "execution_count": 11,
   "id": "c0aa60ee",
   "metadata": {},
   "outputs": [
    {
     "data": {
      "text/plain": [
       "'ABCD'"
      ]
     },
     "execution_count": 11,
     "metadata": {},
     "output_type": "execute_result"
    }
   ],
   "source": [
    "str.upper(s)"
   ]
  },
  {
   "cell_type": "markdown",
   "id": "acf7e11c",
   "metadata": {},
   "source": [
    "# Exercise: Ice cream\n",
    "\n",
    "1. Define a class, `Scoop`, for one ice cream scoop. When you create an instance, you can pass one argument, which will set the attribute `flavor`.\n",
    "\n",
    "```python\n",
    "s1 = Scoop('chocolate')\n",
    "s2 = Scoop('vanilla')\n",
    "s3 = Scoop('coffee')\n",
    "\n",
    "print(s1.flavor) #chocolate\n",
    "\n",
    "for one_scoop in [s1, s2, s3]:\n",
    "    print(one_scoop.flavor)  # chocolate, vanilla, coffee\n",
    "```\n",
    "\n",
    "\n",
    "2. Define a class, `Bowl`.  We create a bowl without any arguments.\n",
    "3. We can add one or more scoops to a bowl with `add_scoops`.  Each scoop that we pass to `add_scoops` will be added to an attribute, `scoops`, on the instance of `Bowl`.\n",
    "4. Define a method, `flavors`, which returns a list of strings -- the flavors of the scoops in the bowl.\n",
    "\n",
    "```python\n",
    "b = Bowl()\n",
    "b.add_scoops(s1, s2)\n",
    "b.add_scoops(s3)\n",
    "print(len(b.scoops))  # 3\n",
    "print(b.flavors())   # ['chocolate', 'vanilla', 'coffee']\n",
    "```"
   ]
  },
  {
   "cell_type": "code",
   "execution_count": 12,
   "id": "8584f3f3",
   "metadata": {},
   "outputs": [
    {
     "name": "stdout",
     "output_type": "stream",
     "text": [
      "chocolate\n",
      "chocolate\n",
      "vanilla\n",
      "coffee\n"
     ]
    }
   ],
   "source": [
    "class Scoop:\n",
    "    def __init__(self, flavor):\n",
    "        self.flavor = flavor\n",
    "        \n",
    "s1 = Scoop('chocolate')\n",
    "s2 = Scoop('vanilla')\n",
    "s3 = Scoop('coffee')\n",
    "\n",
    "print(s1.flavor) #chocolate\n",
    "\n",
    "for one_scoop in [s1, s2, s3]:\n",
    "    print(one_scoop.flavor)  # chocolate, vanilla, coffee\n",
    "        "
   ]
  },
  {
   "cell_type": "code",
   "execution_count": 15,
   "id": "34bf470c",
   "metadata": {},
   "outputs": [
    {
     "name": "stdout",
     "output_type": "stream",
     "text": [
      "3\n",
      "['chocolate', 'vanilla', 'coffee']\n"
     ]
    }
   ],
   "source": [
    "class Bowl:\n",
    "    def __init__(self):\n",
    "        self.scoops = []\n",
    "\n",
    "    def add_scoops(self, *args):\n",
    "        self.scoops += args\n",
    "        \n",
    "    def flavors(self):\n",
    "        output = []\n",
    "        for one_scoop in self.scoops:\n",
    "            output.append(one_scoop.flavor)\n",
    "        return output\n",
    "        \n",
    "b = Bowl()\n",
    "b.add_scoops(s1, s2)\n",
    "b.add_scoops(s3)\n",
    "print(len(b.scoops)) \n",
    "print(b.flavors())"
   ]
  },
  {
   "cell_type": "code",
   "execution_count": 14,
   "id": "2966ab57",
   "metadata": {},
   "outputs": [
    {
     "data": {
      "text/plain": [
       "[<__main__.Scoop at 0x10c0c9780>,\n",
       " <__main__.Scoop at 0x10c0c81f0>,\n",
       " <__main__.Scoop at 0x10c0c8190>]"
      ]
     },
     "execution_count": 14,
     "metadata": {},
     "output_type": "execute_result"
    }
   ],
   "source": [
    "b.scoops"
   ]
  },
  {
   "cell_type": "code",
   "execution_count": 16,
   "id": "b1e605ae",
   "metadata": {},
   "outputs": [
    {
     "name": "stdout",
     "output_type": "stream",
     "text": [
      "3\n",
      "['chocolate', 'vanilla', 'coffee']\n"
     ]
    }
   ],
   "source": [
    "class Bowl:\n",
    "    def __init__(self):\n",
    "        self.scoops = []\n",
    "\n",
    "    def add_scoops(self, *args):\n",
    "        self.scoops += args\n",
    "        \n",
    "    def flavors(self):\n",
    "        # list comprehension!\n",
    "        return [one_scoop.flavor\n",
    "               for one_scoop in self.scoops]\n",
    "        \n",
    "b = Bowl()\n",
    "b.add_scoops(s1, s2)\n",
    "b.add_scoops(s3)\n",
    "print(len(b.scoops)) \n",
    "print(b.flavors())"
   ]
  },
  {
   "cell_type": "code",
   "execution_count": 19,
   "id": "bab4efad",
   "metadata": {},
   "outputs": [
    {
     "name": "stdout",
     "output_type": "stream",
     "text": [
      "Before, population=0\n",
      "After, population=2\n",
      "Hello, name1!\n",
      "Hello, name2!\n"
     ]
    }
   ],
   "source": [
    "# how can I keep track of the number of instances of Person?\n",
    "\n",
    "population = 0\n",
    "\n",
    "class Person:\n",
    "    def __init__(self, name):\n",
    "        global population    # don't make population a local variable!\n",
    "        self.name = name\n",
    "        population += 1   \n",
    "        \n",
    "    def greet(self):\n",
    "        return f'Hello, {self.name}!'\n",
    "    \n",
    "print(f'Before, {population=}')\n",
    "p1 = Person('name1')    \n",
    "p2 = Person('name2')\n",
    "print(f'After, {population=}')\n",
    "\n",
    "print(p1.greet())\n",
    "print(p2.greet())"
   ]
  },
  {
   "cell_type": "code",
   "execution_count": 20,
   "id": "7b97588a",
   "metadata": {},
   "outputs": [],
   "source": [
    "# everything in Python is an object"
   ]
  },
  {
   "cell_type": "code",
   "execution_count": 21,
   "id": "91301735",
   "metadata": {},
   "outputs": [
    {
     "data": {
      "text/plain": [
       "int"
      ]
     },
     "execution_count": 21,
     "metadata": {},
     "output_type": "execute_result"
    }
   ],
   "source": [
    "n = 100\n",
    "type(n)"
   ]
  },
  {
   "cell_type": "code",
   "execution_count": 22,
   "id": "a4b9013b",
   "metadata": {},
   "outputs": [
    {
     "data": {
      "text/plain": [
       "str"
      ]
     },
     "execution_count": 22,
     "metadata": {},
     "output_type": "execute_result"
    }
   ],
   "source": [
    "s = 'abcd'\n",
    "type(s)"
   ]
  },
  {
   "cell_type": "code",
   "execution_count": 23,
   "id": "99f01276",
   "metadata": {},
   "outputs": [
    {
     "data": {
      "text/plain": [
       "dict"
      ]
     },
     "execution_count": 23,
     "metadata": {},
     "output_type": "execute_result"
    }
   ],
   "source": [
    "d = {'a':1, 'b':2}\n",
    "type(d)"
   ]
  },
  {
   "cell_type": "code",
   "execution_count": 24,
   "id": "19d4f800",
   "metadata": {},
   "outputs": [],
   "source": [
    "# classes are objects, too!"
   ]
  },
  {
   "cell_type": "code",
   "execution_count": 25,
   "id": "0b0a7713",
   "metadata": {},
   "outputs": [
    {
     "data": {
      "text/plain": [
       "type"
      ]
     },
     "execution_count": 25,
     "metadata": {},
     "output_type": "execute_result"
    }
   ],
   "source": [
    "type(int)"
   ]
  },
  {
   "cell_type": "code",
   "execution_count": 26,
   "id": "451769fb",
   "metadata": {},
   "outputs": [
    {
     "data": {
      "text/plain": [
       "type"
      ]
     },
     "execution_count": 26,
     "metadata": {},
     "output_type": "execute_result"
    }
   ],
   "source": [
    "type(str)"
   ]
  },
  {
   "cell_type": "code",
   "execution_count": 27,
   "id": "5977dc89",
   "metadata": {},
   "outputs": [
    {
     "data": {
      "text/plain": [
       "type"
      ]
     },
     "execution_count": 27,
     "metadata": {},
     "output_type": "execute_result"
    }
   ],
   "source": [
    "type(dict)"
   ]
  },
  {
   "cell_type": "code",
   "execution_count": 28,
   "id": "03305c52",
   "metadata": {},
   "outputs": [
    {
     "data": {
      "text/plain": [
       "type"
      ]
     },
     "execution_count": 28,
     "metadata": {},
     "output_type": "execute_result"
    }
   ],
   "source": [
    "type(Person)"
   ]
  },
  {
   "cell_type": "code",
   "execution_count": 29,
   "id": "f2c4add9",
   "metadata": {},
   "outputs": [
    {
     "data": {
      "text/plain": [
       "type"
      ]
     },
     "execution_count": 29,
     "metadata": {},
     "output_type": "execute_result"
    }
   ],
   "source": [
    "type(type)"
   ]
  },
  {
   "cell_type": "code",
   "execution_count": 30,
   "id": "4e05d23f",
   "metadata": {},
   "outputs": [
    {
     "name": "stdout",
     "output_type": "stream",
     "text": [
      "Before, Person.population=0\n",
      "After, Person.population=2\n",
      "Hello, name1!\n",
      "Hello, name2!\n"
     ]
    }
   ],
   "source": [
    "class Person:\n",
    "    def __init__(self, name):\n",
    "        self.name = name\n",
    "        Person.population += 1   \n",
    "        \n",
    "    def greet(self):\n",
    "        return f'Hello, {self.name}!'\n",
    "    \n",
    "Person.population = 0   # I'm adding a new class attribute -- an attribute on the *class* Person\n",
    "\n",
    "print(f'Before, {Person.population=}')\n",
    "p1 = Person('name1')    \n",
    "p2 = Person('name2')\n",
    "print(f'After, {Person.population=}')\n",
    "\n",
    "print(p1.greet())\n",
    "print(p2.greet())"
   ]
  },
  {
   "cell_type": "code",
   "execution_count": 32,
   "id": "7e3c185c",
   "metadata": {},
   "outputs": [
    {
     "name": "stdout",
     "output_type": "stream",
     "text": [
      "A\n",
      "B\n",
      "D\n",
      "E\n",
      "C\n",
      "C\n",
      "Apple\n",
      "Whoever\n"
     ]
    }
   ],
   "source": [
    "print('A')\n",
    "class Company:\n",
    "    print('B')\n",
    "    def __init__(self, name):     # Company.__init__\n",
    "        print('C')\n",
    "        self.name = name\n",
    "    print('D')\n",
    "print('E')\n",
    "        \n",
    "c1 = Company('Apple')        \n",
    "c2 = Company('Whoever')\n",
    "\n",
    "print(c1.name)\n",
    "print(c2.name)"
   ]
  },
  {
   "cell_type": "code",
   "execution_count": 33,
   "id": "d308f45e",
   "metadata": {},
   "outputs": [],
   "source": [
    "def whatever():\n",
    "    print('Hello')"
   ]
  },
  {
   "cell_type": "code",
   "execution_count": 34,
   "id": "f55560e6",
   "metadata": {},
   "outputs": [
    {
     "name": "stdout",
     "output_type": "stream",
     "text": [
      "Before, Person.population=0\n",
      "After, Person.population=2\n",
      "Hello, name1!\n",
      "Hello, name2!\n"
     ]
    }
   ],
   "source": [
    "class Person:\n",
    "    population = 0    # class attribute -- same as Person.population outside of the class\n",
    "    \n",
    "    def __init__(self, name):\n",
    "        self.name = name\n",
    "        Person.population += 1   \n",
    "        \n",
    "    def greet(self):\n",
    "        return f'Hello, {self.name}!'\n",
    "    \n",
    "\n",
    "print(f'Before, {Person.population=}')\n",
    "p1 = Person('name1')    \n",
    "p2 = Person('name2')\n",
    "print(f'After, {Person.population=}')\n",
    "\n",
    "print(p1.greet())   # --> Person.greet(p1)\n",
    "print(p2.greet())   # --> Person.greet(p2)"
   ]
  },
  {
   "cell_type": "code",
   "execution_count": 35,
   "id": "64ee23ce",
   "metadata": {},
   "outputs": [
    {
     "name": "stdout",
     "output_type": "stream",
     "text": [
      "chocolate\n",
      "chocolate\n",
      "vanilla\n",
      "coffee\n",
      "3\n",
      "['chocolate', 'vanilla', 'coffee']\n"
     ]
    }
   ],
   "source": [
    "class Scoop:\n",
    "    def __init__(self, flavor):\n",
    "        self.flavor = flavor\n",
    "        \n",
    "s1 = Scoop('chocolate')\n",
    "s2 = Scoop('vanilla')\n",
    "s3 = Scoop('coffee')\n",
    "\n",
    "print(s1.flavor) #chocolate\n",
    "\n",
    "for one_scoop in [s1, s2, s3]:\n",
    "    print(one_scoop.flavor)  # chocolate, vanilla, coffee\n",
    "\n",
    "class Bowl:\n",
    "    def __init__(self):\n",
    "        self.scoops = []\n",
    "\n",
    "    def add_scoops(self, *args):\n",
    "        self.scoops += args\n",
    "        \n",
    "    def flavors(self):\n",
    "        # list comprehension!\n",
    "        return [one_scoop.flavor\n",
    "               for one_scoop in self.scoops]\n",
    "        \n",
    "b = Bowl()\n",
    "b.add_scoops(s1, s2)\n",
    "b.add_scoops(s3)\n",
    "print(len(b.scoops)) \n",
    "print(b.flavors())       "
   ]
  },
  {
   "cell_type": "markdown",
   "id": "3206bfc7",
   "metadata": {},
   "source": [
    "# Exercise: Limited-size bowl\n",
    "\n",
    "Change `Bowl`, such that each bowl can have up to three scoops.  We'll only check when we run `add_scoops`. If our `scoops` attribute has three, then we stop adding.  (No error -- just ignore the rest.)"
   ]
  },
  {
   "cell_type": "code",
   "execution_count": 40,
   "id": "d374770f",
   "metadata": {},
   "outputs": [
    {
     "name": "stdout",
     "output_type": "stream",
     "text": [
      "3\n",
      "['chocolate', 'vanilla', 'coffee']\n"
     ]
    }
   ],
   "source": [
    "class Scoop:\n",
    "    def __init__(self, flavor):\n",
    "        self.flavor = flavor\n",
    "        \n",
    "class Bowl:\n",
    "    MAX_SCOOPS = 3\n",
    "\n",
    "    def __init__(self):\n",
    "        self.scoops = []\n",
    "\n",
    "    def add_scoops(self, *args):\n",
    "#         for one_scoop in args:\n",
    "#             if len(self.scoops) >= Bowl.MAX_SCOOPS:\n",
    "#                 break\n",
    "#             self.scoops.append(one_scoop)\n",
    "\n",
    "        # slice\n",
    "        self.scoops += args[:Bowl.MAX_SCOOPS - len(self.scoops)]\n",
    "        \n",
    "    def flavors(self):\n",
    "        # list comprehension!\n",
    "        return [one_scoop.flavor\n",
    "               for one_scoop in self.scoops]\n",
    "        \n",
    "s1 = Scoop('chocolate')\n",
    "s2 = Scoop('vanilla')\n",
    "s3 = Scoop('coffee')\n",
    "s4 = Scoop('flavor 4')\n",
    "s5 = Scoop('flavor 5')\n",
    "s6 = Scoop('flavor 6')\n",
    "\n",
    "b = Bowl()\n",
    "b.add_scoops(s1, s2)\n",
    "b.add_scoops(s3)\n",
    "b.add_scoops(s4, s5)\n",
    "b.add_scoops(s6)\n",
    "\n",
    "print(len(b.scoops)) \n",
    "print(b.flavors())       "
   ]
  },
  {
   "cell_type": "markdown",
   "id": "97f6a981",
   "metadata": {},
   "source": [
    "# Next up:\n",
    "\n",
    "1. Attribute lookup (ICPO)\n",
    "2. Inheritance\n",
    "3. `__del__` (destructor)\n",
    "4. Metaclasses\n",
    "5. Functions (type hints)\n",
    "\n",
    "Resume at 11:30"
   ]
  },
  {
   "cell_type": "code",
   "execution_count": 42,
   "id": "1d6f3dd2",
   "metadata": {},
   "outputs": [
    {
     "name": "stdout",
     "output_type": "stream",
     "text": [
      "Before, Person.population=0\n",
      "After, Person.population=2\n",
      "After, p1.population=2\n",
      "After, p2.population=2\n",
      "Hello, name1!\n",
      "Hello, name2!\n"
     ]
    }
   ],
   "source": [
    "class Person:\n",
    "    population = 0  \n",
    "    \n",
    "    def __init__(self, name):\n",
    "        self.name = name\n",
    "        Person.population += 1   \n",
    "        \n",
    "    def greet(self):\n",
    "        return f'Hello, {self.name}!'\n",
    "    \n",
    "\n",
    "print(f'Before, {Person.population=}')\n",
    "p1 = Person('name1')    \n",
    "p2 = Person('name2')\n",
    "print(f'After, {Person.population=}')\n",
    "print(f'After, {p1.population=}')\n",
    "print(f'After, {p2.population=}')\n",
    "\n",
    "print(p1.greet())  \n",
    "print(p2.greet())  "
   ]
  },
  {
   "cell_type": "markdown",
   "id": "1d2ff312",
   "metadata": {},
   "source": [
    "# Lookup\n",
    "\n",
    "Variable lookup:\n",
    "- `L` Local\n",
    "- `E` Enclosing\n",
    "- `G` Global\n",
    "- `B` Builtin\n",
    "\n",
    "Attribute lookup\n",
    "- `I` Instance -- look on the named object\n",
    "- `C` Class -- look on the object's class\n",
    "- `P` Parent(s) -- look on the object's class's parent(s)\n",
    "- `O` `object` -- look on `object`, the ultimate top of the object hierarchy"
   ]
  },
  {
   "cell_type": "code",
   "execution_count": 43,
   "id": "8b08b32e",
   "metadata": {},
   "outputs": [
    {
     "name": "stdout",
     "output_type": "stream",
     "text": [
      "Before, Person.population=0\n",
      "After, Person.population=0\n",
      "After, p1.population=1\n",
      "After, p2.population=1\n",
      "Hello, name1!\n",
      "Hello, name2!\n"
     ]
    }
   ],
   "source": [
    "class Person:\n",
    "    population = 0  \n",
    "    \n",
    "    def __init__(self, name):\n",
    "        self.name = name\n",
    "        # self.population += 1       # will this work?\n",
    "        self.population = self.population + 1\n",
    "        \n",
    "    def greet(self):\n",
    "        return f'Hello, {self.name}!'\n",
    "    \n",
    "\n",
    "print(f'Before, {Person.population=}')\n",
    "p1 = Person('name1')    \n",
    "p2 = Person('name2')\n",
    "print(f'After, {Person.population=}')\n",
    "print(f'After, {p1.population=}')\n",
    "print(f'After, {p2.population=}')\n",
    "\n",
    "print(p1.greet())  \n",
    "print(p2.greet())  "
   ]
  },
  {
   "cell_type": "code",
   "execution_count": 53,
   "id": "ad61edea",
   "metadata": {},
   "outputs": [
    {
     "name": "stdout",
     "output_type": "stream",
     "text": [
      "Hello, name1!\n",
      "Hello, name2!\n",
      "Hello, emp1!\n",
      "Hello, emp2!\n"
     ]
    }
   ],
   "source": [
    "class Person:\n",
    "    def __init__(self, name):\n",
    "        self.name = name\n",
    "        \n",
    "    def greet(self):\n",
    "        return f'Hello, {self.name}!'\n",
    "    \n",
    "p1 = Person('name1')    \n",
    "p2 = Person('name2')\n",
    "\n",
    "print(p1.greet())\n",
    "print(p2.greet())\n",
    "\n",
    "class Employee(Person):  # Employee inherits from Person\n",
    "    def __init__(self, name, id_number):\n",
    "        # Person.__init__(self, name)\n",
    "        super().__init__(name)\n",
    "        self.id_number = id_number\n",
    "        \n",
    "e1 = Employee('emp1', 1)   # e1 has __init__? NO.  Employee has __init__? YES\n",
    "e2 = Employee('emp2', 2)\n",
    "\n",
    "print(e1.greet())  # e1 has greet? NO.  Employee has greet? NO. Person has greet? YES\n",
    "print(e2.greet())"
   ]
  },
  {
   "cell_type": "code",
   "execution_count": 50,
   "id": "b563957c",
   "metadata": {},
   "outputs": [
    {
     "data": {
      "text/plain": [
       "{'name': 'name1'}"
      ]
     },
     "execution_count": 50,
     "metadata": {},
     "output_type": "execute_result"
    }
   ],
   "source": [
    "vars(p1)"
   ]
  },
  {
   "cell_type": "code",
   "execution_count": 51,
   "id": "4009d672",
   "metadata": {},
   "outputs": [
    {
     "data": {
      "text/plain": [
       "{'id_number': 1}"
      ]
     },
     "execution_count": 51,
     "metadata": {},
     "output_type": "execute_result"
    }
   ],
   "source": [
    "vars(e1)"
   ]
  },
  {
   "cell_type": "markdown",
   "id": "1bdc0e34",
   "metadata": {},
   "source": [
    "# Exercise: Big Bowl\n",
    "\n",
    "Define a new class, `BigBowl`, that's the same as `Bowl`, but can contain up to 5 scoops, rather than 3.  You can change `Bowl` if you need, but keep it to a minimum -- and also keep `BigBowl`  to the minimum."
   ]
  },
  {
   "cell_type": "code",
   "execution_count": 60,
   "id": "a30cef26",
   "metadata": {},
   "outputs": [
    {
     "name": "stdout",
     "output_type": "stream",
     "text": [
      "3\n",
      "['chocolate', 'vanilla', 'coffee']\n",
      "5\n",
      "['chocolate', 'vanilla', 'coffee', 'flavor 4', 'flavor 5']\n"
     ]
    }
   ],
   "source": [
    "class Scoop:\n",
    "    def __init__(self, flavor):\n",
    "        self.flavor = flavor\n",
    "        \n",
    "class Bowl:\n",
    "    MAX_SCOOPS = 3\n",
    "\n",
    "    def __init__(self):\n",
    "        self.scoops = []\n",
    "\n",
    "    def add_scoops(self, *args):\n",
    "        self.scoops += args[:self.MAX_SCOOPS - len(self.scoops)]\n",
    "        \n",
    "    def flavors(self):\n",
    "        return [one_scoop.flavor\n",
    "               for one_scoop in self.scoops]\n",
    "        \n",
    "class BigBowl(Bowl):\n",
    "    MAX_SCOOPS = 5\n",
    "        \n",
    "s1 = Scoop('chocolate')\n",
    "s2 = Scoop('vanilla')\n",
    "s3 = Scoop('coffee')\n",
    "s4 = Scoop('flavor 4')\n",
    "s5 = Scoop('flavor 5')\n",
    "s6 = Scoop('flavor 6')\n",
    "\n",
    "# bowl\n",
    "b = Bowl()\n",
    "b.add_scoops(s1, s2)\n",
    "b.add_scoops(s3)\n",
    "b.add_scoops(s4, s5)\n",
    "b.add_scoops(s6)\n",
    "\n",
    "print(len(b.scoops)) \n",
    "print(b.flavors())       \n",
    "\n",
    "\n",
    "# Big Bowl\n",
    "bb = BigBowl()\n",
    "bb.add_scoops(s1, s2)\n",
    "bb.add_scoops(s3)\n",
    "bb.add_scoops(s4, s5)\n",
    "bb.add_scoops(s6)\n",
    "\n",
    "print(len(bb.scoops)) \n",
    "print(bb.flavors())       "
   ]
  },
  {
   "cell_type": "code",
   "execution_count": 61,
   "id": "6c674155",
   "metadata": {},
   "outputs": [
    {
     "name": "stdout",
     "output_type": "stream",
     "text": [
      "<__main__.Scoop object at 0x10c0cacb0>\n"
     ]
    }
   ],
   "source": [
    "print(str(s1))  # s1.__str__() -> Scoop.__str__() -> object.__str__()"
   ]
  },
  {
   "cell_type": "code",
   "execution_count": 62,
   "id": "43870638",
   "metadata": {},
   "outputs": [
    {
     "name": "stdout",
     "output_type": "stream",
     "text": [
      "<__main__.Bowl object at 0x10c0c9f60>\n"
     ]
    }
   ],
   "source": [
    "print(str(b))"
   ]
  },
  {
   "cell_type": "code",
   "execution_count": 65,
   "id": "45c2acb1",
   "metadata": {},
   "outputs": [
    {
     "name": "stdout",
     "output_type": "stream",
     "text": [
      "3\n",
      "['chocolate', 'vanilla', 'coffee']\n",
      "5\n",
      "['chocolate', 'vanilla', 'coffee', 'flavor 4', 'flavor 5']\n"
     ]
    }
   ],
   "source": [
    "class Scoop:\n",
    "    def __init__(self, flavor):\n",
    "        self.flavor = flavor\n",
    "        \n",
    "    def __str__(self):\n",
    "        return f'Scoop of {self.flavor}'\n",
    "        \n",
    "class Bowl:\n",
    "    MAX_SCOOPS = 3\n",
    "\n",
    "    def __init__(self):\n",
    "        self.scoops = []\n",
    "\n",
    "    def add_scoops(self, *args):\n",
    "        self.scoops += args[:self.MAX_SCOOPS - len(self.scoops)]\n",
    "        \n",
    "    def flavors(self):\n",
    "        return [one_scoop.flavor\n",
    "               for one_scoop in self.scoops]\n",
    "    \n",
    "    def __str__(self):\n",
    "        return f'Bowl with scoops: {self.flavors()}'\n",
    "        \n",
    "class BigBowl(Bowl):\n",
    "    MAX_SCOOPS = 5\n",
    "        \n",
    "s1 = Scoop('chocolate')\n",
    "s2 = Scoop('vanilla')\n",
    "s3 = Scoop('coffee')\n",
    "s4 = Scoop('flavor 4')\n",
    "s5 = Scoop('flavor 5')\n",
    "s6 = Scoop('flavor 6')\n",
    "\n",
    "# bowl\n",
    "b = Bowl()\n",
    "b.add_scoops(s1, s2)\n",
    "b.add_scoops(s3)\n",
    "b.add_scoops(s4, s5)\n",
    "b.add_scoops(s6)\n",
    "\n",
    "print(len(b.scoops)) \n",
    "print(b.flavors())       \n",
    "\n",
    "\n",
    "# Big Bowl\n",
    "bb = BigBowl()\n",
    "bb.add_scoops(s1, s2)\n",
    "bb.add_scoops(s3)\n",
    "bb.add_scoops(s4, s5)\n",
    "bb.add_scoops(s6)\n",
    "\n",
    "print(len(bb.scoops)) \n",
    "print(bb.flavors())       "
   ]
  },
  {
   "cell_type": "code",
   "execution_count": 64,
   "id": "21c0ed04",
   "metadata": {},
   "outputs": [
    {
     "name": "stdout",
     "output_type": "stream",
     "text": [
      "Scoop of chocolate\n"
     ]
    }
   ],
   "source": [
    "print(s1)"
   ]
  },
  {
   "cell_type": "code",
   "execution_count": 66,
   "id": "2b0f763f",
   "metadata": {},
   "outputs": [
    {
     "name": "stdout",
     "output_type": "stream",
     "text": [
      "Bowl with scoops: ['chocolate', 'vanilla', 'coffee']\n"
     ]
    }
   ],
   "source": [
    "print(b)"
   ]
  },
  {
   "cell_type": "markdown",
   "id": "94074af8",
   "metadata": {},
   "source": [
    "# `__del__` -- destructor (sort of)\n",
    "\n",
    "The `__del__` method runs when an object is released via garbage collection."
   ]
  },
  {
   "cell_type": "code",
   "execution_count": 72,
   "id": "8c196544",
   "metadata": {},
   "outputs": [
    {
     "name": "stdout",
     "output_type": "stream",
     "text": [
      "I am dead! (name1)\n"
     ]
    }
   ],
   "source": [
    "class Person:\n",
    "    def __init__(self, name):\n",
    "        self.name = name\n",
    "        \n",
    "    def __del__(self):\n",
    "        print(f'I am dead! ({self.name})')\n",
    "        \n",
    "p1 = Person('name1')        \n",
    "del(p1)    # del deletes the variable"
   ]
  },
  {
   "cell_type": "code",
   "execution_count": 79,
   "id": "590762db",
   "metadata": {},
   "outputs": [
    {
     "name": "stdout",
     "output_type": "stream",
     "text": [
      "Person () {'__module__': '__main__', '__qualname__': 'Person', '__init__': <function Person.__init__ at 0x10c4dedd0>, '__del__': <function Person.__del__ at 0x10c4ded40>}\n"
     ]
    }
   ],
   "source": [
    "# Metaclass example\n",
    "\n",
    "class MyType(type):\n",
    "    def __init__(self, d, ):\n",
    "        print(*args)\n",
    "        self.hello = 'world'\n",
    "\n",
    "class Person(metaclass=MyType):\n",
    "    def __init__(self, name):\n",
    "        self.name = name\n",
    "        \n",
    "    def __del__(self):\n",
    "        print(f'I am dead! ({self.name})')\n",
    "        "
   ]
  },
  {
   "cell_type": "code",
   "execution_count": 76,
   "id": "3a4c1836",
   "metadata": {},
   "outputs": [
    {
     "data": {
      "text/plain": [
       "{'name': 'name1'}"
      ]
     },
     "execution_count": 76,
     "metadata": {},
     "output_type": "execute_result"
    }
   ],
   "source": [
    "p1 = Person('name1')\n",
    "vars(p1)"
   ]
  },
  {
   "cell_type": "code",
   "execution_count": 77,
   "id": "6efcf32d",
   "metadata": {},
   "outputs": [
    {
     "ename": "AttributeError",
     "evalue": "type object 'Person' has no attribute 'hello'",
     "output_type": "error",
     "traceback": [
      "\u001b[0;31m---------------------------------------------------------------------------\u001b[0m",
      "\u001b[0;31mAttributeError\u001b[0m                            Traceback (most recent call last)",
      "\u001b[0;32m/var/folders/rr/0mnyyv811fs5vyp22gf4fxk00000gn/T/ipykernel_6326/3461118656.py\u001b[0m in \u001b[0;36m<module>\u001b[0;34m\u001b[0m\n\u001b[0;32m----> 1\u001b[0;31m \u001b[0mPerson\u001b[0m\u001b[0;34m.\u001b[0m\u001b[0mhello\u001b[0m\u001b[0;34m\u001b[0m\u001b[0;34m\u001b[0m\u001b[0m\n\u001b[0m",
      "\u001b[0;31mAttributeError\u001b[0m: type object 'Person' has no attribute 'hello'"
     ]
    }
   ],
   "source": [
    "Person.hello"
   ]
  },
  {
   "cell_type": "code",
   "execution_count": null,
   "id": "caaf21f8",
   "metadata": {},
   "outputs": [],
   "source": []
  }
 ],
 "metadata": {
  "kernelspec": {
   "display_name": "Python 3 (ipykernel)",
   "language": "python",
   "name": "python3"
  },
  "language_info": {
   "codemirror_mode": {
    "name": "ipython",
    "version": 3
   },
   "file_extension": ".py",
   "mimetype": "text/x-python",
   "name": "python",
   "nbconvert_exporter": "python",
   "pygments_lexer": "ipython3",
   "version": "3.10.2"
  }
 },
 "nbformat": 4,
 "nbformat_minor": 5
}
