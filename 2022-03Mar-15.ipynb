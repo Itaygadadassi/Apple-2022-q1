{
 "cells": [
  {
   "cell_type": "markdown",
   "id": "7d1e067b",
   "metadata": {},
   "source": [
    "# Agenda\n",
    "\n",
    "1. Objects\n",
    "    1. Classes, instances\n",
    "    2. Attributes (ICPO)\n",
    "    3. Inheritance\n",
    "    4. `__del__`\n",
    "    5. Metaclasses\n",
    "2. Functions\n",
    "    1. Function annotations + Mypy\n",
    "    2. Generator functions"
   ]
  },
  {
   "cell_type": "code",
   "execution_count": 1,
   "id": "97b479b6",
   "metadata": {},
   "outputs": [],
   "source": [
    "class Person:\n",
    "    def __init__(self, name):   \n",
    "        self.name = name\n",
    "        \n",
    "p1 = Person('name1')        \n",
    "p2 = Person('name2')"
   ]
  },
  {
   "cell_type": "markdown",
   "id": "d9f1a751",
   "metadata": {},
   "source": [
    "# What happens when I create an object?\n",
    "\n",
    "- `p1 = Person('name1')`\n",
    "    - When we run the above, Python runs `__new__`\n",
    "    - `__new__` really creates the new object, which I call `o` \n",
    "    - `__new__` then calls `__init__` on the new object, and passes `*args` and `**kwargs`\n",
    "- The role of `__init__` is to add attributes to the new object\n",
    "    - `self` is the new instance\n",
    "    - We add attributes to `self`\n",
    "    - `__init__` doesn't return anything, because we only care about the attributes it sets\n",
    "- In the end, `__init__` returns the new object    \n",
    "    "
   ]
  },
  {
   "cell_type": "code",
   "execution_count": 2,
   "id": "5e87f96f",
   "metadata": {},
   "outputs": [
    {
     "data": {
      "text/plain": [
       "{'name': 'name1'}"
      ]
     },
     "execution_count": 2,
     "metadata": {},
     "output_type": "execute_result"
    }
   ],
   "source": [
    "vars(p1)"
   ]
  },
  {
   "cell_type": "code",
   "execution_count": 3,
   "id": "716cc2e1",
   "metadata": {},
   "outputs": [
    {
     "data": {
      "text/plain": [
       "{'name': 'name2'}"
      ]
     },
     "execution_count": 3,
     "metadata": {},
     "output_type": "execute_result"
    }
   ],
   "source": [
    "vars(p2)"
   ]
  },
  {
   "cell_type": "code",
   "execution_count": 5,
   "id": "8a44d6c6",
   "metadata": {},
   "outputs": [
    {
     "name": "stdout",
     "output_type": "stream",
     "text": [
      "name1\n",
      "new name\n"
     ]
    }
   ],
   "source": [
    "class Person:\n",
    "    def __init__(self, name):   \n",
    "        self.name = name\n",
    "        \n",
    "# no getters and setters in Python!\n",
    "\n",
    "    def get_name(self):  # getter\n",
    "        return self.name\n",
    "    \n",
    "    def set_name(self, new_name):  # setter\n",
    "        self.name = new_name\n",
    "        \n",
    "p1 = Person('name1')        \n",
    "print(p1.get_name())\n",
    "p1.set_name('new name')\n",
    "print(p1.get_name())"
   ]
  },
  {
   "cell_type": "code",
   "execution_count": 7,
   "id": "0a7e73b9",
   "metadata": {},
   "outputs": [
    {
     "name": "stdout",
     "output_type": "stream",
     "text": [
      "name1\n",
      "new name\n"
     ]
    }
   ],
   "source": [
    "# standard way to do things in Python -- use the attributes directly\n",
    "\n",
    "class Person:\n",
    "    def __init__(self, name):   \n",
    "        self.name = name\n",
    "        \n",
    "p1 = Person('name1')        \n",
    "print(p1.name)\n",
    "p1.name = 'new name'\n",
    "print(p1.name)"
   ]
  },
  {
   "cell_type": "code",
   "execution_count": 8,
   "id": "4bd1b4be",
   "metadata": {},
   "outputs": [
    {
     "name": "stdout",
     "output_type": "stream",
     "text": [
      "name1\n",
      "new name\n",
      "Hello, new name!\n"
     ]
    }
   ],
   "source": [
    "class Person:\n",
    "    def __init__(self, name):   \n",
    "        self.name = name\n",
    "        \n",
    "    def greet(self):\n",
    "        return f'Hello, {self.name}!'\n",
    "        \n",
    "p1 = Person('name1')        \n",
    "print(p1.name)\n",
    "p1.name = 'new name'\n",
    "print(p1.name)\n",
    "print(p1.greet())"
   ]
  },
  {
   "cell_type": "code",
   "execution_count": 9,
   "id": "0b78428e",
   "metadata": {},
   "outputs": [
    {
     "data": {
      "text/plain": [
       "'Hello, new name!'"
      ]
     },
     "execution_count": 9,
     "metadata": {},
     "output_type": "execute_result"
    }
   ],
   "source": [
    "p1.greet()   # --> Person.greet(p1)"
   ]
  },
  {
   "cell_type": "code",
   "execution_count": 10,
   "id": "c9c44874",
   "metadata": {},
   "outputs": [
    {
     "data": {
      "text/plain": [
       "'ABCD'"
      ]
     },
     "execution_count": 10,
     "metadata": {},
     "output_type": "execute_result"
    }
   ],
   "source": [
    "s = 'abcd'\n",
    "s.upper()"
   ]
  },
  {
   "cell_type": "code",
   "execution_count": 11,
   "id": "01cad5c6",
   "metadata": {},
   "outputs": [
    {
     "data": {
      "text/plain": [
       "'ABCD'"
      ]
     },
     "execution_count": 11,
     "metadata": {},
     "output_type": "execute_result"
    }
   ],
   "source": [
    "str.upper(s)"
   ]
  },
  {
   "cell_type": "markdown",
   "id": "c64052f2",
   "metadata": {},
   "source": [
    "# Exercise: Ice cream\n",
    "\n",
    "1. Define a class, `Scoop`, for one ice cream scoop. When you create an instance, you can pass one argument, which will set the attribute `flavor`.\n",
    "\n",
    "```python\n",
    "s1 = Scoop('chocolate')\n",
    "s2 = Scoop('vanilla')\n",
    "s3 = Scoop('coffee')\n",
    "\n",
    "print(s1.flavor) #chocolate\n",
    "\n",
    "for one_scoop in [s1, s2, s3]:\n",
    "    print(one_scoop.flavor)  # chocolate, vanilla, coffee\n",
    "```\n",
    "\n",
    "\n",
    "2. Define a class, `Bowl`.  We create a bowl without any arguments.\n",
    "3. We can add one or more scoops to a bowl with `add_scoops`.  Each scoop that we pass to `add_scoops` will be added to an attribute, `scoops`, on the instance of `Bowl`.\n",
    "4. Define a method, `flavors`, which returns a list of strings -- the flavors of the scoops in the bowl.\n",
    "\n",
    "```python\n",
    "b = Bowl()\n",
    "b.add_scoops(s1, s2)\n",
    "b.add_scoops(s3)\n",
    "print(len(b.scoops))  # 3\n",
    "print(b.flavors())   # ['chocolate', 'vanilla', 'coffee']\n",
    "```"
   ]
  },
  {
   "cell_type": "code",
   "execution_count": 12,
   "id": "f50d0104",
   "metadata": {},
   "outputs": [
    {
     "name": "stdout",
     "output_type": "stream",
     "text": [
      "chocolate\n",
      "chocolate\n",
      "vanilla\n",
      "coffee\n"
     ]
    }
   ],
   "source": [
    "class Scoop:\n",
    "    def __init__(self, flavor):\n",
    "        self.flavor = flavor\n",
    "        \n",
    "s1 = Scoop('chocolate')\n",
    "s2 = Scoop('vanilla')\n",
    "s3 = Scoop('coffee')\n",
    "\n",
    "print(s1.flavor) #chocolate\n",
    "\n",
    "for one_scoop in [s1, s2, s3]:\n",
    "    print(one_scoop.flavor)  # chocolate, vanilla, coffee\n",
    "        "
   ]
  },
  {
   "cell_type": "code",
   "execution_count": 15,
   "id": "b58efa87",
   "metadata": {},
   "outputs": [
    {
     "name": "stdout",
     "output_type": "stream",
     "text": [
      "3\n",
      "['chocolate', 'vanilla', 'coffee']\n"
     ]
    }
   ],
   "source": [
    "class Bowl:\n",
    "    def __init__(self):\n",
    "        self.scoops = []\n",
    "\n",
    "    def add_scoops(self, *args):\n",
    "        self.scoops += args\n",
    "        \n",
    "    def flavors(self):\n",
    "        output = []\n",
    "        for one_scoop in self.scoops:\n",
    "            output.append(one_scoop.flavor)\n",
    "        return output\n",
    "        \n",
    "b = Bowl()\n",
    "b.add_scoops(s1, s2)\n",
    "b.add_scoops(s3)\n",
    "print(len(b.scoops)) \n",
    "print(b.flavors())"
   ]
  },
  {
   "cell_type": "code",
   "execution_count": 14,
   "id": "81727101",
   "metadata": {},
   "outputs": [
    {
     "data": {
      "text/plain": [
       "[<__main__.Scoop at 0x10c0c9780>,\n",
       " <__main__.Scoop at 0x10c0c81f0>,\n",
       " <__main__.Scoop at 0x10c0c8190>]"
      ]
     },
     "execution_count": 14,
     "metadata": {},
     "output_type": "execute_result"
    }
   ],
   "source": [
    "b.scoops"
   ]
  },
  {
   "cell_type": "code",
   "execution_count": 16,
   "id": "5a211a21",
   "metadata": {},
   "outputs": [
    {
     "name": "stdout",
     "output_type": "stream",
     "text": [
      "3\n",
      "['chocolate', 'vanilla', 'coffee']\n"
     ]
    }
   ],
   "source": [
    "class Bowl:\n",
    "    def __init__(self):\n",
    "        self.scoops = []\n",
    "\n",
    "    def add_scoops(self, *args):\n",
    "        self.scoops += args\n",
    "        \n",
    "    def flavors(self):\n",
    "        # list comprehension!\n",
    "        return [one_scoop.flavor\n",
    "               for one_scoop in self.scoops]\n",
    "        \n",
    "b = Bowl()\n",
    "b.add_scoops(s1, s2)\n",
    "b.add_scoops(s3)\n",
    "print(len(b.scoops)) \n",
    "print(b.flavors())"
   ]
  },
  {
   "cell_type": "code",
   "execution_count": 19,
   "id": "f777f7e4",
   "metadata": {},
   "outputs": [
    {
     "name": "stdout",
     "output_type": "stream",
     "text": [
      "Before, population=0\n",
      "After, population=2\n",
      "Hello, name1!\n",
      "Hello, name2!\n"
     ]
    }
   ],
   "source": [
    "# how can I keep track of the number of instances of Person?\n",
    "\n",
    "population = 0\n",
    "\n",
    "class Person:\n",
    "    def __init__(self, name):\n",
    "        global population    # don't make population a local variable!\n",
    "        self.name = name\n",
    "        population += 1   \n",
    "        \n",
    "    def greet(self):\n",
    "        return f'Hello, {self.name}!'\n",
    "    \n",
    "print(f'Before, {population=}')\n",
    "p1 = Person('name1')    \n",
    "p2 = Person('name2')\n",
    "print(f'After, {population=}')\n",
    "\n",
    "print(p1.greet())\n",
    "print(p2.greet())"
   ]
  },
  {
   "cell_type": "code",
   "execution_count": 20,
   "id": "1924070e",
   "metadata": {},
   "outputs": [],
   "source": [
    "# everything in Python is an object"
   ]
  },
  {
   "cell_type": "code",
   "execution_count": 21,
   "id": "252340d3",
   "metadata": {},
   "outputs": [
    {
     "data": {
      "text/plain": [
       "int"
      ]
     },
     "execution_count": 21,
     "metadata": {},
     "output_type": "execute_result"
    }
   ],
   "source": [
    "n = 100\n",
    "type(n)"
   ]
  },
  {
   "cell_type": "code",
   "execution_count": 22,
   "id": "fde41926",
   "metadata": {},
   "outputs": [
    {
     "data": {
      "text/plain": [
       "str"
      ]
     },
     "execution_count": 22,
     "metadata": {},
     "output_type": "execute_result"
    }
   ],
   "source": [
    "s = 'abcd'\n",
    "type(s)"
   ]
  },
  {
   "cell_type": "code",
   "execution_count": 23,
   "id": "3cd04bff",
   "metadata": {},
   "outputs": [
    {
     "data": {
      "text/plain": [
       "dict"
      ]
     },
     "execution_count": 23,
     "metadata": {},
     "output_type": "execute_result"
    }
   ],
   "source": [
    "d = {'a':1, 'b':2}\n",
    "type(d)"
   ]
  },
  {
   "cell_type": "code",
   "execution_count": 24,
   "id": "bd6af976",
   "metadata": {},
   "outputs": [],
   "source": [
    "# classes are objects, too!"
   ]
  },
  {
   "cell_type": "code",
   "execution_count": 25,
   "id": "f9a4689e",
   "metadata": {},
   "outputs": [
    {
     "data": {
      "text/plain": [
       "type"
      ]
     },
     "execution_count": 25,
     "metadata": {},
     "output_type": "execute_result"
    }
   ],
   "source": [
    "type(int)"
   ]
  },
  {
   "cell_type": "code",
   "execution_count": 26,
   "id": "69bf1b28",
   "metadata": {},
   "outputs": [
    {
     "data": {
      "text/plain": [
       "type"
      ]
     },
     "execution_count": 26,
     "metadata": {},
     "output_type": "execute_result"
    }
   ],
   "source": [
    "type(str)"
   ]
  },
  {
   "cell_type": "code",
   "execution_count": 27,
   "id": "9578c671",
   "metadata": {},
   "outputs": [
    {
     "data": {
      "text/plain": [
       "type"
      ]
     },
     "execution_count": 27,
     "metadata": {},
     "output_type": "execute_result"
    }
   ],
   "source": [
    "type(dict)"
   ]
  },
  {
   "cell_type": "code",
   "execution_count": 28,
   "id": "777975a5",
   "metadata": {},
   "outputs": [
    {
     "data": {
      "text/plain": [
       "type"
      ]
     },
     "execution_count": 28,
     "metadata": {},
     "output_type": "execute_result"
    }
   ],
   "source": [
    "type(Person)"
   ]
  },
  {
   "cell_type": "code",
   "execution_count": 29,
   "id": "6f6ac0c6",
   "metadata": {},
   "outputs": [
    {
     "data": {
      "text/plain": [
       "type"
      ]
     },
     "execution_count": 29,
     "metadata": {},
     "output_type": "execute_result"
    }
   ],
   "source": [
    "type(type)"
   ]
  },
  {
   "cell_type": "code",
   "execution_count": 30,
   "id": "c879f697",
   "metadata": {},
   "outputs": [
    {
     "name": "stdout",
     "output_type": "stream",
     "text": [
      "Before, Person.population=0\n",
      "After, Person.population=2\n",
      "Hello, name1!\n",
      "Hello, name2!\n"
     ]
    }
   ],
   "source": [
    "class Person:\n",
    "    def __init__(self, name):\n",
    "        self.name = name\n",
    "        Person.population += 1   \n",
    "        \n",
    "    def greet(self):\n",
    "        return f'Hello, {self.name}!'\n",
    "    \n",
    "Person.population = 0   # I'm adding a new class attribute -- an attribute on the *class* Person\n",
    "\n",
    "print(f'Before, {Person.population=}')\n",
    "p1 = Person('name1')    \n",
    "p2 = Person('name2')\n",
    "print(f'After, {Person.population=}')\n",
    "\n",
    "print(p1.greet())\n",
    "print(p2.greet())"
   ]
  },
  {
   "cell_type": "code",
   "execution_count": 32,
   "id": "ea734ff1",
   "metadata": {},
   "outputs": [
    {
     "name": "stdout",
     "output_type": "stream",
     "text": [
      "A\n",
      "B\n",
      "D\n",
      "E\n",
      "C\n",
      "C\n",
      "Apple\n",
      "Whoever\n"
     ]
    }
   ],
   "source": [
    "print('A')\n",
    "class Company:\n",
    "    print('B')\n",
    "    def __init__(self, name):     # Company.__init__\n",
    "        print('C')\n",
    "        self.name = name\n",
    "    print('D')\n",
    "print('E')\n",
    "        \n",
    "c1 = Company('Apple')        \n",
    "c2 = Company('Whoever')\n",
    "\n",
    "print(c1.name)\n",
    "print(c2.name)"
   ]
  },
  {
   "cell_type": "code",
   "execution_count": 33,
   "id": "e983bacb",
   "metadata": {},
   "outputs": [],
   "source": [
    "def whatever():\n",
    "    print('Hello')"
   ]
  },
  {
   "cell_type": "code",
   "execution_count": 34,
   "id": "a1152c75",
   "metadata": {},
   "outputs": [
    {
     "name": "stdout",
     "output_type": "stream",
     "text": [
      "Before, Person.population=0\n",
      "After, Person.population=2\n",
      "Hello, name1!\n",
      "Hello, name2!\n"
     ]
    }
   ],
   "source": [
    "class Person:\n",
    "    population = 0    # class attribute -- same as Person.population outside of the class\n",
    "    \n",
    "    def __init__(self, name):\n",
    "        self.name = name\n",
    "        Person.population += 1   \n",
    "        \n",
    "    def greet(self):\n",
    "        return f'Hello, {self.name}!'\n",
    "    \n",
    "\n",
    "print(f'Before, {Person.population=}')\n",
    "p1 = Person('name1')    \n",
    "p2 = Person('name2')\n",
    "print(f'After, {Person.population=}')\n",
    "\n",
    "print(p1.greet())   # --> Person.greet(p1)\n",
    "print(p2.greet())   # --> Person.greet(p2)"
   ]
  },
  {
   "cell_type": "code",
   "execution_count": 35,
   "id": "55fac673",
   "metadata": {},
   "outputs": [
    {
     "name": "stdout",
     "output_type": "stream",
     "text": [
      "chocolate\n",
      "chocolate\n",
      "vanilla\n",
      "coffee\n",
      "3\n",
      "['chocolate', 'vanilla', 'coffee']\n"
     ]
    }
   ],
   "source": [
    "class Scoop:\n",
    "    def __init__(self, flavor):\n",
    "        self.flavor = flavor\n",
    "        \n",
    "s1 = Scoop('chocolate')\n",
    "s2 = Scoop('vanilla')\n",
    "s3 = Scoop('coffee')\n",
    "\n",
    "print(s1.flavor) #chocolate\n",
    "\n",
    "for one_scoop in [s1, s2, s3]:\n",
    "    print(one_scoop.flavor)  # chocolate, vanilla, coffee\n",
    "\n",
    "class Bowl:\n",
    "    def __init__(self):\n",
    "        self.scoops = []\n",
    "\n",
    "    def add_scoops(self, *args):\n",
    "        self.scoops += args\n",
    "        \n",
    "    def flavors(self):\n",
    "        # list comprehension!\n",
    "        return [one_scoop.flavor\n",
    "               for one_scoop in self.scoops]\n",
    "        \n",
    "b = Bowl()\n",
    "b.add_scoops(s1, s2)\n",
    "b.add_scoops(s3)\n",
    "print(len(b.scoops)) \n",
    "print(b.flavors())       "
   ]
  },
  {
   "cell_type": "markdown",
   "id": "cc89e531",
   "metadata": {},
   "source": [
    "# Exercise: Limited-size bowl\n",
    "\n",
    "Change `Bowl`, such that each bowl can have up to three scoops.  We'll only check when we run `add_scoops`. If our `scoops` attribute has three, then we stop adding.  (No error -- just ignore the rest.)"
   ]
  },
  {
   "cell_type": "code",
   "execution_count": 40,
   "id": "0dabe8d3",
   "metadata": {},
   "outputs": [
    {
     "name": "stdout",
     "output_type": "stream",
     "text": [
      "3\n",
      "['chocolate', 'vanilla', 'coffee']\n"
     ]
    }
   ],
   "source": [
    "class Scoop:\n",
    "    def __init__(self, flavor):\n",
    "        self.flavor = flavor\n",
    "        \n",
    "class Bowl:\n",
    "    MAX_SCOOPS = 3\n",
    "\n",
    "    def __init__(self):\n",
    "        self.scoops = []\n",
    "\n",
    "    def add_scoops(self, *args):\n",
    "#         for one_scoop in args:\n",
    "#             if len(self.scoops) >= Bowl.MAX_SCOOPS:\n",
    "#                 break\n",
    "#             self.scoops.append(one_scoop)\n",
    "\n",
    "        # slice\n",
    "        self.scoops += args[:Bowl.MAX_SCOOPS - len(self.scoops)]\n",
    "        \n",
    "    def flavors(self):\n",
    "        # list comprehension!\n",
    "        return [one_scoop.flavor\n",
    "               for one_scoop in self.scoops]\n",
    "        \n",
    "s1 = Scoop('chocolate')\n",
    "s2 = Scoop('vanilla')\n",
    "s3 = Scoop('coffee')\n",
    "s4 = Scoop('flavor 4')\n",
    "s5 = Scoop('flavor 5')\n",
    "s6 = Scoop('flavor 6')\n",
    "\n",
    "b = Bowl()\n",
    "b.add_scoops(s1, s2)\n",
    "b.add_scoops(s3)\n",
    "b.add_scoops(s4, s5)\n",
    "b.add_scoops(s6)\n",
    "\n",
    "print(len(b.scoops)) \n",
    "print(b.flavors())       "
   ]
  },
  {
   "cell_type": "markdown",
   "id": "454f000c",
   "metadata": {},
   "source": [
    "# Next up:\n",
    "\n",
    "1. Attribute lookup (ICPO)\n",
    "2. Inheritance\n",
    "3. `__del__` (destructor)\n",
    "4. Metaclasses\n",
    "5. Functions (type hints)\n",
    "\n",
    "Resume at 11:30"
   ]
  },
  {
   "cell_type": "code",
   "execution_count": 42,
   "id": "1ace0325",
   "metadata": {},
   "outputs": [
    {
     "name": "stdout",
     "output_type": "stream",
     "text": [
      "Before, Person.population=0\n",
      "After, Person.population=2\n",
      "After, p1.population=2\n",
      "After, p2.population=2\n",
      "Hello, name1!\n",
      "Hello, name2!\n"
     ]
    }
   ],
   "source": [
    "class Person:\n",
    "    population = 0  \n",
    "    \n",
    "    def __init__(self, name):\n",
    "        self.name = name\n",
    "        Person.population += 1   \n",
    "        \n",
    "    def greet(self):\n",
    "        return f'Hello, {self.name}!'\n",
    "    \n",
    "\n",
    "print(f'Before, {Person.population=}')\n",
    "p1 = Person('name1')    \n",
    "p2 = Person('name2')\n",
    "print(f'After, {Person.population=}')\n",
    "print(f'After, {p1.population=}')\n",
    "print(f'After, {p2.population=}')\n",
    "\n",
    "print(p1.greet())  \n",
    "print(p2.greet())  "
   ]
  },
  {
   "cell_type": "markdown",
   "id": "0cc58d06",
   "metadata": {},
   "source": [
    "# Lookup\n",
    "\n",
    "Variable lookup:\n",
    "- `L` Local\n",
    "- `E` Enclosing\n",
    "- `G` Global\n",
    "- `B` Builtin\n",
    "\n",
    "Attribute lookup\n",
    "- `I` Instance -- look on the named object\n",
    "- `C` Class -- look on the object's class\n",
    "- `P` Parent(s) -- look on the object's class's parent(s)\n",
    "- `O` `object` -- look on `object`, the ultimate top of the object hierarchy"
   ]
  },
  {
   "cell_type": "code",
   "execution_count": 43,
   "id": "f663b855",
   "metadata": {},
   "outputs": [
    {
     "name": "stdout",
     "output_type": "stream",
     "text": [
      "Before, Person.population=0\n",
      "After, Person.population=0\n",
      "After, p1.population=1\n",
      "After, p2.population=1\n",
      "Hello, name1!\n",
      "Hello, name2!\n"
     ]
    }
   ],
   "source": [
    "class Person:\n",
    "    population = 0  \n",
    "    \n",
    "    def __init__(self, name):\n",
    "        self.name = name\n",
    "        # self.population += 1       # will this work?\n",
    "        self.population = self.population + 1\n",
    "        \n",
    "    def greet(self):\n",
    "        return f'Hello, {self.name}!'\n",
    "    \n",
    "\n",
    "print(f'Before, {Person.population=}')\n",
    "p1 = Person('name1')    \n",
    "p2 = Person('name2')\n",
    "print(f'After, {Person.population=}')\n",
    "print(f'After, {p1.population=}')\n",
    "print(f'After, {p2.population=}')\n",
    "\n",
    "print(p1.greet())  \n",
    "print(p2.greet())  "
   ]
  },
  {
   "cell_type": "code",
   "execution_count": 53,
   "id": "3bd55b01",
   "metadata": {},
   "outputs": [
    {
     "name": "stdout",
     "output_type": "stream",
     "text": [
      "Hello, name1!\n",
      "Hello, name2!\n",
      "Hello, emp1!\n",
      "Hello, emp2!\n"
     ]
    }
   ],
   "source": [
    "class Person:\n",
    "    def __init__(self, name):\n",
    "        self.name = name\n",
    "        \n",
    "    def greet(self):\n",
    "        return f'Hello, {self.name}!'\n",
    "    \n",
    "p1 = Person('name1')    \n",
    "p2 = Person('name2')\n",
    "\n",
    "print(p1.greet())\n",
    "print(p2.greet())\n",
    "\n",
    "class Employee(Person):  # Employee inherits from Person\n",
    "    def __init__(self, name, id_number):\n",
    "        # Person.__init__(self, name)\n",
    "        super().__init__(name)\n",
    "        self.id_number = id_number\n",
    "        \n",
    "e1 = Employee('emp1', 1)   # e1 has __init__? NO.  Employee has __init__? YES\n",
    "e2 = Employee('emp2', 2)\n",
    "\n",
    "print(e1.greet())  # e1 has greet? NO.  Employee has greet? NO. Person has greet? YES\n",
    "print(e2.greet())"
   ]
  },
  {
   "cell_type": "code",
   "execution_count": 50,
   "id": "0d82abbd",
   "metadata": {},
   "outputs": [
    {
     "data": {
      "text/plain": [
       "{'name': 'name1'}"
      ]
     },
     "execution_count": 50,
     "metadata": {},
     "output_type": "execute_result"
    }
   ],
   "source": [
    "vars(p1)"
   ]
  },
  {
   "cell_type": "code",
   "execution_count": 51,
   "id": "e9de3c20",
   "metadata": {},
   "outputs": [
    {
     "data": {
      "text/plain": [
       "{'id_number': 1}"
      ]
     },
     "execution_count": 51,
     "metadata": {},
     "output_type": "execute_result"
    }
   ],
   "source": [
    "vars(e1)"
   ]
  },
  {
   "cell_type": "code",
   "execution_count": null,
   "id": "d8f60550",
   "metadata": {},
   "outputs": [],
   "source": []
  }
 ],
 "metadata": {
  "kernelspec": {
   "display_name": "Python 3 (ipykernel)",
   "language": "python",
   "name": "python3"
  },
  "language_info": {
   "codemirror_mode": {
    "name": "ipython",
    "version": 3
   },
   "file_extension": ".py",
   "mimetype": "text/x-python",
   "name": "python",
   "nbconvert_exporter": "python",
   "pygments_lexer": "ipython3",
   "version": "3.10.2"
  }
 },
 "nbformat": 4,
 "nbformat_minor": 5
}
