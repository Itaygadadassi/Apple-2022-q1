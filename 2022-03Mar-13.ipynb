{
 "cells": [
  {
   "cell_type": "code",
   "execution_count": 1,
   "metadata": {},
   "outputs": [],
   "source": [
    "# repl -- read, eval, print loop\n",
    "\n",
    "# Jupyter notebook / Jupyter lab"
   ]
  },
  {
   "cell_type": "markdown",
   "metadata": {},
   "source": [
    "# Agenda\n",
    "\n",
    "1. Data structures -- deep dive into basics\n",
    "    - floats\n",
    "    - named tuples\n",
    "    - dictionary variations\n",
    "2. Functions\n",
    "    - Function objects\n",
    "    - Arguments -> parameters\n",
    "    - Type hints / annotations\n",
    "    - Scoping \n",
    "    - Inner functions\n",
    "3. Functional programming\n",
    "    - Comprehensions (list, dict, set)\n",
    "    - Passing functions as arguments (sorting)\n",
    "    - `lambda`\n",
    "4. Modules and packages\n",
    "    - `import`\n",
    "    - PyPI\n",
    "5. Objects\n",
    "    - Classes\n",
    "    - Instances\n",
    "    - Methods\n",
    "    - Attributes\n",
    "    - Inheritance\n",
    "    - Magic methods\n",
    "    - Properties\n",
    "    - Descriptors\n",
    "6. Iterators\n",
    "    - Making classes iterable\n",
    "    - Generator functions\n",
    "    - Generator expressions\n",
    "7. Decorators\n",
    "8. Concurrency\n",
    "    - Threading\n",
    "    - Processes\n",
    "    - (a little) `asyncio`"
   ]
  }
 ],
 "metadata": {
  "kernelspec": {
   "display_name": "Python 3 (ipykernel)",
   "language": "python",
   "name": "python3"
  },
  "language_info": {
   "codemirror_mode": {
    "name": "ipython",
    "version": 3
   },
   "file_extension": ".py",
   "mimetype": "text/x-python",
   "name": "python",
   "nbconvert_exporter": "python",
   "pygments_lexer": "ipython3",
   "version": "3.10.2"
  }
 },
 "nbformat": 4,
 "nbformat_minor": 4
}
