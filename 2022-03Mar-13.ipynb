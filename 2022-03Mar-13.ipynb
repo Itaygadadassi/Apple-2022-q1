{
 "cells": [
  {
   "cell_type": "code",
   "execution_count": 1,
   "metadata": {},
   "outputs": [],
   "source": [
    "# repl -- read, eval, print loop\n",
    "\n",
    "# Jupyter notebook / Jupyter lab"
   ]
  },
  {
   "cell_type": "markdown",
   "metadata": {},
   "source": [
    "# Agenda\n",
    "\n",
    "1. Data structures -- deep dive into basics\n",
    "    - floats\n",
    "    - named tuples\n",
    "    - dictionary variations\n",
    "2. Functions\n",
    "    - Function objects\n",
    "    - Arguments -> parameters\n",
    "    - Type hints / annotations\n",
    "    - Scoping \n",
    "    - Inner functions\n",
    "3. Functional programming\n",
    "    - Comprehensions (list, dict, set)\n",
    "    - Passing functions as arguments (sorting)\n",
    "    - `lambda`\n",
    "4. Modules and packages\n",
    "    - `import`\n",
    "    - PyPI\n",
    "5. Objects\n",
    "    - Classes\n",
    "    - Instances\n",
    "    - Methods\n",
    "    - Attributes\n",
    "    - Inheritance\n",
    "    - Magic methods\n",
    "    - Properties\n",
    "    - Descriptors\n",
    "6. Iterators\n",
    "    - Making classes iterable\n",
    "    - Generator functions\n",
    "    - Generator expressions\n",
    "7. Decorators\n",
    "8. Concurrency\n",
    "    - Threading\n",
    "    - Processes\n",
    "    - (a little) `asyncio`"
   ]
  },
  {
   "cell_type": "markdown",
   "metadata": {},
   "source": [
    "# Jupyter quick intro"
   ]
  },
  {
   "cell_type": "code",
   "execution_count": 4,
   "metadata": {},
   "outputs": [
    {
     "name": "stdout",
     "output_type": "stream",
     "text": [
      "40\n"
     ]
    }
   ],
   "source": [
    "x = 10    # enter\n",
    "y = 30    # enter\n",
    "\n",
    "print(x + y)  # shift+enter (executes the entire cell)"
   ]
  },
  {
   "cell_type": "code",
   "execution_count": 6,
   "metadata": {},
   "outputs": [
    {
     "data": {
      "text/plain": [
       "40"
      ]
     },
     "execution_count": 6,
     "metadata": {},
     "output_type": "execute_result"
    }
   ],
   "source": [
    "# last line of a cell\n",
    "# AND an expression that returns a value\n",
    "# then Jupyter displays the result\n",
    "\n",
    "x+y  "
   ]
  },
  {
   "cell_type": "code",
   "execution_count": 7,
   "metadata": {},
   "outputs": [
    {
     "data": {
      "text/plain": [
       "60"
      ]
     },
     "execution_count": 7,
     "metadata": {},
     "output_type": "execute_result"
    }
   ],
   "source": [
    "10+10\n",
    "20+20\n",
    "30+30"
   ]
  },
  {
   "cell_type": "code",
   "execution_count": 8,
   "metadata": {},
   "outputs": [
    {
     "data": {
      "text/plain": [
       "10"
      ]
     },
     "execution_count": 8,
     "metadata": {},
     "output_type": "execute_result"
    }
   ],
   "source": [
    "x"
   ]
  },
  {
   "cell_type": "markdown",
   "metadata": {},
   "source": [
    "# Two modes in Jupyter\n",
    "\n",
    "- Edit mode - Click in a cell, and type. Press ENTER to do this.  Green outline.  Type Python commands.\n",
    "- Command mode - Click on left of cell. Press ESC to do this.  Blue outline.  Jupyter accepts these commands.\n",
    "     - `M` -- Markdown mode, to enter HTML easily\n",
    "     - `y` -- code mode, to write Python\n",
    "     - `a` -- add a new cell *ABOVE*\n",
    "     - `b` -- add a new cell *BELOW*\n",
    "     - `c` -- copy\n",
    "     - `v` -- paste\n",
    "     - `x` -- cut\n",
    "     - `h` -- help"
   ]
  },
  {
   "cell_type": "code",
   "execution_count": 9,
   "metadata": {},
   "outputs": [
    {
     "data": {
      "text/plain": [
       "100"
      ]
     },
     "execution_count": 9,
     "metadata": {},
     "output_type": "execute_result"
    }
   ],
   "source": [
    "x = 100\n",
    "y = x\n",
    "\n",
    "x = 200\n",
    "y"
   ]
  },
  {
   "cell_type": "code",
   "execution_count": 10,
   "metadata": {},
   "outputs": [
    {
     "data": {
      "text/plain": [
       "[10, 20, 30, 40]"
      ]
     },
     "execution_count": 10,
     "metadata": {},
     "output_type": "execute_result"
    }
   ],
   "source": [
    "x = [10, 20, 30]\n",
    "y = x\n",
    "\n",
    "x.append(40)\n",
    "y"
   ]
  },
  {
   "cell_type": "code",
   "execution_count": 11,
   "metadata": {},
   "outputs": [],
   "source": [
    "x = None\n",
    "y = None"
   ]
  },
  {
   "cell_type": "code",
   "execution_count": 12,
   "metadata": {},
   "outputs": [
    {
     "data": {
      "text/plain": [
       "NoneType"
      ]
     },
     "execution_count": 12,
     "metadata": {},
     "output_type": "execute_result"
    }
   ],
   "source": [
    "type(None)"
   ]
  },
  {
   "cell_type": "code",
   "execution_count": 13,
   "metadata": {},
   "outputs": [
    {
     "data": {
      "text/plain": [
       "True"
      ]
     },
     "execution_count": 13,
     "metadata": {},
     "output_type": "execute_result"
    }
   ],
   "source": [
    "# are x and y equal?\n",
    "x == y"
   ]
  },
  {
   "cell_type": "code",
   "execution_count": 15,
   "metadata": {},
   "outputs": [
    {
     "name": "stdout",
     "output_type": "stream",
     "text": [
      "They are the same!\n"
     ]
    }
   ],
   "source": [
    "if x == y:    # un-Pythonic\n",
    "    print('They are the same!')"
   ]
  },
  {
   "cell_type": "code",
   "execution_count": 16,
   "metadata": {},
   "outputs": [
    {
     "name": "stdout",
     "output_type": "stream",
     "text": [
      "x is None!\n"
     ]
    }
   ],
   "source": [
    "if x == None:   # un-Pythonic!\n",
    "    print('x is None!')"
   ]
  },
  {
   "cell_type": "code",
   "execution_count": 17,
   "metadata": {},
   "outputs": [
    {
     "data": {
      "text/plain": [
       "4475125760"
      ]
     },
     "execution_count": 17,
     "metadata": {},
     "output_type": "execute_result"
    }
   ],
   "source": [
    "# there's only one instance of None in all of Python\n",
    "# we can get an object's unique ID with the \"id\" function\n",
    "\n",
    "id(None)"
   ]
  },
  {
   "cell_type": "code",
   "execution_count": 18,
   "metadata": {},
   "outputs": [
    {
     "data": {
      "text/plain": [
       "4475125760"
      ]
     },
     "execution_count": 18,
     "metadata": {},
     "output_type": "execute_result"
    }
   ],
   "source": [
    "id(x)"
   ]
  },
  {
   "cell_type": "code",
   "execution_count": 19,
   "metadata": {},
   "outputs": [
    {
     "data": {
      "text/plain": [
       "4475125760"
      ]
     },
     "execution_count": 19,
     "metadata": {},
     "output_type": "execute_result"
    }
   ],
   "source": [
    "id(y)"
   ]
  },
  {
   "cell_type": "code",
   "execution_count": 20,
   "metadata": {},
   "outputs": [
    {
     "name": "stdout",
     "output_type": "stream",
     "text": [
      "Both are None\n"
     ]
    }
   ],
   "source": [
    "if id(x) == id(None):\n",
    "    print('Both are None')"
   ]
  },
  {
   "cell_type": "code",
   "execution_count": 21,
   "metadata": {},
   "outputs": [
    {
     "name": "stdout",
     "output_type": "stream",
     "text": [
      "x is None!\n"
     ]
    }
   ],
   "source": [
    "# the best way to do this\n",
    "if x is None:\n",
    "    print('x is None!')"
   ]
  },
  {
   "cell_type": "code",
   "execution_count": 22,
   "metadata": {},
   "outputs": [
    {
     "data": {
      "text/plain": [
       "True"
      ]
     },
     "execution_count": 22,
     "metadata": {},
     "output_type": "execute_result"
    }
   ],
   "source": [
    "x = 10\n",
    "y = 10\n",
    "\n",
    "x == y"
   ]
  },
  {
   "cell_type": "code",
   "execution_count": 23,
   "metadata": {},
   "outputs": [
    {
     "data": {
      "text/plain": [
       "True"
      ]
     },
     "execution_count": 23,
     "metadata": {},
     "output_type": "execute_result"
    }
   ],
   "source": [
    "x is y"
   ]
  },
  {
   "cell_type": "code",
   "execution_count": 24,
   "metadata": {},
   "outputs": [
    {
     "data": {
      "text/plain": [
       "True"
      ]
     },
     "execution_count": 24,
     "metadata": {},
     "output_type": "execute_result"
    }
   ],
   "source": [
    "x = 10000\n",
    "y = 10000\n",
    "\n",
    "x == y"
   ]
  },
  {
   "cell_type": "code",
   "execution_count": 25,
   "metadata": {},
   "outputs": [
    {
     "data": {
      "text/plain": [
       "False"
      ]
     },
     "execution_count": 25,
     "metadata": {},
     "output_type": "execute_result"
    }
   ],
   "source": [
    "x is y"
   ]
  },
  {
   "cell_type": "code",
   "execution_count": 26,
   "metadata": {},
   "outputs": [
    {
     "data": {
      "text/plain": [
       "True"
      ]
     },
     "execution_count": 26,
     "metadata": {},
     "output_type": "execute_result"
    }
   ],
   "source": [
    "x = 'abcd'\n",
    "y = 'abcd'\n",
    "\n",
    "x == y"
   ]
  },
  {
   "cell_type": "code",
   "execution_count": 27,
   "metadata": {},
   "outputs": [
    {
     "data": {
      "text/plain": [
       "True"
      ]
     },
     "execution_count": 27,
     "metadata": {},
     "output_type": "execute_result"
    }
   ],
   "source": [
    "x is y"
   ]
  },
  {
   "cell_type": "code",
   "execution_count": 29,
   "metadata": {},
   "outputs": [],
   "source": [
    "x = 'abcd' * 10000\n",
    "y = 'abcd' * 10000\n"
   ]
  },
  {
   "cell_type": "code",
   "execution_count": 30,
   "metadata": {},
   "outputs": [
    {
     "data": {
      "text/plain": [
       "True"
      ]
     },
     "execution_count": 30,
     "metadata": {},
     "output_type": "execute_result"
    }
   ],
   "source": [
    "x  == y"
   ]
  },
  {
   "cell_type": "code",
   "execution_count": 31,
   "metadata": {},
   "outputs": [
    {
     "data": {
      "text/plain": [
       "False"
      ]
     },
     "execution_count": 31,
     "metadata": {},
     "output_type": "execute_result"
    }
   ],
   "source": [
    "x is y"
   ]
  },
  {
   "cell_type": "code",
   "execution_count": 32,
   "metadata": {},
   "outputs": [
    {
     "data": {
      "text/plain": [
       "True"
      ]
     },
     "execution_count": 32,
     "metadata": {},
     "output_type": "execute_result"
    }
   ],
   "source": [
    "x = 'a.b'\n",
    "y = 'a.b'\n",
    "\n",
    "x == y"
   ]
  },
  {
   "cell_type": "code",
   "execution_count": 33,
   "metadata": {},
   "outputs": [
    {
     "data": {
      "text/plain": [
       "False"
      ]
     },
     "execution_count": 33,
     "metadata": {},
     "output_type": "execute_result"
    }
   ],
   "source": [
    "x is y"
   ]
  },
  {
   "cell_type": "code",
   "execution_count": 34,
   "metadata": {},
   "outputs": [],
   "source": [
    "x = 'hello'"
   ]
  },
  {
   "cell_type": "code",
   "execution_count": 35,
   "metadata": {},
   "outputs": [
    {
     "name": "stdout",
     "output_type": "stream",
     "text": [
      "False-ish\n"
     ]
    }
   ],
   "source": [
    "x = None\n",
    "\n",
    "if x:\n",
    "    print('True-ish')\n",
    "else:\n",
    "    print('False-ish')"
   ]
  },
  {
   "cell_type": "code",
   "execution_count": 36,
   "metadata": {},
   "outputs": [
    {
     "data": {
      "text/plain": [
       "False"
      ]
     },
     "execution_count": 36,
     "metadata": {},
     "output_type": "execute_result"
    }
   ],
   "source": [
    "None == False"
   ]
  },
  {
   "cell_type": "code",
   "execution_count": 37,
   "metadata": {},
   "outputs": [
    {
     "data": {
      "text/plain": [
       "NoneType"
      ]
     },
     "execution_count": 37,
     "metadata": {},
     "output_type": "execute_result"
    }
   ],
   "source": [
    "type(None)"
   ]
  },
  {
   "cell_type": "code",
   "execution_count": 38,
   "metadata": {},
   "outputs": [
    {
     "data": {
      "text/plain": [
       "bool"
      ]
     },
     "execution_count": 38,
     "metadata": {},
     "output_type": "execute_result"
    }
   ],
   "source": [
    "type(False)"
   ]
  },
  {
   "cell_type": "markdown",
   "metadata": {},
   "source": [
    "# Boolean context\n",
    "\n",
    "Everything in Python is True in boolean context (i.e., after an `if` or a `while`) except for:\n",
    "\n",
    "- `False`\n",
    "- `None`\n",
    "- 0\n",
    "- Anything empty (`''`, `[]`, `()`, `{}`)"
   ]
  },
  {
   "cell_type": "code",
   "execution_count": 40,
   "metadata": {},
   "outputs": [
    {
     "name": "stdout",
     "output_type": "stream",
     "text": [
      "Enter your name: \n",
      "Hey!  You did not enter a name!\n"
     ]
    }
   ],
   "source": [
    "name = input('Enter your name: ').strip()\n",
    "\n",
    "if name:  # do I have a non-empty string?\n",
    "    print(f'Hello, {name}!')\n",
    "else:\n",
    "    print('Hey!  You did not enter a name!')"
   ]
  },
  {
   "cell_type": "markdown",
   "metadata": {},
   "source": [
    "# Integers"
   ]
  },
  {
   "cell_type": "code",
   "execution_count": 41,
   "metadata": {},
   "outputs": [],
   "source": [
    "# What's the biggest int in Python?\n",
    "\n",
    "import sys"
   ]
  },
  {
   "cell_type": "code",
   "execution_count": 42,
   "metadata": {},
   "outputs": [
    {
     "data": {
      "text/plain": [
       "24"
      ]
     },
     "execution_count": 42,
     "metadata": {},
     "output_type": "execute_result"
    }
   ],
   "source": [
    "x = 0\n",
    "sys.getsizeof(x)  # how many BYTES are in this object?"
   ]
  },
  {
   "cell_type": "code",
   "execution_count": 43,
   "metadata": {},
   "outputs": [
    {
     "data": {
      "text/plain": [
       "28"
      ]
     },
     "execution_count": 43,
     "metadata": {},
     "output_type": "execute_result"
    }
   ],
   "source": [
    "x = 1\n",
    "sys.getsizeof(x)"
   ]
  },
  {
   "cell_type": "code",
   "execution_count": 46,
   "metadata": {},
   "outputs": [
    {
     "data": {
      "text/plain": [
       "32"
      ]
     },
     "execution_count": 46,
     "metadata": {},
     "output_type": "execute_result"
    }
   ],
   "source": [
    "x = 1_000_000_000_000_000_000\n",
    "sys.getsizeof(x)"
   ]
  },
  {
   "cell_type": "code",
   "execution_count": 47,
   "metadata": {},
   "outputs": [],
   "source": [
    "x = x ** 1000"
   ]
  },
  {
   "cell_type": "code",
   "execution_count": 48,
   "metadata": {},
   "outputs": [
    {
     "data": {
      "text/plain": [
       "8000"
      ]
     },
     "execution_count": 48,
     "metadata": {},
     "output_type": "execute_result"
    }
   ],
   "source": [
    "sys.getsizeof(x)"
   ]
  },
  {
   "cell_type": "code",
   "execution_count": 51,
   "metadata": {},
   "outputs": [
    {
     "data": {
      "text/plain": [
       "8000"
      ]
     },
     "execution_count": 51,
     "metadata": {},
     "output_type": "execute_result"
    }
   ],
   "source": [
    "sys.getsizeof(x)"
   ]
  },
  {
   "cell_type": "code",
   "execution_count": 52,
   "metadata": {},
   "outputs": [],
   "source": [
    "x = 100\n",
    "x = x + 1"
   ]
  },
  {
   "cell_type": "code",
   "execution_count": 53,
   "metadata": {},
   "outputs": [
    {
     "data": {
      "text/plain": [
       "101"
      ]
     },
     "execution_count": 53,
     "metadata": {},
     "output_type": "execute_result"
    }
   ],
   "source": [
    "x"
   ]
  },
  {
   "cell_type": "code",
   "execution_count": 54,
   "metadata": {},
   "outputs": [
    {
     "data": {
      "text/plain": [
       "123"
      ]
     },
     "execution_count": 54,
     "metadata": {},
     "output_type": "execute_result"
    }
   ],
   "source": [
    "s = '123'\n",
    "int(s)   # get an int from the string s"
   ]
  },
  {
   "cell_type": "code",
   "execution_count": 55,
   "metadata": {},
   "outputs": [
    {
     "data": {
      "text/plain": [
       "291"
      ]
     },
     "execution_count": 55,
     "metadata": {},
     "output_type": "execute_result"
    }
   ],
   "source": [
    "# what if s was in hex?\n",
    "int(s, 16)  # interpret s as a hex string"
   ]
  },
  {
   "cell_type": "code",
   "execution_count": 56,
   "metadata": {},
   "outputs": [
    {
     "data": {
      "text/plain": [
       "83"
      ]
     },
     "execution_count": 56,
     "metadata": {},
     "output_type": "execute_result"
    }
   ],
   "source": [
    "int(s, 8)  # interpret s as an octal string"
   ]
  },
  {
   "cell_type": "code",
   "execution_count": 57,
   "metadata": {},
   "outputs": [
    {
     "data": {
      "text/plain": [
       "291"
      ]
     },
     "execution_count": 57,
     "metadata": {},
     "output_type": "execute_result"
    }
   ],
   "source": [
    "0x123  # another way to enter hex 123"
   ]
  },
  {
   "cell_type": "code",
   "execution_count": 59,
   "metadata": {},
   "outputs": [
    {
     "data": {
      "text/plain": [
       "83"
      ]
     },
     "execution_count": 59,
     "metadata": {},
     "output_type": "execute_result"
    }
   ],
   "source": [
    "0O123   # We need the 0O, not just 0, before octal"
   ]
  },
  {
   "cell_type": "code",
   "execution_count": 60,
   "metadata": {},
   "outputs": [
    {
     "data": {
      "text/plain": [
       "187"
      ]
     },
     "execution_count": 60,
     "metadata": {},
     "output_type": "execute_result"
    }
   ],
   "source": [
    "0b10111011"
   ]
  },
  {
   "cell_type": "markdown",
   "metadata": {},
   "source": [
    "# Float"
   ]
  },
  {
   "cell_type": "code",
   "execution_count": 61,
   "metadata": {},
   "outputs": [],
   "source": [
    "x = 10\n",
    "y = 10.5"
   ]
  },
  {
   "cell_type": "code",
   "execution_count": 62,
   "metadata": {},
   "outputs": [
    {
     "data": {
      "text/plain": [
       "int"
      ]
     },
     "execution_count": 62,
     "metadata": {},
     "output_type": "execute_result"
    }
   ],
   "source": [
    "type(x)"
   ]
  },
  {
   "cell_type": "code",
   "execution_count": 63,
   "metadata": {},
   "outputs": [
    {
     "data": {
      "text/plain": [
       "float"
      ]
     },
     "execution_count": 63,
     "metadata": {},
     "output_type": "execute_result"
    }
   ],
   "source": [
    "type(y)"
   ]
  },
  {
   "cell_type": "code",
   "execution_count": 64,
   "metadata": {},
   "outputs": [
    {
     "data": {
      "text/plain": [
       "20.5"
      ]
     },
     "execution_count": 64,
     "metadata": {},
     "output_type": "execute_result"
    }
   ],
   "source": [
    "x + y"
   ]
  },
  {
   "cell_type": "code",
   "execution_count": 65,
   "metadata": {},
   "outputs": [
    {
     "data": {
      "text/plain": [
       "0.30000000000000004"
      ]
     },
     "execution_count": 65,
     "metadata": {},
     "output_type": "execute_result"
    }
   ],
   "source": [
    "0.1 + 0.2"
   ]
  },
  {
   "cell_type": "code",
   "execution_count": 66,
   "metadata": {},
   "outputs": [
    {
     "data": {
      "text/plain": [
       "0.3"
      ]
     },
     "execution_count": 66,
     "metadata": {},
     "output_type": "execute_result"
    }
   ],
   "source": [
    "# Solution 1: use round()\n",
    "z = 0.1 + 0.2\n",
    "round(z, 2)"
   ]
  },
  {
   "cell_type": "code",
   "execution_count": 67,
   "metadata": {},
   "outputs": [
    {
     "data": {
      "text/plain": [
       "False"
      ]
     },
     "execution_count": 67,
     "metadata": {},
     "output_type": "execute_result"
    }
   ],
   "source": [
    "z == 0.3"
   ]
  },
  {
   "cell_type": "code",
   "execution_count": 68,
   "metadata": {},
   "outputs": [
    {
     "data": {
      "text/plain": [
       "True"
      ]
     },
     "execution_count": 68,
     "metadata": {},
     "output_type": "execute_result"
    }
   ],
   "source": [
    "round(z, 2) == 0.3"
   ]
  },
  {
   "cell_type": "code",
   "execution_count": 69,
   "metadata": {},
   "outputs": [],
   "source": [
    "# Solution 2: use ints, not floats"
   ]
  },
  {
   "cell_type": "code",
   "execution_count": 70,
   "metadata": {},
   "outputs": [],
   "source": [
    "# Solution 3: BCD (binary coded decimals)\n",
    "# is slower, and uses more memory... but is accurate\n",
    "\n",
    "from decimal import Decimal\n",
    "x = Decimal('0.1')\n",
    "y = Decimal('0.2')"
   ]
  },
  {
   "cell_type": "code",
   "execution_count": 71,
   "metadata": {},
   "outputs": [
    {
     "data": {
      "text/plain": [
       "decimal.Decimal"
      ]
     },
     "execution_count": 71,
     "metadata": {},
     "output_type": "execute_result"
    }
   ],
   "source": [
    "type(x)"
   ]
  },
  {
   "cell_type": "code",
   "execution_count": 72,
   "metadata": {},
   "outputs": [
    {
     "data": {
      "text/plain": [
       "decimal.Decimal"
      ]
     },
     "execution_count": 72,
     "metadata": {},
     "output_type": "execute_result"
    }
   ],
   "source": [
    "type(y)"
   ]
  },
  {
   "cell_type": "code",
   "execution_count": 73,
   "metadata": {},
   "outputs": [
    {
     "data": {
      "text/plain": [
       "Decimal('0.3')"
      ]
     },
     "execution_count": 73,
     "metadata": {},
     "output_type": "execute_result"
    }
   ],
   "source": [
    "x + y"
   ]
  },
  {
   "cell_type": "code",
   "execution_count": 74,
   "metadata": {},
   "outputs": [
    {
     "data": {
      "text/plain": [
       "0.3"
      ]
     },
     "execution_count": 74,
     "metadata": {},
     "output_type": "execute_result"
    }
   ],
   "source": [
    "float(x+y)"
   ]
  },
  {
   "cell_type": "code",
   "execution_count": 79,
   "metadata": {},
   "outputs": [],
   "source": [
    "# don't use floats to create your objects of type Decimal!\n",
    "x = Decimal(0.1)\n",
    "y = Decimal(0.2)"
   ]
  },
  {
   "cell_type": "code",
   "execution_count": 80,
   "metadata": {},
   "outputs": [
    {
     "data": {
      "text/plain": [
       "Decimal('0.1000000000000000055511151231257827021181583404541015625')"
      ]
     },
     "execution_count": 80,
     "metadata": {},
     "output_type": "execute_result"
    }
   ],
   "source": [
    "x"
   ]
  },
  {
   "cell_type": "code",
   "execution_count": 81,
   "metadata": {},
   "outputs": [
    {
     "data": {
      "text/plain": [
       "Decimal('0.200000000000000011102230246251565404236316680908203125')"
      ]
     },
     "execution_count": 81,
     "metadata": {},
     "output_type": "execute_result"
    }
   ],
   "source": [
    "y"
   ]
  },
  {
   "cell_type": "code",
   "execution_count": 82,
   "metadata": {},
   "outputs": [
    {
     "data": {
      "text/plain": [
       "Decimal('0.3000000000000000166533453694')"
      ]
     },
     "execution_count": 82,
     "metadata": {},
     "output_type": "execute_result"
    }
   ],
   "source": [
    "x+y"
   ]
  },
  {
   "cell_type": "markdown",
   "metadata": {},
   "source": [
    "# Strings\n",
    "\n",
    "In Python 3, all strings contain Unicode characters.  Thus, all methods/functions/actions are per *character*, not per *byte*."
   ]
  },
  {
   "cell_type": "code",
   "execution_count": 83,
   "metadata": {},
   "outputs": [
    {
     "data": {
      "text/plain": [
       "7"
      ]
     },
     "execution_count": 83,
     "metadata": {},
     "output_type": "execute_result"
    }
   ],
   "source": [
    "s = 'abcdefg'\n",
    "len(s)"
   ]
  },
  {
   "cell_type": "code",
   "execution_count": 85,
   "metadata": {},
   "outputs": [
    {
     "data": {
      "text/plain": [
       "4"
      ]
     },
     "execution_count": 85,
     "metadata": {},
     "output_type": "execute_result"
    }
   ],
   "source": [
    "s = 'שלום'\n",
    "len(s)"
   ]
  },
  {
   "cell_type": "code",
   "execution_count": 86,
   "metadata": {},
   "outputs": [
    {
     "name": "stdout",
     "output_type": "stream",
     "text": [
      "c:\u0007bcd\\efgh\\ijkl\n"
     ]
    }
   ],
   "source": [
    "path = 'c:\\abcd\\efgh\\ijkl'\n",
    "print(path)"
   ]
  },
  {
   "cell_type": "code",
   "execution_count": 87,
   "metadata": {},
   "outputs": [
    {
     "name": "stdout",
     "output_type": "stream",
     "text": [
      "c:\\abcd\\efgh\\ijkl\n"
     ]
    }
   ],
   "source": [
    "# doubled backslashes in strings become single backslashes when printed\n",
    "path = 'c:\\\\abcd\\\\efgh\\\\ijkl'\n",
    "print(path)"
   ]
  },
  {
   "cell_type": "code",
   "execution_count": 88,
   "metadata": {},
   "outputs": [
    {
     "name": "stdout",
     "output_type": "stream",
     "text": [
      "c:\\abcd\\efgh\\ijkl\n"
     ]
    }
   ],
   "source": [
    "# raw strings do this for us automatically\n",
    "path = r'c:\\abcd\\efgh\\ijkl'\n",
    "print(path)"
   ]
  },
  {
   "cell_type": "code",
   "execution_count": 89,
   "metadata": {},
   "outputs": [
    {
     "name": "stdout",
     "output_type": "stream",
     "text": [
      "x = abcd, y = 10, z = [10, 20, 30]\n"
     ]
    }
   ],
   "source": [
    "# f-string -- started in Python 3.6\n",
    "\n",
    "x = 'abcd'\n",
    "y = 10\n",
    "z = [10, 20, 30]\n",
    "\n",
    "print(f'x = {x}, y = {y}, z = {z}')"
   ]
  },
  {
   "cell_type": "code",
   "execution_count": 91,
   "metadata": {},
   "outputs": [
    {
     "name": "stdout",
     "output_type": "stream",
     "text": [
      "10 + 15 = 25\n"
     ]
    }
   ],
   "source": [
    "# any expression can be in the {}\n",
    "x = 10\n",
    "y = 15\n",
    "\n",
    "print(f'{x} + {y} = {x+y}')"
   ]
  },
  {
   "cell_type": "code",
   "execution_count": 93,
   "metadata": {},
   "outputs": [
    {
     "name": "stdout",
     "output_type": "stream",
     "text": [
      "x=10\n"
     ]
    }
   ],
   "source": [
    "# as of Python 3.8\n",
    "print(f'{x=}')  # prints the expression and its value"
   ]
  },
  {
   "cell_type": "code",
   "execution_count": 94,
   "metadata": {},
   "outputs": [
    {
     "name": "stdout",
     "output_type": "stream",
     "text": [
      "len(s)=4\n"
     ]
    }
   ],
   "source": [
    "s = 'abcd'\n",
    "print(f'{len(s)=}')"
   ]
  },
  {
   "cell_type": "markdown",
   "metadata": {},
   "source": [
    "# Lists\n",
    "\n",
    "These are not arrays!  In arrays:\n",
    "\n",
    "- The length is known at creation time\n",
    "- All of the items are of the same type"
   ]
  },
  {
   "cell_type": "code",
   "execution_count": 96,
   "metadata": {},
   "outputs": [],
   "source": [
    "mylist = [10, 20, 30, 40, 50]"
   ]
  },
  {
   "cell_type": "code",
   "execution_count": 97,
   "metadata": {},
   "outputs": [
    {
     "data": {
      "text/plain": [
       "5"
      ]
     },
     "execution_count": 97,
     "metadata": {},
     "output_type": "execute_result"
    }
   ],
   "source": [
    "len(mylist)"
   ]
  },
  {
   "cell_type": "code",
   "execution_count": 98,
   "metadata": {},
   "outputs": [
    {
     "data": {
      "text/plain": [
       "7"
      ]
     },
     "execution_count": 98,
     "metadata": {},
     "output_type": "execute_result"
    }
   ],
   "source": [
    "mylist.append(60)\n",
    "mylist.append(70)\n",
    "\n",
    "len(mylist)"
   ]
  },
  {
   "cell_type": "code",
   "execution_count": 99,
   "metadata": {},
   "outputs": [
    {
     "name": "stdout",
     "output_type": "stream",
     "text": [
      "i=0, len(mylist)=0, sys.getsizeof(mylist)=56\n",
      "i=1, len(mylist)=1, sys.getsizeof(mylist)=88\n",
      "i=2, len(mylist)=2, sys.getsizeof(mylist)=88\n",
      "i=3, len(mylist)=3, sys.getsizeof(mylist)=88\n",
      "i=4, len(mylist)=4, sys.getsizeof(mylist)=88\n",
      "i=5, len(mylist)=5, sys.getsizeof(mylist)=120\n",
      "i=6, len(mylist)=6, sys.getsizeof(mylist)=120\n",
      "i=7, len(mylist)=7, sys.getsizeof(mylist)=120\n",
      "i=8, len(mylist)=8, sys.getsizeof(mylist)=120\n",
      "i=9, len(mylist)=9, sys.getsizeof(mylist)=184\n",
      "i=10, len(mylist)=10, sys.getsizeof(mylist)=184\n",
      "i=11, len(mylist)=11, sys.getsizeof(mylist)=184\n",
      "i=12, len(mylist)=12, sys.getsizeof(mylist)=184\n",
      "i=13, len(mylist)=13, sys.getsizeof(mylist)=184\n",
      "i=14, len(mylist)=14, sys.getsizeof(mylist)=184\n",
      "i=15, len(mylist)=15, sys.getsizeof(mylist)=184\n",
      "i=16, len(mylist)=16, sys.getsizeof(mylist)=184\n",
      "i=17, len(mylist)=17, sys.getsizeof(mylist)=248\n",
      "i=18, len(mylist)=18, sys.getsizeof(mylist)=248\n",
      "i=19, len(mylist)=19, sys.getsizeof(mylist)=248\n",
      "i=20, len(mylist)=20, sys.getsizeof(mylist)=248\n",
      "i=21, len(mylist)=21, sys.getsizeof(mylist)=248\n",
      "i=22, len(mylist)=22, sys.getsizeof(mylist)=248\n",
      "i=23, len(mylist)=23, sys.getsizeof(mylist)=248\n",
      "i=24, len(mylist)=24, sys.getsizeof(mylist)=248\n",
      "i=25, len(mylist)=25, sys.getsizeof(mylist)=312\n",
      "i=26, len(mylist)=26, sys.getsizeof(mylist)=312\n",
      "i=27, len(mylist)=27, sys.getsizeof(mylist)=312\n",
      "i=28, len(mylist)=28, sys.getsizeof(mylist)=312\n",
      "i=29, len(mylist)=29, sys.getsizeof(mylist)=312\n"
     ]
    }
   ],
   "source": [
    "mylist = []\n",
    "\n",
    "for i in range(30):\n",
    "    print(f'{i=}, {len(mylist)=}, {sys.getsizeof(mylist)=}')\n",
    "    mylist.append(i)"
   ]
  },
  {
   "cell_type": "code",
   "execution_count": 100,
   "metadata": {},
   "outputs": [
    {
     "name": "stdout",
     "output_type": "stream",
     "text": [
      "i=0, len(mylist)=30, sys.getsizeof(mylist)=312\n",
      "i=1, len(mylist)=29, sys.getsizeof(mylist)=312\n",
      "i=2, len(mylist)=28, sys.getsizeof(mylist)=312\n",
      "i=3, len(mylist)=27, sys.getsizeof(mylist)=312\n",
      "i=4, len(mylist)=26, sys.getsizeof(mylist)=312\n",
      "i=5, len(mylist)=25, sys.getsizeof(mylist)=312\n",
      "i=6, len(mylist)=24, sys.getsizeof(mylist)=312\n",
      "i=7, len(mylist)=23, sys.getsizeof(mylist)=312\n",
      "i=8, len(mylist)=22, sys.getsizeof(mylist)=312\n",
      "i=9, len(mylist)=21, sys.getsizeof(mylist)=312\n",
      "i=10, len(mylist)=20, sys.getsizeof(mylist)=312\n",
      "i=11, len(mylist)=19, sys.getsizeof(mylist)=312\n",
      "i=12, len(mylist)=18, sys.getsizeof(mylist)=312\n",
      "i=13, len(mylist)=17, sys.getsizeof(mylist)=312\n",
      "i=14, len(mylist)=16, sys.getsizeof(mylist)=312\n",
      "i=15, len(mylist)=15, sys.getsizeof(mylist)=216\n",
      "i=16, len(mylist)=14, sys.getsizeof(mylist)=216\n",
      "i=17, len(mylist)=13, sys.getsizeof(mylist)=216\n",
      "i=18, len(mylist)=12, sys.getsizeof(mylist)=216\n",
      "i=19, len(mylist)=11, sys.getsizeof(mylist)=216\n",
      "i=20, len(mylist)=10, sys.getsizeof(mylist)=216\n",
      "i=21, len(mylist)=9, sys.getsizeof(mylist)=184\n",
      "i=22, len(mylist)=8, sys.getsizeof(mylist)=184\n",
      "i=23, len(mylist)=7, sys.getsizeof(mylist)=152\n",
      "i=24, len(mylist)=6, sys.getsizeof(mylist)=152\n",
      "i=25, len(mylist)=5, sys.getsizeof(mylist)=120\n",
      "i=26, len(mylist)=4, sys.getsizeof(mylist)=120\n",
      "i=27, len(mylist)=3, sys.getsizeof(mylist)=120\n",
      "i=28, len(mylist)=2, sys.getsizeof(mylist)=120\n",
      "i=29, len(mylist)=1, sys.getsizeof(mylist)=88\n"
     ]
    }
   ],
   "source": [
    "for i in range(30):\n",
    "    print(f'{i=}, {len(mylist)=}, {sys.getsizeof(mylist)=}')\n",
    "    mylist.pop()"
   ]
  },
  {
   "cell_type": "code",
   "execution_count": 101,
   "metadata": {},
   "outputs": [],
   "source": [
    "mylist = [10, 20, 30]\n",
    "biglist = [mylist, mylist, mylist]"
   ]
  },
  {
   "cell_type": "code",
   "execution_count": 102,
   "metadata": {},
   "outputs": [
    {
     "data": {
      "text/plain": [
       "3"
      ]
     },
     "execution_count": 102,
     "metadata": {},
     "output_type": "execute_result"
    }
   ],
   "source": [
    "len(biglist)"
   ]
  },
  {
   "cell_type": "code",
   "execution_count": 103,
   "metadata": {},
   "outputs": [
    {
     "data": {
      "text/plain": [
       "[[10, 20, 30], [10, 20, 30], [10, 20, 30]]"
      ]
     },
     "execution_count": 103,
     "metadata": {},
     "output_type": "execute_result"
    }
   ],
   "source": [
    "biglist"
   ]
  },
  {
   "cell_type": "code",
   "execution_count": 104,
   "metadata": {},
   "outputs": [],
   "source": [
    "mylist.append(40)"
   ]
  },
  {
   "cell_type": "code",
   "execution_count": 105,
   "metadata": {},
   "outputs": [
    {
     "data": {
      "text/plain": [
       "[10, 20, 30, 40]"
      ]
     },
     "execution_count": 105,
     "metadata": {},
     "output_type": "execute_result"
    }
   ],
   "source": [
    "mylist"
   ]
  },
  {
   "cell_type": "code",
   "execution_count": 106,
   "metadata": {},
   "outputs": [
    {
     "data": {
      "text/plain": [
       "[[10, 20, 30, 40], [10, 20, 30, 40], [10, 20, 30, 40]]"
      ]
     },
     "execution_count": 106,
     "metadata": {},
     "output_type": "execute_result"
    }
   ],
   "source": [
    "biglist"
   ]
  },
  {
   "cell_type": "code",
   "execution_count": 107,
   "metadata": {},
   "outputs": [
    {
     "data": {
      "text/plain": [
       "['!', 20, 30, 40]"
      ]
     },
     "execution_count": 107,
     "metadata": {},
     "output_type": "execute_result"
    }
   ],
   "source": [
    "mylist[0] = '!'\n",
    "mylist"
   ]
  },
  {
   "cell_type": "code",
   "execution_count": 108,
   "metadata": {},
   "outputs": [
    {
     "data": {
      "text/plain": [
       "[['!', 20, 30, 40], ['!', 20, 30, 40], ['!', 20, 30, 40]]"
      ]
     },
     "execution_count": 108,
     "metadata": {},
     "output_type": "execute_result"
    }
   ],
   "source": [
    "biglist"
   ]
  },
  {
   "cell_type": "markdown",
   "metadata": {},
   "source": [
    "# Tuples\n",
    "\n",
    "Lists are mutable, and tuples are immutable.  But the *real* reason to use lists is when you have a sequence of the same type, and tuples are for sequences of different types.\n",
    "\n",
    "Python uses tuples all over, behind the scenes."
   ]
  },
  {
   "cell_type": "code",
   "execution_count": 109,
   "metadata": {},
   "outputs": [
    {
     "data": {
      "text/plain": [
       "tuple"
      ]
     },
     "execution_count": 109,
     "metadata": {},
     "output_type": "execute_result"
    }
   ],
   "source": [
    "t = (10, 20, 30)\n",
    "type(t)"
   ]
  },
  {
   "cell_type": "code",
   "execution_count": 110,
   "metadata": {},
   "outputs": [
    {
     "data": {
      "text/plain": [
       "tuple"
      ]
     },
     "execution_count": 110,
     "metadata": {},
     "output_type": "execute_result"
    }
   ],
   "source": [
    "t = (10, 20)\n",
    "type(t)"
   ]
  },
  {
   "cell_type": "code",
   "execution_count": 111,
   "metadata": {},
   "outputs": [
    {
     "data": {
      "text/plain": [
       "int"
      ]
     },
     "execution_count": 111,
     "metadata": {},
     "output_type": "execute_result"
    }
   ],
   "source": [
    "t = (10)\n",
    "type(t)"
   ]
  },
  {
   "cell_type": "code",
   "execution_count": 112,
   "metadata": {},
   "outputs": [
    {
     "data": {
      "text/plain": [
       "tuple"
      ]
     },
     "execution_count": 112,
     "metadata": {},
     "output_type": "execute_result"
    }
   ],
   "source": [
    "t = ()\n",
    "type(t)"
   ]
  },
  {
   "cell_type": "code",
   "execution_count": 113,
   "metadata": {},
   "outputs": [
    {
     "data": {
      "text/plain": [
       "47"
      ]
     },
     "execution_count": 113,
     "metadata": {},
     "output_type": "execute_result"
    }
   ],
   "source": [
    "# we can also use () for priority in math operations\n",
    "5 + 6 * 7"
   ]
  },
  {
   "cell_type": "code",
   "execution_count": 114,
   "metadata": {},
   "outputs": [
    {
     "data": {
      "text/plain": [
       "77"
      ]
     },
     "execution_count": 114,
     "metadata": {},
     "output_type": "execute_result"
    }
   ],
   "source": [
    "# how does Python know not to make a tuple here?  No ,\n",
    "(5 + 6) * 7"
   ]
  },
  {
   "cell_type": "code",
   "execution_count": 115,
   "metadata": {},
   "outputs": [
    {
     "data": {
      "text/plain": [
       "tuple"
      ]
     },
     "execution_count": 115,
     "metadata": {},
     "output_type": "execute_result"
    }
   ],
   "source": [
    "t = (10,)   # now this is a 1-element tuple\n",
    "type(t)"
   ]
  },
  {
   "cell_type": "code",
   "execution_count": 116,
   "metadata": {},
   "outputs": [
    {
     "data": {
      "text/plain": [
       "(11, 11, 11, 11, 11, 11, 11)"
      ]
     },
     "execution_count": 116,
     "metadata": {},
     "output_type": "execute_result"
    }
   ],
   "source": [
    "(5 + 6,) * 7"
   ]
  },
  {
   "cell_type": "code",
   "execution_count": 117,
   "metadata": {},
   "outputs": [
    {
     "data": {
      "text/plain": [
       "tuple"
      ]
     },
     "execution_count": 117,
     "metadata": {},
     "output_type": "execute_result"
    }
   ],
   "source": [
    "t = 10, 20, 30, 40, 50\n",
    "type(t)"
   ]
  },
  {
   "cell_type": "code",
   "execution_count": 118,
   "metadata": {},
   "outputs": [
    {
     "data": {
      "text/plain": [
       "(10, 20, 30, 40, 50)"
      ]
     },
     "execution_count": 118,
     "metadata": {},
     "output_type": "execute_result"
    }
   ],
   "source": [
    "t"
   ]
  },
  {
   "cell_type": "code",
   "execution_count": 119,
   "metadata": {},
   "outputs": [],
   "source": [
    "t = ([10, 20, 30],\n",
    "     [100, 200, 300])"
   ]
  },
  {
   "cell_type": "code",
   "execution_count": 120,
   "metadata": {},
   "outputs": [
    {
     "data": {
      "text/plain": [
       "([10, 20, 30], [100, 200, 300])"
      ]
     },
     "execution_count": 120,
     "metadata": {},
     "output_type": "execute_result"
    }
   ],
   "source": [
    "t"
   ]
  },
  {
   "cell_type": "code",
   "execution_count": 121,
   "metadata": {},
   "outputs": [],
   "source": [
    "# the list can change, even if the tuple cannot\n",
    "t[0].append(40)"
   ]
  },
  {
   "cell_type": "code",
   "execution_count": 122,
   "metadata": {},
   "outputs": [
    {
     "data": {
      "text/plain": [
       "([10, 20, 30, 40], [100, 200, 300])"
      ]
     },
     "execution_count": 122,
     "metadata": {},
     "output_type": "execute_result"
    }
   ],
   "source": [
    "t"
   ]
  },
  {
   "cell_type": "code",
   "execution_count": 123,
   "metadata": {},
   "outputs": [
    {
     "ename": "TypeError",
     "evalue": "'tuple' object does not support item assignment",
     "output_type": "error",
     "traceback": [
      "\u001b[0;31m---------------------------------------------------------------------------\u001b[0m",
      "\u001b[0;31mTypeError\u001b[0m                                 Traceback (most recent call last)",
      "\u001b[0;32m/var/folders/rr/0mnyyv811fs5vyp22gf4fxk00000gn/T/ipykernel_77565/737403249.py\u001b[0m in \u001b[0;36m<module>\u001b[0;34m\u001b[0m\n\u001b[0;32m----> 1\u001b[0;31m \u001b[0mt\u001b[0m\u001b[0;34m[\u001b[0m\u001b[0;36m0\u001b[0m\u001b[0;34m]\u001b[0m \u001b[0;34m+=\u001b[0m \u001b[0;34m[\u001b[0m\u001b[0;36m50\u001b[0m\u001b[0;34m,\u001b[0m \u001b[0;36m60\u001b[0m\u001b[0;34m,\u001b[0m \u001b[0;36m70\u001b[0m\u001b[0;34m]\u001b[0m\u001b[0;34m\u001b[0m\u001b[0;34m\u001b[0m\u001b[0m\n\u001b[0m",
      "\u001b[0;31mTypeError\u001b[0m: 'tuple' object does not support item assignment"
     ]
    }
   ],
   "source": [
    "t[0] += [50, 60, 70]   # __iadd__ "
   ]
  },
  {
   "cell_type": "code",
   "execution_count": 124,
   "metadata": {},
   "outputs": [
    {
     "data": {
      "text/plain": [
       "([10, 20, 30, 40, 50, 60, 70], [100, 200, 300])"
      ]
     },
     "execution_count": 124,
     "metadata": {},
     "output_type": "execute_result"
    }
   ],
   "source": [
    "t"
   ]
  },
  {
   "cell_type": "code",
   "execution_count": 125,
   "metadata": {},
   "outputs": [
    {
     "data": {
      "text/plain": [
       "'abcdefgh'"
      ]
     },
     "execution_count": 125,
     "metadata": {},
     "output_type": "execute_result"
    }
   ],
   "source": [
    "s = 'abcd'\n",
    "s += 'efgh'\n",
    "\n",
    "s"
   ]
  },
  {
   "cell_type": "code",
   "execution_count": 126,
   "metadata": {},
   "outputs": [
    {
     "data": {
      "text/plain": [
       "(10, 20, 30, 40, 50, 60)"
      ]
     },
     "execution_count": 126,
     "metadata": {},
     "output_type": "execute_result"
    }
   ],
   "source": [
    "t = (10, 20, 30)\n",
    "t += (40, 50, 60)\n",
    "\n",
    "t"
   ]
  },
  {
   "cell_type": "code",
   "execution_count": 127,
   "metadata": {},
   "outputs": [
    {
     "name": "stdout",
     "output_type": "stream",
     "text": [
      "4532385072\n",
      "4516751216\n"
     ]
    }
   ],
   "source": [
    "s = 'abcd'\n",
    "print(f'{id(s)}')\n",
    "s += 'efgh'\n",
    "print(f'{id(s)}')\n"
   ]
  },
  {
   "cell_type": "code",
   "execution_count": 128,
   "metadata": {},
   "outputs": [
    {
     "name": "stdout",
     "output_type": "stream",
     "text": [
      "4532008704\n",
      "4512613184\n"
     ]
    }
   ],
   "source": [
    "t = (10, 20, 30)\n",
    "print(f'{id(t)}')\n",
    "t += (40, 50, 60)\n",
    "print(f'{id(t)}')\n"
   ]
  },
  {
   "cell_type": "code",
   "execution_count": 129,
   "metadata": {},
   "outputs": [],
   "source": [
    "mylist = [10, 20, 30]\n",
    "mylist.append(mylist)"
   ]
  },
  {
   "cell_type": "code",
   "execution_count": 130,
   "metadata": {},
   "outputs": [
    {
     "data": {
      "text/plain": [
       "4"
      ]
     },
     "execution_count": 130,
     "metadata": {},
     "output_type": "execute_result"
    }
   ],
   "source": [
    "len(mylist)"
   ]
  },
  {
   "cell_type": "code",
   "execution_count": 131,
   "metadata": {},
   "outputs": [
    {
     "data": {
      "text/plain": [
       "[10, 20, 30, [...]]"
      ]
     },
     "execution_count": 131,
     "metadata": {},
     "output_type": "execute_result"
    }
   ],
   "source": [
    "mylist"
   ]
  },
  {
   "cell_type": "code",
   "execution_count": 132,
   "metadata": {},
   "outputs": [
    {
     "data": {
      "text/plain": [
       "True"
      ]
     },
     "execution_count": 132,
     "metadata": {},
     "output_type": "execute_result"
    }
   ],
   "source": [
    "mylist is mylist[-1]"
   ]
  },
  {
   "cell_type": "code",
   "execution_count": 133,
   "metadata": {},
   "outputs": [],
   "source": [
    "mylist = [100, 200, 300]"
   ]
  },
  {
   "cell_type": "code",
   "execution_count": 134,
   "metadata": {},
   "outputs": [],
   "source": [
    "# don't do this -- we create lots of unnecessary strings\n",
    "mylist = [[10, 20, 30], \n",
    "         [40, 50, 60], \n",
    "         [70, 80, 90]]\n",
    "\n",
    "\n",
    "output = ''\n",
    "\n",
    "for one_record in mylist:\n",
    "    output += f'{one_record}\\n'"
   ]
  },
  {
   "cell_type": "code",
   "execution_count": 135,
   "metadata": {},
   "outputs": [
    {
     "data": {
      "text/plain": [
       "'[10, 20, 30]\\n[40, 50, 60]\\n[70, 80, 90]\\n'"
      ]
     },
     "execution_count": 135,
     "metadata": {},
     "output_type": "execute_result"
    }
   ],
   "source": [
    "output"
   ]
  },
  {
   "cell_type": "code",
   "execution_count": 138,
   "metadata": {},
   "outputs": [
    {
     "data": {
      "text/plain": [
       "'[10, 20, 30]\\n[40, 50, 60]\\n[70, 80, 90]\\n'"
      ]
     },
     "execution_count": 138,
     "metadata": {},
     "output_type": "execute_result"
    }
   ],
   "source": [
    "# do this, instead!\n",
    "mylist = [[10, 20, 30], \n",
    "         [40, 50, 60], \n",
    "         [70, 80, 90]]\n",
    "\n",
    "\n",
    "output = []\n",
    "\n",
    "for one_record in mylist:\n",
    "    output.append(f'{one_record}\\n')\n",
    "    \n",
    "''.join(output)    "
   ]
  },
  {
   "cell_type": "code",
   "execution_count": 139,
   "metadata": {},
   "outputs": [],
   "source": [
    "name = 'Reuven'"
   ]
  },
  {
   "cell_type": "code",
   "execution_count": 140,
   "metadata": {},
   "outputs": [],
   "source": [
    "# tuples are our structs/records in Python\n",
    "\n",
    "p = ('Reuven', 'Lerner', 46)"
   ]
  },
  {
   "cell_type": "code",
   "execution_count": 141,
   "metadata": {},
   "outputs": [
    {
     "data": {
      "text/plain": [
       "'Reuven'"
      ]
     },
     "execution_count": 141,
     "metadata": {},
     "output_type": "execute_result"
    }
   ],
   "source": [
    "p[0]"
   ]
  },
  {
   "cell_type": "code",
   "execution_count": 142,
   "metadata": {},
   "outputs": [
    {
     "data": {
      "text/plain": [
       "'Lerner'"
      ]
     },
     "execution_count": 142,
     "metadata": {},
     "output_type": "execute_result"
    }
   ],
   "source": [
    "p[1]"
   ]
  },
  {
   "cell_type": "code",
   "execution_count": 143,
   "metadata": {},
   "outputs": [
    {
     "data": {
      "text/plain": [
       "46"
      ]
     },
     "execution_count": 143,
     "metadata": {},
     "output_type": "execute_result"
    }
   ],
   "source": [
    "p[2]"
   ]
  },
  {
   "cell_type": "code",
   "execution_count": 144,
   "metadata": {},
   "outputs": [],
   "source": [
    "# I want tuples because they're efficient\n",
    "# I don't want tuples because they're hard to read/write\n",
    "\n",
    "from collections import namedtuple\n",
    "\n",
    "Person = namedtuple('Person', 'first last shoesize')"
   ]
  },
  {
   "cell_type": "code",
   "execution_count": 145,
   "metadata": {},
   "outputs": [],
   "source": [
    "p = Person('Reuven', 'Lerner', 46)"
   ]
  },
  {
   "cell_type": "code",
   "execution_count": 146,
   "metadata": {},
   "outputs": [
    {
     "data": {
      "text/plain": [
       "Person(first='Reuven', last='Lerner', shoesize=46)"
      ]
     },
     "execution_count": 146,
     "metadata": {},
     "output_type": "execute_result"
    }
   ],
   "source": [
    "p"
   ]
  },
  {
   "cell_type": "code",
   "execution_count": 147,
   "metadata": {},
   "outputs": [
    {
     "data": {
      "text/plain": [
       "'Reuven'"
      ]
     },
     "execution_count": 147,
     "metadata": {},
     "output_type": "execute_result"
    }
   ],
   "source": [
    "p[0]"
   ]
  },
  {
   "cell_type": "code",
   "execution_count": 148,
   "metadata": {},
   "outputs": [
    {
     "data": {
      "text/plain": [
       "'Lerner'"
      ]
     },
     "execution_count": 148,
     "metadata": {},
     "output_type": "execute_result"
    }
   ],
   "source": [
    "p[1]"
   ]
  },
  {
   "cell_type": "code",
   "execution_count": 149,
   "metadata": {},
   "outputs": [
    {
     "data": {
      "text/plain": [
       "46"
      ]
     },
     "execution_count": 149,
     "metadata": {},
     "output_type": "execute_result"
    }
   ],
   "source": [
    "p[2]"
   ]
  },
  {
   "cell_type": "code",
   "execution_count": 150,
   "metadata": {},
   "outputs": [
    {
     "data": {
      "text/plain": [
       "'Reuven'"
      ]
     },
     "execution_count": 150,
     "metadata": {},
     "output_type": "execute_result"
    }
   ],
   "source": [
    "p.first"
   ]
  },
  {
   "cell_type": "code",
   "execution_count": 151,
   "metadata": {},
   "outputs": [
    {
     "data": {
      "text/plain": [
       "'Lerner'"
      ]
     },
     "execution_count": 151,
     "metadata": {},
     "output_type": "execute_result"
    }
   ],
   "source": [
    "p.last"
   ]
  },
  {
   "cell_type": "code",
   "execution_count": 152,
   "metadata": {},
   "outputs": [
    {
     "data": {
      "text/plain": [
       "46"
      ]
     },
     "execution_count": 152,
     "metadata": {},
     "output_type": "execute_result"
    }
   ],
   "source": [
    "p.shoesize"
   ]
  },
  {
   "cell_type": "code",
   "execution_count": 153,
   "metadata": {},
   "outputs": [
    {
     "data": {
      "text/plain": [
       "(tuple,)"
      ]
     },
     "execution_count": 153,
     "metadata": {},
     "output_type": "execute_result"
    }
   ],
   "source": [
    "Person.__bases__"
   ]
  },
  {
   "cell_type": "code",
   "execution_count": 154,
   "metadata": {},
   "outputs": [
    {
     "ename": "AttributeError",
     "evalue": "can't set attribute",
     "output_type": "error",
     "traceback": [
      "\u001b[0;31m---------------------------------------------------------------------------\u001b[0m",
      "\u001b[0;31mAttributeError\u001b[0m                            Traceback (most recent call last)",
      "\u001b[0;32m/var/folders/rr/0mnyyv811fs5vyp22gf4fxk00000gn/T/ipykernel_77565/392465751.py\u001b[0m in \u001b[0;36m<module>\u001b[0;34m\u001b[0m\n\u001b[0;32m----> 1\u001b[0;31m \u001b[0mp\u001b[0m\u001b[0;34m.\u001b[0m\u001b[0mfirst\u001b[0m \u001b[0;34m=\u001b[0m \u001b[0;34m'something else'\u001b[0m\u001b[0;34m\u001b[0m\u001b[0;34m\u001b[0m\u001b[0m\n\u001b[0m",
      "\u001b[0;31mAttributeError\u001b[0m: can't set attribute"
     ]
    }
   ],
   "source": [
    "p.first = 'something else'"
   ]
  },
  {
   "cell_type": "code",
   "execution_count": 156,
   "metadata": {},
   "outputs": [
    {
     "data": {
      "text/plain": [
       "Person(first='something else', last='Lerner', shoesize=46)"
      ]
     },
     "execution_count": 156,
     "metadata": {},
     "output_type": "execute_result"
    }
   ],
   "source": [
    "# we can get a new named tuple with _replace\n",
    "\n",
    "p._replace(first='something else')"
   ]
  },
  {
   "cell_type": "code",
   "execution_count": 158,
   "metadata": {},
   "outputs": [
    {
     "data": {
      "text/plain": [
       "{'first': 'Reuven', 'last': 'Lerner', 'shoesize': 46}"
      ]
     },
     "execution_count": 158,
     "metadata": {},
     "output_type": "execute_result"
    }
   ],
   "source": [
    "p._asdict()"
   ]
  },
  {
   "cell_type": "markdown",
   "metadata": {},
   "source": [
    "# Next up\n",
    "\n",
    "1. Exercise with `namedtuple`\n",
    "2. Dictionaries\n",
    "\n",
    "Resume at 11:45"
   ]
  },
  {
   "cell_type": "markdown",
   "metadata": {},
   "source": [
    "# Exercise: Bookstore\n",
    "\n",
    "1. Create a class, `Book`, using `namedtuple`.  Each `Book` will have three fields: `title`, `author`, and `price`.\n",
    "2. Create a few instances of `Book`, and put them in a list, `inventory`.\n",
    "3. Ask the user, again and again, what book they want to buy (based on the title).\n",
    "    - If they give an empty string, then we stop asking, and print the total\n",
    "    - If they ask for a book that *is* in our inventory, then we print all details, and add the price to the total.\n",
    "    - If they ask for a book that is *not* in our inventory, then scold them and ask them again."
   ]
  },
  {
   "cell_type": "code",
   "execution_count": 159,
   "metadata": {},
   "outputs": [],
   "source": [
    "from collections import namedtuple\n",
    "\n",
    "Book = namedtuple('Book', 'title author price')"
   ]
  },
  {
   "cell_type": "code",
   "execution_count": 161,
   "metadata": {},
   "outputs": [
    {
     "data": {
      "text/plain": [
       "type"
      ]
     },
     "execution_count": 161,
     "metadata": {},
     "output_type": "execute_result"
    }
   ],
   "source": [
    "type(Book)"
   ]
  },
  {
   "cell_type": "code",
   "execution_count": 162,
   "metadata": {},
   "outputs": [
    {
     "data": {
      "text/plain": [
       "'Book'"
      ]
     },
     "execution_count": 162,
     "metadata": {},
     "output_type": "execute_result"
    }
   ],
   "source": [
    "Book.__name__"
   ]
  },
  {
   "cell_type": "code",
   "execution_count": 163,
   "metadata": {},
   "outputs": [
    {
     "data": {
      "text/plain": [
       "'str'"
      ]
     },
     "execution_count": 163,
     "metadata": {},
     "output_type": "execute_result"
    }
   ],
   "source": [
    "str.__name__"
   ]
  },
  {
   "cell_type": "code",
   "execution_count": 164,
   "metadata": {},
   "outputs": [
    {
     "data": {
      "text/plain": [
       "'list'"
      ]
     },
     "execution_count": 164,
     "metadata": {},
     "output_type": "execute_result"
    }
   ],
   "source": [
    "list.__name__"
   ]
  },
  {
   "cell_type": "code",
   "execution_count": 165,
   "metadata": {},
   "outputs": [
    {
     "data": {
      "text/plain": [
       "[Book(title='title1', author='author1', price=50),\n",
       " Book(title='title2', author='author2', price=60),\n",
       " Book(title='title3', author='author2', price=75),\n",
       " Book(title='title4', author='author3', price=100)]"
      ]
     },
     "execution_count": 165,
     "metadata": {},
     "output_type": "execute_result"
    }
   ],
   "source": [
    "b1 = Book('title1', 'author1', 50)\n",
    "b2 = Book('title2', 'author2', 60)\n",
    "b3 = Book('title3', 'author2', 75)\n",
    "b4 = Book('title4', 'author3', 100)\n",
    "\n",
    "inventory = [b1, b2, b3, b4]\n",
    "inventory"
   ]
  },
  {
   "cell_type": "code",
   "execution_count": 166,
   "metadata": {},
   "outputs": [
    {
     "data": {
      "text/plain": [
       "__main__.Book"
      ]
     },
     "execution_count": 166,
     "metadata": {},
     "output_type": "execute_result"
    }
   ],
   "source": [
    "type(b1)"
   ]
  },
  {
   "cell_type": "code",
   "execution_count": 168,
   "metadata": {},
   "outputs": [
    {
     "name": "stdout",
     "output_type": "stream",
     "text": [
      "Enter title: title1\n",
      "Adding title1 by author1, price 50\n",
      "\tTotal is now 50\n",
      "Enter title: title31453253\n",
      "Did not find title31453253\n",
      "Enter title: \n",
      "Total is 50\n"
     ]
    }
   ],
   "source": [
    "total = 0\n",
    "\n",
    "while True:\n",
    "    look_for = input('Enter title: ').strip()\n",
    "    \n",
    "    if not look_for:   # do we have an empty string? If so, exit\n",
    "        break\n",
    "        \n",
    "    found_it = False\n",
    "    for one_book in inventory:\n",
    "        if look_for == one_book.title:\n",
    "            print(f'Adding {one_book.title} by {one_book.author}, price {one_book.price}')\n",
    "            total += one_book.price\n",
    "            print(f'\\tTotal is now {total}')\n",
    "            found_it = True\n",
    "            break\n",
    "            \n",
    "    if not found_it:\n",
    "        print(f'Did not find {look_for}')\n",
    "            \n",
    "print(f'Total is {total}')            "
   ]
  },
  {
   "cell_type": "code",
   "execution_count": 169,
   "metadata": {},
   "outputs": [
    {
     "name": "stdout",
     "output_type": "stream",
     "text": [
      "Enter title: title1\n",
      "Adding title1 by author1, price 50\n",
      "\tTotal is now 50\n",
      "Did not find title1\n",
      "Enter title: title2\n",
      "Adding title2 by author2, price 60\n",
      "\tTotal is now 110\n",
      "Did not find title2\n",
      "Enter title: \n",
      "Total is 110\n"
     ]
    }
   ],
   "source": [
    "# rewrite to use for-else\n",
    "\n",
    "total = 0\n",
    "\n",
    "while True:\n",
    "    look_for = input('Enter title: ').strip()\n",
    "    \n",
    "    if not look_for:   # do we have an empty string? If so, exit\n",
    "        break\n",
    "        \n",
    "    for one_book in inventory:\n",
    "        if look_for == one_book.title:\n",
    "            print(f'Adding {one_book.title} by {one_book.author}, price {one_book.price}')\n",
    "            total += one_book.price\n",
    "            print(f'\\tTotal is now {total}')\n",
    "            break\n",
    "            \n",
    "    else:     # connected to for -- only runs if we didn't exit the for loop with \"break\"\n",
    "        print(f'Did not find {look_for}')\n",
    "            \n",
    "print(f'Total is {total}')            "
   ]
  },
  {
   "cell_type": "code",
   "execution_count": 171,
   "metadata": {},
   "outputs": [
    {
     "name": "stdout",
     "output_type": "stream",
     "text": [
      "Enter title: title1\n",
      "Adding title1 by author1, price 50\n",
      "\tTotal is now 50\n",
      "Enter title: title2\n",
      "Adding title2 by author2, price 60\n",
      "\tTotal is now 110\n",
      "Enter title: title1234513251\n",
      "Did not find title1234513251\n",
      "Enter title: \n",
      "Total is 110\n"
     ]
    }
   ],
   "source": [
    "# :=  \"assignment expression\" or \"walrus\"\n",
    "# both assigns and returns the value as an expression\n",
    "\n",
    "total = 0\n",
    "\n",
    "while look_for := input('Enter title: ').strip():\n",
    "    \n",
    "    for one_book in inventory:\n",
    "        if look_for == one_book.title:\n",
    "            print(f'Adding {one_book.title} by {one_book.author}, price {one_book.price}')\n",
    "            total += one_book.price\n",
    "            print(f'\\tTotal is now {total}')\n",
    "            break\n",
    "            \n",
    "    else:     # connected to for -- only runs if we didn't exit the for loop with \"break\"\n",
    "        print(f'Did not find {look_for}')\n",
    "            \n",
    "print(f'Total is {total}')            "
   ]
  },
  {
   "cell_type": "markdown",
   "metadata": {},
   "source": [
    "# Dictionaries"
   ]
  },
  {
   "cell_type": "code",
   "execution_count": 172,
   "metadata": {},
   "outputs": [
    {
     "data": {
      "text/plain": [
       "{'__name__': '__main__',\n",
       " '__doc__': 'Automatically created module for IPython interactive environment',\n",
       " '__package__': None,\n",
       " '__loader__': None,\n",
       " '__spec__': None,\n",
       " '__builtin__': <module 'builtins' (built-in)>,\n",
       " '__builtins__': <module 'builtins' (built-in)>,\n",
       " '_ih': ['',\n",
       "  '# repl -- read, eval, print loop\\n\\n# Jupyter notebook / Jupyter lab',\n",
       "  'x = 10\\ny = 20\\n\\nprint(x + y)',\n",
       "  'x = 10    # enter\\ny = 20    # enter\\n\\nprint(x + y)  # shift+enter (executes the entire cell)',\n",
       "  'x = 10    # enter\\ny = 30    # enter\\n\\nprint(x + y)  # shift+enter (executes the entire cell)',\n",
       "  'x+y  ',\n",
       "  '# last line of a cell\\n# AND an expression that returns a value\\n# then Jupyter displays the result\\n\\nx+y  ',\n",
       "  '10+10\\n20+20\\n30+30',\n",
       "  'x',\n",
       "  'x = 100\\ny = x\\n\\nx = 200\\ny',\n",
       "  'x = [10, 20, 30]\\ny = x\\n\\nx.append(40)\\ny',\n",
       "  'x = None\\ny = None',\n",
       "  'type(None)',\n",
       "  '# are x and y equal?\\nx == y',\n",
       "  \"if x == y:\\n    print('They are the same!')\",\n",
       "  \"if x == y:    # un-Pythonic\\n    print('They are the same!')\",\n",
       "  \"if x == None:   # un-Pythonic!\\n    print('x is None!')\",\n",
       "  '# there\\'s only one instance of None in all of Python\\n# we can get an object\\'s unique ID with the \"id\" function\\n\\nid(None)',\n",
       "  'id(x)',\n",
       "  'id(y)',\n",
       "  \"if id(x) == id(None):\\n    print('Both are None')\",\n",
       "  \"# the best way to do this\\nif x is None:\\n    print('x is None!')\",\n",
       "  'x = 10\\ny = 10\\n\\nx == y',\n",
       "  'x is y',\n",
       "  'x = 10000\\ny = 10000\\n\\nx == y',\n",
       "  'x is y',\n",
       "  \"x = 'abcd'\\ny = 'abcd'\\n\\nx == y\",\n",
       "  'x is y',\n",
       "  \"x = 'abcd' * 10000\\nx = 'abcd' * 10000\",\n",
       "  \"x = 'abcd' * 10000\\ny = 'abcd' * 10000\",\n",
       "  'x  == y',\n",
       "  'x is y',\n",
       "  \"x = 'a.b'\\ny = 'a.b'\\n\\nx == y\",\n",
       "  'x is y',\n",
       "  \"x = 'hello'\",\n",
       "  \"x = None\\n\\nif x:\\n    print('True-ish')\\nelse:\\n    print('False-ish')\",\n",
       "  'None == False',\n",
       "  'type(None)',\n",
       "  'type(False)',\n",
       "  \"name = input('Enter your name: ').strip()\\n\\nif name:\\n    print(f'Hello, {name}!')\\nelse:\\n    print('Hey!  You did not enter a name!')\",\n",
       "  \"name = input('Enter your name: ').strip()\\n\\nif name:\\n    print(f'Hello, {name}!')\\nelse:\\n    print('Hey!  You did not enter a name!')\",\n",
       "  \"# What's the biggest int in Python?\\n\\nimport sys\",\n",
       "  'x = 0\\nsys.getsizeof(x)  # how many BYTES are in this object?',\n",
       "  'x = 1\\nsys.getsizeof(x)',\n",
       "  'x = 1000\\nsys.getsizeof(x)',\n",
       "  'x = 1_000_000_000\\nsys.getsizeof(x)',\n",
       "  'x = 1_000_000_000_000_000_000\\nsys.getsizeof(x)',\n",
       "  'x = x ** 1000',\n",
       "  'sys.getsizeof(x)',\n",
       "  'x = x ** 1000\\nx',\n",
       "  'x = x ** 1000\\nsys.getsizeof(x)',\n",
       "  'sys.getsizeof(x)',\n",
       "  'x = 100\\nx = x + 1',\n",
       "  'x',\n",
       "  \"s = '123'\\nint(s)   # get an int from the string s\",\n",
       "  '# what if s was in hex?\\nint(s, 16)  # interpret s as a hex string',\n",
       "  'int(s, 8)  # interpret s as an octal string',\n",
       "  '0x123  # another way to enter hex 123',\n",
       "  '0O123',\n",
       "  '0O123   # We need the 0O, not just 0, before octal',\n",
       "  '0b10111011',\n",
       "  'x = 10\\ny = 10.5',\n",
       "  'type(x)',\n",
       "  'type(y)',\n",
       "  'x + y',\n",
       "  '0.1 + 0.2',\n",
       "  '# Solution 1: use round()\\nz = 0.1 + 0.2\\nround(z, 2)',\n",
       "  'z == 0.3',\n",
       "  'round(z, 2) == 0.3',\n",
       "  '# Solution 2: use ints, not floats',\n",
       "  \"# Solution 3: BCD (binary coded decimals)\\n# is slower, and uses more memory... but is accurate\\n\\nfrom decimal import Decimal\\nx = Decimal('0.1')\\ny = Decimal('0.2')\",\n",
       "  'type(x)',\n",
       "  'type(y)',\n",
       "  'x + y',\n",
       "  'float(x+y)',\n",
       "  'x = Decimal(0.1)\\ny = Decimal(0.2)',\n",
       "  'x',\n",
       "  'y',\n",
       "  'x+y',\n",
       "  \"# don't use floats to create your objects of type Decimal!\\nx = Decimal(0.1)\\ny = Decimal(0.2)\",\n",
       "  'x',\n",
       "  'y',\n",
       "  'x+y',\n",
       "  \"s = 'abcdefg'\\nlen(s)\",\n",
       "  \"s = 'שלום'\\nlen9s\",\n",
       "  \"s = 'שלום'\\nlen(s)\",\n",
       "  \"path = 'c:\\\\abcd\\\\efgh\\\\ijkl'\\nprint(path)\",\n",
       "  \"path = 'c:\\\\\\\\abcd\\\\\\\\efgh\\\\\\\\ijkl'\\nprint(path)\",\n",
       "  \"# raw strings do this for us automatically\\npath = r'c:\\\\abcd\\\\efgh\\\\ijkl'\\nprint(path)\",\n",
       "  \"# f-string -- started in Python 3.6\\n\\nx = 'abcd'\\ny = 10\\nz = [10, 20, 30]\\n\\nprint(f'x = {x}, y = {y}, z = {z}')\",\n",
       "  '# any expression can be in the {}',\n",
       "  \"# any expression can be in the {}\\nx = 10\\ny = 15\\n\\nprint(f'{x} + {y} = {x+y}')\",\n",
       "  \"# as of Python 3.8\\nprint(f'{x=}')\",\n",
       "  \"# as of Python 3.8\\nprint(f'{x=}')  # prints the expression and its value\",\n",
       "  \"s = 'abcd'\\nprint(f'{len(s)=}')\",\n",
       "  'mylist = [10, 20, 30, 40, 50]',\n",
       "  'mylist = [10, 20, 30, 40, 50]',\n",
       "  'len(mylist)',\n",
       "  'mylist.append(60)\\nmylist.append(70)\\n\\nlen(mylist)',\n",
       "  \"mylist = []\\n\\nfor i in range(30):\\n    print(f'{i=}, {len(mylist)=}, {sys.getsizeof(mylist)=}')\\n    mylist.append(i)\",\n",
       "  \"for i in range(30):\\n    print(f'{i=}, {len(mylist)=}, {sys.getsizeof(mylist)=}')\\n    mylist.pop()\",\n",
       "  'mylist = [10, 20, 30]\\nbiglist = [mylist, mylist, mylist]',\n",
       "  'len(biglist)',\n",
       "  'biglist',\n",
       "  'mylist.append(40)',\n",
       "  'mylist',\n",
       "  'biglist',\n",
       "  \"mylist[0] = '!'\\nmylist\",\n",
       "  'biglist',\n",
       "  't = (10, 20, 30)\\ntype(t)',\n",
       "  't = (10, 20)\\ntype(t)',\n",
       "  't = (10)\\ntype(t)',\n",
       "  't = ()\\ntype(t)',\n",
       "  '# we can also use () for priority in math operations\\n5 + 6 * 7',\n",
       "  '(5 + 6) * 7',\n",
       "  't = (10,)   # now this is a 1-element tuple\\ntype(t)',\n",
       "  '(5 + 6,) * 7',\n",
       "  't = 10, 20, 30, 40, 50\\ntype(t)',\n",
       "  't',\n",
       "  't = ([10, 20, 30],\\n     [100, 200, 300])',\n",
       "  't',\n",
       "  't[0].append(40)',\n",
       "  't',\n",
       "  't[0] += [50, 60, 70]',\n",
       "  't',\n",
       "  \"s = 'abcd'\\ns += 'efgh'\\n\\ns\",\n",
       "  't = (10,20, 30)\\nt += (40, 50, 60)\\n\\nt',\n",
       "  \"s = 'abcd'\\nprint(f'{id(s)}')\\ns += 'efgh'\\nprint(f'{id(s)}')\",\n",
       "  \"t = (10, 20, 30)\\nprint(f'{id(t)}')\\nt += (40, 50, 60)\\nprint(f'{id(t)}')\",\n",
       "  'mylist = [10, 20, 30]\\nmylist.append(mylist)',\n",
       "  'len(mylist)',\n",
       "  'mylist',\n",
       "  'mylist is mylist[-1]',\n",
       "  'mylist = [100, 200, 300]',\n",
       "  \"mylist = [[10, 20, 30], \\n         [40, 50, 60], \\n         [70, 80, 90]]\\n\\n\\noutput = ''\\n\\nfor one_record in mylist:\\n    output += f'{one_record}\\\\n'\",\n",
       "  'output',\n",
       "  \"mylist = [[10, 20, 30], \\n         [40, 50, 60], \\n         [70, 80, 90]]\\n\\n\\noutput = []\\n\\nfor one_record in mylist:\\n    output.append(f'{one_record}\\\\n')\\n    \\n'\\\\n'.join(output)    \",\n",
       "  \"mylist = [[10, 20, 30], \\n         [40, 50, 60], \\n         [70, 80, 90]]\\n\\n\\noutput = []\\n\\nfor one_record in mylist:\\n    output.append(f'{one_record}\\\\n')\\n    \\n''.join(output)    \",\n",
       "  \"# do this, instead!\\nmylist = [[10, 20, 30], \\n         [40, 50, 60], \\n         [70, 80, 90]]\\n\\n\\noutput = []\\n\\nfor one_record in mylist:\\n    output.append(f'{one_record}\\\\n')\\n    \\n''.join(output)    \",\n",
       "  \"name = 'Reuven'\",\n",
       "  \"# tuples are our structs/records in Python\\n\\np = ('Reuven', 'Lerner', 46)\",\n",
       "  'p[0]',\n",
       "  'p[1]',\n",
       "  'p[2]',\n",
       "  \"# I want tuples because they're efficient\\n# I don't want tuples because they're hard to read/write\\n\\nfrom collections import namedtuple\\n\\nPerson = namedtuple('Person', 'first last shoesize')\",\n",
       "  \"p = Person('Reuven', 'Lerner', 46)\",\n",
       "  'p',\n",
       "  'p[0]',\n",
       "  'p[1]',\n",
       "  'p[2]',\n",
       "  'p.first',\n",
       "  'p.last',\n",
       "  'p.shoesize',\n",
       "  'Person.__bases__',\n",
       "  \"p.first = 'something else'\",\n",
       "  'dir(p)',\n",
       "  \"p._replace(first='something else')\",\n",
       "  'dir(p)',\n",
       "  'p._asdict()',\n",
       "  \"from collections import namedtuple\\n\\nBook = namedtuple('Book', 'title author price')\",\n",
       "  'Book',\n",
       "  'type(Book)',\n",
       "  'Book.__name__',\n",
       "  'str.__name__',\n",
       "  'list.__name__',\n",
       "  \"b1 = Book('title1', 'author1', 50)\\nb2 = Book('title2', 'author2', 60)\\nb3 = Book('title3', 'author2', 75)\\nb4 = Book('title4', 'author3', 100)\\n\\ninventory = [b1, b2, b3, b4]\\ninventory\",\n",
       "  'type(b1)',\n",
       "  \"total = 0\\n\\nwhile True:\\n    look_for = input('Enter title: ').strip()\\n    \\n    if not look_for:   # do we have an empty string? If so, exit\\n        break\\n        \\n    for one_book in inventory:\\n        if look_for == one_book.title:\\n            print(f'Adding {one_book.title} by {one_book.author}, price {one_book.price}')\\n            total += one_book.price\\n            print(f'\\\\tTotal is now {total}')\\n            break\\n            \\nprint(f'Total is {total}')            \",\n",
       "  \"total = 0\\n\\nwhile True:\\n    look_for = input('Enter title: ').strip()\\n    \\n    if not look_for:   # do we have an empty string? If so, exit\\n        break\\n        \\n    found_it = False\\n    for one_book in inventory:\\n        if look_for == one_book.title:\\n            print(f'Adding {one_book.title} by {one_book.author}, price {one_book.price}')\\n            total += one_book.price\\n            print(f'\\\\tTotal is now {total}')\\n            found_it = True\\n            break\\n            \\n    if not found_it:\\n        print(f'Did not find {look_for}')\\n            \\nprint(f'Total is {total}')            \",\n",
       "  \"total = 0\\n\\nwhile True:\\n    look_for = input('Enter title: ').strip()\\n    \\n    if not look_for:   # do we have an empty string? If so, exit\\n        break\\n        \\n    for one_book in inventory:\\n        if look_for == one_book.title:\\n            print(f'Adding {one_book.title} by {one_book.author}, price {one_book.price}')\\n            total += one_book.price\\n            print(f'\\\\tTotal is now {total}')\\n            break\\n            \\n    print(f'Did not find {look_for}')\\n            \\nprint(f'Total is {total}')            \",\n",
       "  'total = 0\\n\\nwhile look_for = input(\\'Enter title: \\').strip():\\n    \\n    for one_book in inventory:\\n        if look_for == one_book.title:\\n            print(f\\'Adding {one_book.title} by {one_book.author}, price {one_book.price}\\')\\n            total += one_book.price\\n            print(f\\'\\\\tTotal is now {total}\\')\\n            break\\n            \\n    else:     # connected to for -- only runs if we didn\\'t exit the for loop with \"break\"\\n        print(f\\'Did not find {look_for}\\')\\n            \\nprint(f\\'Total is {total}\\')            ',\n",
       "  '# :=  \"assignment expression\" or \"walrus\"\\n# both assigns and returns the value as an expression\\n\\ntotal = 0\\n\\nwhile look_for := input(\\'Enter title: \\').strip():\\n    \\n    for one_book in inventory:\\n        if look_for == one_book.title:\\n            print(f\\'Adding {one_book.title} by {one_book.author}, price {one_book.price}\\')\\n            total += one_book.price\\n            print(f\\'\\\\tTotal is now {total}\\')\\n            break\\n            \\n    else:     # connected to for -- only runs if we didn\\'t exit the for loop with \"break\"\\n        print(f\\'Did not find {look_for}\\')\\n            \\nprint(f\\'Total is {total}\\')            ',\n",
       "  '# show the dict of global variables\\nglobals()'],\n",
       " '_oh': {5: 40,\n",
       "  6: 40,\n",
       "  7: 60,\n",
       "  8: 10,\n",
       "  9: 100,\n",
       "  10: [10, 20, 30, 40],\n",
       "  12: NoneType,\n",
       "  13: True,\n",
       "  17: 4475125760,\n",
       "  18: 4475125760,\n",
       "  19: 4475125760,\n",
       "  22: True,\n",
       "  23: True,\n",
       "  24: True,\n",
       "  25: False,\n",
       "  26: True,\n",
       "  27: True,\n",
       "  30: True,\n",
       "  31: False,\n",
       "  32: True,\n",
       "  33: False,\n",
       "  36: False,\n",
       "  37: NoneType,\n",
       "  38: bool,\n",
       "  42: 24,\n",
       "  43: 28,\n",
       "  44: 28,\n",
       "  45: 28,\n",
       "  46: 32,\n",
       "  48: 8000,\n",
       "  51: 8000,\n",
       "  53: 101,\n",
       "  54: 123,\n",
       "  55: 291,\n",
       "  56: 83,\n",
       "  57: 291,\n",
       "  58: 83,\n",
       "  59: 83,\n",
       "  60: 187,\n",
       "  62: int,\n",
       "  63: float,\n",
       "  64: 20.5,\n",
       "  65: 0.30000000000000004,\n",
       "  66: 0.3,\n",
       "  67: False,\n",
       "  68: True,\n",
       "  71: decimal.Decimal,\n",
       "  72: decimal.Decimal,\n",
       "  73: Decimal('0.3'),\n",
       "  74: 0.3,\n",
       "  76: Decimal('0.1000000000000000055511151231257827021181583404541015625'),\n",
       "  77: Decimal('0.200000000000000011102230246251565404236316680908203125'),\n",
       "  78: Decimal('0.3000000000000000166533453694'),\n",
       "  80: Decimal('0.1000000000000000055511151231257827021181583404541015625'),\n",
       "  81: Decimal('0.200000000000000011102230246251565404236316680908203125'),\n",
       "  82: Decimal('0.3000000000000000166533453694'),\n",
       "  83: 7,\n",
       "  85: 4,\n",
       "  97: 5,\n",
       "  98: 7,\n",
       "  102: 3,\n",
       "  103: [['!', 20, 30, 40], ['!', 20, 30, 40], ['!', 20, 30, 40]],\n",
       "  105: ['!', 20, 30, 40],\n",
       "  106: [['!', 20, 30, 40], ['!', 20, 30, 40], ['!', 20, 30, 40]],\n",
       "  107: ['!', 20, 30, 40],\n",
       "  108: [['!', 20, 30, 40], ['!', 20, 30, 40], ['!', 20, 30, 40]],\n",
       "  109: tuple,\n",
       "  110: tuple,\n",
       "  111: int,\n",
       "  112: tuple,\n",
       "  113: 47,\n",
       "  114: 77,\n",
       "  115: tuple,\n",
       "  116: (11, 11, 11, 11, 11, 11, 11),\n",
       "  117: tuple,\n",
       "  118: (10, 20, 30, 40, 50),\n",
       "  120: ([10, 20, 30, 40, 50, 60, 70], [100, 200, 300]),\n",
       "  122: ([10, 20, 30, 40, 50, 60, 70], [100, 200, 300]),\n",
       "  124: ([10, 20, 30, 40, 50, 60, 70], [100, 200, 300]),\n",
       "  125: 'abcdefgh',\n",
       "  126: (10, 20, 30, 40, 50, 60),\n",
       "  130: 4,\n",
       "  131: [10, 20, 30, [...]],\n",
       "  132: True,\n",
       "  135: '[10, 20, 30]\\n[40, 50, 60]\\n[70, 80, 90]\\n',\n",
       "  136: '[10, 20, 30]\\n\\n[40, 50, 60]\\n\\n[70, 80, 90]\\n',\n",
       "  137: '[10, 20, 30]\\n[40, 50, 60]\\n[70, 80, 90]\\n',\n",
       "  138: '[10, 20, 30]\\n[40, 50, 60]\\n[70, 80, 90]\\n',\n",
       "  141: 'Reuven',\n",
       "  142: 'Lerner',\n",
       "  143: 46,\n",
       "  146: Person(first='Reuven', last='Lerner', shoesize=46),\n",
       "  147: 'Reuven',\n",
       "  148: 'Lerner',\n",
       "  149: 46,\n",
       "  150: 'Reuven',\n",
       "  151: 'Lerner',\n",
       "  152: 46,\n",
       "  153: (tuple,),\n",
       "  155: ['__add__',\n",
       "   '__class__',\n",
       "   '__class_getitem__',\n",
       "   '__contains__',\n",
       "   '__delattr__',\n",
       "   '__dir__',\n",
       "   '__doc__',\n",
       "   '__eq__',\n",
       "   '__format__',\n",
       "   '__ge__',\n",
       "   '__getattribute__',\n",
       "   '__getitem__',\n",
       "   '__getnewargs__',\n",
       "   '__gt__',\n",
       "   '__hash__',\n",
       "   '__init__',\n",
       "   '__init_subclass__',\n",
       "   '__iter__',\n",
       "   '__le__',\n",
       "   '__len__',\n",
       "   '__lt__',\n",
       "   '__match_args__',\n",
       "   '__module__',\n",
       "   '__mul__',\n",
       "   '__ne__',\n",
       "   '__new__',\n",
       "   '__reduce__',\n",
       "   '__reduce_ex__',\n",
       "   '__repr__',\n",
       "   '__rmul__',\n",
       "   '__setattr__',\n",
       "   '__sizeof__',\n",
       "   '__slots__',\n",
       "   '__str__',\n",
       "   '__subclasshook__',\n",
       "   '_asdict',\n",
       "   '_field_defaults',\n",
       "   '_fields',\n",
       "   '_make',\n",
       "   '_replace',\n",
       "   'count',\n",
       "   'first',\n",
       "   'index',\n",
       "   'last',\n",
       "   'shoesize'],\n",
       "  156: Person(first='something else', last='Lerner', shoesize=46),\n",
       "  157: ['__add__',\n",
       "   '__class__',\n",
       "   '__class_getitem__',\n",
       "   '__contains__',\n",
       "   '__delattr__',\n",
       "   '__dir__',\n",
       "   '__doc__',\n",
       "   '__eq__',\n",
       "   '__format__',\n",
       "   '__ge__',\n",
       "   '__getattribute__',\n",
       "   '__getitem__',\n",
       "   '__getnewargs__',\n",
       "   '__gt__',\n",
       "   '__hash__',\n",
       "   '__init__',\n",
       "   '__init_subclass__',\n",
       "   '__iter__',\n",
       "   '__le__',\n",
       "   '__len__',\n",
       "   '__lt__',\n",
       "   '__match_args__',\n",
       "   '__module__',\n",
       "   '__mul__',\n",
       "   '__ne__',\n",
       "   '__new__',\n",
       "   '__reduce__',\n",
       "   '__reduce_ex__',\n",
       "   '__repr__',\n",
       "   '__rmul__',\n",
       "   '__setattr__',\n",
       "   '__sizeof__',\n",
       "   '__slots__',\n",
       "   '__str__',\n",
       "   '__subclasshook__',\n",
       "   '_asdict',\n",
       "   '_field_defaults',\n",
       "   '_fields',\n",
       "   '_make',\n",
       "   '_replace',\n",
       "   'count',\n",
       "   'first',\n",
       "   'index',\n",
       "   'last',\n",
       "   'shoesize'],\n",
       "  158: {'first': 'Reuven', 'last': 'Lerner', 'shoesize': 46},\n",
       "  160: __main__.Book,\n",
       "  161: type,\n",
       "  162: 'Book',\n",
       "  163: 'str',\n",
       "  164: 'list',\n",
       "  165: [Book(title='title1', author='author1', price=50),\n",
       "   Book(title='title2', author='author2', price=60),\n",
       "   Book(title='title3', author='author2', price=75),\n",
       "   Book(title='title4', author='author3', price=100)],\n",
       "  166: __main__.Book},\n",
       " '_dh': ['/Users/reuven/Courses/Current/Apple-2022-q1'],\n",
       " 'In': ['',\n",
       "  '# repl -- read, eval, print loop\\n\\n# Jupyter notebook / Jupyter lab',\n",
       "  'x = 10\\ny = 20\\n\\nprint(x + y)',\n",
       "  'x = 10    # enter\\ny = 20    # enter\\n\\nprint(x + y)  # shift+enter (executes the entire cell)',\n",
       "  'x = 10    # enter\\ny = 30    # enter\\n\\nprint(x + y)  # shift+enter (executes the entire cell)',\n",
       "  'x+y  ',\n",
       "  '# last line of a cell\\n# AND an expression that returns a value\\n# then Jupyter displays the result\\n\\nx+y  ',\n",
       "  '10+10\\n20+20\\n30+30',\n",
       "  'x',\n",
       "  'x = 100\\ny = x\\n\\nx = 200\\ny',\n",
       "  'x = [10, 20, 30]\\ny = x\\n\\nx.append(40)\\ny',\n",
       "  'x = None\\ny = None',\n",
       "  'type(None)',\n",
       "  '# are x and y equal?\\nx == y',\n",
       "  \"if x == y:\\n    print('They are the same!')\",\n",
       "  \"if x == y:    # un-Pythonic\\n    print('They are the same!')\",\n",
       "  \"if x == None:   # un-Pythonic!\\n    print('x is None!')\",\n",
       "  '# there\\'s only one instance of None in all of Python\\n# we can get an object\\'s unique ID with the \"id\" function\\n\\nid(None)',\n",
       "  'id(x)',\n",
       "  'id(y)',\n",
       "  \"if id(x) == id(None):\\n    print('Both are None')\",\n",
       "  \"# the best way to do this\\nif x is None:\\n    print('x is None!')\",\n",
       "  'x = 10\\ny = 10\\n\\nx == y',\n",
       "  'x is y',\n",
       "  'x = 10000\\ny = 10000\\n\\nx == y',\n",
       "  'x is y',\n",
       "  \"x = 'abcd'\\ny = 'abcd'\\n\\nx == y\",\n",
       "  'x is y',\n",
       "  \"x = 'abcd' * 10000\\nx = 'abcd' * 10000\",\n",
       "  \"x = 'abcd' * 10000\\ny = 'abcd' * 10000\",\n",
       "  'x  == y',\n",
       "  'x is y',\n",
       "  \"x = 'a.b'\\ny = 'a.b'\\n\\nx == y\",\n",
       "  'x is y',\n",
       "  \"x = 'hello'\",\n",
       "  \"x = None\\n\\nif x:\\n    print('True-ish')\\nelse:\\n    print('False-ish')\",\n",
       "  'None == False',\n",
       "  'type(None)',\n",
       "  'type(False)',\n",
       "  \"name = input('Enter your name: ').strip()\\n\\nif name:\\n    print(f'Hello, {name}!')\\nelse:\\n    print('Hey!  You did not enter a name!')\",\n",
       "  \"name = input('Enter your name: ').strip()\\n\\nif name:\\n    print(f'Hello, {name}!')\\nelse:\\n    print('Hey!  You did not enter a name!')\",\n",
       "  \"# What's the biggest int in Python?\\n\\nimport sys\",\n",
       "  'x = 0\\nsys.getsizeof(x)  # how many BYTES are in this object?',\n",
       "  'x = 1\\nsys.getsizeof(x)',\n",
       "  'x = 1000\\nsys.getsizeof(x)',\n",
       "  'x = 1_000_000_000\\nsys.getsizeof(x)',\n",
       "  'x = 1_000_000_000_000_000_000\\nsys.getsizeof(x)',\n",
       "  'x = x ** 1000',\n",
       "  'sys.getsizeof(x)',\n",
       "  'x = x ** 1000\\nx',\n",
       "  'x = x ** 1000\\nsys.getsizeof(x)',\n",
       "  'sys.getsizeof(x)',\n",
       "  'x = 100\\nx = x + 1',\n",
       "  'x',\n",
       "  \"s = '123'\\nint(s)   # get an int from the string s\",\n",
       "  '# what if s was in hex?\\nint(s, 16)  # interpret s as a hex string',\n",
       "  'int(s, 8)  # interpret s as an octal string',\n",
       "  '0x123  # another way to enter hex 123',\n",
       "  '0O123',\n",
       "  '0O123   # We need the 0O, not just 0, before octal',\n",
       "  '0b10111011',\n",
       "  'x = 10\\ny = 10.5',\n",
       "  'type(x)',\n",
       "  'type(y)',\n",
       "  'x + y',\n",
       "  '0.1 + 0.2',\n",
       "  '# Solution 1: use round()\\nz = 0.1 + 0.2\\nround(z, 2)',\n",
       "  'z == 0.3',\n",
       "  'round(z, 2) == 0.3',\n",
       "  '# Solution 2: use ints, not floats',\n",
       "  \"# Solution 3: BCD (binary coded decimals)\\n# is slower, and uses more memory... but is accurate\\n\\nfrom decimal import Decimal\\nx = Decimal('0.1')\\ny = Decimal('0.2')\",\n",
       "  'type(x)',\n",
       "  'type(y)',\n",
       "  'x + y',\n",
       "  'float(x+y)',\n",
       "  'x = Decimal(0.1)\\ny = Decimal(0.2)',\n",
       "  'x',\n",
       "  'y',\n",
       "  'x+y',\n",
       "  \"# don't use floats to create your objects of type Decimal!\\nx = Decimal(0.1)\\ny = Decimal(0.2)\",\n",
       "  'x',\n",
       "  'y',\n",
       "  'x+y',\n",
       "  \"s = 'abcdefg'\\nlen(s)\",\n",
       "  \"s = 'שלום'\\nlen9s\",\n",
       "  \"s = 'שלום'\\nlen(s)\",\n",
       "  \"path = 'c:\\\\abcd\\\\efgh\\\\ijkl'\\nprint(path)\",\n",
       "  \"path = 'c:\\\\\\\\abcd\\\\\\\\efgh\\\\\\\\ijkl'\\nprint(path)\",\n",
       "  \"# raw strings do this for us automatically\\npath = r'c:\\\\abcd\\\\efgh\\\\ijkl'\\nprint(path)\",\n",
       "  \"# f-string -- started in Python 3.6\\n\\nx = 'abcd'\\ny = 10\\nz = [10, 20, 30]\\n\\nprint(f'x = {x}, y = {y}, z = {z}')\",\n",
       "  '# any expression can be in the {}',\n",
       "  \"# any expression can be in the {}\\nx = 10\\ny = 15\\n\\nprint(f'{x} + {y} = {x+y}')\",\n",
       "  \"# as of Python 3.8\\nprint(f'{x=}')\",\n",
       "  \"# as of Python 3.8\\nprint(f'{x=}')  # prints the expression and its value\",\n",
       "  \"s = 'abcd'\\nprint(f'{len(s)=}')\",\n",
       "  'mylist = [10, 20, 30, 40, 50]',\n",
       "  'mylist = [10, 20, 30, 40, 50]',\n",
       "  'len(mylist)',\n",
       "  'mylist.append(60)\\nmylist.append(70)\\n\\nlen(mylist)',\n",
       "  \"mylist = []\\n\\nfor i in range(30):\\n    print(f'{i=}, {len(mylist)=}, {sys.getsizeof(mylist)=}')\\n    mylist.append(i)\",\n",
       "  \"for i in range(30):\\n    print(f'{i=}, {len(mylist)=}, {sys.getsizeof(mylist)=}')\\n    mylist.pop()\",\n",
       "  'mylist = [10, 20, 30]\\nbiglist = [mylist, mylist, mylist]',\n",
       "  'len(biglist)',\n",
       "  'biglist',\n",
       "  'mylist.append(40)',\n",
       "  'mylist',\n",
       "  'biglist',\n",
       "  \"mylist[0] = '!'\\nmylist\",\n",
       "  'biglist',\n",
       "  't = (10, 20, 30)\\ntype(t)',\n",
       "  't = (10, 20)\\ntype(t)',\n",
       "  't = (10)\\ntype(t)',\n",
       "  't = ()\\ntype(t)',\n",
       "  '# we can also use () for priority in math operations\\n5 + 6 * 7',\n",
       "  '(5 + 6) * 7',\n",
       "  't = (10,)   # now this is a 1-element tuple\\ntype(t)',\n",
       "  '(5 + 6,) * 7',\n",
       "  't = 10, 20, 30, 40, 50\\ntype(t)',\n",
       "  't',\n",
       "  't = ([10, 20, 30],\\n     [100, 200, 300])',\n",
       "  't',\n",
       "  't[0].append(40)',\n",
       "  't',\n",
       "  't[0] += [50, 60, 70]',\n",
       "  't',\n",
       "  \"s = 'abcd'\\ns += 'efgh'\\n\\ns\",\n",
       "  't = (10,20, 30)\\nt += (40, 50, 60)\\n\\nt',\n",
       "  \"s = 'abcd'\\nprint(f'{id(s)}')\\ns += 'efgh'\\nprint(f'{id(s)}')\",\n",
       "  \"t = (10, 20, 30)\\nprint(f'{id(t)}')\\nt += (40, 50, 60)\\nprint(f'{id(t)}')\",\n",
       "  'mylist = [10, 20, 30]\\nmylist.append(mylist)',\n",
       "  'len(mylist)',\n",
       "  'mylist',\n",
       "  'mylist is mylist[-1]',\n",
       "  'mylist = [100, 200, 300]',\n",
       "  \"mylist = [[10, 20, 30], \\n         [40, 50, 60], \\n         [70, 80, 90]]\\n\\n\\noutput = ''\\n\\nfor one_record in mylist:\\n    output += f'{one_record}\\\\n'\",\n",
       "  'output',\n",
       "  \"mylist = [[10, 20, 30], \\n         [40, 50, 60], \\n         [70, 80, 90]]\\n\\n\\noutput = []\\n\\nfor one_record in mylist:\\n    output.append(f'{one_record}\\\\n')\\n    \\n'\\\\n'.join(output)    \",\n",
       "  \"mylist = [[10, 20, 30], \\n         [40, 50, 60], \\n         [70, 80, 90]]\\n\\n\\noutput = []\\n\\nfor one_record in mylist:\\n    output.append(f'{one_record}\\\\n')\\n    \\n''.join(output)    \",\n",
       "  \"# do this, instead!\\nmylist = [[10, 20, 30], \\n         [40, 50, 60], \\n         [70, 80, 90]]\\n\\n\\noutput = []\\n\\nfor one_record in mylist:\\n    output.append(f'{one_record}\\\\n')\\n    \\n''.join(output)    \",\n",
       "  \"name = 'Reuven'\",\n",
       "  \"# tuples are our structs/records in Python\\n\\np = ('Reuven', 'Lerner', 46)\",\n",
       "  'p[0]',\n",
       "  'p[1]',\n",
       "  'p[2]',\n",
       "  \"# I want tuples because they're efficient\\n# I don't want tuples because they're hard to read/write\\n\\nfrom collections import namedtuple\\n\\nPerson = namedtuple('Person', 'first last shoesize')\",\n",
       "  \"p = Person('Reuven', 'Lerner', 46)\",\n",
       "  'p',\n",
       "  'p[0]',\n",
       "  'p[1]',\n",
       "  'p[2]',\n",
       "  'p.first',\n",
       "  'p.last',\n",
       "  'p.shoesize',\n",
       "  'Person.__bases__',\n",
       "  \"p.first = 'something else'\",\n",
       "  'dir(p)',\n",
       "  \"p._replace(first='something else')\",\n",
       "  'dir(p)',\n",
       "  'p._asdict()',\n",
       "  \"from collections import namedtuple\\n\\nBook = namedtuple('Book', 'title author price')\",\n",
       "  'Book',\n",
       "  'type(Book)',\n",
       "  'Book.__name__',\n",
       "  'str.__name__',\n",
       "  'list.__name__',\n",
       "  \"b1 = Book('title1', 'author1', 50)\\nb2 = Book('title2', 'author2', 60)\\nb3 = Book('title3', 'author2', 75)\\nb4 = Book('title4', 'author3', 100)\\n\\ninventory = [b1, b2, b3, b4]\\ninventory\",\n",
       "  'type(b1)',\n",
       "  \"total = 0\\n\\nwhile True:\\n    look_for = input('Enter title: ').strip()\\n    \\n    if not look_for:   # do we have an empty string? If so, exit\\n        break\\n        \\n    for one_book in inventory:\\n        if look_for == one_book.title:\\n            print(f'Adding {one_book.title} by {one_book.author}, price {one_book.price}')\\n            total += one_book.price\\n            print(f'\\\\tTotal is now {total}')\\n            break\\n            \\nprint(f'Total is {total}')            \",\n",
       "  \"total = 0\\n\\nwhile True:\\n    look_for = input('Enter title: ').strip()\\n    \\n    if not look_for:   # do we have an empty string? If so, exit\\n        break\\n        \\n    found_it = False\\n    for one_book in inventory:\\n        if look_for == one_book.title:\\n            print(f'Adding {one_book.title} by {one_book.author}, price {one_book.price}')\\n            total += one_book.price\\n            print(f'\\\\tTotal is now {total}')\\n            found_it = True\\n            break\\n            \\n    if not found_it:\\n        print(f'Did not find {look_for}')\\n            \\nprint(f'Total is {total}')            \",\n",
       "  \"total = 0\\n\\nwhile True:\\n    look_for = input('Enter title: ').strip()\\n    \\n    if not look_for:   # do we have an empty string? If so, exit\\n        break\\n        \\n    for one_book in inventory:\\n        if look_for == one_book.title:\\n            print(f'Adding {one_book.title} by {one_book.author}, price {one_book.price}')\\n            total += one_book.price\\n            print(f'\\\\tTotal is now {total}')\\n            break\\n            \\n    print(f'Did not find {look_for}')\\n            \\nprint(f'Total is {total}')            \",\n",
       "  'total = 0\\n\\nwhile look_for = input(\\'Enter title: \\').strip():\\n    \\n    for one_book in inventory:\\n        if look_for == one_book.title:\\n            print(f\\'Adding {one_book.title} by {one_book.author}, price {one_book.price}\\')\\n            total += one_book.price\\n            print(f\\'\\\\tTotal is now {total}\\')\\n            break\\n            \\n    else:     # connected to for -- only runs if we didn\\'t exit the for loop with \"break\"\\n        print(f\\'Did not find {look_for}\\')\\n            \\nprint(f\\'Total is {total}\\')            ',\n",
       "  '# :=  \"assignment expression\" or \"walrus\"\\n# both assigns and returns the value as an expression\\n\\ntotal = 0\\n\\nwhile look_for := input(\\'Enter title: \\').strip():\\n    \\n    for one_book in inventory:\\n        if look_for == one_book.title:\\n            print(f\\'Adding {one_book.title} by {one_book.author}, price {one_book.price}\\')\\n            total += one_book.price\\n            print(f\\'\\\\tTotal is now {total}\\')\\n            break\\n            \\n    else:     # connected to for -- only runs if we didn\\'t exit the for loop with \"break\"\\n        print(f\\'Did not find {look_for}\\')\\n            \\nprint(f\\'Total is {total}\\')            ',\n",
       "  '# show the dict of global variables\\nglobals()'],\n",
       " 'Out': {5: 40,\n",
       "  6: 40,\n",
       "  7: 60,\n",
       "  8: 10,\n",
       "  9: 100,\n",
       "  10: [10, 20, 30, 40],\n",
       "  12: NoneType,\n",
       "  13: True,\n",
       "  17: 4475125760,\n",
       "  18: 4475125760,\n",
       "  19: 4475125760,\n",
       "  22: True,\n",
       "  23: True,\n",
       "  24: True,\n",
       "  25: False,\n",
       "  26: True,\n",
       "  27: True,\n",
       "  30: True,\n",
       "  31: False,\n",
       "  32: True,\n",
       "  33: False,\n",
       "  36: False,\n",
       "  37: NoneType,\n",
       "  38: bool,\n",
       "  42: 24,\n",
       "  43: 28,\n",
       "  44: 28,\n",
       "  45: 28,\n",
       "  46: 32,\n",
       "  48: 8000,\n",
       "  51: 8000,\n",
       "  53: 101,\n",
       "  54: 123,\n",
       "  55: 291,\n",
       "  56: 83,\n",
       "  57: 291,\n",
       "  58: 83,\n",
       "  59: 83,\n",
       "  60: 187,\n",
       "  62: int,\n",
       "  63: float,\n",
       "  64: 20.5,\n",
       "  65: 0.30000000000000004,\n",
       "  66: 0.3,\n",
       "  67: False,\n",
       "  68: True,\n",
       "  71: decimal.Decimal,\n",
       "  72: decimal.Decimal,\n",
       "  73: Decimal('0.3'),\n",
       "  74: 0.3,\n",
       "  76: Decimal('0.1000000000000000055511151231257827021181583404541015625'),\n",
       "  77: Decimal('0.200000000000000011102230246251565404236316680908203125'),\n",
       "  78: Decimal('0.3000000000000000166533453694'),\n",
       "  80: Decimal('0.1000000000000000055511151231257827021181583404541015625'),\n",
       "  81: Decimal('0.200000000000000011102230246251565404236316680908203125'),\n",
       "  82: Decimal('0.3000000000000000166533453694'),\n",
       "  83: 7,\n",
       "  85: 4,\n",
       "  97: 5,\n",
       "  98: 7,\n",
       "  102: 3,\n",
       "  103: [['!', 20, 30, 40], ['!', 20, 30, 40], ['!', 20, 30, 40]],\n",
       "  105: ['!', 20, 30, 40],\n",
       "  106: [['!', 20, 30, 40], ['!', 20, 30, 40], ['!', 20, 30, 40]],\n",
       "  107: ['!', 20, 30, 40],\n",
       "  108: [['!', 20, 30, 40], ['!', 20, 30, 40], ['!', 20, 30, 40]],\n",
       "  109: tuple,\n",
       "  110: tuple,\n",
       "  111: int,\n",
       "  112: tuple,\n",
       "  113: 47,\n",
       "  114: 77,\n",
       "  115: tuple,\n",
       "  116: (11, 11, 11, 11, 11, 11, 11),\n",
       "  117: tuple,\n",
       "  118: (10, 20, 30, 40, 50),\n",
       "  120: ([10, 20, 30, 40, 50, 60, 70], [100, 200, 300]),\n",
       "  122: ([10, 20, 30, 40, 50, 60, 70], [100, 200, 300]),\n",
       "  124: ([10, 20, 30, 40, 50, 60, 70], [100, 200, 300]),\n",
       "  125: 'abcdefgh',\n",
       "  126: (10, 20, 30, 40, 50, 60),\n",
       "  130: 4,\n",
       "  131: [10, 20, 30, [...]],\n",
       "  132: True,\n",
       "  135: '[10, 20, 30]\\n[40, 50, 60]\\n[70, 80, 90]\\n',\n",
       "  136: '[10, 20, 30]\\n\\n[40, 50, 60]\\n\\n[70, 80, 90]\\n',\n",
       "  137: '[10, 20, 30]\\n[40, 50, 60]\\n[70, 80, 90]\\n',\n",
       "  138: '[10, 20, 30]\\n[40, 50, 60]\\n[70, 80, 90]\\n',\n",
       "  141: 'Reuven',\n",
       "  142: 'Lerner',\n",
       "  143: 46,\n",
       "  146: Person(first='Reuven', last='Lerner', shoesize=46),\n",
       "  147: 'Reuven',\n",
       "  148: 'Lerner',\n",
       "  149: 46,\n",
       "  150: 'Reuven',\n",
       "  151: 'Lerner',\n",
       "  152: 46,\n",
       "  153: (tuple,),\n",
       "  155: ['__add__',\n",
       "   '__class__',\n",
       "   '__class_getitem__',\n",
       "   '__contains__',\n",
       "   '__delattr__',\n",
       "   '__dir__',\n",
       "   '__doc__',\n",
       "   '__eq__',\n",
       "   '__format__',\n",
       "   '__ge__',\n",
       "   '__getattribute__',\n",
       "   '__getitem__',\n",
       "   '__getnewargs__',\n",
       "   '__gt__',\n",
       "   '__hash__',\n",
       "   '__init__',\n",
       "   '__init_subclass__',\n",
       "   '__iter__',\n",
       "   '__le__',\n",
       "   '__len__',\n",
       "   '__lt__',\n",
       "   '__match_args__',\n",
       "   '__module__',\n",
       "   '__mul__',\n",
       "   '__ne__',\n",
       "   '__new__',\n",
       "   '__reduce__',\n",
       "   '__reduce_ex__',\n",
       "   '__repr__',\n",
       "   '__rmul__',\n",
       "   '__setattr__',\n",
       "   '__sizeof__',\n",
       "   '__slots__',\n",
       "   '__str__',\n",
       "   '__subclasshook__',\n",
       "   '_asdict',\n",
       "   '_field_defaults',\n",
       "   '_fields',\n",
       "   '_make',\n",
       "   '_replace',\n",
       "   'count',\n",
       "   'first',\n",
       "   'index',\n",
       "   'last',\n",
       "   'shoesize'],\n",
       "  156: Person(first='something else', last='Lerner', shoesize=46),\n",
       "  157: ['__add__',\n",
       "   '__class__',\n",
       "   '__class_getitem__',\n",
       "   '__contains__',\n",
       "   '__delattr__',\n",
       "   '__dir__',\n",
       "   '__doc__',\n",
       "   '__eq__',\n",
       "   '__format__',\n",
       "   '__ge__',\n",
       "   '__getattribute__',\n",
       "   '__getitem__',\n",
       "   '__getnewargs__',\n",
       "   '__gt__',\n",
       "   '__hash__',\n",
       "   '__init__',\n",
       "   '__init_subclass__',\n",
       "   '__iter__',\n",
       "   '__le__',\n",
       "   '__len__',\n",
       "   '__lt__',\n",
       "   '__match_args__',\n",
       "   '__module__',\n",
       "   '__mul__',\n",
       "   '__ne__',\n",
       "   '__new__',\n",
       "   '__reduce__',\n",
       "   '__reduce_ex__',\n",
       "   '__repr__',\n",
       "   '__rmul__',\n",
       "   '__setattr__',\n",
       "   '__sizeof__',\n",
       "   '__slots__',\n",
       "   '__str__',\n",
       "   '__subclasshook__',\n",
       "   '_asdict',\n",
       "   '_field_defaults',\n",
       "   '_fields',\n",
       "   '_make',\n",
       "   '_replace',\n",
       "   'count',\n",
       "   'first',\n",
       "   'index',\n",
       "   'last',\n",
       "   'shoesize'],\n",
       "  158: {'first': 'Reuven', 'last': 'Lerner', 'shoesize': 46},\n",
       "  160: __main__.Book,\n",
       "  161: type,\n",
       "  162: 'Book',\n",
       "  163: 'str',\n",
       "  164: 'list',\n",
       "  165: [Book(title='title1', author='author1', price=50),\n",
       "   Book(title='title2', author='author2', price=60),\n",
       "   Book(title='title3', author='author2', price=75),\n",
       "   Book(title='title4', author='author3', price=100)],\n",
       "  166: __main__.Book},\n",
       " 'get_ipython': <bound method InteractiveShell.get_ipython of <ipykernel.zmqshell.ZMQInteractiveShell object at 0x10cf17ee0>>,\n",
       " 'exit': <IPython.core.autocall.ZMQExitAutocall at 0x10cf17220>,\n",
       " 'quit': <IPython.core.autocall.ZMQExitAutocall at 0x10cf17220>,\n",
       " '_': __main__.Book,\n",
       " '__': [Book(title='title1', author='author1', price=50),\n",
       "  Book(title='title2', author='author2', price=60),\n",
       "  Book(title='title3', author='author2', price=75),\n",
       "  Book(title='title4', author='author3', price=100)],\n",
       " '___': 'list',\n",
       " '_i': '# :=  \"assignment expression\" or \"walrus\"\\n# both assigns and returns the value as an expression\\n\\ntotal = 0\\n\\nwhile look_for := input(\\'Enter title: \\').strip():\\n    \\n    for one_book in inventory:\\n        if look_for == one_book.title:\\n            print(f\\'Adding {one_book.title} by {one_book.author}, price {one_book.price}\\')\\n            total += one_book.price\\n            print(f\\'\\\\tTotal is now {total}\\')\\n            break\\n            \\n    else:     # connected to for -- only runs if we didn\\'t exit the for loop with \"break\"\\n        print(f\\'Did not find {look_for}\\')\\n            \\nprint(f\\'Total is {total}\\')            ',\n",
       " '_ii': 'total = 0\\n\\nwhile look_for = input(\\'Enter title: \\').strip():\\n    \\n    for one_book in inventory:\\n        if look_for == one_book.title:\\n            print(f\\'Adding {one_book.title} by {one_book.author}, price {one_book.price}\\')\\n            total += one_book.price\\n            print(f\\'\\\\tTotal is now {total}\\')\\n            break\\n            \\n    else:     # connected to for -- only runs if we didn\\'t exit the for loop with \"break\"\\n        print(f\\'Did not find {look_for}\\')\\n            \\nprint(f\\'Total is {total}\\')            ',\n",
       " '_iii': \"total = 0\\n\\nwhile True:\\n    look_for = input('Enter title: ').strip()\\n    \\n    if not look_for:   # do we have an empty string? If so, exit\\n        break\\n        \\n    for one_book in inventory:\\n        if look_for == one_book.title:\\n            print(f'Adding {one_book.title} by {one_book.author}, price {one_book.price}')\\n            total += one_book.price\\n            print(f'\\\\tTotal is now {total}')\\n            break\\n            \\n    print(f'Did not find {look_for}')\\n            \\nprint(f'Total is {total}')            \",\n",
       " '_i1': '# repl -- read, eval, print loop\\n\\n# Jupyter notebook / Jupyter lab',\n",
       " '_i2': 'x = 10\\ny = 20\\n\\nprint(x + y)',\n",
       " 'x': 10,\n",
       " 'y': 15,\n",
       " '_i3': 'x = 10    # enter\\ny = 20    # enter\\n\\nprint(x + y)  # shift+enter (executes the entire cell)',\n",
       " '_i4': 'x = 10    # enter\\ny = 30    # enter\\n\\nprint(x + y)  # shift+enter (executes the entire cell)',\n",
       " '_i5': 'x+y  ',\n",
       " '_5': 40,\n",
       " '_i6': '# last line of a cell\\n# AND an expression that returns a value\\n# then Jupyter displays the result\\n\\nx+y  ',\n",
       " '_6': 40,\n",
       " '_i7': '10+10\\n20+20\\n30+30',\n",
       " '_7': 60,\n",
       " '_i8': 'x',\n",
       " '_8': 10,\n",
       " '_i9': 'x = 100\\ny = x\\n\\nx = 200\\ny',\n",
       " '_9': 100,\n",
       " '_i10': 'x = [10, 20, 30]\\ny = x\\n\\nx.append(40)\\ny',\n",
       " '_10': [10, 20, 30, 40],\n",
       " '_i11': 'x = None\\ny = None',\n",
       " '_i12': 'type(None)',\n",
       " '_12': NoneType,\n",
       " '_i13': '# are x and y equal?\\nx == y',\n",
       " '_13': True,\n",
       " '_i14': \"if x == y:\\n    print('They are the same!')\",\n",
       " '_i15': \"if x == y:    # un-Pythonic\\n    print('They are the same!')\",\n",
       " '_i16': \"if x == None:   # un-Pythonic!\\n    print('x is None!')\",\n",
       " '_i17': '# there\\'s only one instance of None in all of Python\\n# we can get an object\\'s unique ID with the \"id\" function\\n\\nid(None)',\n",
       " '_17': 4475125760,\n",
       " '_i18': 'id(x)',\n",
       " '_18': 4475125760,\n",
       " '_i19': 'id(y)',\n",
       " '_19': 4475125760,\n",
       " '_i20': \"if id(x) == id(None):\\n    print('Both are None')\",\n",
       " '_i21': \"# the best way to do this\\nif x is None:\\n    print('x is None!')\",\n",
       " '_i22': 'x = 10\\ny = 10\\n\\nx == y',\n",
       " '_22': True,\n",
       " '_i23': 'x is y',\n",
       " '_23': True,\n",
       " '_i24': 'x = 10000\\ny = 10000\\n\\nx == y',\n",
       " '_24': True,\n",
       " '_i25': 'x is y',\n",
       " '_25': False,\n",
       " '_i26': \"x = 'abcd'\\ny = 'abcd'\\n\\nx == y\",\n",
       " '_26': True,\n",
       " '_i27': 'x is y',\n",
       " '_27': True,\n",
       " '_i28': \"x = 'abcd' * 10000\\nx = 'abcd' * 10000\",\n",
       " '_i29': \"x = 'abcd' * 10000\\ny = 'abcd' * 10000\",\n",
       " '_i30': 'x  == y',\n",
       " '_30': True,\n",
       " '_i31': 'x is y',\n",
       " '_31': False,\n",
       " '_i32': \"x = 'a.b'\\ny = 'a.b'\\n\\nx == y\",\n",
       " '_32': True,\n",
       " '_i33': 'x is y',\n",
       " '_33': False,\n",
       " '_i34': \"x = 'hello'\",\n",
       " '_i35': \"x = None\\n\\nif x:\\n    print('True-ish')\\nelse:\\n    print('False-ish')\",\n",
       " '_i36': 'None == False',\n",
       " '_36': False,\n",
       " '_i37': 'type(None)',\n",
       " '_37': NoneType,\n",
       " '_i38': 'type(False)',\n",
       " '_38': bool,\n",
       " '_i39': \"name = input('Enter your name: ').strip()\\n\\nif name:\\n    print(f'Hello, {name}!')\\nelse:\\n    print('Hey!  You did not enter a name!')\",\n",
       " 'name': 'Reuven',\n",
       " '_i40': \"name = input('Enter your name: ').strip()\\n\\nif name:\\n    print(f'Hello, {name}!')\\nelse:\\n    print('Hey!  You did not enter a name!')\",\n",
       " '_i41': \"# What's the biggest int in Python?\\n\\nimport sys\",\n",
       " 'sys': <module 'sys' (built-in)>,\n",
       " '_i42': 'x = 0\\nsys.getsizeof(x)  # how many BYTES are in this object?',\n",
       " '_42': 24,\n",
       " '_i43': 'x = 1\\nsys.getsizeof(x)',\n",
       " '_43': 28,\n",
       " '_i44': 'x = 1000\\nsys.getsizeof(x)',\n",
       " '_44': 28,\n",
       " '_i45': 'x = 1_000_000_000\\nsys.getsizeof(x)',\n",
       " '_45': 28,\n",
       " '_i46': 'x = 1_000_000_000_000_000_000\\nsys.getsizeof(x)',\n",
       " '_46': 32,\n",
       " '_i47': 'x = x ** 1000',\n",
       " '_i48': 'sys.getsizeof(x)',\n",
       " '_48': 8000,\n",
       " '_i49': 'x = x ** 1000\\nx',\n",
       " '_i50': 'x = x ** 1000\\nsys.getsizeof(x)',\n",
       " '_i51': 'sys.getsizeof(x)',\n",
       " '_51': 8000,\n",
       " '_i52': 'x = 100\\nx = x + 1',\n",
       " '_i53': 'x',\n",
       " '_53': 101,\n",
       " '_i54': \"s = '123'\\nint(s)   # get an int from the string s\",\n",
       " 's': 'abcdefgh',\n",
       " '_54': 123,\n",
       " '_i55': '# what if s was in hex?\\nint(s, 16)  # interpret s as a hex string',\n",
       " '_55': 291,\n",
       " '_i56': 'int(s, 8)  # interpret s as an octal string',\n",
       " '_56': 83,\n",
       " '_i57': '0x123  # another way to enter hex 123',\n",
       " '_57': 291,\n",
       " '_i58': '0O123',\n",
       " '_58': 83,\n",
       " '_i59': '0O123   # We need the 0O, not just 0, before octal',\n",
       " '_59': 83,\n",
       " '_i60': '0b10111011',\n",
       " '_60': 187,\n",
       " '_i61': 'x = 10\\ny = 10.5',\n",
       " '_i62': 'type(x)',\n",
       " '_62': int,\n",
       " '_i63': 'type(y)',\n",
       " '_63': float,\n",
       " '_i64': 'x + y',\n",
       " '_64': 20.5,\n",
       " '_i65': '0.1 + 0.2',\n",
       " '_65': 0.30000000000000004,\n",
       " '_i66': '# Solution 1: use round()\\nz = 0.1 + 0.2\\nround(z, 2)',\n",
       " 'z': [10, 20, 30],\n",
       " '_66': 0.3,\n",
       " '_i67': 'z == 0.3',\n",
       " '_67': False,\n",
       " '_i68': 'round(z, 2) == 0.3',\n",
       " '_68': True,\n",
       " '_i69': '# Solution 2: use ints, not floats',\n",
       " '_i70': \"# Solution 3: BCD (binary coded decimals)\\n# is slower, and uses more memory... but is accurate\\n\\nfrom decimal import Decimal\\nx = Decimal('0.1')\\ny = Decimal('0.2')\",\n",
       " 'Decimal': decimal.Decimal,\n",
       " '_i71': 'type(x)',\n",
       " '_71': decimal.Decimal,\n",
       " '_i72': 'type(y)',\n",
       " '_72': decimal.Decimal,\n",
       " '_i73': 'x + y',\n",
       " '_73': Decimal('0.3'),\n",
       " '_i74': 'float(x+y)',\n",
       " '_74': 0.3,\n",
       " '_i75': 'x = Decimal(0.1)\\ny = Decimal(0.2)',\n",
       " '_i76': 'x',\n",
       " '_76': Decimal('0.1000000000000000055511151231257827021181583404541015625'),\n",
       " '_i77': 'y',\n",
       " '_77': Decimal('0.200000000000000011102230246251565404236316680908203125'),\n",
       " '_i78': 'x+y',\n",
       " '_78': Decimal('0.3000000000000000166533453694'),\n",
       " '_i79': \"# don't use floats to create your objects of type Decimal!\\nx = Decimal(0.1)\\ny = Decimal(0.2)\",\n",
       " '_i80': 'x',\n",
       " '_80': Decimal('0.1000000000000000055511151231257827021181583404541015625'),\n",
       " '_i81': 'y',\n",
       " '_81': Decimal('0.200000000000000011102230246251565404236316680908203125'),\n",
       " '_i82': 'x+y',\n",
       " '_82': Decimal('0.3000000000000000166533453694'),\n",
       " '_i83': \"s = 'abcdefg'\\nlen(s)\",\n",
       " '_83': 7,\n",
       " '_i84': \"s = 'שלום'\\nlen9s\",\n",
       " '_i85': \"s = 'שלום'\\nlen(s)\",\n",
       " '_85': 4,\n",
       " '_i86': \"path = 'c:\\\\abcd\\\\efgh\\\\ijkl'\\nprint(path)\",\n",
       " 'path': 'c:\\\\abcd\\\\efgh\\\\ijkl',\n",
       " '_i87': \"path = 'c:\\\\\\\\abcd\\\\\\\\efgh\\\\\\\\ijkl'\\nprint(path)\",\n",
       " '_i88': \"# raw strings do this for us automatically\\npath = r'c:\\\\abcd\\\\efgh\\\\ijkl'\\nprint(path)\",\n",
       " '_i89': \"# f-string -- started in Python 3.6\\n\\nx = 'abcd'\\ny = 10\\nz = [10, 20, 30]\\n\\nprint(f'x = {x}, y = {y}, z = {z}')\",\n",
       " '_i90': '# any expression can be in the {}',\n",
       " '_i91': \"# any expression can be in the {}\\nx = 10\\ny = 15\\n\\nprint(f'{x} + {y} = {x+y}')\",\n",
       " '_i92': \"# as of Python 3.8\\nprint(f'{x=}')\",\n",
       " '_i93': \"# as of Python 3.8\\nprint(f'{x=}')  # prints the expression and its value\",\n",
       " '_i94': \"s = 'abcd'\\nprint(f'{len(s)=}')\",\n",
       " '_i95': 'mylist = [10, 20, 30, 40, 50]',\n",
       " 'mylist': [[10, 20, 30], [40, 50, 60], [70, 80, 90]],\n",
       " '_i96': 'mylist = [10, 20, 30, 40, 50]',\n",
       " '_i97': 'len(mylist)',\n",
       " '_97': 5,\n",
       " '_i98': 'mylist.append(60)\\nmylist.append(70)\\n\\nlen(mylist)',\n",
       " '_98': 7,\n",
       " '_i99': \"mylist = []\\n\\nfor i in range(30):\\n    print(f'{i=}, {len(mylist)=}, {sys.getsizeof(mylist)=}')\\n    mylist.append(i)\",\n",
       " 'i': 29,\n",
       " '_i100': \"for i in range(30):\\n    print(f'{i=}, {len(mylist)=}, {sys.getsizeof(mylist)=}')\\n    mylist.pop()\",\n",
       " '_i101': 'mylist = [10, 20, 30]\\nbiglist = [mylist, mylist, mylist]',\n",
       " 'biglist': [['!', 20, 30, 40], ['!', 20, 30, 40], ['!', 20, 30, 40]],\n",
       " '_i102': 'len(biglist)',\n",
       " '_102': 3,\n",
       " '_i103': 'biglist',\n",
       " '_103': [['!', 20, 30, 40], ['!', 20, 30, 40], ['!', 20, 30, 40]],\n",
       " '_i104': 'mylist.append(40)',\n",
       " '_i105': 'mylist',\n",
       " '_105': ['!', 20, 30, 40],\n",
       " '_i106': 'biglist',\n",
       " '_106': [['!', 20, 30, 40], ['!', 20, 30, 40], ['!', 20, 30, 40]],\n",
       " '_i107': \"mylist[0] = '!'\\nmylist\",\n",
       " '_107': ['!', 20, 30, 40],\n",
       " '_i108': 'biglist',\n",
       " '_108': [['!', 20, 30, 40], ['!', 20, 30, 40], ['!', 20, 30, 40]],\n",
       " '_i109': 't = (10, 20, 30)\\ntype(t)',\n",
       " 't': (10, 20, 30, 40, 50, 60),\n",
       " '_109': tuple,\n",
       " '_i110': 't = (10, 20)\\ntype(t)',\n",
       " '_110': tuple,\n",
       " '_i111': 't = (10)\\ntype(t)',\n",
       " '_111': int,\n",
       " '_i112': 't = ()\\ntype(t)',\n",
       " '_112': tuple,\n",
       " '_i113': '# we can also use () for priority in math operations\\n5 + 6 * 7',\n",
       " '_113': 47,\n",
       " '_i114': '(5 + 6) * 7',\n",
       " '_114': 77,\n",
       " '_i115': 't = (10,)   # now this is a 1-element tuple\\ntype(t)',\n",
       " '_115': tuple,\n",
       " '_i116': '(5 + 6,) * 7',\n",
       " '_116': (11, 11, 11, 11, 11, 11, 11),\n",
       " '_i117': 't = 10, 20, 30, 40, 50\\ntype(t)',\n",
       " '_117': tuple,\n",
       " '_i118': 't',\n",
       " '_118': (10, 20, 30, 40, 50),\n",
       " '_i119': 't = ([10, 20, 30],\\n     [100, 200, 300])',\n",
       " '_i120': 't',\n",
       " '_120': ([10, 20, 30, 40, 50, 60, 70], [100, 200, 300]),\n",
       " '_i121': 't[0].append(40)',\n",
       " '_i122': 't',\n",
       " '_122': ([10, 20, 30, 40, 50, 60, 70], [100, 200, 300]),\n",
       " '_i123': 't[0] += [50, 60, 70]',\n",
       " '_i124': 't',\n",
       " '_124': ([10, 20, 30, 40, 50, 60, 70], [100, 200, 300]),\n",
       " '_i125': \"s = 'abcd'\\ns += 'efgh'\\n\\ns\",\n",
       " '_125': 'abcdefgh',\n",
       " '_i126': 't = (10,20, 30)\\nt += (40, 50, 60)\\n\\nt',\n",
       " '_126': (10, 20, 30, 40, 50, 60),\n",
       " '_i127': \"s = 'abcd'\\nprint(f'{id(s)}')\\ns += 'efgh'\\nprint(f'{id(s)}')\",\n",
       " '_i128': \"t = (10, 20, 30)\\nprint(f'{id(t)}')\\nt += (40, 50, 60)\\nprint(f'{id(t)}')\",\n",
       " '_i129': 'mylist = [10, 20, 30]\\nmylist.append(mylist)',\n",
       " '_i130': 'len(mylist)',\n",
       " '_130': 4,\n",
       " '_i131': 'mylist',\n",
       " '_131': [10, 20, 30, [...]],\n",
       " '_i132': 'mylist is mylist[-1]',\n",
       " '_132': True,\n",
       " '_i133': 'mylist = [100, 200, 300]',\n",
       " '_i134': \"mylist = [[10, 20, 30], \\n         [40, 50, 60], \\n         [70, 80, 90]]\\n\\n\\noutput = ''\\n\\nfor one_record in mylist:\\n    output += f'{one_record}\\\\n'\",\n",
       " 'one_record': [70, 80, 90],\n",
       " 'output': ['[10, 20, 30]\\n', '[40, 50, 60]\\n', '[70, 80, 90]\\n'],\n",
       " '_i135': 'output',\n",
       " '_135': '[10, 20, 30]\\n[40, 50, 60]\\n[70, 80, 90]\\n',\n",
       " '_i136': \"mylist = [[10, 20, 30], \\n         [40, 50, 60], \\n         [70, 80, 90]]\\n\\n\\noutput = []\\n\\nfor one_record in mylist:\\n    output.append(f'{one_record}\\\\n')\\n    \\n'\\\\n'.join(output)    \",\n",
       " '_136': '[10, 20, 30]\\n\\n[40, 50, 60]\\n\\n[70, 80, 90]\\n',\n",
       " '_i137': \"mylist = [[10, 20, 30], \\n         [40, 50, 60], \\n         [70, 80, 90]]\\n\\n\\noutput = []\\n\\nfor one_record in mylist:\\n    output.append(f'{one_record}\\\\n')\\n    \\n''.join(output)    \",\n",
       " '_137': '[10, 20, 30]\\n[40, 50, 60]\\n[70, 80, 90]\\n',\n",
       " '_i138': \"# do this, instead!\\nmylist = [[10, 20, 30], \\n         [40, 50, 60], \\n         [70, 80, 90]]\\n\\n\\noutput = []\\n\\nfor one_record in mylist:\\n    output.append(f'{one_record}\\\\n')\\n    \\n''.join(output)    \",\n",
       " '_138': '[10, 20, 30]\\n[40, 50, 60]\\n[70, 80, 90]\\n',\n",
       " '_i139': \"name = 'Reuven'\",\n",
       " '_i140': \"# tuples are our structs/records in Python\\n\\np = ('Reuven', 'Lerner', 46)\",\n",
       " 'p': Person(first='Reuven', last='Lerner', shoesize=46),\n",
       " '_i141': 'p[0]',\n",
       " '_141': 'Reuven',\n",
       " '_i142': 'p[1]',\n",
       " '_142': 'Lerner',\n",
       " '_i143': 'p[2]',\n",
       " '_143': 46,\n",
       " '_i144': \"# I want tuples because they're efficient\\n# I don't want tuples because they're hard to read/write\\n\\nfrom collections import namedtuple\\n\\nPerson = namedtuple('Person', 'first last shoesize')\",\n",
       " 'namedtuple': <function collections.namedtuple(typename, field_names, *, rename=False, defaults=None, module=None)>,\n",
       " 'Person': __main__.Person,\n",
       " '_i145': \"p = Person('Reuven', 'Lerner', 46)\",\n",
       " '_i146': 'p',\n",
       " '_146': Person(first='Reuven', last='Lerner', shoesize=46),\n",
       " '_i147': 'p[0]',\n",
       " '_147': 'Reuven',\n",
       " '_i148': 'p[1]',\n",
       " '_148': 'Lerner',\n",
       " '_i149': 'p[2]',\n",
       " '_149': 46,\n",
       " '_i150': 'p.first',\n",
       " '_150': 'Reuven',\n",
       " '_i151': 'p.last',\n",
       " '_151': 'Lerner',\n",
       " '_i152': 'p.shoesize',\n",
       " '_152': 46,\n",
       " '_i153': 'Person.__bases__',\n",
       " '_153': (tuple,),\n",
       " '_i154': \"p.first = 'something else'\",\n",
       " '_i155': 'dir(p)',\n",
       " '_155': ['__add__',\n",
       "  '__class__',\n",
       "  '__class_getitem__',\n",
       "  '__contains__',\n",
       "  '__delattr__',\n",
       "  '__dir__',\n",
       "  '__doc__',\n",
       "  '__eq__',\n",
       "  '__format__',\n",
       "  '__ge__',\n",
       "  '__getattribute__',\n",
       "  '__getitem__',\n",
       "  '__getnewargs__',\n",
       "  '__gt__',\n",
       "  '__hash__',\n",
       "  '__init__',\n",
       "  '__init_subclass__',\n",
       "  '__iter__',\n",
       "  '__le__',\n",
       "  '__len__',\n",
       "  '__lt__',\n",
       "  '__match_args__',\n",
       "  '__module__',\n",
       "  '__mul__',\n",
       "  '__ne__',\n",
       "  '__new__',\n",
       "  '__reduce__',\n",
       "  '__reduce_ex__',\n",
       "  '__repr__',\n",
       "  '__rmul__',\n",
       "  '__setattr__',\n",
       "  '__sizeof__',\n",
       "  '__slots__',\n",
       "  '__str__',\n",
       "  '__subclasshook__',\n",
       "  '_asdict',\n",
       "  '_field_defaults',\n",
       "  '_fields',\n",
       "  '_make',\n",
       "  '_replace',\n",
       "  'count',\n",
       "  'first',\n",
       "  'index',\n",
       "  'last',\n",
       "  'shoesize'],\n",
       " '_i156': \"p._replace(first='something else')\",\n",
       " '_156': Person(first='something else', last='Lerner', shoesize=46),\n",
       " '_i157': 'dir(p)',\n",
       " '_157': ['__add__',\n",
       "  '__class__',\n",
       "  '__class_getitem__',\n",
       "  '__contains__',\n",
       "  '__delattr__',\n",
       "  '__dir__',\n",
       "  '__doc__',\n",
       "  '__eq__',\n",
       "  '__format__',\n",
       "  '__ge__',\n",
       "  '__getattribute__',\n",
       "  '__getitem__',\n",
       "  '__getnewargs__',\n",
       "  '__gt__',\n",
       "  '__hash__',\n",
       "  '__init__',\n",
       "  '__init_subclass__',\n",
       "  '__iter__',\n",
       "  '__le__',\n",
       "  '__len__',\n",
       "  '__lt__',\n",
       "  '__match_args__',\n",
       "  '__module__',\n",
       "  '__mul__',\n",
       "  '__ne__',\n",
       "  '__new__',\n",
       "  '__reduce__',\n",
       "  '__reduce_ex__',\n",
       "  '__repr__',\n",
       "  '__rmul__',\n",
       "  '__setattr__',\n",
       "  '__sizeof__',\n",
       "  '__slots__',\n",
       "  '__str__',\n",
       "  '__subclasshook__',\n",
       "  '_asdict',\n",
       "  '_field_defaults',\n",
       "  '_fields',\n",
       "  '_make',\n",
       "  '_replace',\n",
       "  'count',\n",
       "  'first',\n",
       "  'index',\n",
       "  'last',\n",
       "  'shoesize'],\n",
       " '_i158': 'p._asdict()',\n",
       " '_158': {'first': 'Reuven', 'last': 'Lerner', 'shoesize': 46},\n",
       " '_i159': \"from collections import namedtuple\\n\\nBook = namedtuple('Book', 'title author price')\",\n",
       " 'Book': __main__.Book,\n",
       " '_i160': 'Book',\n",
       " '_160': __main__.Book,\n",
       " '_i161': 'type(Book)',\n",
       " '_161': type,\n",
       " '_i162': 'Book.__name__',\n",
       " '_162': 'Book',\n",
       " '_i163': 'str.__name__',\n",
       " '_163': 'str',\n",
       " '_i164': 'list.__name__',\n",
       " '_164': 'list',\n",
       " '_i165': \"b1 = Book('title1', 'author1', 50)\\nb2 = Book('title2', 'author2', 60)\\nb3 = Book('title3', 'author2', 75)\\nb4 = Book('title4', 'author3', 100)\\n\\ninventory = [b1, b2, b3, b4]\\ninventory\",\n",
       " 'b1': Book(title='title1', author='author1', price=50),\n",
       " 'b2': Book(title='title2', author='author2', price=60),\n",
       " 'b3': Book(title='title3', author='author2', price=75),\n",
       " 'b4': Book(title='title4', author='author3', price=100),\n",
       " 'inventory': [Book(title='title1', author='author1', price=50),\n",
       "  Book(title='title2', author='author2', price=60),\n",
       "  Book(title='title3', author='author2', price=75),\n",
       "  Book(title='title4', author='author3', price=100)],\n",
       " '_165': [Book(title='title1', author='author1', price=50),\n",
       "  Book(title='title2', author='author2', price=60),\n",
       "  Book(title='title3', author='author2', price=75),\n",
       "  Book(title='title4', author='author3', price=100)],\n",
       " '_i166': 'type(b1)',\n",
       " '_166': __main__.Book,\n",
       " '_i167': \"total = 0\\n\\nwhile True:\\n    look_for = input('Enter title: ').strip()\\n    \\n    if not look_for:   # do we have an empty string? If so, exit\\n        break\\n        \\n    for one_book in inventory:\\n        if look_for == one_book.title:\\n            print(f'Adding {one_book.title} by {one_book.author}, price {one_book.price}')\\n            total += one_book.price\\n            print(f'\\\\tTotal is now {total}')\\n            break\\n            \\nprint(f'Total is {total}')            \",\n",
       " 'total': 110,\n",
       " 'look_for': '',\n",
       " 'one_book': Book(title='title4', author='author3', price=100),\n",
       " '_i168': \"total = 0\\n\\nwhile True:\\n    look_for = input('Enter title: ').strip()\\n    \\n    if not look_for:   # do we have an empty string? If so, exit\\n        break\\n        \\n    found_it = False\\n    for one_book in inventory:\\n        if look_for == one_book.title:\\n            print(f'Adding {one_book.title} by {one_book.author}, price {one_book.price}')\\n            total += one_book.price\\n            print(f'\\\\tTotal is now {total}')\\n            found_it = True\\n            break\\n            \\n    if not found_it:\\n        print(f'Did not find {look_for}')\\n            \\nprint(f'Total is {total}')            \",\n",
       " 'found_it': False,\n",
       " '_i169': \"total = 0\\n\\nwhile True:\\n    look_for = input('Enter title: ').strip()\\n    \\n    if not look_for:   # do we have an empty string? If so, exit\\n        break\\n        \\n    for one_book in inventory:\\n        if look_for == one_book.title:\\n            print(f'Adding {one_book.title} by {one_book.author}, price {one_book.price}')\\n            total += one_book.price\\n            print(f'\\\\tTotal is now {total}')\\n            break\\n            \\n    print(f'Did not find {look_for}')\\n            \\nprint(f'Total is {total}')            \",\n",
       " '_i170': 'total = 0\\n\\nwhile look_for = input(\\'Enter title: \\').strip():\\n    \\n    for one_book in inventory:\\n        if look_for == one_book.title:\\n            print(f\\'Adding {one_book.title} by {one_book.author}, price {one_book.price}\\')\\n            total += one_book.price\\n            print(f\\'\\\\tTotal is now {total}\\')\\n            break\\n            \\n    else:     # connected to for -- only runs if we didn\\'t exit the for loop with \"break\"\\n        print(f\\'Did not find {look_for}\\')\\n            \\nprint(f\\'Total is {total}\\')            ',\n",
       " '_i171': '# :=  \"assignment expression\" or \"walrus\"\\n# both assigns and returns the value as an expression\\n\\ntotal = 0\\n\\nwhile look_for := input(\\'Enter title: \\').strip():\\n    \\n    for one_book in inventory:\\n        if look_for == one_book.title:\\n            print(f\\'Adding {one_book.title} by {one_book.author}, price {one_book.price}\\')\\n            total += one_book.price\\n            print(f\\'\\\\tTotal is now {total}\\')\\n            break\\n            \\n    else:     # connected to for -- only runs if we didn\\'t exit the for loop with \"break\"\\n        print(f\\'Did not find {look_for}\\')\\n            \\nprint(f\\'Total is {total}\\')            ',\n",
       " '_i172': '# show the dict of global variables\\nglobals()'}"
      ]
     },
     "execution_count": 172,
     "metadata": {},
     "output_type": "execute_result"
    }
   ],
   "source": [
    "# show the dict of global variables\n",
    "globals()"
   ]
  },
  {
   "cell_type": "code",
   "execution_count": 173,
   "metadata": {},
   "outputs": [],
   "source": [
    "x = 100\n",
    "y = [10, 20, 30]"
   ]
  },
  {
   "cell_type": "code",
   "execution_count": 174,
   "metadata": {},
   "outputs": [
    {
     "data": {
      "text/plain": [
       "100"
      ]
     },
     "execution_count": 174,
     "metadata": {},
     "output_type": "execute_result"
    }
   ],
   "source": [
    "globals()['x']"
   ]
  },
  {
   "cell_type": "code",
   "execution_count": 175,
   "metadata": {},
   "outputs": [
    {
     "data": {
      "text/plain": [
       "[10, 20, 30]"
      ]
     },
     "execution_count": 175,
     "metadata": {},
     "output_type": "execute_result"
    }
   ],
   "source": [
    "globals()['y']"
   ]
  },
  {
   "cell_type": "markdown",
   "metadata": {},
   "source": [
    "# Dicts in Python 2"
   ]
  },
  {
   "cell_type": "raw",
   "metadata": {},
   "source": [
    "# When I create a dict in Python 2, I get a table with two columns (key + value) and 8 rows\n",
    "\n",
    "    key     value\n",
    "0    a       10\n",
    "1\n",
    "2    c       30\n",
    "3    b       20\n",
    "4\n",
    "5\n",
    "6\n",
    "7\n"
   ]
  },
  {
   "cell_type": "markdown",
   "metadata": {},
   "source": [
    "# Dicts in Python "
   ]
  },
  {
   "cell_type": "raw",
   "metadata": {},
   "source": [
    "When I create a dict in Python 3, I get *two* data structures behind the scenes: A table\n",
    "(starting with 0 rows, with 3 columns), and an array of ints\n",
    "\n",
    "index    key    value\n",
    "   0      'a'      10 \n",
    "   1      'b'      20\n",
    "   2      'c'      30\n",
    "\n",
    "\n",
    "[0, 1, 2, None, None, None, None, None]"
   ]
  },
  {
   "cell_type": "code",
   "execution_count": 176,
   "metadata": {},
   "outputs": [],
   "source": [
    "d = {'a':10, 'b':20, 'c':30}"
   ]
  },
  {
   "cell_type": "code",
   "execution_count": 177,
   "metadata": {},
   "outputs": [
    {
     "data": {
      "text/plain": [
       "{'a': 10, 'b': 20, 'c': 30}"
      ]
     },
     "execution_count": 177,
     "metadata": {},
     "output_type": "execute_result"
    }
   ],
   "source": [
    "d"
   ]
  },
  {
   "cell_type": "code",
   "execution_count": 178,
   "metadata": {},
   "outputs": [
    {
     "data": {
      "text/plain": [
       "True"
      ]
     },
     "execution_count": 178,
     "metadata": {},
     "output_type": "execute_result"
    }
   ],
   "source": [
    "'a' in d"
   ]
  },
  {
   "cell_type": "code",
   "execution_count": 179,
   "metadata": {},
   "outputs": [
    {
     "data": {
      "text/plain": [
       "True"
      ]
     },
     "execution_count": 179,
     "metadata": {},
     "output_type": "execute_result"
    }
   ],
   "source": [
    "'a' in d.keys()       # never ever do this!"
   ]
  },
  {
   "cell_type": "code",
   "execution_count": 180,
   "metadata": {},
   "outputs": [
    {
     "name": "stdout",
     "output_type": "stream",
     "text": [
      "a: 10\n",
      "b: 20\n",
      "c: 30\n"
     ]
    }
   ],
   "source": [
    "for key, value in d.items():\n",
    "    print(f'{key}: {value}')"
   ]
  },
  {
   "cell_type": "code",
   "execution_count": 181,
   "metadata": {},
   "outputs": [
    {
     "data": {
      "text/plain": [
       "dict_items([('a', 10), ('b', 20), ('c', 30)])"
      ]
     },
     "execution_count": 181,
     "metadata": {},
     "output_type": "execute_result"
    }
   ],
   "source": [
    "d.items()"
   ]
  },
  {
   "cell_type": "code",
   "execution_count": 182,
   "metadata": {},
   "outputs": [],
   "source": [
    "from collections import defaultdict"
   ]
  },
  {
   "cell_type": "code",
   "execution_count": 184,
   "metadata": {},
   "outputs": [
    {
     "ename": "TypeError",
     "evalue": "first argument must be callable or None",
     "output_type": "error",
     "traceback": [
      "\u001b[0;31m---------------------------------------------------------------------------\u001b[0m",
      "\u001b[0;31mTypeError\u001b[0m                                 Traceback (most recent call last)",
      "\u001b[0;32m/var/folders/rr/0mnyyv811fs5vyp22gf4fxk00000gn/T/ipykernel_77565/3835757787.py\u001b[0m in \u001b[0;36m<module>\u001b[0;34m\u001b[0m\n\u001b[0;32m----> 1\u001b[0;31m \u001b[0md\u001b[0m \u001b[0;34m=\u001b[0m \u001b[0mdefaultdict\u001b[0m\u001b[0;34m(\u001b[0m\u001b[0;36m0\u001b[0m\u001b[0;34m)\u001b[0m\u001b[0;34m\u001b[0m\u001b[0;34m\u001b[0m\u001b[0m\n\u001b[0m\u001b[1;32m      2\u001b[0m \u001b[0;34m\u001b[0m\u001b[0m\n\u001b[1;32m      3\u001b[0m \u001b[0md\u001b[0m\u001b[0;34m[\u001b[0m\u001b[0;34m'x'\u001b[0m\u001b[0;34m]\u001b[0m\u001b[0;34m\u001b[0m\u001b[0;34m\u001b[0m\u001b[0m\n",
      "\u001b[0;31mTypeError\u001b[0m: first argument must be callable or None"
     ]
    }
   ],
   "source": [
    "d = defaultdict(0)\n",
    "\n",
    "d['x']"
   ]
  },
  {
   "cell_type": "code",
   "execution_count": 185,
   "metadata": {},
   "outputs": [
    {
     "data": {
      "text/plain": [
       "0"
      ]
     },
     "execution_count": 185,
     "metadata": {},
     "output_type": "execute_result"
    }
   ],
   "source": [
    "d = defaultdict(int)\n",
    "\n",
    "d['x']"
   ]
  },
  {
   "cell_type": "code",
   "execution_count": 186,
   "metadata": {},
   "outputs": [
    {
     "data": {
      "text/plain": [
       "defaultdict(int, {'x': 0})"
      ]
     },
     "execution_count": 186,
     "metadata": {},
     "output_type": "execute_result"
    }
   ],
   "source": [
    "d"
   ]
  },
  {
   "cell_type": "code",
   "execution_count": 187,
   "metadata": {},
   "outputs": [
    {
     "data": {
      "text/plain": [
       "0"
      ]
     },
     "execution_count": 187,
     "metadata": {},
     "output_type": "execute_result"
    }
   ],
   "source": [
    "d['y']"
   ]
  },
  {
   "cell_type": "code",
   "execution_count": 188,
   "metadata": {},
   "outputs": [
    {
     "data": {
      "text/plain": [
       "defaultdict(int, {'x': 0, 'y': 0})"
      ]
     },
     "execution_count": 188,
     "metadata": {},
     "output_type": "execute_result"
    }
   ],
   "source": [
    "d"
   ]
  },
  {
   "cell_type": "code",
   "execution_count": 189,
   "metadata": {},
   "outputs": [
    {
     "data": {
      "text/plain": [
       "defaultdict(int, {'x': 0, 'y': 0, 'z': 12345})"
      ]
     },
     "execution_count": 189,
     "metadata": {},
     "output_type": "execute_result"
    }
   ],
   "source": [
    "d['z'] = 12345\n",
    "d"
   ]
  },
  {
   "cell_type": "code",
   "execution_count": 190,
   "metadata": {},
   "outputs": [
    {
     "data": {
      "text/plain": [
       "12345"
      ]
     },
     "execution_count": 190,
     "metadata": {},
     "output_type": "execute_result"
    }
   ],
   "source": [
    "d['z']"
   ]
  },
  {
   "cell_type": "code",
   "execution_count": 191,
   "metadata": {},
   "outputs": [
    {
     "data": {
      "text/plain": [
       "defaultdict(dict, {'a': {'b': 100}, 'x': {'y': 200}})"
      ]
     },
     "execution_count": 191,
     "metadata": {},
     "output_type": "execute_result"
    }
   ],
   "source": [
    "d = defaultdict(dict)\n",
    "\n",
    "d['a']['b'] = 100\n",
    "d['x']['y'] = 200\n",
    "d"
   ]
  },
  {
   "cell_type": "code",
   "execution_count": 192,
   "metadata": {},
   "outputs": [
    {
     "data": {
      "text/plain": [
       "{}"
      ]
     },
     "execution_count": 192,
     "metadata": {},
     "output_type": "execute_result"
    }
   ],
   "source": [
    "dict()"
   ]
  },
  {
   "cell_type": "code",
   "execution_count": 193,
   "metadata": {},
   "outputs": [
    {
     "data": {
      "text/plain": [
       "1647167944.4301639"
      ]
     },
     "execution_count": 193,
     "metadata": {},
     "output_type": "execute_result"
    }
   ],
   "source": [
    "import time\n",
    "time.time()"
   ]
  },
  {
   "cell_type": "code",
   "execution_count": 194,
   "metadata": {},
   "outputs": [],
   "source": [
    "d = defaultdict(time.time)"
   ]
  },
  {
   "cell_type": "code",
   "execution_count": 195,
   "metadata": {},
   "outputs": [
    {
     "data": {
      "text/plain": [
       "1647167964.8906088"
      ]
     },
     "execution_count": 195,
     "metadata": {},
     "output_type": "execute_result"
    }
   ],
   "source": [
    "d['a']"
   ]
  },
  {
   "cell_type": "code",
   "execution_count": 196,
   "metadata": {},
   "outputs": [
    {
     "data": {
      "text/plain": [
       "1647167965.8775628"
      ]
     },
     "execution_count": 196,
     "metadata": {},
     "output_type": "execute_result"
    }
   ],
   "source": [
    "d['b']"
   ]
  },
  {
   "cell_type": "code",
   "execution_count": 197,
   "metadata": {},
   "outputs": [
    {
     "data": {
      "text/plain": [
       "1647167966.755682"
      ]
     },
     "execution_count": 197,
     "metadata": {},
     "output_type": "execute_result"
    }
   ],
   "source": [
    "d['c']"
   ]
  },
  {
   "cell_type": "code",
   "execution_count": 198,
   "metadata": {},
   "outputs": [
    {
     "data": {
      "text/plain": [
       "defaultdict(<function time.time>,\n",
       "            {'a': 1647167964.8906088,\n",
       "             'b': 1647167965.8775628,\n",
       "             'c': 1647167966.755682})"
      ]
     },
     "execution_count": 198,
     "metadata": {},
     "output_type": "execute_result"
    }
   ],
   "source": [
    "# when did I first ask for the keys a, b, and c?\n",
    "d"
   ]
  },
  {
   "cell_type": "code",
   "execution_count": 199,
   "metadata": {},
   "outputs": [
    {
     "data": {
      "text/plain": [
       "1647167964.8906088"
      ]
     },
     "execution_count": 199,
     "metadata": {},
     "output_type": "execute_result"
    }
   ],
   "source": [
    "d['a']"
   ]
  },
  {
   "cell_type": "markdown",
   "metadata": {},
   "source": [
    "# Exercise: Travel\n",
    "\n",
    "In this exercise, we'll create a dict whose keys are country names (strings) and whose values are lists of strings (cities in those countries).\n",
    "\n",
    "1. Ask the user, repeatedly, to enter `CITY, COUNTRY` when asked where they've traveled.\n",
    "    - If they give us an empty string, exit\n",
    "    - If they give us something not in the right format, scold them\n",
    "    - Otherwise, add the country (or if it exists, just the city) to our dict of lists\n",
    "2. When done, print all countries, and all cities in each country.\n",
    "\n",
    "Example:\n",
    "\n",
    "    Enter place: Chicago, USA\n",
    "    Enter place: Boston, USA\n",
    "    Enter place: Shanghai, China\n",
    "    Enter place: Beijing, China\n",
    "    Enter place: hello\n",
    "        bad format\n",
    "    Enter place: [ENTER]\n",
    "    \n",
    "    USA\n",
    "        Chicago\n",
    "        Boston\n",
    "    China\n",
    "        Shanghai\n",
    "        Beijing"
   ]
  },
  {
   "cell_type": "code",
   "execution_count": null,
   "metadata": {},
   "outputs": [],
   "source": []
  }
 ],
 "metadata": {
  "kernelspec": {
   "display_name": "Python 3 (ipykernel)",
   "language": "python",
   "name": "python3"
  },
  "language_info": {
   "codemirror_mode": {
    "name": "ipython",
    "version": 3
   },
   "file_extension": ".py",
   "mimetype": "text/x-python",
   "name": "python",
   "nbconvert_exporter": "python",
   "pygments_lexer": "ipython3",
   "version": "3.10.2"
  }
 },
 "nbformat": 4,
 "nbformat_minor": 4
}
