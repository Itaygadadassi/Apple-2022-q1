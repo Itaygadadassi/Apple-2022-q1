{
 "cells": [
  {
   "cell_type": "markdown",
   "id": "b49e1664",
   "metadata": {},
   "source": [
    "# Agenda\n",
    "\n",
    "1. Threading exceptions\n",
    "2. `asyncio` -- ideas + examples\n",
    "3. Benchmarking\n",
    "4. NumPy + `pandas`"
   ]
  },
  {
   "cell_type": "markdown",
   "id": "2afcc97c",
   "metadata": {},
   "source": [
    "# Benchmarking"
   ]
  },
  {
   "cell_type": "code",
   "execution_count": 10,
   "id": "189fd246",
   "metadata": {},
   "outputs": [],
   "source": [
    "def traditional_loop():\n",
    "    numbers = range(10_000_000)\n",
    "    \n",
    "    output = []\n",
    "    for one_number in numbers:\n",
    "        output.append(one_number ** 2)\n",
    "        \n",
    "    return output\n",
    "\n",
    "def comprehension():\n",
    "    numbers = range(10_000_000)\n",
    "    \n",
    "    return [one_number ** 2\n",
    "           for one_number in numbers]\n",
    "\n"
   ]
  },
  {
   "cell_type": "code",
   "execution_count": 11,
   "id": "a24ed330",
   "metadata": {},
   "outputs": [
    {
     "name": "stdout",
     "output_type": "stream",
     "text": [
      "Took 2.5332047143019736\n"
     ]
    }
   ],
   "source": [
    "import time\n",
    "start_time = time.perf_counter()\n",
    "traditional_loop()\n",
    "end_time = time.perf_counter()\n",
    "\n",
    "print(f'Took {end_time - start_time}')"
   ]
  },
  {
   "cell_type": "code",
   "execution_count": 12,
   "id": "9564802f",
   "metadata": {},
   "outputs": [
    {
     "name": "stdout",
     "output_type": "stream",
     "text": [
      "Took 2.1925993440672755\n"
     ]
    }
   ],
   "source": [
    "import time\n",
    "start_time = time.perf_counter()\n",
    "comprehension()\n",
    "end_time = time.perf_counter()\n",
    "\n",
    "print(f'Took {end_time - start_time}')"
   ]
  },
  {
   "cell_type": "code",
   "execution_count": 16,
   "id": "92275f28",
   "metadata": {},
   "outputs": [
    {
     "ename": "SyntaxError",
     "evalue": "unmatched ')' (1912264951.py, line 2)",
     "output_type": "error",
     "traceback": [
      "\u001b[0;36m  File \u001b[0;32m\"/var/folders/rr/0mnyyv811fs5vyp22gf4fxk00000gn/T/ipykernel_13746/1912264951.py\"\u001b[0;36m, line \u001b[0;32m2\u001b[0m\n\u001b[0;31m    )\u001b[0m\n\u001b[0m    ^\u001b[0m\n\u001b[0;31mSyntaxError\u001b[0m\u001b[0;31m:\u001b[0m unmatched ')'\n"
     ]
    }
   ],
   "source": [
    "# everything we pass to %timeit needs to be on one line!\n",
    "%timeit traditional_loop()"
   ]
  },
  {
   "cell_type": "code",
   "execution_count": 14,
   "id": "63b904a8",
   "metadata": {},
   "outputs": [
    {
     "name": "stdout",
     "output_type": "stream",
     "text": [
      "2.22 s ± 14.2 ms per loop (mean ± std. dev. of 7 runs, 1 loop each)\n"
     ]
    }
   ],
   "source": [
    "%timeit comprehension()"
   ]
  },
  {
   "cell_type": "code",
   "execution_count": 17,
   "id": "42771e55",
   "metadata": {},
   "outputs": [],
   "source": [
    "# Non-Jupyter magic command version of timeit\n",
    "import timeit\n",
    "\n"
   ]
  },
  {
   "cell_type": "code",
   "execution_count": 22,
   "id": "d46eac5d",
   "metadata": {},
   "outputs": [
    {
     "data": {
      "text/plain": [
       "24.426533837802708"
      ]
     },
     "execution_count": 22,
     "metadata": {},
     "output_type": "execute_result"
    }
   ],
   "source": [
    "traditional_loop = '''\n",
    "numbers = range(10_000_000)\n",
    "\n",
    "output = []\n",
    "for one_number in numbers:\n",
    "    output.append(one_number ** 2)\n",
    "'''\n",
    "\n",
    "comprehension = '''\n",
    "numbers = range(10_000_000)\n",
    "\n",
    "output = [one_number ** 2\n",
    "       for one_number in numbers]\n",
    "'''\n",
    "\n",
    "timeit.timeit(traditional_loop, number=10)"
   ]
  },
  {
   "cell_type": "code",
   "execution_count": 23,
   "id": "ab6c25de",
   "metadata": {},
   "outputs": [
    {
     "data": {
      "text/plain": [
       "22.13207621080801"
      ]
     },
     "execution_count": 23,
     "metadata": {},
     "output_type": "execute_result"
    }
   ],
   "source": [
    "timeit.timeit(comprehension, number=10)"
   ]
  },
  {
   "cell_type": "code",
   "execution_count": 24,
   "id": "7f913f30",
   "metadata": {},
   "outputs": [
    {
     "name": "stdout",
     "output_type": "stream",
     "text": [
      "Help on function timeit in module timeit:\n",
      "\n",
      "timeit(stmt='pass', setup='pass', timer=<built-in function perf_counter>, number=1000000, globals=None)\n",
      "    Convenience function to create Timer object and call timeit method.\n",
      "\n"
     ]
    }
   ],
   "source": [
    "help(timeit.timeit)"
   ]
  },
  {
   "cell_type": "code",
   "execution_count": 26,
   "id": "244a449a",
   "metadata": {},
   "outputs": [
    {
     "data": {
      "text/plain": [
       "7.442414263263345"
      ]
     },
     "execution_count": 26,
     "metadata": {},
     "output_type": "execute_result"
    }
   ],
   "source": [
    "def traditional_loop():\n",
    "    numbers = range(10_000_000)\n",
    "    \n",
    "    output = []\n",
    "    for one_number in numbers:\n",
    "        output.append(one_number ** 2)\n",
    "        \n",
    "    return output\n",
    "\n",
    "def comprehension():\n",
    "    numbers = range(10_000_000)\n",
    "    \n",
    "    return [one_number ** 2\n",
    "           for one_number in numbers]\n",
    "\n",
    "timeit.timeit('traditional_loop()', number=3, globals=globals())"
   ]
  },
  {
   "cell_type": "code",
   "execution_count": 27,
   "id": "ea6f6290",
   "metadata": {},
   "outputs": [
    {
     "data": {
      "text/plain": [
       "6.650881435722113"
      ]
     },
     "execution_count": 27,
     "metadata": {},
     "output_type": "execute_result"
    }
   ],
   "source": [
    "timeit.timeit('comprehension()', number=3, globals=globals())"
   ]
  },
  {
   "cell_type": "markdown",
   "id": "b2f7b4b3",
   "metadata": {},
   "source": [
    "# NumPy and Pandas"
   ]
  },
  {
   "cell_type": "code",
   "execution_count": 28,
   "id": "cca3d7c3",
   "metadata": {},
   "outputs": [
    {
     "data": {
      "text/plain": [
       "24"
      ]
     },
     "execution_count": 28,
     "metadata": {},
     "output_type": "execute_result"
    }
   ],
   "source": [
    "import sys\n",
    "x = 0\n",
    "sys.getsizeof(x)"
   ]
  },
  {
   "cell_type": "markdown",
   "id": "74a95307",
   "metadata": {},
   "source": [
    "# NumPy\n",
    "\n",
    "NumPy gives us one data structure: `ndarray` (n-dimensional array).  But don't call it directly -- instead, call `np.array` to create a new NumPy array.\n",
    "\n"
   ]
  },
  {
   "cell_type": "code",
   "execution_count": 29,
   "id": "abc0b0b5",
   "metadata": {},
   "outputs": [],
   "source": [
    "import numpy as np   # everyone uses this alias\n",
    "\n",
    "a = np.array([10,20, 30, 40, 50])"
   ]
  },
  {
   "cell_type": "code",
   "execution_count": 30,
   "id": "ed05a68f",
   "metadata": {},
   "outputs": [
    {
     "data": {
      "text/plain": [
       "numpy.ndarray"
      ]
     },
     "execution_count": 30,
     "metadata": {},
     "output_type": "execute_result"
    }
   ],
   "source": [
    "type(a)"
   ]
  },
  {
   "cell_type": "code",
   "execution_count": 31,
   "id": "b3826172",
   "metadata": {},
   "outputs": [
    {
     "data": {
      "text/plain": [
       "array([10, 20, 30, 40, 50])"
      ]
     },
     "execution_count": 31,
     "metadata": {},
     "output_type": "execute_result"
    }
   ],
   "source": [
    "a"
   ]
  },
  {
   "cell_type": "code",
   "execution_count": 32,
   "id": "d6f9ca3a",
   "metadata": {},
   "outputs": [
    {
     "data": {
      "text/plain": [
       "10"
      ]
     },
     "execution_count": 32,
     "metadata": {},
     "output_type": "execute_result"
    }
   ],
   "source": [
    "a[0]"
   ]
  },
  {
   "cell_type": "code",
   "execution_count": 33,
   "id": "9f466be5",
   "metadata": {},
   "outputs": [
    {
     "data": {
      "text/plain": [
       "20"
      ]
     },
     "execution_count": 33,
     "metadata": {},
     "output_type": "execute_result"
    }
   ],
   "source": [
    "a[1]"
   ]
  },
  {
   "cell_type": "code",
   "execution_count": 34,
   "id": "ce80dbdc",
   "metadata": {},
   "outputs": [],
   "source": [
    "a[0] = 50"
   ]
  },
  {
   "cell_type": "code",
   "execution_count": 35,
   "id": "25091fa8",
   "metadata": {},
   "outputs": [
    {
     "data": {
      "text/plain": [
       "array([50, 20, 30, 40, 50])"
      ]
     },
     "execution_count": 35,
     "metadata": {},
     "output_type": "execute_result"
    }
   ],
   "source": [
    "a"
   ]
  },
  {
   "cell_type": "code",
   "execution_count": 36,
   "id": "bd41455e",
   "metadata": {},
   "outputs": [],
   "source": [
    "a[0] = 10"
   ]
  },
  {
   "cell_type": "code",
   "execution_count": 37,
   "id": "70320823",
   "metadata": {},
   "outputs": [
    {
     "data": {
      "text/plain": [
       "array([10, 20, 30, 40, 50])"
      ]
     },
     "execution_count": 37,
     "metadata": {},
     "output_type": "execute_result"
    }
   ],
   "source": [
    "a"
   ]
  },
  {
   "cell_type": "code",
   "execution_count": 38,
   "id": "4009c606",
   "metadata": {},
   "outputs": [
    {
     "data": {
      "text/plain": [
       "[10, 20, 30, 40, 50, 10, 20, 30, 40, 50]"
      ]
     },
     "execution_count": 38,
     "metadata": {},
     "output_type": "execute_result"
    }
   ],
   "source": [
    "mylist = [10, 20, 30, 40, 50]\n",
    "mylist + mylist  # what happens when we add a list to itself?"
   ]
  },
  {
   "cell_type": "code",
   "execution_count": 39,
   "id": "23eddc68",
   "metadata": {},
   "outputs": [
    {
     "data": {
      "text/plain": [
       "array([ 20,  40,  60,  80, 100])"
      ]
     },
     "execution_count": 39,
     "metadata": {},
     "output_type": "execute_result"
    }
   ],
   "source": [
    "a + a   # what happens when I add a + a?"
   ]
  },
  {
   "cell_type": "code",
   "execution_count": 40,
   "id": "ef350aa5",
   "metadata": {},
   "outputs": [],
   "source": [
    "b = np.array([100, 200, 300])"
   ]
  },
  {
   "cell_type": "code",
   "execution_count": 41,
   "id": "78b132a6",
   "metadata": {},
   "outputs": [
    {
     "ename": "ValueError",
     "evalue": "operands could not be broadcast together with shapes (5,) (3,) ",
     "output_type": "error",
     "traceback": [
      "\u001b[0;31m---------------------------------------------------------------------------\u001b[0m",
      "\u001b[0;31mValueError\u001b[0m                                Traceback (most recent call last)",
      "\u001b[0;32m/var/folders/rr/0mnyyv811fs5vyp22gf4fxk00000gn/T/ipykernel_13746/1216668022.py\u001b[0m in \u001b[0;36m<module>\u001b[0;34m\u001b[0m\n\u001b[0;32m----> 1\u001b[0;31m \u001b[0ma\u001b[0m \u001b[0;34m+\u001b[0m \u001b[0mb\u001b[0m\u001b[0;34m\u001b[0m\u001b[0;34m\u001b[0m\u001b[0m\n\u001b[0m",
      "\u001b[0;31mValueError\u001b[0m: operands could not be broadcast together with shapes (5,) (3,) "
     ]
    }
   ],
   "source": [
    "a + b"
   ]
  },
  {
   "cell_type": "code",
   "execution_count": 42,
   "id": "6a68e05b",
   "metadata": {},
   "outputs": [
    {
     "data": {
      "text/plain": [
       "array([10, 20, 30, 40, 50])"
      ]
     },
     "execution_count": 42,
     "metadata": {},
     "output_type": "execute_result"
    }
   ],
   "source": [
    "a"
   ]
  },
  {
   "cell_type": "code",
   "execution_count": 44,
   "id": "fe083c1a",
   "metadata": {},
   "outputs": [
    {
     "data": {
      "text/plain": [
       "array([13, 23, 33, 43, 53])"
      ]
     },
     "execution_count": 44,
     "metadata": {},
     "output_type": "execute_result"
    }
   ],
   "source": [
    "a + 3    # broadcast"
   ]
  },
  {
   "cell_type": "code",
   "execution_count": 45,
   "id": "27c1dba7",
   "metadata": {},
   "outputs": [
    {
     "data": {
      "text/plain": [
       "array([ 7, 17, 27, 37, 47])"
      ]
     },
     "execution_count": 45,
     "metadata": {},
     "output_type": "execute_result"
    }
   ],
   "source": [
    "a - 3"
   ]
  },
  {
   "cell_type": "code",
   "execution_count": 47,
   "id": "55d3aeba",
   "metadata": {},
   "outputs": [
    {
     "data": {
      "text/plain": [
       "array([ 30,  60,  90, 120, 150])"
      ]
     },
     "execution_count": 47,
     "metadata": {},
     "output_type": "execute_result"
    }
   ],
   "source": [
    "a * 3"
   ]
  },
  {
   "cell_type": "code",
   "execution_count": 48,
   "id": "7c9ba585",
   "metadata": {},
   "outputs": [
    {
     "data": {
      "text/plain": [
       "array([ 3.33333333,  6.66666667, 10.        , 13.33333333, 16.66666667])"
      ]
     },
     "execution_count": 48,
     "metadata": {},
     "output_type": "execute_result"
    }
   ],
   "source": [
    "a / 3"
   ]
  },
  {
   "cell_type": "code",
   "execution_count": 49,
   "id": "a433f5d4",
   "metadata": {},
   "outputs": [
    {
     "data": {
      "text/plain": [
       "array([ 3,  6, 10, 13, 16])"
      ]
     },
     "execution_count": 49,
     "metadata": {},
     "output_type": "execute_result"
    }
   ],
   "source": [
    "a // 3"
   ]
  },
  {
   "cell_type": "code",
   "execution_count": 50,
   "id": "8fe49c7d",
   "metadata": {},
   "outputs": [
    {
     "data": {
      "text/plain": [
       "array([  1000,   8000,  27000,  64000, 125000])"
      ]
     },
     "execution_count": 50,
     "metadata": {},
     "output_type": "execute_result"
    }
   ],
   "source": [
    "a ** 3"
   ]
  },
  {
   "cell_type": "code",
   "execution_count": 51,
   "id": "eb103c4b",
   "metadata": {},
   "outputs": [
    {
     "data": {
      "text/plain": [
       "array([1, 2, 0, 1, 2])"
      ]
     },
     "execution_count": 51,
     "metadata": {},
     "output_type": "execute_result"
    }
   ],
   "source": [
    "a % 3"
   ]
  },
  {
   "cell_type": "code",
   "execution_count": 52,
   "id": "15e34948",
   "metadata": {},
   "outputs": [
    {
     "data": {
      "text/plain": [
       "array([30, 50])"
      ]
     },
     "execution_count": 52,
     "metadata": {},
     "output_type": "execute_result"
    }
   ],
   "source": [
    "a[[2, 4]]   # fancy index"
   ]
  },
  {
   "cell_type": "code",
   "execution_count": 53,
   "id": "6b0beb0c",
   "metadata": {},
   "outputs": [
    {
     "data": {
      "text/plain": [
       "array([30, 40, 40, 30])"
      ]
     },
     "execution_count": 53,
     "metadata": {},
     "output_type": "execute_result"
    }
   ],
   "source": [
    "a[[2, 3, 3, 2]]  "
   ]
  },
  {
   "cell_type": "markdown",
   "id": "cef29a76",
   "metadata": {},
   "source": [
    "# Other ways to create NumPy arrays"
   ]
  },
  {
   "cell_type": "code",
   "execution_count": 54,
   "id": "703eece7",
   "metadata": {},
   "outputs": [
    {
     "data": {
      "text/plain": [
       "array([1., 1., 1., 1., 1., 1., 1., 1., 1., 1.])"
      ]
     },
     "execution_count": 54,
     "metadata": {},
     "output_type": "execute_result"
    }
   ],
   "source": [
    "np.ones(10)"
   ]
  },
  {
   "cell_type": "code",
   "execution_count": 55,
   "id": "96ea6351",
   "metadata": {},
   "outputs": [
    {
     "data": {
      "text/plain": [
       "array([5., 5., 5., 5., 5., 5., 5., 5., 5., 5.])"
      ]
     },
     "execution_count": 55,
     "metadata": {},
     "output_type": "execute_result"
    }
   ],
   "source": [
    "np.ones(10) * 5"
   ]
  },
  {
   "cell_type": "code",
   "execution_count": 57,
   "id": "9c444b80",
   "metadata": {},
   "outputs": [
    {
     "data": {
      "text/plain": [
       "array([5., 5., 5., 5., 5., 5., 5., 5., 5., 5.])"
      ]
     },
     "execution_count": 57,
     "metadata": {},
     "output_type": "execute_result"
    }
   ],
   "source": [
    "np.zeros(10) + 5     # zeros and not zeroes"
   ]
  },
  {
   "cell_type": "code",
   "execution_count": 59,
   "id": "c1e296c2",
   "metadata": {},
   "outputs": [
    {
     "data": {
      "text/plain": [
       "array([59, 32, 12, 43, 16, 41])"
      ]
     },
     "execution_count": 59,
     "metadata": {},
     "output_type": "execute_result"
    }
   ],
   "source": [
    "# get 6 random integers from 0-100\n",
    "np.random.randint(0, 100, 6)"
   ]
  },
  {
   "cell_type": "code",
   "execution_count": 60,
   "id": "18cbb054",
   "metadata": {},
   "outputs": [
    {
     "data": {
      "text/plain": [
       "array([0.82098316, 0.48416498, 0.45431404, 0.83398218, 0.16524907,\n",
       "       0.11614058, 0.53791655, 0.80648735, 0.79660693, 0.08790547])"
      ]
     },
     "execution_count": 60,
     "metadata": {},
     "output_type": "execute_result"
    }
   ],
   "source": [
    "# get 10 random floats, all between 0 and 1\n",
    "np.random.rand(10)"
   ]
  },
  {
   "cell_type": "code",
   "execution_count": 61,
   "id": "6496535b",
   "metadata": {},
   "outputs": [
    {
     "data": {
      "text/plain": [
       "array([43.3447918 , 81.8750917 , 58.62072403, 51.38219414, 21.746913  ,\n",
       "       59.14925806, 38.18954011, 94.98294293, 92.74554535, 19.6572262 ])"
      ]
     },
     "execution_count": 61,
     "metadata": {},
     "output_type": "execute_result"
    }
   ],
   "source": [
    "np.random.rand(10) * 100"
   ]
  },
  {
   "cell_type": "code",
   "execution_count": 62,
   "id": "a3dc1669",
   "metadata": {},
   "outputs": [
    {
     "data": {
      "text/plain": [
       "array([10, 13, 16, 19, 22, 25, 28])"
      ]
     },
     "execution_count": 62,
     "metadata": {},
     "output_type": "execute_result"
    }
   ],
   "source": [
    "np.arange(10, 30, 3)   # np.array(range(10, 30, 3))"
   ]
  },
  {
   "cell_type": "markdown",
   "id": "bbd9ac55",
   "metadata": {},
   "source": [
    "# NumPy array methods"
   ]
  },
  {
   "cell_type": "code",
   "execution_count": 63,
   "id": "7d5c9ec2",
   "metadata": {},
   "outputs": [
    {
     "data": {
      "text/plain": [
       "array([10, 20, 30, 40, 50])"
      ]
     },
     "execution_count": 63,
     "metadata": {},
     "output_type": "execute_result"
    }
   ],
   "source": [
    "a"
   ]
  },
  {
   "cell_type": "code",
   "execution_count": 64,
   "id": "1479b856",
   "metadata": {},
   "outputs": [
    {
     "data": {
      "text/plain": [
       "150"
      ]
     },
     "execution_count": 64,
     "metadata": {},
     "output_type": "execute_result"
    }
   ],
   "source": [
    "a.sum() "
   ]
  },
  {
   "cell_type": "code",
   "execution_count": 65,
   "id": "2ff02020",
   "metadata": {},
   "outputs": [
    {
     "data": {
      "text/plain": [
       "30.0"
      ]
     },
     "execution_count": 65,
     "metadata": {},
     "output_type": "execute_result"
    }
   ],
   "source": [
    "a.mean()"
   ]
  },
  {
   "cell_type": "code",
   "execution_count": 66,
   "id": "48ab672c",
   "metadata": {},
   "outputs": [
    {
     "data": {
      "text/plain": [
       "14.142135623730951"
      ]
     },
     "execution_count": 66,
     "metadata": {},
     "output_type": "execute_result"
    }
   ],
   "source": [
    "a.std()"
   ]
  },
  {
   "cell_type": "code",
   "execution_count": 67,
   "id": "c20bf7f3",
   "metadata": {},
   "outputs": [
    {
     "data": {
      "text/plain": [
       "10"
      ]
     },
     "execution_count": 67,
     "metadata": {},
     "output_type": "execute_result"
    }
   ],
   "source": [
    "a.min()"
   ]
  },
  {
   "cell_type": "code",
   "execution_count": 68,
   "id": "57e3c160",
   "metadata": {},
   "outputs": [
    {
     "data": {
      "text/plain": [
       "50"
      ]
     },
     "execution_count": 68,
     "metadata": {},
     "output_type": "execute_result"
    }
   ],
   "source": [
    "a.max()"
   ]
  },
  {
   "cell_type": "code",
   "execution_count": 72,
   "id": "10129868",
   "metadata": {},
   "outputs": [
    {
     "data": {
      "text/plain": [
       "5"
      ]
     },
     "execution_count": 72,
     "metadata": {},
     "output_type": "execute_result"
    }
   ],
   "source": [
    "a.size"
   ]
  },
  {
   "cell_type": "code",
   "execution_count": 73,
   "id": "9fdba4be",
   "metadata": {
    "scrolled": true
   },
   "outputs": [
    {
     "data": {
      "text/plain": [
       "(5,)"
      ]
     },
     "execution_count": 73,
     "metadata": {},
     "output_type": "execute_result"
    }
   ],
   "source": [
    "a.shape"
   ]
  },
  {
   "cell_type": "code",
   "execution_count": 74,
   "id": "2b2c099b",
   "metadata": {},
   "outputs": [
    {
     "data": {
      "text/plain": [
       "array([10, 20, 30, 40, 50])"
      ]
     },
     "execution_count": 74,
     "metadata": {},
     "output_type": "execute_result"
    }
   ],
   "source": [
    "a"
   ]
  },
  {
   "cell_type": "code",
   "execution_count": 76,
   "id": "f3f70784",
   "metadata": {},
   "outputs": [
    {
     "data": {
      "text/plain": [
       "array([10, 20, 30])"
      ]
     },
     "execution_count": 76,
     "metadata": {},
     "output_type": "execute_result"
    }
   ],
   "source": [
    "a[[0, 1, 2]]   # fancy index"
   ]
  },
  {
   "cell_type": "code",
   "execution_count": 77,
   "id": "4b0896d9",
   "metadata": {},
   "outputs": [
    {
     "data": {
      "text/plain": [
       "array([10, 50])"
      ]
     },
     "execution_count": 77,
     "metadata": {},
     "output_type": "execute_result"
    }
   ],
   "source": [
    "# boolean index -- must be of the same length as a\n",
    "a[[True, False, False, False, True]]"
   ]
  },
  {
   "cell_type": "code",
   "execution_count": 78,
   "id": "aa9d5b81",
   "metadata": {},
   "outputs": [
    {
     "data": {
      "text/plain": [
       "array([10, 20, 40, 50])"
      ]
     },
     "execution_count": 78,
     "metadata": {},
     "output_type": "execute_result"
    }
   ],
   "source": [
    "a[[True, True, False, True, True]]"
   ]
  },
  {
   "cell_type": "code",
   "execution_count": 79,
   "id": "3fc62a4c",
   "metadata": {},
   "outputs": [
    {
     "data": {
      "text/plain": [
       "array([10, 20, 30, 40, 50])"
      ]
     },
     "execution_count": 79,
     "metadata": {},
     "output_type": "execute_result"
    }
   ],
   "source": [
    "a"
   ]
  },
  {
   "cell_type": "code",
   "execution_count": 80,
   "id": "bc972eb2",
   "metadata": {},
   "outputs": [
    {
     "data": {
      "text/plain": [
       "array([40, 50, 60, 70, 80])"
      ]
     },
     "execution_count": 80,
     "metadata": {},
     "output_type": "execute_result"
    }
   ],
   "source": [
    "a + 30"
   ]
  },
  {
   "cell_type": "code",
   "execution_count": 81,
   "id": "0bfb2df4",
   "metadata": {},
   "outputs": [
    {
     "data": {
      "text/plain": [
       "array([False, False,  True, False, False])"
      ]
     },
     "execution_count": 81,
     "metadata": {},
     "output_type": "execute_result"
    }
   ],
   "source": [
    "a == 30    # use a comparison operator"
   ]
  },
  {
   "cell_type": "code",
   "execution_count": 83,
   "id": "8c3bd314",
   "metadata": {},
   "outputs": [
    {
     "data": {
      "text/plain": [
       "array([30])"
      ]
     },
     "execution_count": 83,
     "metadata": {},
     "output_type": "execute_result"
    }
   ],
   "source": [
    "# use a inside the [], to get a boolean array, which we'll use as a boolean index\n",
    "a[a==30]"
   ]
  },
  {
   "cell_type": "code",
   "execution_count": 84,
   "id": "c0d73cb1",
   "metadata": {},
   "outputs": [
    {
     "data": {
      "text/plain": [
       "array([10, 20])"
      ]
     },
     "execution_count": 84,
     "metadata": {},
     "output_type": "execute_result"
    }
   ],
   "source": [
    "a[a<30]"
   ]
  },
  {
   "cell_type": "code",
   "execution_count": 85,
   "id": "688f2cff",
   "metadata": {},
   "outputs": [
    {
     "data": {
      "text/plain": [
       "array([40, 50])"
      ]
     },
     "execution_count": 85,
     "metadata": {},
     "output_type": "execute_result"
    }
   ],
   "source": [
    "a[a>a.mean()]"
   ]
  },
  {
   "cell_type": "code",
   "execution_count": 86,
   "id": "498715fd",
   "metadata": {},
   "outputs": [
    {
     "data": {
      "text/plain": [
       "array([10, 20, 30])"
      ]
     },
     "execution_count": 86,
     "metadata": {},
     "output_type": "execute_result"
    }
   ],
   "source": [
    "np.array([10, 20, 30])"
   ]
  },
  {
   "cell_type": "code",
   "execution_count": 87,
   "id": "d66d0d4f",
   "metadata": {},
   "outputs": [
    {
     "data": {
      "text/plain": [
       "array([10, 20, 30, 40, 50])"
      ]
     },
     "execution_count": 87,
     "metadata": {},
     "output_type": "execute_result"
    }
   ],
   "source": [
    "a"
   ]
  },
  {
   "cell_type": "code",
   "execution_count": 88,
   "id": "9188a9cf",
   "metadata": {},
   "outputs": [
    {
     "data": {
      "text/plain": [
       "[10, 20, 30, 40, 50]"
      ]
     },
     "execution_count": 88,
     "metadata": {},
     "output_type": "execute_result"
    }
   ],
   "source": [
    "list(a)"
   ]
  },
  {
   "cell_type": "code",
   "execution_count": 89,
   "id": "b1408884",
   "metadata": {},
   "outputs": [
    {
     "data": {
      "text/plain": [
       "40"
      ]
     },
     "execution_count": 89,
     "metadata": {},
     "output_type": "execute_result"
    }
   ],
   "source": [
    "a.nbytes"
   ]
  },
  {
   "cell_type": "code",
   "execution_count": 90,
   "id": "094a15a4",
   "metadata": {},
   "outputs": [
    {
     "data": {
      "text/plain": [
       "[10, 20, 30, 40, 50]"
      ]
     },
     "execution_count": 90,
     "metadata": {},
     "output_type": "execute_result"
    }
   ],
   "source": [
    "a.tolist()"
   ]
  },
  {
   "cell_type": "markdown",
   "id": "a25c9fe0",
   "metadata": {},
   "source": [
    "# NumPy exercises\n",
    "\n",
    "1. Create an array of 20 random integers, from 0 to 100.\n",
    "2. Find the largest even number.\n",
    "3. Find the mean of the odd numbers.\n",
    "4. Create a new array with 20 floats from 0-1,000.\n",
    "5. Find the numbers that are < the mean.\n",
    "6. Find the numbers that are < the mean - one standard deviation."
   ]
  },
  {
   "cell_type": "code",
   "execution_count": null,
   "id": "924b0134",
   "metadata": {},
   "outputs": [],
   "source": []
  }
 ],
 "metadata": {
  "kernelspec": {
   "display_name": "Python 3 (ipykernel)",
   "language": "python",
   "name": "python3"
  },
  "language_info": {
   "codemirror_mode": {
    "name": "ipython",
    "version": 3
   },
   "file_extension": ".py",
   "mimetype": "text/x-python",
   "name": "python",
   "nbconvert_exporter": "python",
   "pygments_lexer": "ipython3",
   "version": "3.10.2"
  }
 },
 "nbformat": 4,
 "nbformat_minor": 5
}
