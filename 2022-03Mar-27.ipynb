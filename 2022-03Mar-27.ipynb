{
 "cells": [
  {
   "cell_type": "markdown",
   "id": "d42ed16e",
   "metadata": {},
   "source": [
    "# Agenda\n",
    "\n",
    "1. Threading exceptions\n",
    "2. `asyncio` -- ideas + examples\n",
    "3. Benchmarking\n",
    "4. NumPy + `pandas`"
   ]
  },
  {
   "cell_type": "markdown",
   "id": "60e8addf",
   "metadata": {},
   "source": [
    "# Benchmarking"
   ]
  },
  {
   "cell_type": "code",
   "execution_count": 10,
   "id": "d912b001",
   "metadata": {},
   "outputs": [],
   "source": [
    "def traditional_loop():\n",
    "    numbers = range(10_000_000)\n",
    "    \n",
    "    output = []\n",
    "    for one_number in numbers:\n",
    "        output.append(one_number ** 2)\n",
    "        \n",
    "    return output\n",
    "\n",
    "def comprehension():\n",
    "    numbers = range(10_000_000)\n",
    "    \n",
    "    return [one_number ** 2\n",
    "           for one_number in numbers]\n",
    "\n"
   ]
  },
  {
   "cell_type": "code",
   "execution_count": 11,
   "id": "1987d109",
   "metadata": {},
   "outputs": [
    {
     "name": "stdout",
     "output_type": "stream",
     "text": [
      "Took 2.5332047143019736\n"
     ]
    }
   ],
   "source": [
    "import time\n",
    "start_time = time.perf_counter()\n",
    "traditional_loop()\n",
    "end_time = time.perf_counter()\n",
    "\n",
    "print(f'Took {end_time - start_time}')"
   ]
  },
  {
   "cell_type": "code",
   "execution_count": 12,
   "id": "e9d440fb",
   "metadata": {},
   "outputs": [
    {
     "name": "stdout",
     "output_type": "stream",
     "text": [
      "Took 2.1925993440672755\n"
     ]
    }
   ],
   "source": [
    "import time\n",
    "start_time = time.perf_counter()\n",
    "comprehension()\n",
    "end_time = time.perf_counter()\n",
    "\n",
    "print(f'Took {end_time - start_time}')"
   ]
  },
  {
   "cell_type": "code",
   "execution_count": 16,
   "id": "cf131e23",
   "metadata": {},
   "outputs": [
    {
     "ename": "SyntaxError",
     "evalue": "unmatched ')' (1912264951.py, line 2)",
     "output_type": "error",
     "traceback": [
      "\u001b[0;36m  File \u001b[0;32m\"/var/folders/rr/0mnyyv811fs5vyp22gf4fxk00000gn/T/ipykernel_13746/1912264951.py\"\u001b[0;36m, line \u001b[0;32m2\u001b[0m\n\u001b[0;31m    )\u001b[0m\n\u001b[0m    ^\u001b[0m\n\u001b[0;31mSyntaxError\u001b[0m\u001b[0;31m:\u001b[0m unmatched ')'\n"
     ]
    }
   ],
   "source": [
    "# everything we pass to %timeit needs to be on one line!\n",
    "%timeit traditional_loop()"
   ]
  },
  {
   "cell_type": "code",
   "execution_count": 14,
   "id": "ac607ac0",
   "metadata": {},
   "outputs": [
    {
     "name": "stdout",
     "output_type": "stream",
     "text": [
      "2.22 s ± 14.2 ms per loop (mean ± std. dev. of 7 runs, 1 loop each)\n"
     ]
    }
   ],
   "source": [
    "%timeit comprehension()"
   ]
  },
  {
   "cell_type": "code",
   "execution_count": null,
   "id": "b8c0d9b8",
   "metadata": {},
   "outputs": [],
   "source": [
    "# Non-Jupyter magic command version of timeit"
   ]
  }
 ],
 "metadata": {
  "kernelspec": {
   "display_name": "Python 3 (ipykernel)",
   "language": "python",
   "name": "python3"
  },
  "language_info": {
   "codemirror_mode": {
    "name": "ipython",
    "version": 3
   },
   "file_extension": ".py",
   "mimetype": "text/x-python",
   "name": "python",
   "nbconvert_exporter": "python",
   "pygments_lexer": "ipython3",
   "version": "3.10.2"
  }
 },
 "nbformat": 4,
 "nbformat_minor": 5
}
