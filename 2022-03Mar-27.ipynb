{
 "cells": [
  {
   "cell_type": "markdown",
   "id": "343cb2cd",
   "metadata": {},
   "source": [
    "# Agenda\n",
    "\n",
    "1. Threading exceptions\n",
    "2. `asyncio` -- ideas + examples\n",
    "3. Benchmarking\n",
    "4. NumPy + `pandas`"
   ]
  },
  {
   "cell_type": "markdown",
   "id": "ae7ca1e4",
   "metadata": {},
   "source": [
    "# Benchmarking"
   ]
  },
  {
   "cell_type": "code",
   "execution_count": 10,
   "id": "b2440e06",
   "metadata": {},
   "outputs": [],
   "source": [
    "def traditional_loop():\n",
    "    numbers = range(10_000_000)\n",
    "    \n",
    "    output = []\n",
    "    for one_number in numbers:\n",
    "        output.append(one_number ** 2)\n",
    "        \n",
    "    return output\n",
    "\n",
    "def comprehension():\n",
    "    numbers = range(10_000_000)\n",
    "    \n",
    "    return [one_number ** 2\n",
    "           for one_number in numbers]\n",
    "\n"
   ]
  },
  {
   "cell_type": "code",
   "execution_count": 11,
   "id": "01f861c3",
   "metadata": {},
   "outputs": [
    {
     "name": "stdout",
     "output_type": "stream",
     "text": [
      "Took 2.5332047143019736\n"
     ]
    }
   ],
   "source": [
    "import time\n",
    "start_time = time.perf_counter()\n",
    "traditional_loop()\n",
    "end_time = time.perf_counter()\n",
    "\n",
    "print(f'Took {end_time - start_time}')"
   ]
  },
  {
   "cell_type": "code",
   "execution_count": 12,
   "id": "9fc13a73",
   "metadata": {},
   "outputs": [
    {
     "name": "stdout",
     "output_type": "stream",
     "text": [
      "Took 2.1925993440672755\n"
     ]
    }
   ],
   "source": [
    "import time\n",
    "start_time = time.perf_counter()\n",
    "comprehension()\n",
    "end_time = time.perf_counter()\n",
    "\n",
    "print(f'Took {end_time - start_time}')"
   ]
  },
  {
   "cell_type": "code",
   "execution_count": 16,
   "id": "ceaa8636",
   "metadata": {},
   "outputs": [
    {
     "ename": "SyntaxError",
     "evalue": "unmatched ')' (1912264951.py, line 2)",
     "output_type": "error",
     "traceback": [
      "\u001b[0;36m  File \u001b[0;32m\"/var/folders/rr/0mnyyv811fs5vyp22gf4fxk00000gn/T/ipykernel_13746/1912264951.py\"\u001b[0;36m, line \u001b[0;32m2\u001b[0m\n\u001b[0;31m    )\u001b[0m\n\u001b[0m    ^\u001b[0m\n\u001b[0;31mSyntaxError\u001b[0m\u001b[0;31m:\u001b[0m unmatched ')'\n"
     ]
    }
   ],
   "source": [
    "# everything we pass to %timeit needs to be on one line!\n",
    "%timeit traditional_loop()"
   ]
  },
  {
   "cell_type": "code",
   "execution_count": 14,
   "id": "38e697ad",
   "metadata": {},
   "outputs": [
    {
     "name": "stdout",
     "output_type": "stream",
     "text": [
      "2.22 s ± 14.2 ms per loop (mean ± std. dev. of 7 runs, 1 loop each)\n"
     ]
    }
   ],
   "source": [
    "%timeit comprehension()"
   ]
  },
  {
   "cell_type": "code",
   "execution_count": 17,
   "id": "2dac582f",
   "metadata": {},
   "outputs": [],
   "source": [
    "# Non-Jupyter magic command version of timeit\n",
    "import timeit\n",
    "\n"
   ]
  },
  {
   "cell_type": "code",
   "execution_count": 22,
   "id": "5d74483c",
   "metadata": {},
   "outputs": [
    {
     "data": {
      "text/plain": [
       "24.426533837802708"
      ]
     },
     "execution_count": 22,
     "metadata": {},
     "output_type": "execute_result"
    }
   ],
   "source": [
    "traditional_loop = '''\n",
    "numbers = range(10_000_000)\n",
    "\n",
    "output = []\n",
    "for one_number in numbers:\n",
    "    output.append(one_number ** 2)\n",
    "'''\n",
    "\n",
    "comprehension = '''\n",
    "numbers = range(10_000_000)\n",
    "\n",
    "output = [one_number ** 2\n",
    "       for one_number in numbers]\n",
    "'''\n",
    "\n",
    "timeit.timeit(traditional_loop, number=10)"
   ]
  },
  {
   "cell_type": "code",
   "execution_count": 23,
   "id": "8c356be6",
   "metadata": {},
   "outputs": [
    {
     "data": {
      "text/plain": [
       "22.13207621080801"
      ]
     },
     "execution_count": 23,
     "metadata": {},
     "output_type": "execute_result"
    }
   ],
   "source": [
    "timeit.timeit(comprehension, number=10)"
   ]
  },
  {
   "cell_type": "code",
   "execution_count": 24,
   "id": "4dfff552",
   "metadata": {},
   "outputs": [
    {
     "name": "stdout",
     "output_type": "stream",
     "text": [
      "Help on function timeit in module timeit:\n",
      "\n",
      "timeit(stmt='pass', setup='pass', timer=<built-in function perf_counter>, number=1000000, globals=None)\n",
      "    Convenience function to create Timer object and call timeit method.\n",
      "\n"
     ]
    }
   ],
   "source": [
    "help(timeit.timeit)"
   ]
  },
  {
   "cell_type": "code",
   "execution_count": 26,
   "id": "3bd31f36",
   "metadata": {},
   "outputs": [
    {
     "data": {
      "text/plain": [
       "7.442414263263345"
      ]
     },
     "execution_count": 26,
     "metadata": {},
     "output_type": "execute_result"
    }
   ],
   "source": [
    "def traditional_loop():\n",
    "    numbers = range(10_000_000)\n",
    "    \n",
    "    output = []\n",
    "    for one_number in numbers:\n",
    "        output.append(one_number ** 2)\n",
    "        \n",
    "    return output\n",
    "\n",
    "def comprehension():\n",
    "    numbers = range(10_000_000)\n",
    "    \n",
    "    return [one_number ** 2\n",
    "           for one_number in numbers]\n",
    "\n",
    "timeit.timeit('traditional_loop()', number=3, globals=globals())"
   ]
  },
  {
   "cell_type": "code",
   "execution_count": 27,
   "id": "1adf409d",
   "metadata": {},
   "outputs": [
    {
     "data": {
      "text/plain": [
       "6.650881435722113"
      ]
     },
     "execution_count": 27,
     "metadata": {},
     "output_type": "execute_result"
    }
   ],
   "source": [
    "timeit.timeit('comprehension()', number=3, globals=globals())"
   ]
  },
  {
   "cell_type": "markdown",
   "id": "b6806494",
   "metadata": {},
   "source": [
    "# NumPy and Pandas"
   ]
  },
  {
   "cell_type": "code",
   "execution_count": 28,
   "id": "855926f7",
   "metadata": {},
   "outputs": [
    {
     "data": {
      "text/plain": [
       "24"
      ]
     },
     "execution_count": 28,
     "metadata": {},
     "output_type": "execute_result"
    }
   ],
   "source": [
    "import sys\n",
    "x = 0\n",
    "sys.getsizeof(x)"
   ]
  },
  {
   "cell_type": "markdown",
   "id": "2754b7bf",
   "metadata": {},
   "source": [
    "# NumPy\n",
    "\n",
    "NumPy gives us one data structure: `ndarray` (n-dimensional array).  But don't call it directly -- instead, call `np.array` to create a new NumPy array.\n",
    "\n"
   ]
  },
  {
   "cell_type": "code",
   "execution_count": 29,
   "id": "3645f3a0",
   "metadata": {},
   "outputs": [],
   "source": [
    "import numpy as np   # everyone uses this alias\n",
    "\n",
    "a = np.array([10,20, 30, 40, 50])"
   ]
  },
  {
   "cell_type": "code",
   "execution_count": 30,
   "id": "4ecc9478",
   "metadata": {},
   "outputs": [
    {
     "data": {
      "text/plain": [
       "numpy.ndarray"
      ]
     },
     "execution_count": 30,
     "metadata": {},
     "output_type": "execute_result"
    }
   ],
   "source": [
    "type(a)"
   ]
  },
  {
   "cell_type": "code",
   "execution_count": 31,
   "id": "a1573fb1",
   "metadata": {},
   "outputs": [
    {
     "data": {
      "text/plain": [
       "array([10, 20, 30, 40, 50])"
      ]
     },
     "execution_count": 31,
     "metadata": {},
     "output_type": "execute_result"
    }
   ],
   "source": [
    "a"
   ]
  },
  {
   "cell_type": "code",
   "execution_count": 32,
   "id": "a42d5099",
   "metadata": {},
   "outputs": [
    {
     "data": {
      "text/plain": [
       "10"
      ]
     },
     "execution_count": 32,
     "metadata": {},
     "output_type": "execute_result"
    }
   ],
   "source": [
    "a[0]"
   ]
  },
  {
   "cell_type": "code",
   "execution_count": 33,
   "id": "81421b49",
   "metadata": {},
   "outputs": [
    {
     "data": {
      "text/plain": [
       "20"
      ]
     },
     "execution_count": 33,
     "metadata": {},
     "output_type": "execute_result"
    }
   ],
   "source": [
    "a[1]"
   ]
  },
  {
   "cell_type": "code",
   "execution_count": 34,
   "id": "774ee4a2",
   "metadata": {},
   "outputs": [],
   "source": [
    "a[0] = 50"
   ]
  },
  {
   "cell_type": "code",
   "execution_count": 35,
   "id": "0bf1542d",
   "metadata": {},
   "outputs": [
    {
     "data": {
      "text/plain": [
       "array([50, 20, 30, 40, 50])"
      ]
     },
     "execution_count": 35,
     "metadata": {},
     "output_type": "execute_result"
    }
   ],
   "source": [
    "a"
   ]
  },
  {
   "cell_type": "code",
   "execution_count": 36,
   "id": "c8439880",
   "metadata": {},
   "outputs": [],
   "source": [
    "a[0] = 10"
   ]
  },
  {
   "cell_type": "code",
   "execution_count": 37,
   "id": "b6ef0e91",
   "metadata": {},
   "outputs": [
    {
     "data": {
      "text/plain": [
       "array([10, 20, 30, 40, 50])"
      ]
     },
     "execution_count": 37,
     "metadata": {},
     "output_type": "execute_result"
    }
   ],
   "source": [
    "a"
   ]
  },
  {
   "cell_type": "code",
   "execution_count": 38,
   "id": "75c0b9b0",
   "metadata": {},
   "outputs": [
    {
     "data": {
      "text/plain": [
       "[10, 20, 30, 40, 50, 10, 20, 30, 40, 50]"
      ]
     },
     "execution_count": 38,
     "metadata": {},
     "output_type": "execute_result"
    }
   ],
   "source": [
    "mylist = [10, 20, 30, 40, 50]\n",
    "mylist + mylist  # what happens when we add a list to itself?"
   ]
  },
  {
   "cell_type": "code",
   "execution_count": 39,
   "id": "fe7158ee",
   "metadata": {},
   "outputs": [
    {
     "data": {
      "text/plain": [
       "array([ 20,  40,  60,  80, 100])"
      ]
     },
     "execution_count": 39,
     "metadata": {},
     "output_type": "execute_result"
    }
   ],
   "source": [
    "a + a   # what happens when I add a + a?"
   ]
  },
  {
   "cell_type": "code",
   "execution_count": 40,
   "id": "e239a5e3",
   "metadata": {},
   "outputs": [],
   "source": [
    "b = np.array([100, 200, 300])"
   ]
  },
  {
   "cell_type": "code",
   "execution_count": 41,
   "id": "98190246",
   "metadata": {},
   "outputs": [
    {
     "ename": "ValueError",
     "evalue": "operands could not be broadcast together with shapes (5,) (3,) ",
     "output_type": "error",
     "traceback": [
      "\u001b[0;31m---------------------------------------------------------------------------\u001b[0m",
      "\u001b[0;31mValueError\u001b[0m                                Traceback (most recent call last)",
      "\u001b[0;32m/var/folders/rr/0mnyyv811fs5vyp22gf4fxk00000gn/T/ipykernel_13746/1216668022.py\u001b[0m in \u001b[0;36m<module>\u001b[0;34m\u001b[0m\n\u001b[0;32m----> 1\u001b[0;31m \u001b[0ma\u001b[0m \u001b[0;34m+\u001b[0m \u001b[0mb\u001b[0m\u001b[0;34m\u001b[0m\u001b[0;34m\u001b[0m\u001b[0m\n\u001b[0m",
      "\u001b[0;31mValueError\u001b[0m: operands could not be broadcast together with shapes (5,) (3,) "
     ]
    }
   ],
   "source": [
    "a + b"
   ]
  },
  {
   "cell_type": "code",
   "execution_count": 42,
   "id": "8d8f5fa7",
   "metadata": {},
   "outputs": [
    {
     "data": {
      "text/plain": [
       "array([10, 20, 30, 40, 50])"
      ]
     },
     "execution_count": 42,
     "metadata": {},
     "output_type": "execute_result"
    }
   ],
   "source": [
    "a"
   ]
  },
  {
   "cell_type": "code",
   "execution_count": 44,
   "id": "2b00bada",
   "metadata": {},
   "outputs": [
    {
     "data": {
      "text/plain": [
       "array([13, 23, 33, 43, 53])"
      ]
     },
     "execution_count": 44,
     "metadata": {},
     "output_type": "execute_result"
    }
   ],
   "source": [
    "a + 3    # broadcast"
   ]
  },
  {
   "cell_type": "code",
   "execution_count": 45,
   "id": "00dbdb98",
   "metadata": {},
   "outputs": [
    {
     "data": {
      "text/plain": [
       "array([ 7, 17, 27, 37, 47])"
      ]
     },
     "execution_count": 45,
     "metadata": {},
     "output_type": "execute_result"
    }
   ],
   "source": [
    "a - 3"
   ]
  },
  {
   "cell_type": "code",
   "execution_count": 47,
   "id": "fff160a0",
   "metadata": {},
   "outputs": [
    {
     "data": {
      "text/plain": [
       "array([ 30,  60,  90, 120, 150])"
      ]
     },
     "execution_count": 47,
     "metadata": {},
     "output_type": "execute_result"
    }
   ],
   "source": [
    "a * 3"
   ]
  },
  {
   "cell_type": "code",
   "execution_count": 48,
   "id": "e1d4330f",
   "metadata": {},
   "outputs": [
    {
     "data": {
      "text/plain": [
       "array([ 3.33333333,  6.66666667, 10.        , 13.33333333, 16.66666667])"
      ]
     },
     "execution_count": 48,
     "metadata": {},
     "output_type": "execute_result"
    }
   ],
   "source": [
    "a / 3"
   ]
  },
  {
   "cell_type": "code",
   "execution_count": 49,
   "id": "5280b052",
   "metadata": {},
   "outputs": [
    {
     "data": {
      "text/plain": [
       "array([ 3,  6, 10, 13, 16])"
      ]
     },
     "execution_count": 49,
     "metadata": {},
     "output_type": "execute_result"
    }
   ],
   "source": [
    "a // 3"
   ]
  },
  {
   "cell_type": "code",
   "execution_count": 50,
   "id": "e48c2375",
   "metadata": {},
   "outputs": [
    {
     "data": {
      "text/plain": [
       "array([  1000,   8000,  27000,  64000, 125000])"
      ]
     },
     "execution_count": 50,
     "metadata": {},
     "output_type": "execute_result"
    }
   ],
   "source": [
    "a ** 3"
   ]
  },
  {
   "cell_type": "code",
   "execution_count": 51,
   "id": "ace14cca",
   "metadata": {},
   "outputs": [
    {
     "data": {
      "text/plain": [
       "array([1, 2, 0, 1, 2])"
      ]
     },
     "execution_count": 51,
     "metadata": {},
     "output_type": "execute_result"
    }
   ],
   "source": [
    "a % 3"
   ]
  },
  {
   "cell_type": "code",
   "execution_count": 52,
   "id": "480d7543",
   "metadata": {},
   "outputs": [
    {
     "data": {
      "text/plain": [
       "array([30, 50])"
      ]
     },
     "execution_count": 52,
     "metadata": {},
     "output_type": "execute_result"
    }
   ],
   "source": [
    "a[[2, 4]]   # fancy index"
   ]
  },
  {
   "cell_type": "code",
   "execution_count": 53,
   "id": "d1dfe3c6",
   "metadata": {},
   "outputs": [
    {
     "data": {
      "text/plain": [
       "array([30, 40, 40, 30])"
      ]
     },
     "execution_count": 53,
     "metadata": {},
     "output_type": "execute_result"
    }
   ],
   "source": [
    "a[[2, 3, 3, 2]]  "
   ]
  },
  {
   "cell_type": "markdown",
   "id": "2a55b183",
   "metadata": {},
   "source": [
    "# Other ways to create NumPy arrays"
   ]
  },
  {
   "cell_type": "code",
   "execution_count": 54,
   "id": "32f537fe",
   "metadata": {},
   "outputs": [
    {
     "data": {
      "text/plain": [
       "array([1., 1., 1., 1., 1., 1., 1., 1., 1., 1.])"
      ]
     },
     "execution_count": 54,
     "metadata": {},
     "output_type": "execute_result"
    }
   ],
   "source": [
    "np.ones(10)"
   ]
  },
  {
   "cell_type": "code",
   "execution_count": 55,
   "id": "0c337331",
   "metadata": {},
   "outputs": [
    {
     "data": {
      "text/plain": [
       "array([5., 5., 5., 5., 5., 5., 5., 5., 5., 5.])"
      ]
     },
     "execution_count": 55,
     "metadata": {},
     "output_type": "execute_result"
    }
   ],
   "source": [
    "np.ones(10) * 5"
   ]
  },
  {
   "cell_type": "code",
   "execution_count": 57,
   "id": "419f1cce",
   "metadata": {},
   "outputs": [
    {
     "data": {
      "text/plain": [
       "array([5., 5., 5., 5., 5., 5., 5., 5., 5., 5.])"
      ]
     },
     "execution_count": 57,
     "metadata": {},
     "output_type": "execute_result"
    }
   ],
   "source": [
    "np.zeros(10) + 5     # zeros and not zeroes"
   ]
  },
  {
   "cell_type": "code",
   "execution_count": 59,
   "id": "5c5acac6",
   "metadata": {},
   "outputs": [
    {
     "data": {
      "text/plain": [
       "array([59, 32, 12, 43, 16, 41])"
      ]
     },
     "execution_count": 59,
     "metadata": {},
     "output_type": "execute_result"
    }
   ],
   "source": [
    "# get 6 random integers from 0-100\n",
    "np.random.randint(0, 100, 6)"
   ]
  },
  {
   "cell_type": "code",
   "execution_count": 60,
   "id": "00ddc196",
   "metadata": {},
   "outputs": [
    {
     "data": {
      "text/plain": [
       "array([0.82098316, 0.48416498, 0.45431404, 0.83398218, 0.16524907,\n",
       "       0.11614058, 0.53791655, 0.80648735, 0.79660693, 0.08790547])"
      ]
     },
     "execution_count": 60,
     "metadata": {},
     "output_type": "execute_result"
    }
   ],
   "source": [
    "# get 10 random floats, all between 0 and 1\n",
    "np.random.rand(10)"
   ]
  },
  {
   "cell_type": "code",
   "execution_count": 61,
   "id": "2e1c4083",
   "metadata": {},
   "outputs": [
    {
     "data": {
      "text/plain": [
       "array([43.3447918 , 81.8750917 , 58.62072403, 51.38219414, 21.746913  ,\n",
       "       59.14925806, 38.18954011, 94.98294293, 92.74554535, 19.6572262 ])"
      ]
     },
     "execution_count": 61,
     "metadata": {},
     "output_type": "execute_result"
    }
   ],
   "source": [
    "np.random.rand(10) * 100"
   ]
  },
  {
   "cell_type": "code",
   "execution_count": 62,
   "id": "2ec6e372",
   "metadata": {},
   "outputs": [
    {
     "data": {
      "text/plain": [
       "array([10, 13, 16, 19, 22, 25, 28])"
      ]
     },
     "execution_count": 62,
     "metadata": {},
     "output_type": "execute_result"
    }
   ],
   "source": [
    "np.arange(10, 30, 3)   # np.array(range(10, 30, 3))"
   ]
  },
  {
   "cell_type": "markdown",
   "id": "b8cf50e5",
   "metadata": {},
   "source": [
    "# NumPy array methods"
   ]
  },
  {
   "cell_type": "code",
   "execution_count": 63,
   "id": "ccb45451",
   "metadata": {},
   "outputs": [
    {
     "data": {
      "text/plain": [
       "array([10, 20, 30, 40, 50])"
      ]
     },
     "execution_count": 63,
     "metadata": {},
     "output_type": "execute_result"
    }
   ],
   "source": [
    "a"
   ]
  },
  {
   "cell_type": "code",
   "execution_count": 64,
   "id": "2e4ad68c",
   "metadata": {},
   "outputs": [
    {
     "data": {
      "text/plain": [
       "150"
      ]
     },
     "execution_count": 64,
     "metadata": {},
     "output_type": "execute_result"
    }
   ],
   "source": [
    "a.sum() "
   ]
  },
  {
   "cell_type": "code",
   "execution_count": 65,
   "id": "53b1424e",
   "metadata": {},
   "outputs": [
    {
     "data": {
      "text/plain": [
       "30.0"
      ]
     },
     "execution_count": 65,
     "metadata": {},
     "output_type": "execute_result"
    }
   ],
   "source": [
    "a.mean()"
   ]
  },
  {
   "cell_type": "code",
   "execution_count": 66,
   "id": "4205a60c",
   "metadata": {},
   "outputs": [
    {
     "data": {
      "text/plain": [
       "14.142135623730951"
      ]
     },
     "execution_count": 66,
     "metadata": {},
     "output_type": "execute_result"
    }
   ],
   "source": [
    "a.std()"
   ]
  },
  {
   "cell_type": "code",
   "execution_count": 67,
   "id": "14937039",
   "metadata": {},
   "outputs": [
    {
     "data": {
      "text/plain": [
       "10"
      ]
     },
     "execution_count": 67,
     "metadata": {},
     "output_type": "execute_result"
    }
   ],
   "source": [
    "a.min()"
   ]
  },
  {
   "cell_type": "code",
   "execution_count": 68,
   "id": "4e7076ac",
   "metadata": {},
   "outputs": [
    {
     "data": {
      "text/plain": [
       "50"
      ]
     },
     "execution_count": 68,
     "metadata": {},
     "output_type": "execute_result"
    }
   ],
   "source": [
    "a.max()"
   ]
  },
  {
   "cell_type": "code",
   "execution_count": 72,
   "id": "a07dea88",
   "metadata": {},
   "outputs": [
    {
     "data": {
      "text/plain": [
       "5"
      ]
     },
     "execution_count": 72,
     "metadata": {},
     "output_type": "execute_result"
    }
   ],
   "source": [
    "a.size"
   ]
  },
  {
   "cell_type": "code",
   "execution_count": 73,
   "id": "110e0b50",
   "metadata": {
    "scrolled": true
   },
   "outputs": [
    {
     "data": {
      "text/plain": [
       "(5,)"
      ]
     },
     "execution_count": 73,
     "metadata": {},
     "output_type": "execute_result"
    }
   ],
   "source": [
    "a.shape"
   ]
  },
  {
   "cell_type": "code",
   "execution_count": 74,
   "id": "40e883c0",
   "metadata": {},
   "outputs": [
    {
     "data": {
      "text/plain": [
       "array([10, 20, 30, 40, 50])"
      ]
     },
     "execution_count": 74,
     "metadata": {},
     "output_type": "execute_result"
    }
   ],
   "source": [
    "a"
   ]
  },
  {
   "cell_type": "code",
   "execution_count": 76,
   "id": "8495785a",
   "metadata": {},
   "outputs": [
    {
     "data": {
      "text/plain": [
       "array([10, 20, 30])"
      ]
     },
     "execution_count": 76,
     "metadata": {},
     "output_type": "execute_result"
    }
   ],
   "source": [
    "a[[0, 1, 2]]   # fancy index"
   ]
  },
  {
   "cell_type": "code",
   "execution_count": 77,
   "id": "a07073b3",
   "metadata": {},
   "outputs": [
    {
     "data": {
      "text/plain": [
       "array([10, 50])"
      ]
     },
     "execution_count": 77,
     "metadata": {},
     "output_type": "execute_result"
    }
   ],
   "source": [
    "# boolean index -- must be of the same length as a\n",
    "a[[True, False, False, False, True]]"
   ]
  },
  {
   "cell_type": "code",
   "execution_count": 78,
   "id": "d492c740",
   "metadata": {},
   "outputs": [
    {
     "data": {
      "text/plain": [
       "array([10, 20, 40, 50])"
      ]
     },
     "execution_count": 78,
     "metadata": {},
     "output_type": "execute_result"
    }
   ],
   "source": [
    "a[[True, True, False, True, True]]"
   ]
  },
  {
   "cell_type": "code",
   "execution_count": 79,
   "id": "8ccbee9a",
   "metadata": {},
   "outputs": [
    {
     "data": {
      "text/plain": [
       "array([10, 20, 30, 40, 50])"
      ]
     },
     "execution_count": 79,
     "metadata": {},
     "output_type": "execute_result"
    }
   ],
   "source": [
    "a"
   ]
  },
  {
   "cell_type": "code",
   "execution_count": 80,
   "id": "b8bca323",
   "metadata": {},
   "outputs": [
    {
     "data": {
      "text/plain": [
       "array([40, 50, 60, 70, 80])"
      ]
     },
     "execution_count": 80,
     "metadata": {},
     "output_type": "execute_result"
    }
   ],
   "source": [
    "a + 30"
   ]
  },
  {
   "cell_type": "code",
   "execution_count": 81,
   "id": "b2d09c5c",
   "metadata": {},
   "outputs": [
    {
     "data": {
      "text/plain": [
       "array([False, False,  True, False, False])"
      ]
     },
     "execution_count": 81,
     "metadata": {},
     "output_type": "execute_result"
    }
   ],
   "source": [
    "a == 30    # use a comparison operator"
   ]
  },
  {
   "cell_type": "code",
   "execution_count": 83,
   "id": "1638d0df",
   "metadata": {},
   "outputs": [
    {
     "data": {
      "text/plain": [
       "array([30])"
      ]
     },
     "execution_count": 83,
     "metadata": {},
     "output_type": "execute_result"
    }
   ],
   "source": [
    "# use a inside the [], to get a boolean array, which we'll use as a boolean index\n",
    "a[a==30]"
   ]
  },
  {
   "cell_type": "code",
   "execution_count": 84,
   "id": "7d4879bf",
   "metadata": {},
   "outputs": [
    {
     "data": {
      "text/plain": [
       "array([10, 20])"
      ]
     },
     "execution_count": 84,
     "metadata": {},
     "output_type": "execute_result"
    }
   ],
   "source": [
    "a[a<30]"
   ]
  },
  {
   "cell_type": "code",
   "execution_count": 85,
   "id": "da4d96eb",
   "metadata": {},
   "outputs": [
    {
     "data": {
      "text/plain": [
       "array([40, 50])"
      ]
     },
     "execution_count": 85,
     "metadata": {},
     "output_type": "execute_result"
    }
   ],
   "source": [
    "a[a>a.mean()]"
   ]
  },
  {
   "cell_type": "code",
   "execution_count": 86,
   "id": "cdb5683c",
   "metadata": {},
   "outputs": [
    {
     "data": {
      "text/plain": [
       "array([10, 20, 30])"
      ]
     },
     "execution_count": 86,
     "metadata": {},
     "output_type": "execute_result"
    }
   ],
   "source": [
    "np.array([10, 20, 30])"
   ]
  },
  {
   "cell_type": "code",
   "execution_count": 87,
   "id": "ce729a55",
   "metadata": {},
   "outputs": [
    {
     "data": {
      "text/plain": [
       "array([10, 20, 30, 40, 50])"
      ]
     },
     "execution_count": 87,
     "metadata": {},
     "output_type": "execute_result"
    }
   ],
   "source": [
    "a"
   ]
  },
  {
   "cell_type": "code",
   "execution_count": 88,
   "id": "388e500b",
   "metadata": {},
   "outputs": [
    {
     "data": {
      "text/plain": [
       "[10, 20, 30, 40, 50]"
      ]
     },
     "execution_count": 88,
     "metadata": {},
     "output_type": "execute_result"
    }
   ],
   "source": [
    "list(a)"
   ]
  },
  {
   "cell_type": "code",
   "execution_count": 89,
   "id": "7add4ddb",
   "metadata": {},
   "outputs": [
    {
     "data": {
      "text/plain": [
       "40"
      ]
     },
     "execution_count": 89,
     "metadata": {},
     "output_type": "execute_result"
    }
   ],
   "source": [
    "a.nbytes"
   ]
  },
  {
   "cell_type": "code",
   "execution_count": 90,
   "id": "065a2677",
   "metadata": {},
   "outputs": [
    {
     "data": {
      "text/plain": [
       "[10, 20, 30, 40, 50]"
      ]
     },
     "execution_count": 90,
     "metadata": {},
     "output_type": "execute_result"
    }
   ],
   "source": [
    "a.tolist()"
   ]
  },
  {
   "cell_type": "markdown",
   "id": "1c4bf1db",
   "metadata": {},
   "source": [
    "# NumPy exercises\n",
    "\n",
    "1. Create an array of 20 random integers, from 0 to 100.\n",
    "2. Find the largest even number.\n",
    "3. Find the mean of the odd numbers.\n",
    "4. Create a new array with 20 floats from 0-1,000.\n",
    "5. Find the numbers that are < the mean.\n",
    "6. Find the numbers that are < the mean - one standard deviation."
   ]
  },
  {
   "cell_type": "code",
   "execution_count": 95,
   "id": "5bcb083a",
   "metadata": {},
   "outputs": [
    {
     "data": {
      "text/plain": [
       "array([44, 47, 64, 67, 67,  9, 83, 21, 36, 87, 70, 88, 88, 12, 58, 65, 39,\n",
       "       87, 46, 88])"
      ]
     },
     "execution_count": 95,
     "metadata": {},
     "output_type": "execute_result"
    }
   ],
   "source": [
    "np.random.seed(0)\n",
    "a = np.random.randint(0, 100, 20)\n",
    "a"
   ]
  },
  {
   "cell_type": "code",
   "execution_count": 100,
   "id": "084fd382",
   "metadata": {},
   "outputs": [
    {
     "data": {
      "text/plain": [
       "array([44, 64, 36, 70, 88, 88, 12, 58, 46, 88])"
      ]
     },
     "execution_count": 100,
     "metadata": {},
     "output_type": "execute_result"
    }
   ],
   "source": [
    "# get the even numbers\n",
    "a[a%2==0]"
   ]
  },
  {
   "cell_type": "code",
   "execution_count": 101,
   "id": "9f332ba2",
   "metadata": {},
   "outputs": [
    {
     "data": {
      "text/plain": [
       "88"
      ]
     },
     "execution_count": 101,
     "metadata": {},
     "output_type": "execute_result"
    }
   ],
   "source": [
    "# get the largest even numbers\n",
    "a[a%2==0].max()"
   ]
  },
  {
   "cell_type": "code",
   "execution_count": 105,
   "id": "7a961818",
   "metadata": {},
   "outputs": [
    {
     "data": {
      "text/plain": [
       "57.2"
      ]
     },
     "execution_count": 105,
     "metadata": {},
     "output_type": "execute_result"
    }
   ],
   "source": [
    "# get the mean of the odd numbers\n",
    "a[a%2==1].mean()"
   ]
  },
  {
   "cell_type": "code",
   "execution_count": 106,
   "id": "34522c21",
   "metadata": {},
   "outputs": [
    {
     "data": {
      "text/plain": [
       "array([548.81350393, 715.18936637, 602.76337607, 544.883183  ,\n",
       "       423.65479934, 645.89411307, 437.58721126, 891.77300078,\n",
       "       963.6627605 , 383.44151883, 791.72503808, 528.89491975,\n",
       "       568.04456109, 925.59663829,  71.0360582 ,  87.1292997 ,\n",
       "        20.21839744, 832.61984555, 778.15675095, 870.01214825])"
      ]
     },
     "execution_count": 106,
     "metadata": {},
     "output_type": "execute_result"
    }
   ],
   "source": [
    "np.random.seed(0)\n",
    "a = np.random.rand(20) * 1000\n",
    "a"
   ]
  },
  {
   "cell_type": "code",
   "execution_count": 108,
   "id": "28b36edd",
   "metadata": {},
   "outputs": [
    {
     "data": {
      "text/plain": [
       "array([548.81350393, 544.883183  , 423.65479934, 437.58721126,\n",
       "       383.44151883, 528.89491975, 568.04456109,  71.0360582 ,\n",
       "        87.1292997 ,  20.21839744])"
      ]
     },
     "execution_count": 108,
     "metadata": {},
     "output_type": "execute_result"
    }
   ],
   "source": [
    "# find numbers less than the mean\n",
    "\n",
    "a[a<a.mean()]"
   ]
  },
  {
   "cell_type": "code",
   "execution_count": 109,
   "id": "2f9b7c6f",
   "metadata": {},
   "outputs": [
    {
     "data": {
      "text/plain": [
       "581.5548245225973"
      ]
     },
     "execution_count": 109,
     "metadata": {},
     "output_type": "execute_result"
    }
   ],
   "source": [
    "a.mean()"
   ]
  },
  {
   "cell_type": "code",
   "execution_count": 112,
   "id": "d0f74563",
   "metadata": {},
   "outputs": [
    {
     "data": {
      "text/plain": [
       "array([71.0360582 , 87.1292997 , 20.21839744])"
      ]
     },
     "execution_count": 112,
     "metadata": {},
     "output_type": "execute_result"
    }
   ],
   "source": [
    "# find numbers < mean-std\n",
    "a[a < a.mean()-a.std()]"
   ]
  },
  {
   "cell_type": "code",
   "execution_count": null,
   "id": "008e50a3",
   "metadata": {},
   "outputs": [],
   "source": [
    "# find numbers < mean - 2*a.std()\n",
    "a[a < a.mean()-(a.std() * 2)]"
   ]
  },
  {
   "cell_type": "code",
   "execution_count": 114,
   "id": "24aa339e",
   "metadata": {},
   "outputs": [
    {
     "data": {
      "text/plain": [
       "275.91521991954784"
      ]
     },
     "execution_count": 114,
     "metadata": {},
     "output_type": "execute_result"
    }
   ],
   "source": [
    "a.std()"
   ]
  },
  {
   "cell_type": "markdown",
   "id": "f6a5ea01",
   "metadata": {},
   "source": [
    "# Next up\n",
    "\n",
    "- complex queries\n",
    "- dtypes\n",
    "- `nan`\n",
    "\n",
    "Resume at 11:50"
   ]
  },
  {
   "cell_type": "code",
   "execution_count": 115,
   "id": "e7c1424f",
   "metadata": {},
   "outputs": [
    {
     "data": {
      "text/plain": [
       "array([548.81350393, 715.18936637, 602.76337607, 544.883183  ,\n",
       "       423.65479934, 645.89411307, 437.58721126, 891.77300078,\n",
       "       963.6627605 , 383.44151883, 791.72503808, 528.89491975,\n",
       "       568.04456109, 925.59663829,  71.0360582 ,  87.1292997 ,\n",
       "        20.21839744, 832.61984555, 778.15675095, 870.01214825])"
      ]
     },
     "execution_count": 115,
     "metadata": {},
     "output_type": "execute_result"
    }
   ],
   "source": [
    "a"
   ]
  },
  {
   "cell_type": "code",
   "execution_count": 116,
   "id": "738c28ba",
   "metadata": {},
   "outputs": [
    {
     "data": {
      "text/plain": [
       "array([44, 47, 64, 67, 67,  9, 83, 21, 36, 87])"
      ]
     },
     "execution_count": 116,
     "metadata": {},
     "output_type": "execute_result"
    }
   ],
   "source": [
    "np.random.seed(0)\n",
    "a = np.random.randint(0, 100, 10)\n",
    "a"
   ]
  },
  {
   "cell_type": "code",
   "execution_count": 118,
   "id": "af0fe55b",
   "metadata": {},
   "outputs": [
    {
     "data": {
      "text/plain": [
       "array([44, 47,  9, 21, 36])"
      ]
     },
     "execution_count": 118,
     "metadata": {},
     "output_type": "execute_result"
    }
   ],
   "source": [
    "# I want even numbers < the mean\n",
    "b = a[a<a.mean()]\n",
    "b"
   ]
  },
  {
   "cell_type": "code",
   "execution_count": 120,
   "id": "90580134",
   "metadata": {},
   "outputs": [
    {
     "data": {
      "text/plain": [
       "array([44, 36])"
      ]
     },
     "execution_count": 120,
     "metadata": {},
     "output_type": "execute_result"
    }
   ],
   "source": [
    "b[b%2==0]"
   ]
  },
  {
   "cell_type": "code",
   "execution_count": 121,
   "id": "e3526e48",
   "metadata": {},
   "outputs": [
    {
     "ename": "ValueError",
     "evalue": "The truth value of an array with more than one element is ambiguous. Use a.any() or a.all()",
     "output_type": "error",
     "traceback": [
      "\u001b[0;31m---------------------------------------------------------------------------\u001b[0m",
      "\u001b[0;31mValueError\u001b[0m                                Traceback (most recent call last)",
      "\u001b[0;32m/var/folders/rr/0mnyyv811fs5vyp22gf4fxk00000gn/T/ipykernel_13746/3592053846.py\u001b[0m in \u001b[0;36m<module>\u001b[0;34m\u001b[0m\n\u001b[1;32m      1\u001b[0m \u001b[0;31m# how can I do this in one query?\u001b[0m\u001b[0;34m\u001b[0m\u001b[0;34m\u001b[0m\u001b[0m\n\u001b[1;32m      2\u001b[0m \u001b[0;34m\u001b[0m\u001b[0m\n\u001b[0;32m----> 3\u001b[0;31m \u001b[0ma\u001b[0m\u001b[0;34m[\u001b[0m\u001b[0ma\u001b[0m\u001b[0;34m<\u001b[0m\u001b[0ma\u001b[0m\u001b[0;34m.\u001b[0m\u001b[0mmean\u001b[0m\u001b[0;34m(\u001b[0m\u001b[0;34m)\u001b[0m  \u001b[0;32mand\u001b[0m \u001b[0ma\u001b[0m\u001b[0;34m%\u001b[0m\u001b[0;36m2\u001b[0m\u001b[0;34m==\u001b[0m\u001b[0;36m0\u001b[0m\u001b[0;34m]\u001b[0m\u001b[0;34m\u001b[0m\u001b[0;34m\u001b[0m\u001b[0m\n\u001b[0m",
      "\u001b[0;31mValueError\u001b[0m: The truth value of an array with more than one element is ambiguous. Use a.any() or a.all()"
     ]
    }
   ],
   "source": [
    "# how can I do this in one query?\n",
    "\n",
    "a[a<a.mean()  and a%2==0]"
   ]
  },
  {
   "cell_type": "code",
   "execution_count": 123,
   "id": "126fb470",
   "metadata": {},
   "outputs": [
    {
     "name": "stdout",
     "output_type": "stream",
     "text": [
      "Nothing there\n"
     ]
    }
   ],
   "source": [
    "s = ''\n",
    "\n",
    "if not s:\n",
    "    print('Nothing there')"
   ]
  },
  {
   "cell_type": "code",
   "execution_count": 125,
   "id": "789384ac",
   "metadata": {},
   "outputs": [
    {
     "data": {
      "text/plain": [
       "array([44, 36])"
      ]
     },
     "execution_count": 125,
     "metadata": {},
     "output_type": "execute_result"
    }
   ],
   "source": [
    "# In NumPy, use & for our \"and\"\n",
    "a[(a<a.mean()) & (a%2==0)]"
   ]
  },
  {
   "cell_type": "code",
   "execution_count": null,
   "id": "f9de63e6",
   "metadata": {},
   "outputs": [],
   "source": [
    "a[(a<a.mean()) & \n",
    "  (a%2==0)]"
   ]
  },
  {
   "cell_type": "code",
   "execution_count": 127,
   "id": "e9a36573",
   "metadata": {},
   "outputs": [
    {
     "data": {
      "text/plain": [
       "array([44, 47, 64, 67, 67,  9, 83, 21, 36, 87])"
      ]
     },
     "execution_count": 127,
     "metadata": {},
     "output_type": "execute_result"
    }
   ],
   "source": [
    "# we can use | for \"or\"\n",
    "# for example: all numbers that are either odd or even (i.e., all of them)\n",
    "\n",
    "a[(a%2==0) | (a%2 == 1)]"
   ]
  },
  {
   "cell_type": "markdown",
   "id": "5d81f348",
   "metadata": {},
   "source": [
    "# Exercises:\n",
    "\n",
    "1. Create a NumPy array with 20 random integers from 0-1,000.\n",
    "2. What is the smallest even number that is greater than the mean?\n",
    "3. Find all of the numbers that are either smaller than the mean-std or greater than the mean+std.\n",
    "4. Find all the odd numbers smaller than the mean, and even numbers bigger than the mean."
   ]
  },
  {
   "cell_type": "code",
   "execution_count": 128,
   "id": "642abc9c",
   "metadata": {},
   "outputs": [
    {
     "data": {
      "text/plain": [
       "array([684, 559, 629, 192, 835, 763, 707, 359,   9, 723, 277, 754, 804,\n",
       "       599,  70, 472, 600, 396, 314, 705])"
      ]
     },
     "execution_count": 128,
     "metadata": {},
     "output_type": "execute_result"
    }
   ],
   "source": [
    "np.random.seed(0)\n",
    "a = np.random.randint(0, 1000, 20)\n",
    "a"
   ]
  },
  {
   "cell_type": "code",
   "execution_count": 131,
   "id": "7c642f2e",
   "metadata": {},
   "outputs": [
    {
     "data": {
      "text/plain": [
       "600"
      ]
     },
     "execution_count": 131,
     "metadata": {},
     "output_type": "execute_result"
    }
   ],
   "source": [
    "a[(a%2 == 0) & (a>a.mean())].min()"
   ]
  },
  {
   "cell_type": "code",
   "execution_count": 134,
   "id": "95e49a16",
   "metadata": {},
   "outputs": [
    {
     "data": {
      "text/plain": [
       "array([192, 835,   9, 277, 804,  70])"
      ]
     },
     "execution_count": 134,
     "metadata": {},
     "output_type": "execute_result"
    }
   ],
   "source": [
    "a[(a<a.mean()-a.std()) | (a>a.mean()+a.std())]"
   ]
  },
  {
   "cell_type": "code",
   "execution_count": 136,
   "id": "2eeb80fa",
   "metadata": {},
   "outputs": [
    {
     "data": {
      "text/plain": [
       "array([684, 359,   9, 277, 754, 804, 600])"
      ]
     },
     "execution_count": 136,
     "metadata": {},
     "output_type": "execute_result"
    }
   ],
   "source": [
    "a[((a%2 == 1) & (a < a.mean()))   | \n",
    "  ((a%2 == 0) & (a > a.mean()))]"
   ]
  },
  {
   "cell_type": "markdown",
   "id": "250888fa",
   "metadata": {},
   "source": [
    "# Types"
   ]
  },
  {
   "cell_type": "code",
   "execution_count": 137,
   "id": "2596404b",
   "metadata": {},
   "outputs": [
    {
     "data": {
      "text/plain": [
       "array([10, 20, 30, 40, 50])"
      ]
     },
     "execution_count": 137,
     "metadata": {},
     "output_type": "execute_result"
    }
   ],
   "source": [
    "a = np.array([10, 20, 30, 40, 50])\n",
    "a"
   ]
  },
  {
   "cell_type": "code",
   "execution_count": 138,
   "id": "3aad6901",
   "metadata": {},
   "outputs": [
    {
     "data": {
      "text/plain": [
       "array([ 100,  400,  900, 1600, 2500])"
      ]
     },
     "execution_count": 138,
     "metadata": {},
     "output_type": "execute_result"
    }
   ],
   "source": [
    "a ** 2"
   ]
  },
  {
   "cell_type": "code",
   "execution_count": 139,
   "id": "2d53296d",
   "metadata": {},
   "outputs": [
    {
     "data": {
      "text/plain": [
       "array([   100000,   3200000,  24300000, 102400000, 312500000])"
      ]
     },
     "execution_count": 139,
     "metadata": {},
     "output_type": "execute_result"
    }
   ],
   "source": [
    "a ** 5"
   ]
  },
  {
   "cell_type": "code",
   "execution_count": 140,
   "id": "ec23617d",
   "metadata": {},
   "outputs": [
    {
     "data": {
      "text/plain": [
       "array([      10000000000,    10240000000000,   590490000000000,\n",
       "       10485760000000000, 97656250000000000])"
      ]
     },
     "execution_count": 140,
     "metadata": {},
     "output_type": "execute_result"
    }
   ],
   "source": [
    "a ** 10"
   ]
  },
  {
   "cell_type": "code",
   "execution_count": 141,
   "id": "d5c50652",
   "metadata": {},
   "outputs": [
    {
     "data": {
      "text/plain": [
       "array([-5376172055173529600,                    0,  1694479359798149120,\n",
       "                          0, -6646187150092009472])"
      ]
     },
     "execution_count": 141,
     "metadata": {},
     "output_type": "execute_result"
    }
   ],
   "source": [
    "a ** 50"
   ]
  },
  {
   "cell_type": "code",
   "execution_count": 142,
   "id": "9974eec3",
   "metadata": {},
   "outputs": [
    {
     "data": {
      "text/plain": [
       "dtype('int64')"
      ]
     },
     "execution_count": 142,
     "metadata": {},
     "output_type": "execute_result"
    }
   ],
   "source": [
    "# every array has a \"dtype\"\n",
    "a.dtype"
   ]
  },
  {
   "cell_type": "code",
   "execution_count": 143,
   "id": "33a6ab4e",
   "metadata": {},
   "outputs": [
    {
     "data": {
      "text/plain": [
       "numpy.int64"
      ]
     },
     "execution_count": 143,
     "metadata": {},
     "output_type": "execute_result"
    }
   ],
   "source": [
    "np.int64"
   ]
  },
  {
   "cell_type": "code",
   "execution_count": 144,
   "id": "31805966",
   "metadata": {},
   "outputs": [
    {
     "data": {
      "text/plain": [
       "dtype('int64')"
      ]
     },
     "execution_count": 144,
     "metadata": {},
     "output_type": "execute_result"
    }
   ],
   "source": [
    "np.dtype('int64')"
   ]
  },
  {
   "cell_type": "code",
   "execution_count": 148,
   "id": "c2cb4f68",
   "metadata": {},
   "outputs": [],
   "source": [
    "x = 10 ** 500"
   ]
  },
  {
   "cell_type": "code",
   "execution_count": 149,
   "id": "e214de3c",
   "metadata": {},
   "outputs": [
    {
     "data": {
      "text/plain": [
       "100000000000000000000000000000000000000000000000000000000000000000000000000000000000000000000000000000000000000000000000000000000000000000000000000000000000000000000000000000000000000000000000000000000000000000000000000000000000000000000000000000000000000000000000000000000000000000000000000000000000000000000000000000000000000000000000000000000000000000000000000000000000000000000000000000000000000000000000000000000000000000000000000000000000000000000000000000000000000000000000000000000000000000000"
      ]
     },
     "execution_count": 149,
     "metadata": {},
     "output_type": "execute_result"
    }
   ],
   "source": [
    "x"
   ]
  },
  {
   "cell_type": "code",
   "execution_count": 150,
   "id": "fd503528",
   "metadata": {},
   "outputs": [
    {
     "data": {
      "text/plain": [
       "int"
      ]
     },
     "execution_count": 150,
     "metadata": {},
     "output_type": "execute_result"
    }
   ],
   "source": [
    "type(x)"
   ]
  },
  {
   "cell_type": "code",
   "execution_count": 151,
   "id": "0203e3cb",
   "metadata": {},
   "outputs": [
    {
     "data": {
      "text/plain": [
       "array([10, 20, 30, 40, 50])"
      ]
     },
     "execution_count": 151,
     "metadata": {},
     "output_type": "execute_result"
    }
   ],
   "source": [
    "a"
   ]
  },
  {
   "cell_type": "code",
   "execution_count": 152,
   "id": "a134fe79",
   "metadata": {},
   "outputs": [],
   "source": [
    "a[2] = 12345"
   ]
  },
  {
   "cell_type": "code",
   "execution_count": 153,
   "id": "39f834a5",
   "metadata": {},
   "outputs": [
    {
     "data": {
      "text/plain": [
       "array([   10,    20, 12345,    40,    50])"
      ]
     },
     "execution_count": 153,
     "metadata": {},
     "output_type": "execute_result"
    }
   ],
   "source": [
    "a"
   ]
  },
  {
   "cell_type": "code",
   "execution_count": 154,
   "id": "4da65a8b",
   "metadata": {},
   "outputs": [],
   "source": [
    "a[2] = 12.34"
   ]
  },
  {
   "cell_type": "code",
   "execution_count": 155,
   "id": "86d3c441",
   "metadata": {},
   "outputs": [
    {
     "data": {
      "text/plain": [
       "array([10, 20, 12, 40, 50])"
      ]
     },
     "execution_count": 155,
     "metadata": {},
     "output_type": "execute_result"
    }
   ],
   "source": [
    "a"
   ]
  },
  {
   "cell_type": "code",
   "execution_count": 156,
   "id": "5f0639d3",
   "metadata": {},
   "outputs": [
    {
     "ename": "ValueError",
     "evalue": "invalid literal for int() with base 10: 'abcd'",
     "output_type": "error",
     "traceback": [
      "\u001b[0;31m---------------------------------------------------------------------------\u001b[0m",
      "\u001b[0;31mValueError\u001b[0m                                Traceback (most recent call last)",
      "\u001b[0;32m/var/folders/rr/0mnyyv811fs5vyp22gf4fxk00000gn/T/ipykernel_13746/1494171421.py\u001b[0m in \u001b[0;36m<module>\u001b[0;34m\u001b[0m\n\u001b[0;32m----> 1\u001b[0;31m \u001b[0ma\u001b[0m\u001b[0;34m[\u001b[0m\u001b[0;36m2\u001b[0m\u001b[0;34m]\u001b[0m \u001b[0;34m=\u001b[0m \u001b[0;34m'abcd'\u001b[0m\u001b[0;34m\u001b[0m\u001b[0;34m\u001b[0m\u001b[0m\n\u001b[0m",
      "\u001b[0;31mValueError\u001b[0m: invalid literal for int() with base 10: 'abcd'"
     ]
    }
   ],
   "source": [
    "a[2] = 'abcd'"
   ]
  },
  {
   "cell_type": "code",
   "execution_count": 157,
   "id": "382c869b",
   "metadata": {},
   "outputs": [],
   "source": [
    "a = np.array([10, 20, 30, 40, 50], dtype=np.int8)"
   ]
  },
  {
   "cell_type": "code",
   "execution_count": 158,
   "id": "b337dffd",
   "metadata": {},
   "outputs": [
    {
     "data": {
      "text/plain": [
       "array([10, 20, 30, 40, 50], dtype=int8)"
      ]
     },
     "execution_count": 158,
     "metadata": {},
     "output_type": "execute_result"
    }
   ],
   "source": [
    "a"
   ]
  },
  {
   "cell_type": "code",
   "execution_count": 159,
   "id": "27755ca8",
   "metadata": {},
   "outputs": [
    {
     "data": {
      "text/plain": [
       "array([ 100,  -56,   44, -112,  -12], dtype=int8)"
      ]
     },
     "execution_count": 159,
     "metadata": {},
     "output_type": "execute_result"
    }
   ],
   "source": [
    "a * 10"
   ]
  },
  {
   "cell_type": "code",
   "execution_count": 160,
   "id": "fecad8ab",
   "metadata": {},
   "outputs": [],
   "source": [
    "a = np.array([10, 20, 30.5, 40, 50])"
   ]
  },
  {
   "cell_type": "code",
   "execution_count": 161,
   "id": "e82071a3",
   "metadata": {},
   "outputs": [
    {
     "data": {
      "text/plain": [
       "array([10. , 20. , 30.5, 40. , 50. ])"
      ]
     },
     "execution_count": 161,
     "metadata": {},
     "output_type": "execute_result"
    }
   ],
   "source": [
    "a"
   ]
  },
  {
   "cell_type": "code",
   "execution_count": 162,
   "id": "fd63d55f",
   "metadata": {},
   "outputs": [
    {
     "data": {
      "text/plain": [
       "dtype('float64')"
      ]
     },
     "execution_count": 162,
     "metadata": {},
     "output_type": "execute_result"
    }
   ],
   "source": [
    "a.dtype"
   ]
  },
  {
   "cell_type": "code",
   "execution_count": 163,
   "id": "c69b4111",
   "metadata": {},
   "outputs": [],
   "source": [
    "a = np.array([10, 20, 30.5, 40, 50], dtype=np.float128)"
   ]
  },
  {
   "cell_type": "code",
   "execution_count": 164,
   "id": "5c876dc4",
   "metadata": {},
   "outputs": [
    {
     "data": {
      "text/plain": [
       "array([10. , 20. , 30.5, 40. , 50. ], dtype=float128)"
      ]
     },
     "execution_count": 164,
     "metadata": {},
     "output_type": "execute_result"
    }
   ],
   "source": [
    "a"
   ]
  },
  {
   "cell_type": "code",
   "execution_count": 165,
   "id": "171bc1b3",
   "metadata": {},
   "outputs": [],
   "source": [
    "a[2] = 123"
   ]
  },
  {
   "cell_type": "code",
   "execution_count": 166,
   "id": "635a1d76",
   "metadata": {},
   "outputs": [
    {
     "data": {
      "text/plain": [
       "array([ 10.,  20., 123.,  40.,  50.], dtype=float128)"
      ]
     },
     "execution_count": 166,
     "metadata": {},
     "output_type": "execute_result"
    }
   ],
   "source": [
    "a"
   ]
  },
  {
   "cell_type": "code",
   "execution_count": 167,
   "id": "aebebc81",
   "metadata": {},
   "outputs": [
    {
     "data": {
      "text/plain": [
       "array([ 10.,  20., 123.,  40.,  50.], dtype=float128)"
      ]
     },
     "execution_count": 167,
     "metadata": {},
     "output_type": "execute_result"
    }
   ],
   "source": [
    "a"
   ]
  },
  {
   "cell_type": "code",
   "execution_count": 168,
   "id": "66571adf",
   "metadata": {},
   "outputs": [],
   "source": [
    "a.dtype = np.int64"
   ]
  },
  {
   "cell_type": "code",
   "execution_count": 169,
   "id": "2a29db3e",
   "metadata": {},
   "outputs": [
    {
     "data": {
      "text/plain": [
       "array([-6917529027641081856,           5903761410, -6917529027641081856,\n",
       "                 5903761411,  -720575940379279360,                16389,\n",
       "       -6917529027641081856,           5903761412, -4035225266123964416,\n",
       "                 5903761412])"
      ]
     },
     "execution_count": 169,
     "metadata": {},
     "output_type": "execute_result"
    }
   ],
   "source": [
    "a"
   ]
  },
  {
   "cell_type": "code",
   "execution_count": 170,
   "id": "f036b717",
   "metadata": {},
   "outputs": [],
   "source": [
    "a.dtype = np.int8"
   ]
  },
  {
   "cell_type": "code",
   "execution_count": 171,
   "id": "d6a91ce2",
   "metadata": {},
   "outputs": [
    {
     "data": {
      "text/plain": [
       "array([  0,   0,   0,   0,   0,   0,   0, -96,   2,  64, -28,  95,   1,\n",
       "         0,   0,   0,   0,   0,   0,   0,   0,   0,   0, -96,   3,  64,\n",
       "       -28,  95,   1,   0,   0,   0,   0,   0,   0,   0,   0,   0,   0,\n",
       "       -10,   5,  64,   0,   0,   0,   0,   0,   0,   0,   0,   0,   0,\n",
       "         0,   0,   0, -96,   4,  64, -28,  95,   1,   0,   0,   0,   0,\n",
       "         0,   0,   0,   0,   0,   0, -56,   4,  64, -28,  95,   1,   0,\n",
       "         0,   0], dtype=int8)"
      ]
     },
     "execution_count": 171,
     "metadata": {},
     "output_type": "execute_result"
    }
   ],
   "source": [
    "a"
   ]
  },
  {
   "cell_type": "code",
   "execution_count": 172,
   "id": "04b3ce8e",
   "metadata": {},
   "outputs": [
    {
     "data": {
      "text/plain": [
       "array([ 10.,  20., 123.,  40.,  50.], dtype=float128)"
      ]
     },
     "execution_count": 172,
     "metadata": {},
     "output_type": "execute_result"
    }
   ],
   "source": [
    "a.dtype = np.float128\n",
    "a"
   ]
  },
  {
   "cell_type": "code",
   "execution_count": 173,
   "id": "9a069c4a",
   "metadata": {},
   "outputs": [
    {
     "data": {
      "text/plain": [
       "array([ 10,  20, 123,  40,  50], dtype=int8)"
      ]
     },
     "execution_count": 173,
     "metadata": {},
     "output_type": "execute_result"
    }
   ],
   "source": [
    "# run .astype on an array to get a new array, with the new type\n",
    "a.astype(np.int8)"
   ]
  },
  {
   "cell_type": "code",
   "execution_count": 174,
   "id": "b415eb28",
   "metadata": {},
   "outputs": [
    {
     "data": {
      "text/plain": [
       "array([ 10,  20, 123,  40,  50], dtype=int8)"
      ]
     },
     "execution_count": 174,
     "metadata": {},
     "output_type": "execute_result"
    }
   ],
   "source": [
    "a = a.astype(np.int8)\n",
    "a"
   ]
  },
  {
   "cell_type": "code",
   "execution_count": 175,
   "id": "ced140a2",
   "metadata": {},
   "outputs": [
    {
     "data": {
      "text/plain": [
       "array([ 10,  20, 123,  40,  50], dtype=int8)"
      ]
     },
     "execution_count": 175,
     "metadata": {},
     "output_type": "execute_result"
    }
   ],
   "source": [
    "a"
   ]
  },
  {
   "cell_type": "code",
   "execution_count": 176,
   "id": "05b0eeee",
   "metadata": {},
   "outputs": [
    {
     "data": {
      "text/plain": [
       "array([10, 20, 40], dtype=int8)"
      ]
     },
     "execution_count": 176,
     "metadata": {},
     "output_type": "execute_result"
    }
   ],
   "source": [
    "a[a<a.mean()]"
   ]
  },
  {
   "cell_type": "code",
   "execution_count": 177,
   "id": "069e0be1",
   "metadata": {},
   "outputs": [],
   "source": [
    "# we can assign to an expression with a boolean index\n",
    "a[a<a.mean()] = 2"
   ]
  },
  {
   "cell_type": "code",
   "execution_count": 178,
   "id": "f3405b51",
   "metadata": {},
   "outputs": [
    {
     "data": {
      "text/plain": [
       "array([  2,   2, 123,   2,  50], dtype=int8)"
      ]
     },
     "execution_count": 178,
     "metadata": {},
     "output_type": "execute_result"
    }
   ],
   "source": [
    "a"
   ]
  },
  {
   "cell_type": "code",
   "execution_count": 179,
   "id": "28d6593b",
   "metadata": {},
   "outputs": [],
   "source": [
    "a[a<a.mean()] = a.mean()"
   ]
  },
  {
   "cell_type": "code",
   "execution_count": 180,
   "id": "739fd6d8",
   "metadata": {},
   "outputs": [
    {
     "data": {
      "text/plain": [
       "array([ 35,  35, 123,  35,  50], dtype=int8)"
      ]
     },
     "execution_count": 180,
     "metadata": {},
     "output_type": "execute_result"
    }
   ],
   "source": [
    "a"
   ]
  },
  {
   "cell_type": "code",
   "execution_count": null,
   "id": "11a4df07",
   "metadata": {},
   "outputs": [],
   "source": []
  }
 ],
 "metadata": {
  "kernelspec": {
   "display_name": "Python 3 (ipykernel)",
   "language": "python",
   "name": "python3"
  },
  "language_info": {
   "codemirror_mode": {
    "name": "ipython",
    "version": 3
   },
   "file_extension": ".py",
   "mimetype": "text/x-python",
   "name": "python",
   "nbconvert_exporter": "python",
   "pygments_lexer": "ipython3",
   "version": "3.10.2"
  }
 },
 "nbformat": 4,
 "nbformat_minor": 5
}
